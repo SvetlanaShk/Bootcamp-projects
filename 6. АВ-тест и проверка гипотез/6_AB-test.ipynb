{
 "cells": [
  {
   "cell_type": "markdown",
   "metadata": {},
   "source": [
    "# Приоретизация гипотез и анализ результатов A/B-теста"
   ]
  },
  {
   "cell_type": "markdown",
   "metadata": {},
   "source": [
    "## Описание данных\n",
    "\n",
    "Вместе с отделом маркетинга мы подготовили список гипотез для увеличения выручки - таблица *hypothesis*.\n",
    "Необходимо приоритизировать гипотезы, затем запустить A/B-тест на основании данных таблиц *orders* и *visitors* и проанализировать результаты.\n",
    "\n",
    "**Данные для приоретизации гипотез**\n",
    "\n",
    "Таблица hypothesis:\n",
    "- Hypothesis — краткое описание гипотезы;\n",
    "- Reach — охват пользователей по 10-балльной шкале;\n",
    "- Impact — влияние на пользователей по 10-балльной шкале;\n",
    "- Confidence — уверенность в гипотезе по 10-балльной шкале;\n",
    "- Efforts — затраты ресурсов на проверку гипотезы по 10-балльной шкале. Чем больше значение Efforts, тем дороже проверка гипотезы.\n",
    "\n",
    "**Данные для А/В-теста**\n",
    "\n",
    "Таблица orders:\n",
    "- transactionId — идентификатор заказа;\n",
    "- visitorId — идентификатор пользователя, совершившего заказ;\n",
    "- date — дата, когда был совершён заказ;\n",
    "- revenue — выручка заказа;\n",
    "- group — группа A/B-теста, в которую попал заказ.\n",
    "\n",
    "Таблица visitors:\n",
    "- date — дата;\n",
    "- group — группа A/B-теста;\n",
    "- visitors — количество пользователей в указанную дату в указанной группе A/B-теста."
   ]
  },
  {
   "cell_type": "markdown",
   "metadata": {},
   "source": [
    "## Загрузка данных и их подготовка"
   ]
  },
  {
   "cell_type": "markdown",
   "metadata": {},
   "source": [
    "Импорт библиотек:"
   ]
  },
  {
   "cell_type": "code",
   "execution_count": 1,
   "metadata": {},
   "outputs": [],
   "source": [
    "import pandas as pd\n",
    "import numpy as np\n",
    "import scipy.stats as stats\n",
    "import datetime as dt\n",
    "from matplotlib import pyplot as plt\n",
    "from datetime import datetime, timedelta"
   ]
  },
  {
   "cell_type": "markdown",
   "metadata": {},
   "source": [
    "Отключение отображения предупреждений и настройка расширенного отображения значений ячеек (для отображения формулировок гипотез без сокращений):"
   ]
  },
  {
   "cell_type": "code",
   "execution_count": 2,
   "metadata": {},
   "outputs": [],
   "source": [
    "import warnings\n",
    "warnings.filterwarnings('ignore')\n",
    "\n",
    "pd.set_option('display.max_colwidth', 150)"
   ]
  },
  {
   "cell_type": "markdown",
   "metadata": {},
   "source": [
    "Сохранение данных о гипотезах, заказах и посещениях в переменные. Просмотр информации о датафреймах и вывод на экран нескольких строк из каждой таблицы для ознакомления с данными."
   ]
  },
  {
   "cell_type": "code",
   "execution_count": 3,
   "metadata": {},
   "outputs": [
    {
     "name": "stdout",
     "output_type": "stream",
     "text": [
      "<class 'pandas.core.frame.DataFrame'>\n",
      "RangeIndex: 9 entries, 0 to 8\n",
      "Data columns (total 5 columns):\n",
      "Hypothesis    9 non-null object\n",
      "Reach         9 non-null int64\n",
      "Impact        9 non-null int64\n",
      "Confidence    9 non-null int64\n",
      "Efforts       9 non-null int64\n",
      "dtypes: int64(4), object(1)\n",
      "memory usage: 488.0+ bytes\n"
     ]
    },
    {
     "data": {
      "text/html": [
       "<div>\n",
       "<style scoped>\n",
       "    .dataframe tbody tr th:only-of-type {\n",
       "        vertical-align: middle;\n",
       "    }\n",
       "\n",
       "    .dataframe tbody tr th {\n",
       "        vertical-align: top;\n",
       "    }\n",
       "\n",
       "    .dataframe thead th {\n",
       "        text-align: right;\n",
       "    }\n",
       "</style>\n",
       "<table border=\"1\" class=\"dataframe\">\n",
       "  <thead>\n",
       "    <tr style=\"text-align: right;\">\n",
       "      <th></th>\n",
       "      <th>Hypothesis</th>\n",
       "      <th>Reach</th>\n",
       "      <th>Impact</th>\n",
       "      <th>Confidence</th>\n",
       "      <th>Efforts</th>\n",
       "    </tr>\n",
       "  </thead>\n",
       "  <tbody>\n",
       "    <tr>\n",
       "      <td>0</td>\n",
       "      <td>Добавить два новых канала привлечения трафика, что позволит привлекать на 30% больше пользователей</td>\n",
       "      <td>3</td>\n",
       "      <td>10</td>\n",
       "      <td>8</td>\n",
       "      <td>6</td>\n",
       "    </tr>\n",
       "    <tr>\n",
       "      <td>1</td>\n",
       "      <td>Запустить собственную службу доставки, что сократит срок доставки заказов</td>\n",
       "      <td>2</td>\n",
       "      <td>5</td>\n",
       "      <td>4</td>\n",
       "      <td>10</td>\n",
       "    </tr>\n",
       "    <tr>\n",
       "      <td>2</td>\n",
       "      <td>Добавить блоки рекомендаций товаров на сайт интернет магазина, чтобы повысить конверсию и средний чек заказа</td>\n",
       "      <td>8</td>\n",
       "      <td>3</td>\n",
       "      <td>7</td>\n",
       "      <td>3</td>\n",
       "    </tr>\n",
       "    <tr>\n",
       "      <td>3</td>\n",
       "      <td>Изменить структура категорий, что увеличит конверсию, т.к. пользователи быстрее найдут нужный товар</td>\n",
       "      <td>8</td>\n",
       "      <td>3</td>\n",
       "      <td>3</td>\n",
       "      <td>8</td>\n",
       "    </tr>\n",
       "    <tr>\n",
       "      <td>4</td>\n",
       "      <td>Изменить цвет фона главной страницы, чтобы увеличить вовлеченность пользователей</td>\n",
       "      <td>3</td>\n",
       "      <td>1</td>\n",
       "      <td>1</td>\n",
       "      <td>1</td>\n",
       "    </tr>\n",
       "    <tr>\n",
       "      <td>5</td>\n",
       "      <td>Добавить страницу отзывов клиентов о магазине, что позволит увеличить количество заказов</td>\n",
       "      <td>3</td>\n",
       "      <td>2</td>\n",
       "      <td>2</td>\n",
       "      <td>3</td>\n",
       "    </tr>\n",
       "    <tr>\n",
       "      <td>6</td>\n",
       "      <td>Показать на главной странице баннеры с актуальными акциями и распродажами, чтобы увеличить конверсию</td>\n",
       "      <td>5</td>\n",
       "      <td>3</td>\n",
       "      <td>8</td>\n",
       "      <td>3</td>\n",
       "    </tr>\n",
       "    <tr>\n",
       "      <td>7</td>\n",
       "      <td>Добавить форму подписки на все основные страницы, чтобы собрать базу клиентов для email-рассылок</td>\n",
       "      <td>10</td>\n",
       "      <td>7</td>\n",
       "      <td>8</td>\n",
       "      <td>5</td>\n",
       "    </tr>\n",
       "    <tr>\n",
       "      <td>8</td>\n",
       "      <td>Запустить акцию, дающую скидку на товар в день рождения</td>\n",
       "      <td>1</td>\n",
       "      <td>9</td>\n",
       "      <td>9</td>\n",
       "      <td>5</td>\n",
       "    </tr>\n",
       "  </tbody>\n",
       "</table>\n",
       "</div>"
      ],
      "text/plain": [
       "                                                                                                     Hypothesis  \\\n",
       "0            Добавить два новых канала привлечения трафика, что позволит привлекать на 30% больше пользователей   \n",
       "1                                     Запустить собственную службу доставки, что сократит срок доставки заказов   \n",
       "2  Добавить блоки рекомендаций товаров на сайт интернет магазина, чтобы повысить конверсию и средний чек заказа   \n",
       "3           Изменить структура категорий, что увеличит конверсию, т.к. пользователи быстрее найдут нужный товар   \n",
       "4                              Изменить цвет фона главной страницы, чтобы увеличить вовлеченность пользователей   \n",
       "5                      Добавить страницу отзывов клиентов о магазине, что позволит увеличить количество заказов   \n",
       "6          Показать на главной странице баннеры с актуальными акциями и распродажами, чтобы увеличить конверсию   \n",
       "7              Добавить форму подписки на все основные страницы, чтобы собрать базу клиентов для email-рассылок   \n",
       "8                                                       Запустить акцию, дающую скидку на товар в день рождения   \n",
       "\n",
       "   Reach  Impact  Confidence  Efforts  \n",
       "0      3      10           8        6  \n",
       "1      2       5           4       10  \n",
       "2      8       3           7        3  \n",
       "3      8       3           3        8  \n",
       "4      3       1           1        1  \n",
       "5      3       2           2        3  \n",
       "6      5       3           8        3  \n",
       "7     10       7           8        5  \n",
       "8      1       9           9        5  "
      ]
     },
     "execution_count": 3,
     "metadata": {},
     "output_type": "execute_result"
    }
   ],
   "source": [
    "hypothesis = pd.read_csv('/datasets/hypothesis.csv')\n",
    "hypothesis.info()\n",
    "hypothesis"
   ]
  },
  {
   "cell_type": "code",
   "execution_count": 4,
   "metadata": {},
   "outputs": [
    {
     "name": "stdout",
     "output_type": "stream",
     "text": [
      "<class 'pandas.core.frame.DataFrame'>\n",
      "RangeIndex: 1197 entries, 0 to 1196\n",
      "Data columns (total 5 columns):\n",
      "transactionId    1197 non-null int64\n",
      "visitorId        1197 non-null int64\n",
      "date             1197 non-null object\n",
      "revenue          1197 non-null int64\n",
      "group            1197 non-null object\n",
      "dtypes: int64(3), object(2)\n",
      "memory usage: 46.9+ KB\n"
     ]
    },
    {
     "data": {
      "text/html": [
       "<div>\n",
       "<style scoped>\n",
       "    .dataframe tbody tr th:only-of-type {\n",
       "        vertical-align: middle;\n",
       "    }\n",
       "\n",
       "    .dataframe tbody tr th {\n",
       "        vertical-align: top;\n",
       "    }\n",
       "\n",
       "    .dataframe thead th {\n",
       "        text-align: right;\n",
       "    }\n",
       "</style>\n",
       "<table border=\"1\" class=\"dataframe\">\n",
       "  <thead>\n",
       "    <tr style=\"text-align: right;\">\n",
       "      <th></th>\n",
       "      <th>transactionId</th>\n",
       "      <th>visitorId</th>\n",
       "      <th>date</th>\n",
       "      <th>revenue</th>\n",
       "      <th>group</th>\n",
       "    </tr>\n",
       "  </thead>\n",
       "  <tbody>\n",
       "    <tr>\n",
       "      <td>886</td>\n",
       "      <td>51443164</td>\n",
       "      <td>4278982564</td>\n",
       "      <td>2019-08-05</td>\n",
       "      <td>24744</td>\n",
       "      <td>A</td>\n",
       "    </tr>\n",
       "    <tr>\n",
       "      <td>1093</td>\n",
       "      <td>3894437543</td>\n",
       "      <td>276558944</td>\n",
       "      <td>2019-08-12</td>\n",
       "      <td>5050</td>\n",
       "      <td>A</td>\n",
       "    </tr>\n",
       "    <tr>\n",
       "      <td>801</td>\n",
       "      <td>504373597</td>\n",
       "      <td>2604012846</td>\n",
       "      <td>2019-08-05</td>\n",
       "      <td>890</td>\n",
       "      <td>B</td>\n",
       "    </tr>\n",
       "    <tr>\n",
       "      <td>189</td>\n",
       "      <td>4189935502</td>\n",
       "      <td>1648269707</td>\n",
       "      <td>2019-08-17</td>\n",
       "      <td>290</td>\n",
       "      <td>B</td>\n",
       "    </tr>\n",
       "    <tr>\n",
       "      <td>808</td>\n",
       "      <td>2344401705</td>\n",
       "      <td>366673373</td>\n",
       "      <td>2019-08-05</td>\n",
       "      <td>1460</td>\n",
       "      <td>A</td>\n",
       "    </tr>\n",
       "  </tbody>\n",
       "</table>\n",
       "</div>"
      ],
      "text/plain": [
       "      transactionId   visitorId        date  revenue group\n",
       "886        51443164  4278982564  2019-08-05    24744     A\n",
       "1093     3894437543   276558944  2019-08-12     5050     A\n",
       "801       504373597  2604012846  2019-08-05      890     B\n",
       "189      4189935502  1648269707  2019-08-17      290     B\n",
       "808      2344401705   366673373  2019-08-05     1460     A"
      ]
     },
     "execution_count": 4,
     "metadata": {},
     "output_type": "execute_result"
    }
   ],
   "source": [
    "orders = pd.read_csv('/datasets/orders.csv')\n",
    "orders.info()\n",
    "orders.sample(n=5, random_state=1)"
   ]
  },
  {
   "cell_type": "code",
   "execution_count": 5,
   "metadata": {},
   "outputs": [
    {
     "name": "stdout",
     "output_type": "stream",
     "text": [
      "<class 'pandas.core.frame.DataFrame'>\n",
      "RangeIndex: 62 entries, 0 to 61\n",
      "Data columns (total 3 columns):\n",
      "date        62 non-null object\n",
      "group       62 non-null object\n",
      "visitors    62 non-null int64\n",
      "dtypes: int64(1), object(2)\n",
      "memory usage: 1.6+ KB\n"
     ]
    },
    {
     "data": {
      "text/html": [
       "<div>\n",
       "<style scoped>\n",
       "    .dataframe tbody tr th:only-of-type {\n",
       "        vertical-align: middle;\n",
       "    }\n",
       "\n",
       "    .dataframe tbody tr th {\n",
       "        vertical-align: top;\n",
       "    }\n",
       "\n",
       "    .dataframe thead th {\n",
       "        text-align: right;\n",
       "    }\n",
       "</style>\n",
       "<table border=\"1\" class=\"dataframe\">\n",
       "  <thead>\n",
       "    <tr style=\"text-align: right;\">\n",
       "      <th></th>\n",
       "      <th>date</th>\n",
       "      <th>group</th>\n",
       "      <th>visitors</th>\n",
       "    </tr>\n",
       "  </thead>\n",
       "  <tbody>\n",
       "    <tr>\n",
       "      <td>21</td>\n",
       "      <td>2019-08-22</td>\n",
       "      <td>A</td>\n",
       "      <td>609</td>\n",
       "    </tr>\n",
       "    <tr>\n",
       "      <td>52</td>\n",
       "      <td>2019-08-22</td>\n",
       "      <td>B</td>\n",
       "      <td>650</td>\n",
       "    </tr>\n",
       "    <tr>\n",
       "      <td>38</td>\n",
       "      <td>2019-08-08</td>\n",
       "      <td>B</td>\n",
       "      <td>654</td>\n",
       "    </tr>\n",
       "    <tr>\n",
       "      <td>24</td>\n",
       "      <td>2019-08-25</td>\n",
       "      <td>A</td>\n",
       "      <td>621</td>\n",
       "    </tr>\n",
       "    <tr>\n",
       "      <td>2</td>\n",
       "      <td>2019-08-03</td>\n",
       "      <td>A</td>\n",
       "      <td>507</td>\n",
       "    </tr>\n",
       "  </tbody>\n",
       "</table>\n",
       "</div>"
      ],
      "text/plain": [
       "          date group  visitors\n",
       "21  2019-08-22     A       609\n",
       "52  2019-08-22     B       650\n",
       "38  2019-08-08     B       654\n",
       "24  2019-08-25     A       621\n",
       "2   2019-08-03     A       507"
      ]
     },
     "execution_count": 5,
     "metadata": {},
     "output_type": "execute_result"
    }
   ],
   "source": [
    "visitors = pd.read_csv('/datasets/visitors.csv')\n",
    "visitors.info()\n",
    "visitors.sample(n=5, random_state=1)"
   ]
  },
  {
   "cell_type": "markdown",
   "metadata": {},
   "source": [
    "Из выведенной информации видно, что в таблицах нет пропущенных значений. Названия столбцов таблицы *hypothesis* начинаются с заглавных букв, что неудобно при написании кода, поэтому наименования к нижнему регистру."
   ]
  },
  {
   "cell_type": "code",
   "execution_count": 6,
   "metadata": {},
   "outputs": [],
   "source": [
    "hypothesis.columns = hypothesis.columns.str.lower()"
   ]
  },
  {
   "cell_type": "markdown",
   "metadata": {},
   "source": [
    "Приведение дат к нужному виду:"
   ]
  },
  {
   "cell_type": "code",
   "execution_count": 7,
   "metadata": {},
   "outputs": [],
   "source": [
    "orders['date'] = orders['date'].map(lambda x: dt.datetime.strptime(x, '%Y-%m-%d'))\n",
    "visitors['date'] = visitors['date'].map(lambda x: dt.datetime.strptime(x, '%Y-%m-%d'))"
   ]
  },
  {
   "cell_type": "markdown",
   "metadata": {},
   "source": [
    "Проверка таблиц на дубликаты:"
   ]
  },
  {
   "cell_type": "code",
   "execution_count": 8,
   "metadata": {},
   "outputs": [
    {
     "name": "stdout",
     "output_type": "stream",
     "text": [
      "Количество дубликатов в датафрейме hypothesis: 0\n",
      "Количество дубликатов в датафрейме orders: 0\n",
      "Количество дубликатов в датафрейме visitors: 0\n"
     ]
    }
   ],
   "source": [
    "print('Количество дубликатов в датафрейме hypothesis:', hypothesis.duplicated().sum())\n",
    "print('Количество дубликатов в датафрейме orders:', orders.duplicated().sum())\n",
    "print('Количество дубликатов в датафрейме visitors:', visitors.duplicated().sum())"
   ]
  },
  {
   "cell_type": "markdown",
   "metadata": {},
   "source": [
    "Проверим, есть ли пользователи, которые попали в две группы одновременно, посчитав их количество."
   ]
  },
  {
   "cell_type": "code",
   "execution_count": 9,
   "metadata": {},
   "outputs": [
    {
     "name": "stdout",
     "output_type": "stream",
     "text": [
      "Количество пользователей, которые попали в группы А и В одновременно: 58\n"
     ]
    }
   ],
   "source": [
    "visitors_a_b = orders.groupby(['visitorId']).agg({'group': 'nunique'}).reset_index()\n",
    "print('Количество пользователей, которые попали в группы А и В одновременно:', visitors_a_b[visitors_a_b['group'] == 2]['visitorId'].nunique())"
   ]
  },
  {
   "cell_type": "markdown",
   "metadata": {},
   "source": [
    "Если пользователь видит разные версии исследуемой страницы в ходе одного исследования, то неизвестно, какая именно повлияла на его решения, так что попавший в одну из групп посетитель должен оставаться в одной и той же группе до конца теста. Необходимо удалить таких пользователей из выборки, иначе результаты теста нельзя будет интерпретировать однозначно."
   ]
  },
  {
   "cell_type": "code",
   "execution_count": 10,
   "metadata": {},
   "outputs": [],
   "source": [
    "orders = orders[np.logical_not(orders['visitorId'].isin(visitors_a_b[visitors_a_b['group'] == 2]['visitorId']))].reset_index()"
   ]
  },
  {
   "cell_type": "markdown",
   "metadata": {},
   "source": [
    "**Вывод**\n",
    "\n",
    "Познакомившись с данными и обнаружив отсутствие пропущенных значений в таблицах, мы одновременно увидели, что названия столбцов  в таблице *hypothesis* начинаются с заглавных букв. Для исключения возможных ошибок названия столбцов приведены к нижнему регистру. В столбцах, содержащих даты, преобразовали тип данных на соответствующий. Кроме того, была проведена проверка на наличие дубликатов - дубликаты обнаружены не были. Также мы проверили таблицу orders на наличие пользователей, которые попали сразу в обе группы теста. Такие пользователи были обнаружены и исключены из orders. Таким образом мы подготовили датафреймы для дальнейшей работы."
   ]
  },
  {
   "cell_type": "markdown",
   "metadata": {},
   "source": [
    "## Приоретизация гипотез"
   ]
  },
  {
   "cell_type": "markdown",
   "metadata": {},
   "source": [
    "### Фреймворк ICE"
   ]
  },
  {
   "cell_type": "markdown",
   "metadata": {},
   "source": [
    "Применим фреймворк ICE для приоритизации гипотез. Выведем их на экран и отсортируем по убыванию приоритета."
   ]
  },
  {
   "cell_type": "code",
   "execution_count": 11,
   "metadata": {},
   "outputs": [
    {
     "data": {
      "text/html": [
       "<div>\n",
       "<style scoped>\n",
       "    .dataframe tbody tr th:only-of-type {\n",
       "        vertical-align: middle;\n",
       "    }\n",
       "\n",
       "    .dataframe tbody tr th {\n",
       "        vertical-align: top;\n",
       "    }\n",
       "\n",
       "    .dataframe thead th {\n",
       "        text-align: right;\n",
       "    }\n",
       "</style>\n",
       "<table border=\"1\" class=\"dataframe\">\n",
       "  <thead>\n",
       "    <tr style=\"text-align: right;\">\n",
       "      <th></th>\n",
       "      <th>hypothesis</th>\n",
       "      <th>ICE</th>\n",
       "    </tr>\n",
       "  </thead>\n",
       "  <tbody>\n",
       "    <tr>\n",
       "      <td>8</td>\n",
       "      <td>Запустить акцию, дающую скидку на товар в день рождения</td>\n",
       "      <td>16.200</td>\n",
       "    </tr>\n",
       "    <tr>\n",
       "      <td>0</td>\n",
       "      <td>Добавить два новых канала привлечения трафика, что позволит привлекать на 30% больше пользователей</td>\n",
       "      <td>13.333</td>\n",
       "    </tr>\n",
       "    <tr>\n",
       "      <td>7</td>\n",
       "      <td>Добавить форму подписки на все основные страницы, чтобы собрать базу клиентов для email-рассылок</td>\n",
       "      <td>11.200</td>\n",
       "    </tr>\n",
       "    <tr>\n",
       "      <td>6</td>\n",
       "      <td>Показать на главной странице баннеры с актуальными акциями и распродажами, чтобы увеличить конверсию</td>\n",
       "      <td>8.000</td>\n",
       "    </tr>\n",
       "    <tr>\n",
       "      <td>2</td>\n",
       "      <td>Добавить блоки рекомендаций товаров на сайт интернет магазина, чтобы повысить конверсию и средний чек заказа</td>\n",
       "      <td>7.000</td>\n",
       "    </tr>\n",
       "    <tr>\n",
       "      <td>1</td>\n",
       "      <td>Запустить собственную службу доставки, что сократит срок доставки заказов</td>\n",
       "      <td>2.000</td>\n",
       "    </tr>\n",
       "    <tr>\n",
       "      <td>5</td>\n",
       "      <td>Добавить страницу отзывов клиентов о магазине, что позволит увеличить количество заказов</td>\n",
       "      <td>1.333</td>\n",
       "    </tr>\n",
       "    <tr>\n",
       "      <td>3</td>\n",
       "      <td>Изменить структура категорий, что увеличит конверсию, т.к. пользователи быстрее найдут нужный товар</td>\n",
       "      <td>1.125</td>\n",
       "    </tr>\n",
       "    <tr>\n",
       "      <td>4</td>\n",
       "      <td>Изменить цвет фона главной страницы, чтобы увеличить вовлеченность пользователей</td>\n",
       "      <td>1.000</td>\n",
       "    </tr>\n",
       "  </tbody>\n",
       "</table>\n",
       "</div>"
      ],
      "text/plain": [
       "                                                                                                     hypothesis  \\\n",
       "8                                                       Запустить акцию, дающую скидку на товар в день рождения   \n",
       "0            Добавить два новых канала привлечения трафика, что позволит привлекать на 30% больше пользователей   \n",
       "7              Добавить форму подписки на все основные страницы, чтобы собрать базу клиентов для email-рассылок   \n",
       "6          Показать на главной странице баннеры с актуальными акциями и распродажами, чтобы увеличить конверсию   \n",
       "2  Добавить блоки рекомендаций товаров на сайт интернет магазина, чтобы повысить конверсию и средний чек заказа   \n",
       "1                                     Запустить собственную службу доставки, что сократит срок доставки заказов   \n",
       "5                      Добавить страницу отзывов клиентов о магазине, что позволит увеличить количество заказов   \n",
       "3           Изменить структура категорий, что увеличит конверсию, т.к. пользователи быстрее найдут нужный товар   \n",
       "4                              Изменить цвет фона главной страницы, чтобы увеличить вовлеченность пользователей   \n",
       "\n",
       "      ICE  \n",
       "8  16.200  \n",
       "0  13.333  \n",
       "7  11.200  \n",
       "6   8.000  \n",
       "2   7.000  \n",
       "1   2.000  \n",
       "5   1.333  \n",
       "3   1.125  \n",
       "4   1.000  "
      ]
     },
     "execution_count": 11,
     "metadata": {},
     "output_type": "execute_result"
    }
   ],
   "source": [
    "hypothesis['ICE'] = ((hypothesis['impact'] * hypothesis['confidence']) / hypothesis['efforts']).round(decimals=3)\n",
    "hypothesis[['hypothesis', 'ICE']].sort_values(by='ICE', ascending=False)"
   ]
  },
  {
   "cell_type": "markdown",
   "metadata": {},
   "source": [
    "Согласно методу приоретизации ICE пять самых перспективных гипотез имеют индексы 8, 0, 7, 6, 2."
   ]
  },
  {
   "cell_type": "markdown",
   "metadata": {},
   "source": [
    "### Фреймворк RICE\n",
    "\n",
    "Применим фреймворк RICE для приоритизации гипотез, и так же выведем их на экран в отсортированном виде по убыванию приоритета."
   ]
  },
  {
   "cell_type": "code",
   "execution_count": 12,
   "metadata": {},
   "outputs": [
    {
     "data": {
      "text/html": [
       "<div>\n",
       "<style scoped>\n",
       "    .dataframe tbody tr th:only-of-type {\n",
       "        vertical-align: middle;\n",
       "    }\n",
       "\n",
       "    .dataframe tbody tr th {\n",
       "        vertical-align: top;\n",
       "    }\n",
       "\n",
       "    .dataframe thead th {\n",
       "        text-align: right;\n",
       "    }\n",
       "</style>\n",
       "<table border=\"1\" class=\"dataframe\">\n",
       "  <thead>\n",
       "    <tr style=\"text-align: right;\">\n",
       "      <th></th>\n",
       "      <th>hypothesis</th>\n",
       "      <th>RICE</th>\n",
       "    </tr>\n",
       "  </thead>\n",
       "  <tbody>\n",
       "    <tr>\n",
       "      <td>7</td>\n",
       "      <td>Добавить форму подписки на все основные страницы, чтобы собрать базу клиентов для email-рассылок</td>\n",
       "      <td>112.0</td>\n",
       "    </tr>\n",
       "    <tr>\n",
       "      <td>2</td>\n",
       "      <td>Добавить блоки рекомендаций товаров на сайт интернет магазина, чтобы повысить конверсию и средний чек заказа</td>\n",
       "      <td>56.0</td>\n",
       "    </tr>\n",
       "    <tr>\n",
       "      <td>0</td>\n",
       "      <td>Добавить два новых канала привлечения трафика, что позволит привлекать на 30% больше пользователей</td>\n",
       "      <td>40.0</td>\n",
       "    </tr>\n",
       "    <tr>\n",
       "      <td>6</td>\n",
       "      <td>Показать на главной странице баннеры с актуальными акциями и распродажами, чтобы увеличить конверсию</td>\n",
       "      <td>40.0</td>\n",
       "    </tr>\n",
       "    <tr>\n",
       "      <td>8</td>\n",
       "      <td>Запустить акцию, дающую скидку на товар в день рождения</td>\n",
       "      <td>16.2</td>\n",
       "    </tr>\n",
       "    <tr>\n",
       "      <td>3</td>\n",
       "      <td>Изменить структура категорий, что увеличит конверсию, т.к. пользователи быстрее найдут нужный товар</td>\n",
       "      <td>9.0</td>\n",
       "    </tr>\n",
       "    <tr>\n",
       "      <td>1</td>\n",
       "      <td>Запустить собственную службу доставки, что сократит срок доставки заказов</td>\n",
       "      <td>4.0</td>\n",
       "    </tr>\n",
       "    <tr>\n",
       "      <td>5</td>\n",
       "      <td>Добавить страницу отзывов клиентов о магазине, что позволит увеличить количество заказов</td>\n",
       "      <td>4.0</td>\n",
       "    </tr>\n",
       "    <tr>\n",
       "      <td>4</td>\n",
       "      <td>Изменить цвет фона главной страницы, чтобы увеличить вовлеченность пользователей</td>\n",
       "      <td>3.0</td>\n",
       "    </tr>\n",
       "  </tbody>\n",
       "</table>\n",
       "</div>"
      ],
      "text/plain": [
       "                                                                                                     hypothesis  \\\n",
       "7              Добавить форму подписки на все основные страницы, чтобы собрать базу клиентов для email-рассылок   \n",
       "2  Добавить блоки рекомендаций товаров на сайт интернет магазина, чтобы повысить конверсию и средний чек заказа   \n",
       "0            Добавить два новых канала привлечения трафика, что позволит привлекать на 30% больше пользователей   \n",
       "6          Показать на главной странице баннеры с актуальными акциями и распродажами, чтобы увеличить конверсию   \n",
       "8                                                       Запустить акцию, дающую скидку на товар в день рождения   \n",
       "3           Изменить структура категорий, что увеличит конверсию, т.к. пользователи быстрее найдут нужный товар   \n",
       "1                                     Запустить собственную службу доставки, что сократит срок доставки заказов   \n",
       "5                      Добавить страницу отзывов клиентов о магазине, что позволит увеличить количество заказов   \n",
       "4                              Изменить цвет фона главной страницы, чтобы увеличить вовлеченность пользователей   \n",
       "\n",
       "    RICE  \n",
       "7  112.0  \n",
       "2   56.0  \n",
       "0   40.0  \n",
       "6   40.0  \n",
       "8   16.2  \n",
       "3    9.0  \n",
       "1    4.0  \n",
       "5    4.0  \n",
       "4    3.0  "
      ]
     },
     "execution_count": 12,
     "metadata": {},
     "output_type": "execute_result"
    }
   ],
   "source": [
    "hypothesis['RICE'] = (hypothesis['reach'] * hypothesis['impact'] * hypothesis['confidence']) / hypothesis['efforts']\n",
    "hypothesis[['hypothesis', 'RICE']].sort_values(by='RICE', ascending=False)"
   ]
  },
  {
   "cell_type": "markdown",
   "metadata": {},
   "source": [
    "И снова видим в топ-5 те же самые наиболее перспективные гипотезы. Только теперь на первом месте гипотеза с индексом 7, потом 2, потом 0, 6 и 8.\n",
    "\n",
    "Выведем на экран полную таблицу *hypothesis*, отсортированную по столбцу *'RICE'*, чтобы наглядно увидеть, почему результаты методов ICE и RICE отличаются:"
   ]
  },
  {
   "cell_type": "code",
   "execution_count": 13,
   "metadata": {
    "collapsed": true
   },
   "outputs": [
    {
     "data": {
      "text/html": [
       "<style  type=\"text/css\" >\n",
       "    #T_d4952b82_672e_11ec_9c2e_02420a394986row0_col0 {\n",
       "            background:  lightgreen;\n",
       "        }    #T_d4952b82_672e_11ec_9c2e_02420a394986row0_col1 {\n",
       "            background:  lightgreen;\n",
       "        }    #T_d4952b82_672e_11ec_9c2e_02420a394986row0_col2 {\n",
       "            background:  lightgreen;\n",
       "        }    #T_d4952b82_672e_11ec_9c2e_02420a394986row0_col3 {\n",
       "            background:  lightgreen;\n",
       "        }    #T_d4952b82_672e_11ec_9c2e_02420a394986row0_col4 {\n",
       "            background:  lightgreen;\n",
       "        }    #T_d4952b82_672e_11ec_9c2e_02420a394986row0_col5 {\n",
       "            background:  lightgreen;\n",
       "        }    #T_d4952b82_672e_11ec_9c2e_02420a394986row0_col6 {\n",
       "            background:  lightgreen;\n",
       "        }    #T_d4952b82_672e_11ec_9c2e_02420a394986row1_col0 {\n",
       "            background:  lightgreen;\n",
       "        }    #T_d4952b82_672e_11ec_9c2e_02420a394986row1_col1 {\n",
       "            background:  lightgreen;\n",
       "        }    #T_d4952b82_672e_11ec_9c2e_02420a394986row1_col2 {\n",
       "            background:  lightgreen;\n",
       "        }    #T_d4952b82_672e_11ec_9c2e_02420a394986row1_col3 {\n",
       "            background:  lightgreen;\n",
       "        }    #T_d4952b82_672e_11ec_9c2e_02420a394986row1_col4 {\n",
       "            background:  lightgreen;\n",
       "        }    #T_d4952b82_672e_11ec_9c2e_02420a394986row1_col5 {\n",
       "            background:  lightgreen;\n",
       "        }    #T_d4952b82_672e_11ec_9c2e_02420a394986row1_col6 {\n",
       "            background:  lightgreen;\n",
       "        }    #T_d4952b82_672e_11ec_9c2e_02420a394986row2_col0 {\n",
       "            background:  lightgreen;\n",
       "        }    #T_d4952b82_672e_11ec_9c2e_02420a394986row2_col1 {\n",
       "            background:  lightgreen;\n",
       "        }    #T_d4952b82_672e_11ec_9c2e_02420a394986row2_col2 {\n",
       "            background:  lightgreen;\n",
       "        }    #T_d4952b82_672e_11ec_9c2e_02420a394986row2_col3 {\n",
       "            background:  lightgreen;\n",
       "        }    #T_d4952b82_672e_11ec_9c2e_02420a394986row2_col4 {\n",
       "            background:  lightgreen;\n",
       "        }    #T_d4952b82_672e_11ec_9c2e_02420a394986row2_col5 {\n",
       "            background:  lightgreen;\n",
       "        }    #T_d4952b82_672e_11ec_9c2e_02420a394986row2_col6 {\n",
       "            background:  lightgreen;\n",
       "        }    #T_d4952b82_672e_11ec_9c2e_02420a394986row3_col0 {\n",
       "            background:  lightgreen;\n",
       "        }    #T_d4952b82_672e_11ec_9c2e_02420a394986row3_col1 {\n",
       "            background:  lightgreen;\n",
       "        }    #T_d4952b82_672e_11ec_9c2e_02420a394986row3_col2 {\n",
       "            background:  lightgreen;\n",
       "        }    #T_d4952b82_672e_11ec_9c2e_02420a394986row3_col3 {\n",
       "            background:  lightgreen;\n",
       "        }    #T_d4952b82_672e_11ec_9c2e_02420a394986row3_col4 {\n",
       "            background:  lightgreen;\n",
       "        }    #T_d4952b82_672e_11ec_9c2e_02420a394986row3_col5 {\n",
       "            background:  lightgreen;\n",
       "        }    #T_d4952b82_672e_11ec_9c2e_02420a394986row3_col6 {\n",
       "            background:  lightgreen;\n",
       "        }    #T_d4952b82_672e_11ec_9c2e_02420a394986row4_col0 {\n",
       "            background:  lightgreen;\n",
       "        }    #T_d4952b82_672e_11ec_9c2e_02420a394986row4_col1 {\n",
       "            background:  lightgreen;\n",
       "        }    #T_d4952b82_672e_11ec_9c2e_02420a394986row4_col2 {\n",
       "            background:  lightgreen;\n",
       "        }    #T_d4952b82_672e_11ec_9c2e_02420a394986row4_col3 {\n",
       "            background:  lightgreen;\n",
       "        }    #T_d4952b82_672e_11ec_9c2e_02420a394986row4_col4 {\n",
       "            background:  lightgreen;\n",
       "        }    #T_d4952b82_672e_11ec_9c2e_02420a394986row4_col5 {\n",
       "            background:  lightgreen;\n",
       "        }    #T_d4952b82_672e_11ec_9c2e_02420a394986row4_col6 {\n",
       "            background:  lightgreen;\n",
       "        }</style><table id=\"T_d4952b82_672e_11ec_9c2e_02420a394986\" ><thead>    <tr>        <th class=\"blank level0\" ></th>        <th class=\"col_heading level0 col0\" >hypothesis</th>        <th class=\"col_heading level0 col1\" >reach</th>        <th class=\"col_heading level0 col2\" >impact</th>        <th class=\"col_heading level0 col3\" >confidence</th>        <th class=\"col_heading level0 col4\" >efforts</th>        <th class=\"col_heading level0 col5\" >ICE</th>        <th class=\"col_heading level0 col6\" >RICE</th>    </tr></thead><tbody>\n",
       "                <tr>\n",
       "                        <th id=\"T_d4952b82_672e_11ec_9c2e_02420a394986level0_row0\" class=\"row_heading level0 row0\" >7</th>\n",
       "                        <td id=\"T_d4952b82_672e_11ec_9c2e_02420a394986row0_col0\" class=\"data row0 col0\" >Добавить форму подписки на все основные страницы, чтобы собрать базу клиентов для email-рассылок</td>\n",
       "                        <td id=\"T_d4952b82_672e_11ec_9c2e_02420a394986row0_col1\" class=\"data row0 col1\" >10</td>\n",
       "                        <td id=\"T_d4952b82_672e_11ec_9c2e_02420a394986row0_col2\" class=\"data row0 col2\" >7</td>\n",
       "                        <td id=\"T_d4952b82_672e_11ec_9c2e_02420a394986row0_col3\" class=\"data row0 col3\" >8</td>\n",
       "                        <td id=\"T_d4952b82_672e_11ec_9c2e_02420a394986row0_col4\" class=\"data row0 col4\" >5</td>\n",
       "                        <td id=\"T_d4952b82_672e_11ec_9c2e_02420a394986row0_col5\" class=\"data row0 col5\" >11.2</td>\n",
       "                        <td id=\"T_d4952b82_672e_11ec_9c2e_02420a394986row0_col6\" class=\"data row0 col6\" >112</td>\n",
       "            </tr>\n",
       "            <tr>\n",
       "                        <th id=\"T_d4952b82_672e_11ec_9c2e_02420a394986level0_row1\" class=\"row_heading level0 row1\" >2</th>\n",
       "                        <td id=\"T_d4952b82_672e_11ec_9c2e_02420a394986row1_col0\" class=\"data row1 col0\" >Добавить блоки рекомендаций товаров на сайт интернет магазина, чтобы повысить конверсию и средний чек заказа</td>\n",
       "                        <td id=\"T_d4952b82_672e_11ec_9c2e_02420a394986row1_col1\" class=\"data row1 col1\" >8</td>\n",
       "                        <td id=\"T_d4952b82_672e_11ec_9c2e_02420a394986row1_col2\" class=\"data row1 col2\" >3</td>\n",
       "                        <td id=\"T_d4952b82_672e_11ec_9c2e_02420a394986row1_col3\" class=\"data row1 col3\" >7</td>\n",
       "                        <td id=\"T_d4952b82_672e_11ec_9c2e_02420a394986row1_col4\" class=\"data row1 col4\" >3</td>\n",
       "                        <td id=\"T_d4952b82_672e_11ec_9c2e_02420a394986row1_col5\" class=\"data row1 col5\" >7</td>\n",
       "                        <td id=\"T_d4952b82_672e_11ec_9c2e_02420a394986row1_col6\" class=\"data row1 col6\" >56</td>\n",
       "            </tr>\n",
       "            <tr>\n",
       "                        <th id=\"T_d4952b82_672e_11ec_9c2e_02420a394986level0_row2\" class=\"row_heading level0 row2\" >0</th>\n",
       "                        <td id=\"T_d4952b82_672e_11ec_9c2e_02420a394986row2_col0\" class=\"data row2 col0\" >Добавить два новых канала привлечения трафика, что позволит привлекать на 30% больше пользователей</td>\n",
       "                        <td id=\"T_d4952b82_672e_11ec_9c2e_02420a394986row2_col1\" class=\"data row2 col1\" >3</td>\n",
       "                        <td id=\"T_d4952b82_672e_11ec_9c2e_02420a394986row2_col2\" class=\"data row2 col2\" >10</td>\n",
       "                        <td id=\"T_d4952b82_672e_11ec_9c2e_02420a394986row2_col3\" class=\"data row2 col3\" >8</td>\n",
       "                        <td id=\"T_d4952b82_672e_11ec_9c2e_02420a394986row2_col4\" class=\"data row2 col4\" >6</td>\n",
       "                        <td id=\"T_d4952b82_672e_11ec_9c2e_02420a394986row2_col5\" class=\"data row2 col5\" >13.333</td>\n",
       "                        <td id=\"T_d4952b82_672e_11ec_9c2e_02420a394986row2_col6\" class=\"data row2 col6\" >40</td>\n",
       "            </tr>\n",
       "            <tr>\n",
       "                        <th id=\"T_d4952b82_672e_11ec_9c2e_02420a394986level0_row3\" class=\"row_heading level0 row3\" >6</th>\n",
       "                        <td id=\"T_d4952b82_672e_11ec_9c2e_02420a394986row3_col0\" class=\"data row3 col0\" >Показать на главной странице баннеры с актуальными акциями и распродажами, чтобы увеличить конверсию</td>\n",
       "                        <td id=\"T_d4952b82_672e_11ec_9c2e_02420a394986row3_col1\" class=\"data row3 col1\" >5</td>\n",
       "                        <td id=\"T_d4952b82_672e_11ec_9c2e_02420a394986row3_col2\" class=\"data row3 col2\" >3</td>\n",
       "                        <td id=\"T_d4952b82_672e_11ec_9c2e_02420a394986row3_col3\" class=\"data row3 col3\" >8</td>\n",
       "                        <td id=\"T_d4952b82_672e_11ec_9c2e_02420a394986row3_col4\" class=\"data row3 col4\" >3</td>\n",
       "                        <td id=\"T_d4952b82_672e_11ec_9c2e_02420a394986row3_col5\" class=\"data row3 col5\" >8</td>\n",
       "                        <td id=\"T_d4952b82_672e_11ec_9c2e_02420a394986row3_col6\" class=\"data row3 col6\" >40</td>\n",
       "            </tr>\n",
       "            <tr>\n",
       "                        <th id=\"T_d4952b82_672e_11ec_9c2e_02420a394986level0_row4\" class=\"row_heading level0 row4\" >8</th>\n",
       "                        <td id=\"T_d4952b82_672e_11ec_9c2e_02420a394986row4_col0\" class=\"data row4 col0\" >Запустить акцию, дающую скидку на товар в день рождения</td>\n",
       "                        <td id=\"T_d4952b82_672e_11ec_9c2e_02420a394986row4_col1\" class=\"data row4 col1\" >1</td>\n",
       "                        <td id=\"T_d4952b82_672e_11ec_9c2e_02420a394986row4_col2\" class=\"data row4 col2\" >9</td>\n",
       "                        <td id=\"T_d4952b82_672e_11ec_9c2e_02420a394986row4_col3\" class=\"data row4 col3\" >9</td>\n",
       "                        <td id=\"T_d4952b82_672e_11ec_9c2e_02420a394986row4_col4\" class=\"data row4 col4\" >5</td>\n",
       "                        <td id=\"T_d4952b82_672e_11ec_9c2e_02420a394986row4_col5\" class=\"data row4 col5\" >16.2</td>\n",
       "                        <td id=\"T_d4952b82_672e_11ec_9c2e_02420a394986row4_col6\" class=\"data row4 col6\" >16.2</td>\n",
       "            </tr>\n",
       "            <tr>\n",
       "                        <th id=\"T_d4952b82_672e_11ec_9c2e_02420a394986level0_row5\" class=\"row_heading level0 row5\" >3</th>\n",
       "                        <td id=\"T_d4952b82_672e_11ec_9c2e_02420a394986row5_col0\" class=\"data row5 col0\" >Изменить структура категорий, что увеличит конверсию, т.к. пользователи быстрее найдут нужный товар</td>\n",
       "                        <td id=\"T_d4952b82_672e_11ec_9c2e_02420a394986row5_col1\" class=\"data row5 col1\" >8</td>\n",
       "                        <td id=\"T_d4952b82_672e_11ec_9c2e_02420a394986row5_col2\" class=\"data row5 col2\" >3</td>\n",
       "                        <td id=\"T_d4952b82_672e_11ec_9c2e_02420a394986row5_col3\" class=\"data row5 col3\" >3</td>\n",
       "                        <td id=\"T_d4952b82_672e_11ec_9c2e_02420a394986row5_col4\" class=\"data row5 col4\" >8</td>\n",
       "                        <td id=\"T_d4952b82_672e_11ec_9c2e_02420a394986row5_col5\" class=\"data row5 col5\" >1.125</td>\n",
       "                        <td id=\"T_d4952b82_672e_11ec_9c2e_02420a394986row5_col6\" class=\"data row5 col6\" >9</td>\n",
       "            </tr>\n",
       "            <tr>\n",
       "                        <th id=\"T_d4952b82_672e_11ec_9c2e_02420a394986level0_row6\" class=\"row_heading level0 row6\" >1</th>\n",
       "                        <td id=\"T_d4952b82_672e_11ec_9c2e_02420a394986row6_col0\" class=\"data row6 col0\" >Запустить собственную службу доставки, что сократит срок доставки заказов</td>\n",
       "                        <td id=\"T_d4952b82_672e_11ec_9c2e_02420a394986row6_col1\" class=\"data row6 col1\" >2</td>\n",
       "                        <td id=\"T_d4952b82_672e_11ec_9c2e_02420a394986row6_col2\" class=\"data row6 col2\" >5</td>\n",
       "                        <td id=\"T_d4952b82_672e_11ec_9c2e_02420a394986row6_col3\" class=\"data row6 col3\" >4</td>\n",
       "                        <td id=\"T_d4952b82_672e_11ec_9c2e_02420a394986row6_col4\" class=\"data row6 col4\" >10</td>\n",
       "                        <td id=\"T_d4952b82_672e_11ec_9c2e_02420a394986row6_col5\" class=\"data row6 col5\" >2</td>\n",
       "                        <td id=\"T_d4952b82_672e_11ec_9c2e_02420a394986row6_col6\" class=\"data row6 col6\" >4</td>\n",
       "            </tr>\n",
       "            <tr>\n",
       "                        <th id=\"T_d4952b82_672e_11ec_9c2e_02420a394986level0_row7\" class=\"row_heading level0 row7\" >5</th>\n",
       "                        <td id=\"T_d4952b82_672e_11ec_9c2e_02420a394986row7_col0\" class=\"data row7 col0\" >Добавить страницу отзывов клиентов о магазине, что позволит увеличить количество заказов</td>\n",
       "                        <td id=\"T_d4952b82_672e_11ec_9c2e_02420a394986row7_col1\" class=\"data row7 col1\" >3</td>\n",
       "                        <td id=\"T_d4952b82_672e_11ec_9c2e_02420a394986row7_col2\" class=\"data row7 col2\" >2</td>\n",
       "                        <td id=\"T_d4952b82_672e_11ec_9c2e_02420a394986row7_col3\" class=\"data row7 col3\" >2</td>\n",
       "                        <td id=\"T_d4952b82_672e_11ec_9c2e_02420a394986row7_col4\" class=\"data row7 col4\" >3</td>\n",
       "                        <td id=\"T_d4952b82_672e_11ec_9c2e_02420a394986row7_col5\" class=\"data row7 col5\" >1.333</td>\n",
       "                        <td id=\"T_d4952b82_672e_11ec_9c2e_02420a394986row7_col6\" class=\"data row7 col6\" >4</td>\n",
       "            </tr>\n",
       "            <tr>\n",
       "                        <th id=\"T_d4952b82_672e_11ec_9c2e_02420a394986level0_row8\" class=\"row_heading level0 row8\" >4</th>\n",
       "                        <td id=\"T_d4952b82_672e_11ec_9c2e_02420a394986row8_col0\" class=\"data row8 col0\" >Изменить цвет фона главной страницы, чтобы увеличить вовлеченность пользователей</td>\n",
       "                        <td id=\"T_d4952b82_672e_11ec_9c2e_02420a394986row8_col1\" class=\"data row8 col1\" >3</td>\n",
       "                        <td id=\"T_d4952b82_672e_11ec_9c2e_02420a394986row8_col2\" class=\"data row8 col2\" >1</td>\n",
       "                        <td id=\"T_d4952b82_672e_11ec_9c2e_02420a394986row8_col3\" class=\"data row8 col3\" >1</td>\n",
       "                        <td id=\"T_d4952b82_672e_11ec_9c2e_02420a394986row8_col4\" class=\"data row8 col4\" >1</td>\n",
       "                        <td id=\"T_d4952b82_672e_11ec_9c2e_02420a394986row8_col5\" class=\"data row8 col5\" >1</td>\n",
       "                        <td id=\"T_d4952b82_672e_11ec_9c2e_02420a394986row8_col6\" class=\"data row8 col6\" >3</td>\n",
       "            </tr>\n",
       "    </tbody></table>"
      ],
      "text/plain": [
       "<pandas.io.formats.style.Styler at 0x7f4c4cd0b1d0>"
      ]
     },
     "execution_count": 13,
     "metadata": {},
     "output_type": "execute_result"
    }
   ],
   "source": [
    "hypothesis.sort_values(by='RICE', ascending=False).style.apply(lambda x: ['background: lightgreen' if x.name in [7,2,0,6,8] \n",
    "                              else '' for i in x], axis=1)"
   ]
  },
  {
   "cell_type": "markdown",
   "metadata": {},
   "source": [
    "Приоритизация гипотез при применении RICE вместо ICE изменилась потому, что на результат здесь влияет параметр *'reach'*. Он у гипотезы 7 равен максимально возможному значению 10, а у гипотезы 2 - равен 8. У гипотезы 8, занявшей первое место по методу ICE, параметр *'reach'* минимальный и равен 1, однако параметры *'impact'* и *'confidence'* имеют высокие значения. Это позволило ей остаться в топ-5 и после применения фреймворка RICE, но занять в этом рейтинге лишь последнее место."
   ]
  },
  {
   "cell_type": "markdown",
   "metadata": {},
   "source": [
    "**Вывод**\n",
    "\n",
    "Мы провели приоретизацию гипотез, применив два метода - RICE и ICE. Оба метода выявили пятёрку одних и тех же самых приоритетных гипотез:\n",
    "1. Добавить форму подписки на все основные страницы, чтобы собрать базу клиентов для email-рассылок;\n",
    "2. Добавить блоки рекомендаций товаров на сайт интернет магазина, чтобы повысить конверсию и средний чек заказа;\n",
    "3. Добавить два новых канала привлечения трафика, что позволит привлекать на 30% больше пользователей;\n",
    "4. Показать на главной странице баннеры с актуальными акциями и распродажами, чтобы увеличить конверсию;\n",
    "5. Запустить акцию, дающую скидку на товар в день рождения.\n",
    "\n",
    "Однако места гипотез в рейтинге получились разными. Например, гипотеза о скидке на день рождения в фреймворке ICE занимает первое место, а в фреймворке RICE - пятое. Это происходит потому, что метод ICE оценивает силу гипотезы, а RICE оценивает не только силу, но и то, сколько пользователей она затронет. В любом случае, ни один из этих методов не даёт абсолютных оценок гипотезам, а лишь определяет место той или иной гипотезы среди остальных."
   ]
  },
  {
   "cell_type": "markdown",
   "metadata": {},
   "source": [
    "## Анализ А/В-теста"
   ]
  },
  {
   "cell_type": "markdown",
   "metadata": {},
   "source": [
    "Мы провели A/B-тест и получили результаты, которые описаны в таблицах *orders* и *visitors*. Проанализируем A/B-тест."
   ]
  },
  {
   "cell_type": "markdown",
   "metadata": {},
   "source": [
    "### Изучение графиков кумулятивных данных"
   ]
  },
  {
   "cell_type": "markdown",
   "metadata": {},
   "source": [
    "**График кумулятивной выручки по группам**\n",
    "\n",
    "Соберём кумулятивные данные. Объявим датафрейм *cumulativeData* со столбцами:\n",
    "- date — дата;\n",
    "- group — группа A/B-теста (A или B);\n",
    "- orders — кумулятивное количество заказов на указанную дату в указанной группе;\n",
    "- buyers — кумулятивное количество пользователей, совершивших хотя бы один заказ, на указанную дату в указанной группе;\n",
    "- revenue — кумулятивная выручка на указанную дату в указанной группе (средний чек);\n",
    "- visitors — кумулятивное количество посетителей интернет-магазина на указанную дату в определённой группе.\n",
    "\n",
    "Создадим массив уникальных пар значений дат и групп теста методом `drop_duplicates()`."
   ]
  },
  {
   "cell_type": "code",
   "execution_count": 14,
   "metadata": {},
   "outputs": [],
   "source": [
    "datesGroups = orders[['date','group']].drop_duplicates()"
   ]
  },
  {
   "cell_type": "markdown",
   "metadata": {},
   "source": [
    "Соберём агрегированные кумулятивные по дням данные о заказах, в результате получим таблицу *ordersAggregated*, в строках которой записаны ежедневные результаты тестирования до выбранного дня включительно.\n",
    "\n",
    "Получим строки таблицы *orders*, дата которых меньше или равна дате элемента из *datesGroups*, а группа теста равна группе из *datesGroups*, затем агрегируем данные посредством метода `.agg()` и посчитаем максимальную дату, количество уникальных пользователей и заказов, сумму покупок. Чтобы столбец *'group'* не пропал из итогового вывода, для группы вычислим максимум. Применим методы к каждой строке датафрейма и отсортируем результаты по столбцам *'date'* и *'group'*."
   ]
  },
  {
   "cell_type": "code",
   "execution_count": 15,
   "metadata": {},
   "outputs": [],
   "source": [
    "ordersAggregated = (\n",
    "    datesGroups\n",
    "        .apply(lambda x: orders[np.logical_and(orders['date'] <= x['date'], orders['group'] == x['group'])]\n",
    "        .agg({'date': 'max', 'group': 'max', 'transactionId': 'nunique', 'visitorId': 'nunique','revenue': 'sum'}), axis=1)\n",
    "        .sort_values(by=['date', 'group'])\n",
    "                   )"
   ]
  },
  {
   "cell_type": "markdown",
   "metadata": {},
   "source": [
    "Аналогично получим агрегированные кумулятивные по дням данные о посетителях интернет-магазина:"
   ]
  },
  {
   "cell_type": "code",
   "execution_count": 16,
   "metadata": {},
   "outputs": [],
   "source": [
    "visitorsAggregated = (\n",
    "    datesGroups\n",
    "        .apply(lambda x: visitors[np.logical_and(visitors['date'] <= x['date'], visitors['group'] == x['group'])]\n",
    "        .agg({'date': 'max', 'group': 'max', 'visitors': 'sum'}), axis=1)\n",
    "        .sort_values(by=['date', 'group'])\n",
    "                     )"
   ]
  },
  {
   "cell_type": "markdown",
   "metadata": {},
   "source": [
    "Объединим обе таблицы в одну и назовём столбцы понятными названиями:"
   ]
  },
  {
   "cell_type": "code",
   "execution_count": 17,
   "metadata": {},
   "outputs": [],
   "source": [
    "cumulativeData = (ordersAggregated\n",
    "                    .merge(visitorsAggregated, left_on=['date', 'group'], right_on=['date', 'group']))\n",
    "\n",
    "cumulativeData.columns = ['date', 'group', 'orders', 'buyers', 'revenue', 'visitors']"
   ]
  },
  {
   "cell_type": "markdown",
   "metadata": {},
   "source": [
    "Сохраним данные о датах, выручке и числе заказов в группах A и B в датафреймах *cumulativeRevenueA* и *cumulativeRevenueB* соответственно. Построим графики кумулятивной выручки по дням по группам."
   ]
  },
  {
   "cell_type": "code",
   "execution_count": 18,
   "metadata": {
    "collapsed": true
   },
   "outputs": [
    {
     "data": {
      "image/png": "[encoded data removed]",
      "text/plain": [
       "<Figure size 1152x576 with 1 Axes>"
      ]
     },
     "metadata": {
      "needs_background": "light"
     },
     "output_type": "display_data"
    }
   ],
   "source": [
    "cumulativeRevenueA = cumulativeData[cumulativeData['group']=='A'][['date', 'revenue', 'orders']]\n",
    "cumulativeRevenueB = cumulativeData[cumulativeData['group']=='B'][['date', 'revenue', 'orders']]\n",
    "\n",
    "plt.figure(figsize=(16, 8))\n",
    "plt.plot(cumulativeRevenueA['date'], cumulativeRevenueA['revenue'], label='A')\n",
    "plt.plot(cumulativeRevenueB['date'], cumulativeRevenueB['revenue'], label='B')\n",
    "plt.legend()\n",
    "plt.title('Графики кумулятивной выручки по дням по группам')\n",
    "plt.xlabel('Даты')\n",
    "plt.ylabel('Кумулятивная выручка')\n",
    "plt.grid(visible=True)\n",
    "plt.annotate('скачок', xy=('2019-08-17', 2800000), xytext=('2019-08-10', 3500000), arrowprops=dict(facecolor='g'))\n",
    "plt.annotate('отрыв', xy=('2019-08-05', 800000), xytext=('2019-08-05', 2000000), arrowprops=dict(facecolor='g'))\n",
    "plt.show()"
   ]
  },
  {
   "cell_type": "markdown",
   "metadata": {},
   "source": [
    "Выручка увеличивается в течение всего теста - это хороший знак. После 18 августа 2019 выручка группы B заметно увеличилась и продолжала лидировать весь остаток теста. Это может быть влиянием большого количества заказов либо очень дорогих заказов (проверим это в шаге \"Определение аномалий в данных\").\n",
    "<br><br><br>\n",
    "**График кумулятивного среднего чека по группам**\n",
    "\n",
    "Построим графики среднего чека по группам — разделим кумулятивную выручку на кумулятивное число заказов:"
   ]
  },
  {
   "cell_type": "code",
   "execution_count": 19,
   "metadata": {},
   "outputs": [
    {
     "data": {
      "image/png": "[encoded data removed]",
      "text/plain": [
       "<Figure size 1152x576 with 1 Axes>"
      ]
     },
     "metadata": {
      "needs_background": "light"
     },
     "output_type": "display_data"
    }
   ],
   "source": [
    "plt.figure(figsize=(16, 8))\n",
    "plt.plot(cumulativeRevenueA['date'], cumulativeRevenueA['revenue'] / cumulativeRevenueA['orders'], label='A')\n",
    "plt.plot(cumulativeRevenueB['date'], cumulativeRevenueB['revenue'] / cumulativeRevenueB['orders'], label='B')\n",
    "plt.legend()\n",
    "plt.title('Графики кумулятивного среднего по дням по группам')\n",
    "plt.xlabel('Даты')\n",
    "plt.ylabel('Кумулятивный средний чек')\n",
    "plt.grid(visible=True)\n",
    "plt.show()"
   ]
  },
  {
   "cell_type": "markdown",
   "metadata": {},
   "source": [
    "Средний чек в группе А становится равномерным ближе к концу теста, а вот для группы В виден резкий скачок 18 августа 2019. Возможно, в группу B попали крупные заказы, что породило резкий рост на графике. Тогда ей нужно больше данных, чтобы прийти к реальному среднему чеку и установиться на его уровне.\n",
    "<br><br><br>\n",
    "\n",
    "**График относительного изменения кумулятивного среднего чека группы В к группе А**\n",
    "\n",
    "Построим график относительного различия для среднего чека. Для этого объеденим таблицы *cumulativeRevenueA* и *cumulativeRevenueB*. На график добавим горизонтальную ось методом `.axhline()`"
   ]
  },
  {
   "cell_type": "code",
   "execution_count": 20,
   "metadata": {},
   "outputs": [
    {
     "data": {
      "image/png": "[encoded data removed]",
      "text/plain": [
       "<Figure size 1152x576 with 1 Axes>"
      ]
     },
     "metadata": {
      "needs_background": "light"
     },
     "output_type": "display_data"
    }
   ],
   "source": [
    "mergedCumulativeRevenue = cumulativeRevenueA.merge(cumulativeRevenueB, left_on='date', right_on='date', how='left', suffixes=['A', 'B'])\n",
    "\n",
    "plt.figure(figsize=(16, 8))\n",
    "plt.plot(mergedCumulativeRevenue['date'], (mergedCumulativeRevenue['revenueB'] / mergedCumulativeRevenue['ordersB']) / (mergedCumulativeRevenue['revenueA'] / mergedCumulativeRevenue['ordersA']) - 1)\n",
    "plt.title('График относительного изменения кумулятивного среднего чека группы В к группе А')\n",
    "plt.xlabel('Даты')\n",
    "plt.ylabel('Относительное различие среднего чека группы В к группе А')\n",
    "plt.grid(visible=True)\n",
    "plt.axhline(y=0.2, color='black', linestyle='--')\n",
    "plt.show()"
   ]
  },
  {
   "cell_type": "markdown",
   "metadata": {},
   "source": [
    "В нескольких местах график различия между сегментами резко меняется - возможно, это влияние аномально дорогих заказов. Однако на большей части временного отрезка различие положительное, а под конец график имеет тенденцию к стабилизации.\n",
    "\n",
    "<br><br><br>\n",
    "**График кумулятивной конверсии по группам**\n",
    "\n",
    "Аналогично проанализируем график кумулятивной конверсии. Добавим столбец *'conversion'*, отделим данные по группе А от данных по группе В и построим график. Чтобы было видно, что абсолютные колебания оне слишком большие, изменим масштаб осей методом `plt.axis()` и передадим ему минимальные и максимальные значения оси X: '2019-08-01', '2019-08-31', и оси Y: 0, 0.05."
   ]
  },
  {
   "cell_type": "code",
   "execution_count": 21,
   "metadata": {},
   "outputs": [
    {
     "data": {
      "image/png": "[encoded data removed]",
      "text/plain": [
       "<Figure size 1152x576 with 1 Axes>"
      ]
     },
     "metadata": {
      "needs_background": "light"
     },
     "output_type": "display_data"
    }
   ],
   "source": [
    "cumulativeData['conversion'] = cumulativeData['orders'] / cumulativeData['visitors']\n",
    "\n",
    "cumulativeDataA = cumulativeData[cumulativeData['group']=='A']\n",
    "cumulativeDataB = cumulativeData[cumulativeData['group']=='B']\n",
    "\n",
    "plt.figure(figsize=(16, 8))\n",
    "plt.plot(cumulativeDataA['date'], cumulativeDataA['conversion'], label='A')\n",
    "plt.plot(cumulativeDataB['date'], cumulativeDataB['conversion'], label='B')\n",
    "plt.legend()\n",
    "plt.title('График кумулятивной конверсии по группам')\n",
    "plt.xlabel('Даты')\n",
    "plt.ylabel('Кумулятивная конверсия')\n",
    "plt.grid(visible=True)\n",
    "plt.axis(['2019-08-01', '2019-08-31', 0, 0.05])\n",
    "plt.show()"
   ]
  },
  {
   "cell_type": "markdown",
   "metadata": {},
   "source": [
    "В начале теста сегмент А имел большую конверсию, но потом сегмент В превысил его. Затем оба сегмента выровнялись и зафиксировались каждый около одного значения, однако у В это значение больше, чем у А.\n",
    "<br><br><br>\n",
    "\n",
    "**График относительного изменения кумулятивной конверсии группы В к группе А**\n",
    "\n",
    "Построим график относительного различия кумулятивных конверсий:"
   ]
  },
  {
   "cell_type": "code",
   "execution_count": 22,
   "metadata": {},
   "outputs": [
    {
     "data": {
      "image/png": "[encoded data removed]",
      "text/plain": [
       "<Figure size 1152x576 with 1 Axes>"
      ]
     },
     "metadata": {
      "needs_background": "light"
     },
     "output_type": "display_data"
    }
   ],
   "source": [
    "mergedCumulativeConversions = cumulativeDataA[['date','conversion']].merge(cumulativeDataB[['date','conversion']], left_on='date', right_on='date', how='left', suffixes=['A', 'B'])\n",
    "\n",
    "plt.figure(figsize=(16, 8))\n",
    "plt.plot(mergedCumulativeConversions['date'], mergedCumulativeConversions['conversionB'] / mergedCumulativeConversions['conversionA'] - 1)\n",
    "plt.title('График относительного изменения кумулятивной конверсии группы В к группе А')\n",
    "plt.xlabel('Даты')\n",
    "plt.ylabel('Относительная кумулятивная конверсия группы В к группе А')\n",
    "plt.grid(visible=True)\n",
    "plt.axhline(y=0.1, color='black', linestyle='--')\n",
    "plt.axhline(y=0.2, color='grey', linestyle='--')\n",
    "plt.axis([\"2019-08-01\", '2019-08-31', -0.2, 0.5])\n",
    "plt.show()"
   ]
  },
  {
   "cell_type": "markdown",
   "metadata": {},
   "source": [
    "Сначала конверсия группы В проигрывала группе А, но затем вырвалась вперёд и некоторое время находилась на уровне прироста около 0.2, а после немного снизилась и установилась около прироста в 10% относительно группы А."
   ]
  },
  {
   "cell_type": "markdown",
   "metadata": {},
   "source": [
    "### Определение аномалий в данных"
   ]
  },
  {
   "cell_type": "markdown",
   "metadata": {},
   "source": [
    "Аномалии - это значения, которые редко встречаются в данных, но при их попадании в выборку они способны значительно исказить результаты. В прошлом подпункте при анализе графиков мы увидели, что нашу выборку необходимо проверить на такие аномалии, и если они обнаружатся, исключить их из А/В-теста.\n",
    "\n",
    "Подсчитаем количество заказов по пользователям и посмотрим на результат:"
   ]
  },
  {
   "cell_type": "code",
   "execution_count": 23,
   "metadata": {},
   "outputs": [
    {
     "data": {
      "text/html": [
       "<div>\n",
       "<style scoped>\n",
       "    .dataframe tbody tr th:only-of-type {\n",
       "        vertical-align: middle;\n",
       "    }\n",
       "\n",
       "    .dataframe tbody tr th {\n",
       "        vertical-align: top;\n",
       "    }\n",
       "\n",
       "    .dataframe thead th {\n",
       "        text-align: right;\n",
       "    }\n",
       "</style>\n",
       "<table border=\"1\" class=\"dataframe\">\n",
       "  <thead>\n",
       "    <tr style=\"text-align: right;\">\n",
       "      <th></th>\n",
       "      <th>visitorId</th>\n",
       "      <th>orders</th>\n",
       "    </tr>\n",
       "  </thead>\n",
       "  <tbody>\n",
       "    <tr>\n",
       "      <td>908</td>\n",
       "      <td>3967698036</td>\n",
       "      <td>3</td>\n",
       "    </tr>\n",
       "    <tr>\n",
       "      <td>55</td>\n",
       "      <td>249864742</td>\n",
       "      <td>3</td>\n",
       "    </tr>\n",
       "    <tr>\n",
       "      <td>478</td>\n",
       "      <td>2108163459</td>\n",
       "      <td>3</td>\n",
       "    </tr>\n",
       "    <tr>\n",
       "      <td>687</td>\n",
       "      <td>2988190573</td>\n",
       "      <td>3</td>\n",
       "    </tr>\n",
       "    <tr>\n",
       "      <td>890</td>\n",
       "      <td>3908431265</td>\n",
       "      <td>3</td>\n",
       "    </tr>\n",
       "    <tr>\n",
       "      <td>...</td>\n",
       "      <td>...</td>\n",
       "      <td>...</td>\n",
       "    </tr>\n",
       "    <tr>\n",
       "      <td>331</td>\n",
       "      <td>1438226485</td>\n",
       "      <td>1</td>\n",
       "    </tr>\n",
       "    <tr>\n",
       "      <td>332</td>\n",
       "      <td>1452540367</td>\n",
       "      <td>1</td>\n",
       "    </tr>\n",
       "    <tr>\n",
       "      <td>333</td>\n",
       "      <td>1455323168</td>\n",
       "      <td>1</td>\n",
       "    </tr>\n",
       "    <tr>\n",
       "      <td>334</td>\n",
       "      <td>1455861274</td>\n",
       "      <td>1</td>\n",
       "    </tr>\n",
       "    <tr>\n",
       "      <td>972</td>\n",
       "      <td>4283872382</td>\n",
       "      <td>1</td>\n",
       "    </tr>\n",
       "  </tbody>\n",
       "</table>\n",
       "<p>973 rows × 2 columns</p>\n",
       "</div>"
      ],
      "text/plain": [
       "      visitorId  orders\n",
       "908  3967698036       3\n",
       "55    249864742       3\n",
       "478  2108163459       3\n",
       "687  2988190573       3\n",
       "890  3908431265       3\n",
       "..          ...     ...\n",
       "331  1438226485       1\n",
       "332  1452540367       1\n",
       "333  1455323168       1\n",
       "334  1455861274       1\n",
       "972  4283872382       1\n",
       "\n",
       "[973 rows x 2 columns]"
      ]
     },
     "execution_count": 23,
     "metadata": {},
     "output_type": "execute_result"
    }
   ],
   "source": [
    "ordersByUsers = (\n",
    "    orders.groupby('visitorId', as_index=False)\n",
    "          .agg({'transactionId': pd.Series.nunique})\n",
    ")\n",
    "\n",
    "ordersByUsers.columns = ['visitorId', 'orders']\n",
    "\n",
    "ordersByUsers.sort_values(by='orders', ascending=False)"
   ]
  },
  {
   "cell_type": "markdown",
   "metadata": {},
   "source": [
    "Построим гистрограмму распределения количества заказов на одного пользователя."
   ]
  },
  {
   "cell_type": "code",
   "execution_count": 24,
   "metadata": {},
   "outputs": [
    {
     "data": {
      "image/png": "[encoded data removed]",
      "text/plain": [
       "<Figure size 720x432 with 1 Axes>"
      ]
     },
     "metadata": {
      "needs_background": "light"
     },
     "output_type": "display_data"
    }
   ],
   "source": [
    "ordersByUsers['orders'].plot(kind='hist', figsize=(10, 6), grid=True)\n",
    "plt.title('Распределение количества заказов на одного пользователя')\n",
    "plt.xlabel('Количество заказов на одного пользователя')\n",
    "plt.ylabel('Частота')\n",
    "plt.show()"
   ]
  },
  {
   "cell_type": "markdown",
   "metadata": {},
   "source": [
    "Большинство покупателей заказывали только один раз. Однако доля пользователей с 2-3 заказами тоже значительна.\n",
    "Построим точечную диаграмму числа заказов на одного пользователя:"
   ]
  },
  {
   "cell_type": "code",
   "execution_count": 25,
   "metadata": {},
   "outputs": [
    {
     "data": {
      "image/png": "[encoded data removed]",
      "text/plain": [
       "<Figure size 1152x576 with 1 Axes>"
      ]
     },
     "metadata": {
      "needs_background": "light"
     },
     "output_type": "display_data"
    }
   ],
   "source": [
    "x_values = pd.Series(range(0, len(ordersByUsers)))\n",
    "plt.figure(figsize=(16, 8))\n",
    "plt.scatter(x_values, ordersByUsers['orders'])\n",
    "plt.title('Точечная диаграмма количества заказов на одного пользователя')\n",
    "plt.ylabel('Количество заказов на одного пользователя')\n",
    "plt.grid(visible=True)\n",
    "plt.show()"
   ]
  },
  {
   "cell_type": "markdown",
   "metadata": {},
   "source": [
    "Выводы подтверждаются: большинство пользователей заказывали по одному разу, но и много пользователей с 2-3 заказами. Их точная доля не ясна, поэтому непонятно, считать их аномалиями или нет.\n",
    "Посчитаем 95-й и 99-й перцентили количества заказов на одного пользователя:"
   ]
  },
  {
   "cell_type": "code",
   "execution_count": 26,
   "metadata": {},
   "outputs": [
    {
     "name": "stdout",
     "output_type": "stream",
     "text": [
      "95-й и 99-й перцентили количества заказов на одного пользователя: [1. 2.]\n"
     ]
    }
   ],
   "source": [
    "print('95-й и 99-й перцентили количества заказов на одного пользователя:', np.percentile(ordersByUsers['orders'], [95, 99]))"
   ]
  },
  {
   "cell_type": "markdown",
   "metadata": {},
   "source": [
    "Не более 1% пользователей оформляли 2 и более заказов. Разумно выбрать 2 заказа на одного пользователя за нижнюю границу числа заказов, и отсеять аномальных пользователей по ней."
   ]
  },
  {
   "cell_type": "markdown",
   "metadata": {},
   "source": [
    "Изучим теперь гистограмму распределения стоимостей заказов:"
   ]
  },
  {
   "cell_type": "code",
   "execution_count": 27,
   "metadata": {},
   "outputs": [
    {
     "data": {
      "image/png": "[encoded data removed]",
      "text/plain": [
       "<Figure size 1152x576 with 1 Axes>"
      ]
     },
     "metadata": {
      "needs_background": "light"
     },
     "output_type": "display_data"
    }
   ],
   "source": [
    "orders['revenue'].plot(kind='hist', figsize=(16, 8), grid=True, bins=120)\n",
    "plt.title('Распределение стоимостей заказов')\n",
    "plt.xlabel('Стоимость заказов')\n",
    "plt.ylabel('Частота')\n",
    "plt.show()"
   ]
  },
  {
   "cell_type": "markdown",
   "metadata": {},
   "source": [
    "Из гистограммы видно, что в выборке присутствуют заказы стоимостью выше 1 200 000, однако большинство имеет гораздо меньшую стоимость. Построим точечную диаграмму стоимостей заказов:"
   ]
  },
  {
   "cell_type": "code",
   "execution_count": 28,
   "metadata": {},
   "outputs": [
    {
     "data": {
      "image/png": "[encoded data removed]",
      "text/plain": [
       "<Figure size 1152x576 with 1 Axes>"
      ]
     },
     "metadata": {
      "needs_background": "light"
     },
     "output_type": "display_data"
    }
   ],
   "source": [
    "x_values = pd.Series(range(0, len(orders['revenue'])))\n",
    "plt.figure(figsize=(16, 8))\n",
    "plt.scatter(x_values, orders['revenue']) \n",
    "plt.title('Точечная диаграмма стоимостей заказов')\n",
    "plt.ylabel('Стоимость заказов')\n",
    "plt.grid(visible=True)\n",
    "plt.axhline(y=100000, color='grey', linestyle='--')\n",
    "plt.show()"
   ]
  },
  {
   "cell_type": "markdown",
   "metadata": {},
   "source": [
    "Видно, что все заказы, кроме двух, имеют стоимость до 100 000. Однако на графике плохо виден разброс, поэтому увеличим нижнюю часть графика, ограничив ось Y методом `plt.ylim()`."
   ]
  },
  {
   "cell_type": "code",
   "execution_count": 29,
   "metadata": {},
   "outputs": [
    {
     "data": {
      "image/png": "[encoded data removed]",
      "text/plain": [
       "<Figure size 1152x576 with 1 Axes>"
      ]
     },
     "metadata": {
      "needs_background": "light"
     },
     "output_type": "display_data"
    }
   ],
   "source": [
    "x_values = pd.Series(range(0, len(orders['revenue'])))\n",
    "plt.figure(figsize=(16, 8))\n",
    "plt.scatter(x_values, orders['revenue']) \n",
    "plt.title('Точечная диаграмма стоимостей заказов (увеличенная нижняя часть графика)')\n",
    "plt.ylabel('Стоимость заказов')\n",
    "plt.grid(visible=True)\n",
    "plt.ylim(0, 100000)\n",
    "plt.show()"
   ]
  },
  {
   "cell_type": "markdown",
   "metadata": {},
   "source": [
    "Большинство заказов имеют стоимость до 60 000. И хотя по графику можно выбрать границу аномальных заказов, более точный результат мы увидим, посчитав 95-й и 99-й перцентили."
   ]
  },
  {
   "cell_type": "code",
   "execution_count": 30,
   "metadata": {},
   "outputs": [
    {
     "name": "stdout",
     "output_type": "stream",
     "text": [
      "95-й и 99-й перцентили стоимости заказов: [26785. 53904.]\n"
     ]
    }
   ],
   "source": [
    "print('95-й и 99-й перцентили стоимости заказов:', np.percentile(orders['revenue'], [95, 99]))"
   ]
  },
  {
   "cell_type": "markdown",
   "metadata": {},
   "source": [
    "Не более 5% заказов дороже 26 785 и не более 1% дороже 53 904. Выберем границу для определения аномальных заказов в 54 000."
   ]
  },
  {
   "cell_type": "markdown",
   "metadata": {},
   "source": [
    "### Расчёт статистической значимости различий между группами"
   ]
  },
  {
   "cell_type": "markdown",
   "metadata": {},
   "source": [
    "**Расчёт статистической значимости различий между группами по \"сырым\" данным**\n",
    "\n",
    "Рассчитаем статистическую значимость различий в конверсии между группами А и В по \"сырым\" данным. Для этого нам нужно собрать по датафрейму для каждой группы с количеством заказов по каждому пользователю. Если пользователь не совершил ни одного заказа, то ему будет соответствовать нулевое значение.\n",
    "\n",
    "Сформируем первую часть нужной выборки - для каждого пользователя, который совершил хотя бы один заказ, сохраним число совершённых заказов. Для этого разобъём данные по группам и сохраним эту информацию для каждой группы - А или В - в отдельную переменную:"
   ]
  },
  {
   "cell_type": "code",
   "execution_count": 31,
   "metadata": {},
   "outputs": [],
   "source": [
    "ordersByUsersA = (\n",
    "    orders[orders['group'] == 'A']\n",
    "    .groupby('visitorId', as_index=False)\n",
    "    .agg({'transactionId': pd.Series.nunique})\n",
    ")\n",
    "ordersByUsersA.columns = ['visitorId', 'orders']\n",
    "\n",
    "ordersByUsersB = (\n",
    "    orders[orders['group'] == 'B']\n",
    "    .groupby('visitorId', as_index=False)\n",
    "    .agg({'transactionId': pd.Series.nunique})\n",
    ")\n",
    "ordersByUsersB.columns = ['visitorId', 'orders'] "
   ]
  },
  {
   "cell_type": "markdown",
   "metadata": {},
   "source": [
    "Осталось добавить нули для пользователей, которые ничего не заказывали. Количество таких пользователей по каждой группе А и В равно разнице между суммой посетителей из таблицы *visitors* и количеством записей в таблицах *ordersByUsersA* и *ordersByUsersB* соответственно:\n",
    "`visitors[visitors['group'] == 'A']['visitors'].sum() - len(ordersByUsersA['orders'])` <br>\n",
    "`visitors[visitors['group'] == 'B']['visitors'].sum() - len(ordersByUsersB['orders'])`\n",
    "\n",
    "Дополним информацию о количестве совершённых заказах, сохранённую в *ordersByUsersA* и *ordersByUsersB* найденным количеством нулей, используя метод `pd.concat()`. Сохраним выборки в переменных *sampleA* и *sampleB*:"
   ]
  },
  {
   "cell_type": "code",
   "execution_count": 32,
   "metadata": {},
   "outputs": [],
   "source": [
    "sampleA = pd.concat([ordersByUsersA['orders'], pd.Series(0, index=np.arange(visitors[visitors['group'] == 'A']['visitors'].sum() - len(ordersByUsersA['orders'])), name='orders')],axis=0)\n",
    "sampleB = pd.concat([ordersByUsersB['orders'], pd.Series(0, index=np.arange(visitors[visitors['group'] == 'B']['visitors'].sum() - len(ordersByUsersB['orders'])), name='orders')],axis=0)"
   ]
  },
  {
   "cell_type": "markdown",
   "metadata": {},
   "source": [
    "У нас получились выборки, где количество элементов - это количество пользователей, а сумма элементов - это количество заказов. Чтобы получить конверсию в группе, найдём среднее в каждой выборке методом `.mean()`. Выведем на экран относительный прирост конверсии группы В: `конверсия группы B / конверсия группы A - 1`."
   ]
  },
  {
   "cell_type": "code",
   "execution_count": 33,
   "metadata": {},
   "outputs": [
    {
     "name": "stdout",
     "output_type": "stream",
     "text": [
      "Относительный прирост конверсии группы В по отношению к группе А: 0.160\n"
     ]
    }
   ],
   "source": [
    "print('Относительный прирост конверсии группы В по отношению к группе А: {0:.3f}'.format(sampleB.mean() / sampleA.mean() - 1))"
   ]
  },
  {
   "cell_type": "markdown",
   "metadata": {},
   "source": [
    "Относительный выигрыш группы B равен 16%.\n",
    "\n",
    "Теперь применим U-критерий Манна-Уитни. <br>\n",
    "Нулевая гипотеза будет звучать так: *Вероятность того, что уровень конверсии в группе В превышает уровень конверсии в группе А равна 50%*. <br>\n",
    "Альтернативная гипотеза: *Вероятность того, что уровень конверсии в группе В превышает уровень конверсии в группе А не равна 50%*.<br>\n",
    "Установим критический уровень статистической значимости в 5%."
   ]
  },
  {
   "cell_type": "code",
   "execution_count": 34,
   "metadata": {},
   "outputs": [
    {
     "name": "stdout",
     "output_type": "stream",
     "text": [
      "p-значение:  0.011018084110014691\n",
      "Отвергаем нулевую гипотезу: разница статистически значима\n"
     ]
    }
   ],
   "source": [
    "alpha = 0.05  # критический уровень статистической значимости\n",
    "\n",
    "results = stats.mannwhitneyu(sampleA, sampleB, alternative = 'two-sided')\n",
    "\n",
    "print('p-значение: ', results.pvalue)\n",
    "\n",
    "if results.pvalue < alpha:\n",
    "    print('Отвергаем нулевую гипотезу: разница статистически значима')\n",
    "else:\n",
    "    print('Не получилось отвергнуть нулевую гипотезу, вывод о различии сделать нельзя') "
   ]
  },
  {
   "cell_type": "markdown",
   "metadata": {},
   "source": [
    "По «сырым» данным разница в конверсии групп A и B статистически значима.\n",
    "<br><br><br>\n",
    "\n",
    "Посчитаем статистическую значимость различий в среднем чеке заказа между группами А и В по «сырым» данным, передав критерию `mannwhitneyu()` данные о выручке с заказов. Нулевая гипотеза будет звучать так:\n",
    "*Вероятность того, что уровень среднего чека в группе В превышает уровень среднего чека в группе А равна 50%.*. Критический уровень статистической значимости оставим на прежнем уровне. Также выведем относительный прирост среднего чека группы В по отношению к группе А."
   ]
  },
  {
   "cell_type": "code",
   "execution_count": 35,
   "metadata": {},
   "outputs": [
    {
     "name": "stdout",
     "output_type": "stream",
     "text": [
      "p-значение:  0.8294908998149533\n",
      "Не получилось отвергнуть нулевую гипотезу, вывод о различии сделать нельзя\n",
      "Относительный прирост среднего чека группы В по отношению к группе А: 0.287\n"
     ]
    }
   ],
   "source": [
    "results = stats.mannwhitneyu(orders[orders['group']=='A']['revenue'], orders[orders['group']=='B']['revenue'], alternative = 'two-sided')\n",
    "\n",
    "print('p-значение: ', results.pvalue)\n",
    "\n",
    "if results.pvalue < alpha:\n",
    "    print('Отвергаем нулевую гипотезу: разница статистически значима')\n",
    "else:\n",
    "    print('Не получилось отвергнуть нулевую гипотезу, вывод о различии сделать нельзя')\n",
    "    \n",
    "print('Относительный прирост среднего чека группы В по отношению к группе А: {0:.3f}'.format(orders[orders['group']=='B']['revenue'].mean() / orders[orders['group']=='A']['revenue'].mean() - 1))"
   ]
  },
  {
   "cell_type": "markdown",
   "metadata": {},
   "source": [
    "P-value значительно больше 0.05. Значит, причин отвергать нулевую гипотезу и считать, что в уровне среднего чека есть различия, нет. Однако средний чек группы B на 28.7% среднего чека группы A.\n",
    "<br><br><br>"
   ]
  },
  {
   "cell_type": "markdown",
   "metadata": {},
   "source": [
    "**Расчёт статистической значимости различий между группами по \"очищенным\" данным**\n",
    "\n",
    "В подпункте 4.3 нами были определены границы для определения аномальных пользователей: те, у которых более 4 заказов и те, кто заказал на сумму более 58 000. Сделаем соответствующие срезы пользователей и сохраним пользователей с аномальными заказами в переменной *usersWithManyOrders*, а пользователей, совершивших дорогие заказы — в *usersWithExpensiveOrders*. Объединим их в таблице *abnormalUsers*."
   ]
  },
  {
   "cell_type": "code",
   "execution_count": 36,
   "metadata": {},
   "outputs": [
    {
     "name": "stdout",
     "output_type": "stream",
     "text": [
      "Количество аномальных пользователей: 14\n"
     ]
    }
   ],
   "source": [
    "usersWithManyOrders = pd.concat([ordersByUsersA[ordersByUsersA['orders'] > 2]['visitorId'], ordersByUsersB[ordersByUsersB['orders'] > 4]['visitorId']], axis=0)\n",
    "\n",
    "usersWithExpensiveOrders = orders[orders['revenue'] > 54000]['visitorId']\n",
    "\n",
    "abnormalUsers = (\n",
    "    pd.concat([usersWithManyOrders, usersWithExpensiveOrders], axis=0)\n",
    "    .drop_duplicates()\n",
    "    .sort_values()\n",
    ")\n",
    "\n",
    "print('Количество аномальных пользователей:', len(abnormalUsers))"
   ]
  },
  {
   "cell_type": "markdown",
   "metadata": {},
   "source": [
    "Получили всего 14 аномальных пользователей. Узнаем, как их действия повлияли на результаты теста. Посчитаем статистическую значимость различий в конверсии между группами теста по очищенным данным. Сначала подготовим выборки количества заказов по пользователям по группам теста:"
   ]
  },
  {
   "cell_type": "code",
   "execution_count": 37,
   "metadata": {},
   "outputs": [],
   "source": [
    "sampleAFiltered = pd.concat(\n",
    "    [ordersByUsersA[np.logical_not(ordersByUsersA['visitorId'].isin(abnormalUsers))]['orders'],\n",
    "    pd.Series(0, index=np.arange(visitors[visitors['group'] == 'A']['visitors'].sum() - len(ordersByUsersA['orders'])), name='orders')],\n",
    "    axis=0\n",
    ")\n",
    "\n",
    "sampleBFiltered = pd.concat(\n",
    "    [ordersByUsersB[np.logical_not(ordersByUsersB['visitorId'].isin(abnormalUsers))]['orders'],\n",
    "    pd.Series(0, index=np.arange(visitors[visitors['group'] == 'B']['visitors'].sum() - len(ordersByUsersB['orders'])), name='orders')],\n",
    "    axis=0\n",
    ")"
   ]
  },
  {
   "cell_type": "markdown",
   "metadata": {},
   "source": [
    "Теперь применим U-критерий Манна-Уитни. Формулировка нулевой гипотезы: *Статистически значимой разницы в конверсии между выборками с \"очищенными\" данными нет*. Критический уровень статистической значимости оставим на заданном уровне - 5%. Выведем на экран относительный прирост конверсии группы В по отношению к группе А."
   ]
  },
  {
   "cell_type": "code",
   "execution_count": 38,
   "metadata": {
    "scrolled": true
   },
   "outputs": [
    {
     "name": "stdout",
     "output_type": "stream",
     "text": [
      "p-значение:  0.005814816288577425\n",
      "Отвергаем нулевую гипотезу: разница статистически значима\n",
      "Относительный прирост конверсии группы В по отношению к группе А: 0.202\n"
     ]
    }
   ],
   "source": [
    "results = stats.mannwhitneyu(sampleAFiltered, sampleBFiltered, alternative = 'two-sided')\n",
    "\n",
    "print('p-значение: ', results.pvalue)\n",
    "\n",
    "if results.pvalue < alpha:\n",
    "    print('Отвергаем нулевую гипотезу: разница статистически значима')\n",
    "else:\n",
    "    print('Не получилось отвергнуть нулевую гипотезу, вывод о различии сделать нельзя') \n",
    "\n",
    "print('Относительный прирост конверсии группы В по отношению к группе А: {0:.3f}'.format(sampleBFiltered.mean() / sampleAFiltered.mean() - 1))"
   ]
  },
  {
   "cell_type": "markdown",
   "metadata": {},
   "source": [
    "Результаты по конверсии не поменялись! А относительный прирост конверсии увеличился до 20.2%.\n",
    "<br><br><br>\n",
    "\n",
    "Посмотрим, какое влияние оказало исключение аномальных пользователей из выборки на средний чек."
   ]
  },
  {
   "cell_type": "code",
   "execution_count": 39,
   "metadata": {},
   "outputs": [
    {
     "name": "stdout",
     "output_type": "stream",
     "text": [
      "p-значение:  0.829074952060616\n",
      "Не получилось отвергнуть нулевую гипотезу, вывод о различии сделать нельзя\n",
      "Относительный прирост среднего чека группы В по отношению к группе А: -0.029\n"
     ]
    }
   ],
   "source": [
    "results = stats.mannwhitneyu(orders[np.logical_and(orders['group'] == 'A',\n",
    "                                    np.logical_not(orders['visitorId'].isin(abnormalUsers)))]['revenue'],\n",
    "                             orders[np.logical_and(orders['group'] == 'B',\n",
    "                                    np.logical_not(orders['visitorId'].isin(abnormalUsers)))]['revenue'],\n",
    "                             alternative = 'two-sided')\n",
    "\n",
    "print('p-значение: ', results.pvalue)\n",
    "\n",
    "if results.pvalue < alpha:\n",
    "    print('Отвергаем нулевую гипотезу: разница статистически значима')\n",
    "else:\n",
    "    print('Не получилось отвергнуть нулевую гипотезу, вывод о различии сделать нельзя')\n",
    "\n",
    "print('Относительный прирост среднего чека группы В по отношению к группе А: {0:.3f}'.format(\n",
    "        orders[np.logical_and(orders['group'] == 'B',\n",
    "               np.logical_not(orders['visitorId'].isin(abnormalUsers)))]['revenue'].mean()\n",
    "      / orders[np.logical_and(orders['group'] == 'A',\n",
    "                np.logical_not(orders['visitorId'].isin(abnormalUsers)))]['revenue'].mean() - 1)) "
   ]
  },
  {
   "cell_type": "markdown",
   "metadata": {},
   "source": [
    "P-value остался на прежнем уровне, а разница между сегментами значительно изменилась. В среднем чеке статистически значимых различий нет, а относительный проигрыш группы В по отношению к группе А по \"очищенным\" данным оказался очень незначительным - менее 3%.\n",
    "\n",
    "Здесь очень хорошо видно, как сильно аномалии могут влиять на результаты A/B-теста."
   ]
  },
  {
   "cell_type": "markdown",
   "metadata": {},
   "source": [
    "### Принятие решения по результатам теста"
   ]
  },
  {
   "cell_type": "markdown",
   "metadata": {},
   "source": [
    "В ходе анализа А/В-теста мы увидели, что:\n",
    "\n",
    "- Есть статистически значимое различие по уровню конверсии между группами как по «сырым» данным, так и после фильтрации аномалий;\n",
    "- Нет статистически значимого различия по среднему чеку между группами ни по «сырым», ни по данным после фильтрации аномалий;\n",
    "- График различия конверсии между группами сообщает, что результаты группы B лучше группы A примерно на 10%;\n",
    "- График различия среднего чека говорит о том, что хотя результаты группы B значительно превосходят группу А, однако график сильно колеблется, и только к концу выбранного периода есть тенденция к стабилизации этого различия.\n",
    "\n",
    "Исходя из обнаруженных фактов, можно зафиксировать победу группы В, несмотря на то, что нет статистически значимого различия по среднему чеку между группами. Ведь график различия среднего чека говорит о том, что результаты группы В превосходят результаты А. Поэтому принимаем решение остановить тест."
   ]
  },
  {
   "cell_type": "markdown",
   "metadata": {},
   "source": [
    "## Выводы"
   ]
  },
  {
   "cell_type": "markdown",
   "metadata": {},
   "source": [
    "Изначально нам были даны 3 таблицы - данные гипотез, данные о заказах и данные о количестве посетивших пользователей. Пропусков и дубликатов в данных обнаружено не было. В столбцах, содержащих даты, был преобразован тип данных со строкового на соответствующий. Была проведена проверка таблицы с заказами на наличие пользователей, попавших в обе группы А и В. В итоге таких пользователей найдено 58, и было принято решение таких пользователей исключить.\n",
    "<br><br>\n",
    "\n",
    "В первой части работы была проведена приоретизация гипотез с использованием двух методов - ICE и RICE. Оба метода выявили пятёрку одних и тех же самых приоритетных гипотез, однако места гипотез в рейтинге получились разными. Это произошло потому, что хотя оба метода оценивают силу гипотезы, но метод RICE оценивает не только силу, но и такой важный фактор, как охват пользователей. Приведём здесь ещё раз топ-5 самых приоритетных гипотез в порядке, полученном при применении фрейворка RICE:\n",
    "\n",
    "1. Добавить форму подписки на все основные страницы, чтобы собрать базу клиентов для email-рассылок;\n",
    "2. Добавить блоки рекомендаций товаров на сайт интернет магазина, чтобы повысить конверсию и средний чек заказа;\n",
    "3. Добавить два новых канала привлечения трафика, что позволит привлекать на 30% больше пользователей;\n",
    "4. Показать на главной странице баннеры с актуальными акциями и распродажами, чтобы увеличить конверсию;\n",
    "5. Запустить акцию, дающую скидку на товар в день рождения.\n",
    "\n",
    "<br><br>\n",
    "Во второй части работы был проведён анализ А/В-теста. Графики кумулятивной выручки и кумулятивного среднего чека по группам показывают, что группа В выигрывает у группы А. Лучшие результаты группы В видны также на графиках относительного различия конверсии группы В по отношению к группе А и относительного изменения кумулятивного среднего чека.\n",
    "\n",
    "Расчёт статистической значимости показал, что есть статистически значимая разница между группами в уровне конверсии, но не в среднем чеке заказа. В то же время по графикам также было замечено возможное присутствие аномальных значений - некоторые пользователи делают либо много заказов, либо совершают дорогие покупки. Такие аномалии могут сильно влиять на результат.\n",
    "\n",
    "Поэтому, посчитав 95-й и 99-й перцентили для количества и суммы заказов, мы выбрали границу для определения аномальных пользователей (всего таких пользователей было обнаружено 14) и исключили их из выборок для анализа А/В-теста. Расчитав статистическую значимость по очищенным данным, мы увидели, что по уровню конверсии группа В по-прежнему статистически значимо отличается от группы А в лучшую сторону. Однако статистически значимых различий между группами по среднему чеку не было обнаружено и после удаления аномалий.\n",
    "\n",
    "Таким образом, можно говорить о победе одной группы над другой, зафиксировав победу группы В. Поскольку уровень конверсии вырос, а средний чек остался на прежнем уровне, значит, количество заказов будет больше, и выручка увеличится."
   ]
  },
  {
   "cell_type": "code",
   "execution_count": null,
   "metadata": {},
   "outputs": [],
   "source": []
  }
 ],
 "metadata": {
  "ExecuteTimeLog": [
   {
    "duration": 1630,
    "start_time": "2021-12-19T10:27:55.856Z"
   },
   {
    "duration": 44,
    "start_time": "2021-12-19T10:27:59.144Z"
   },
   {
    "duration": 29,
    "start_time": "2021-12-19T10:28:08.329Z"
   },
   {
    "duration": 58,
    "start_time": "2021-12-19T10:30:01.798Z"
   },
   {
    "duration": 31,
    "start_time": "2021-12-19T10:30:53.184Z"
   },
   {
    "duration": 4,
    "start_time": "2021-12-19T10:34:38.472Z"
   },
   {
    "duration": 1545,
    "start_time": "2021-12-19T12:36:37.176Z"
   },
   {
    "duration": 4,
    "start_time": "2021-12-19T12:37:13.110Z"
   },
   {
    "duration": 22,
    "start_time": "2021-12-19T12:37:16.449Z"
   },
   {
    "duration": 13,
    "start_time": "2021-12-19T12:42:46.699Z"
   },
   {
    "duration": 13,
    "start_time": "2021-12-19T12:57:26.756Z"
   },
   {
    "duration": 15,
    "start_time": "2021-12-19T13:20:50.298Z"
   },
   {
    "duration": 15,
    "start_time": "2021-12-19T13:20:58.409Z"
   },
   {
    "duration": 6,
    "start_time": "2021-12-19T13:24:44.071Z"
   },
   {
    "duration": 632,
    "start_time": "2021-12-19T13:30:27.881Z"
   },
   {
    "duration": 16,
    "start_time": "2021-12-19T13:32:17.569Z"
   },
   {
    "duration": 15,
    "start_time": "2021-12-19T13:32:25.896Z"
   },
   {
    "duration": 1517,
    "start_time": "2021-12-19T13:35:36.245Z"
   },
   {
    "duration": 4,
    "start_time": "2021-12-19T13:35:37.765Z"
   },
   {
    "duration": 35,
    "start_time": "2021-12-19T13:35:37.772Z"
   },
   {
    "duration": 46,
    "start_time": "2021-12-19T13:35:37.822Z"
   },
   {
    "duration": 27,
    "start_time": "2021-12-19T13:35:37.871Z"
   },
   {
    "duration": 6,
    "start_time": "2021-12-19T13:35:37.901Z"
   },
   {
    "duration": 27,
    "start_time": "2021-12-19T13:35:37.910Z"
   },
   {
    "duration": 16,
    "start_time": "2021-12-19T13:35:37.939Z"
   },
   {
    "duration": 15,
    "start_time": "2021-12-19T13:35:37.958Z"
   },
   {
    "duration": 6,
    "start_time": "2021-12-19T13:35:37.976Z"
   },
   {
    "duration": 16,
    "start_time": "2021-12-19T13:41:14.489Z"
   },
   {
    "duration": 15,
    "start_time": "2021-12-19T13:56:17.563Z"
   },
   {
    "duration": 9,
    "start_time": "2021-12-19T14:59:34.024Z"
   },
   {
    "duration": 21,
    "start_time": "2021-12-19T15:08:41.219Z"
   },
   {
    "duration": 310,
    "start_time": "2021-12-19T15:11:22.189Z"
   },
   {
    "duration": 277,
    "start_time": "2021-12-19T15:14:34.019Z"
   },
   {
    "duration": 10,
    "start_time": "2021-12-19T15:17:12.885Z"
   },
   {
    "duration": 338,
    "start_time": "2021-12-19T15:41:43.932Z"
   },
   {
    "duration": 326,
    "start_time": "2021-12-19T15:43:06.149Z"
   },
   {
    "duration": 462,
    "start_time": "2021-12-19T15:45:41.092Z"
   },
   {
    "duration": 962,
    "start_time": "2021-12-19T15:46:15.814Z"
   },
   {
    "duration": 348,
    "start_time": "2021-12-19T15:46:26.988Z"
   },
   {
    "duration": 562,
    "start_time": "2021-12-19T15:46:37.570Z"
   },
   {
    "duration": 608,
    "start_time": "2021-12-19T15:47:00.846Z"
   },
   {
    "duration": 751,
    "start_time": "2021-12-19T15:49:17.249Z"
   },
   {
    "duration": 482,
    "start_time": "2021-12-19T17:51:52.635Z"
   },
   {
    "duration": 492,
    "start_time": "2021-12-19T17:52:26.644Z"
   },
   {
    "duration": 643,
    "start_time": "2021-12-19T18:06:18.127Z"
   },
   {
    "duration": 631,
    "start_time": "2021-12-19T18:06:42.723Z"
   },
   {
    "duration": 650,
    "start_time": "2021-12-19T18:07:22.088Z"
   },
   {
    "duration": 523,
    "start_time": "2021-12-19T18:16:17.346Z"
   },
   {
    "duration": 476,
    "start_time": "2021-12-19T18:18:56.729Z"
   },
   {
    "duration": 621,
    "start_time": "2021-12-19T18:29:48.764Z"
   },
   {
    "duration": 660,
    "start_time": "2021-12-19T18:31:01.282Z"
   },
   {
    "duration": 628,
    "start_time": "2021-12-19T18:33:38.320Z"
   },
   {
    "duration": 1090,
    "start_time": "2021-12-20T07:15:49.342Z"
   },
   {
    "duration": 3,
    "start_time": "2021-12-20T07:15:50.434Z"
   },
   {
    "duration": 32,
    "start_time": "2021-12-20T07:15:50.440Z"
   },
   {
    "duration": 74,
    "start_time": "2021-12-20T07:15:50.474Z"
   },
   {
    "duration": 23,
    "start_time": "2021-12-20T07:15:50.550Z"
   },
   {
    "duration": 4,
    "start_time": "2021-12-20T07:15:50.574Z"
   },
   {
    "duration": 15,
    "start_time": "2021-12-20T07:15:50.580Z"
   },
   {
    "duration": 11,
    "start_time": "2021-12-20T07:15:50.596Z"
   },
   {
    "duration": 11,
    "start_time": "2021-12-20T07:15:50.609Z"
   },
   {
    "duration": 11,
    "start_time": "2021-12-20T07:15:50.621Z"
   },
   {
    "duration": 11,
    "start_time": "2021-12-20T07:15:50.633Z"
   },
   {
    "duration": 12,
    "start_time": "2021-12-20T07:15:50.645Z"
   },
   {
    "duration": 207,
    "start_time": "2021-12-20T07:15:50.658Z"
   },
   {
    "duration": 167,
    "start_time": "2021-12-20T07:15:50.867Z"
   },
   {
    "duration": 8,
    "start_time": "2021-12-20T07:15:51.036Z"
   },
   {
    "duration": 377,
    "start_time": "2021-12-20T07:15:51.046Z"
   },
   {
    "duration": 334,
    "start_time": "2021-12-20T07:15:51.425Z"
   },
   {
    "duration": 490,
    "start_time": "2021-12-20T07:15:51.760Z"
   },
   {
    "duration": 342,
    "start_time": "2021-12-20T07:15:52.252Z"
   },
   {
    "duration": 455,
    "start_time": "2021-12-20T07:15:52.596Z"
   },
   {
    "duration": 237,
    "start_time": "2021-12-20T07:22:59.048Z"
   },
   {
    "duration": 572,
    "start_time": "2021-12-20T07:23:25.302Z"
   },
   {
    "duration": 501,
    "start_time": "2021-12-20T07:23:45.021Z"
   },
   {
    "duration": 477,
    "start_time": "2021-12-20T07:25:42.017Z"
   },
   {
    "duration": 100,
    "start_time": "2021-12-20T07:32:36.434Z"
   },
   {
    "duration": 102,
    "start_time": "2021-12-20T07:32:45.351Z"
   },
   {
    "duration": 113,
    "start_time": "2021-12-20T07:33:39.317Z"
   },
   {
    "duration": 108,
    "start_time": "2021-12-20T07:33:44.443Z"
   },
   {
    "duration": 122,
    "start_time": "2021-12-20T07:35:56.158Z"
   },
   {
    "duration": 453,
    "start_time": "2021-12-20T07:36:08.360Z"
   },
   {
    "duration": 360,
    "start_time": "2021-12-20T07:36:32.881Z"
   },
   {
    "duration": 288,
    "start_time": "2021-12-20T07:36:41.080Z"
   },
   {
    "duration": 299,
    "start_time": "2021-12-20T07:36:59.969Z"
   },
   {
    "duration": 315,
    "start_time": "2021-12-20T07:37:31.170Z"
   },
   {
    "duration": 374,
    "start_time": "2021-12-20T07:37:41.873Z"
   },
   {
    "duration": 158,
    "start_time": "2021-12-20T07:48:25.076Z"
   },
   {
    "duration": 285,
    "start_time": "2021-12-20T07:49:15.658Z"
   },
   {
    "duration": 413,
    "start_time": "2021-12-20T07:50:41.090Z"
   },
   {
    "duration": 5,
    "start_time": "2021-12-20T07:53:46.240Z"
   },
   {
    "duration": 162,
    "start_time": "2021-12-20T08:00:08.535Z"
   },
   {
    "duration": 437,
    "start_time": "2021-12-20T08:00:20.657Z"
   },
   {
    "duration": 400,
    "start_time": "2021-12-20T08:03:14.760Z"
   },
   {
    "duration": 5,
    "start_time": "2021-12-20T08:07:19.575Z"
   },
   {
    "duration": 430,
    "start_time": "2021-12-20T08:19:29.401Z"
   },
   {
    "duration": 393,
    "start_time": "2021-12-20T08:20:24.928Z"
   },
   {
    "duration": 3,
    "start_time": "2021-12-20T08:25:57.749Z"
   },
   {
    "duration": 3,
    "start_time": "2021-12-20T08:29:48.508Z"
   },
   {
    "duration": 355,
    "start_time": "2021-12-20T08:30:00.639Z"
   },
   {
    "duration": 5,
    "start_time": "2021-12-20T09:21:40.869Z"
   },
   {
    "duration": 7,
    "start_time": "2021-12-20T09:24:25.212Z"
   },
   {
    "duration": 51,
    "start_time": "2021-12-20T09:24:56.388Z"
   },
   {
    "duration": 3578,
    "start_time": "2021-12-20T09:27:07.359Z"
   },
   {
    "duration": 268,
    "start_time": "2021-12-20T09:27:42.154Z"
   },
   {
    "duration": 276,
    "start_time": "2021-12-20T09:33:41.565Z"
   },
   {
    "duration": 189,
    "start_time": "2021-12-20T09:39:11.971Z"
   },
   {
    "duration": 114,
    "start_time": "2021-12-20T09:39:44.596Z"
   },
   {
    "duration": 8,
    "start_time": "2021-12-20T16:32:38.451Z"
   },
   {
    "duration": 6,
    "start_time": "2021-12-20T16:34:53.694Z"
   },
   {
    "duration": 5,
    "start_time": "2021-12-20T16:35:05.980Z"
   },
   {
    "duration": 4,
    "start_time": "2021-12-20T16:41:09.915Z"
   },
   {
    "duration": 189,
    "start_time": "2021-12-20T16:50:10.694Z"
   },
   {
    "duration": 7,
    "start_time": "2021-12-20T16:51:13.317Z"
   },
   {
    "duration": 5,
    "start_time": "2021-12-20T16:52:10.269Z"
   },
   {
    "duration": 7,
    "start_time": "2021-12-20T16:52:16.002Z"
   },
   {
    "duration": 11,
    "start_time": "2021-12-20T17:15:52.821Z"
   },
   {
    "duration": 4,
    "start_time": "2021-12-20T17:20:44.377Z"
   },
   {
    "duration": 10,
    "start_time": "2021-12-20T17:38:46.023Z"
   },
   {
    "duration": 16,
    "start_time": "2021-12-20T17:38:54.699Z"
   },
   {
    "duration": 11,
    "start_time": "2021-12-20T17:39:06.034Z"
   },
   {
    "duration": 10,
    "start_time": "2021-12-20T17:40:25.144Z"
   },
   {
    "duration": 9,
    "start_time": "2021-12-20T17:47:03.933Z"
   },
   {
    "duration": 8,
    "start_time": "2021-12-20T18:04:17.502Z"
   },
   {
    "duration": 16,
    "start_time": "2021-12-20T18:14:31.992Z"
   },
   {
    "duration": 1092,
    "start_time": "2021-12-20T18:57:05.464Z"
   },
   {
    "duration": 2,
    "start_time": "2021-12-20T18:57:06.558Z"
   },
   {
    "duration": 33,
    "start_time": "2021-12-20T18:57:06.563Z"
   },
   {
    "duration": 44,
    "start_time": "2021-12-20T18:57:06.598Z"
   },
   {
    "duration": 24,
    "start_time": "2021-12-20T18:57:06.643Z"
   },
   {
    "duration": 3,
    "start_time": "2021-12-20T18:57:06.669Z"
   },
   {
    "duration": 16,
    "start_time": "2021-12-20T18:57:06.674Z"
   },
   {
    "duration": 13,
    "start_time": "2021-12-20T18:57:06.692Z"
   },
   {
    "duration": 11,
    "start_time": "2021-12-20T18:57:06.707Z"
   },
   {
    "duration": 10,
    "start_time": "2021-12-20T18:57:06.720Z"
   },
   {
    "duration": 9,
    "start_time": "2021-12-20T18:57:06.732Z"
   },
   {
    "duration": 7,
    "start_time": "2021-12-20T18:57:06.742Z"
   },
   {
    "duration": 216,
    "start_time": "2021-12-20T18:57:06.750Z"
   },
   {
    "duration": 161,
    "start_time": "2021-12-20T18:57:06.968Z"
   },
   {
    "duration": 6,
    "start_time": "2021-12-20T18:57:07.131Z"
   },
   {
    "duration": 365,
    "start_time": "2021-12-20T18:57:07.138Z"
   },
   {
    "duration": 345,
    "start_time": "2021-12-20T18:57:07.505Z"
   },
   {
    "duration": 466,
    "start_time": "2021-12-20T18:57:07.852Z"
   },
   {
    "duration": 335,
    "start_time": "2021-12-20T18:57:08.320Z"
   },
   {
    "duration": 477,
    "start_time": "2021-12-20T18:57:08.656Z"
   },
   {
    "duration": 106,
    "start_time": "2021-12-20T18:57:09.135Z"
   },
   {
    "duration": 320,
    "start_time": "2021-12-20T18:57:09.243Z"
   },
   {
    "duration": 444,
    "start_time": "2021-12-20T18:57:09.566Z"
   },
   {
    "duration": 5,
    "start_time": "2021-12-20T18:57:10.012Z"
   },
   {
    "duration": 568,
    "start_time": "2021-12-20T18:57:10.019Z"
   },
   {
    "duration": 471,
    "start_time": "2021-12-20T18:57:10.591Z"
   },
   {
    "duration": 454,
    "start_time": "2021-12-20T18:57:11.064Z"
   },
   {
    "duration": 5,
    "start_time": "2021-12-20T18:57:11.520Z"
   },
   {
    "duration": 121,
    "start_time": "2021-12-20T18:57:11.527Z"
   },
   {
    "duration": 9,
    "start_time": "2021-12-20T18:57:11.650Z"
   },
   {
    "duration": 5,
    "start_time": "2021-12-20T18:57:11.660Z"
   },
   {
    "duration": 25,
    "start_time": "2021-12-20T18:57:11.667Z"
   },
   {
    "duration": 11,
    "start_time": "2021-12-20T18:57:11.693Z"
   },
   {
    "duration": 7,
    "start_time": "2021-12-20T18:57:11.706Z"
   },
   {
    "duration": 8,
    "start_time": "2021-12-20T18:57:11.715Z"
   },
   {
    "duration": 7,
    "start_time": "2021-12-20T18:57:11.725Z"
   },
   {
    "duration": 12,
    "start_time": "2021-12-20T18:57:11.734Z"
   },
   {
    "duration": 1835,
    "start_time": "2021-12-21T09:27:59.947Z"
   },
   {
    "duration": 4,
    "start_time": "2021-12-21T09:28:01.784Z"
   },
   {
    "duration": 44,
    "start_time": "2021-12-21T09:28:01.791Z"
   },
   {
    "duration": 82,
    "start_time": "2021-12-21T09:28:01.838Z"
   },
   {
    "duration": 38,
    "start_time": "2021-12-21T09:28:01.922Z"
   },
   {
    "duration": 4,
    "start_time": "2021-12-21T09:28:01.962Z"
   },
   {
    "duration": 28,
    "start_time": "2021-12-21T09:28:01.968Z"
   },
   {
    "duration": 29,
    "start_time": "2021-12-21T09:28:01.999Z"
   },
   {
    "duration": 22,
    "start_time": "2021-12-21T09:28:02.030Z"
   },
   {
    "duration": 13,
    "start_time": "2021-12-21T09:28:02.053Z"
   },
   {
    "duration": 28,
    "start_time": "2021-12-21T09:28:02.067Z"
   },
   {
    "duration": 45,
    "start_time": "2021-12-21T09:28:02.097Z"
   },
   {
    "duration": 209,
    "start_time": "2021-12-21T09:28:02.144Z"
   },
   {
    "duration": 172,
    "start_time": "2021-12-21T09:28:02.355Z"
   },
   {
    "duration": 13,
    "start_time": "2021-12-21T09:28:02.529Z"
   },
   {
    "duration": 393,
    "start_time": "2021-12-21T09:28:02.544Z"
   },
   {
    "duration": 373,
    "start_time": "2021-12-21T09:28:02.939Z"
   },
   {
    "duration": 518,
    "start_time": "2021-12-21T09:28:03.314Z"
   },
   {
    "duration": 349,
    "start_time": "2021-12-21T09:28:03.834Z"
   },
   {
    "duration": 475,
    "start_time": "2021-12-21T09:28:04.185Z"
   },
   {
    "duration": 141,
    "start_time": "2021-12-21T09:28:04.662Z"
   },
   {
    "duration": 323,
    "start_time": "2021-12-21T09:28:04.806Z"
   },
   {
    "duration": 542,
    "start_time": "2021-12-21T09:28:05.133Z"
   },
   {
    "duration": 5,
    "start_time": "2021-12-21T09:28:05.678Z"
   },
   {
    "duration": 584,
    "start_time": "2021-12-21T09:28:05.685Z"
   },
   {
    "duration": 428,
    "start_time": "2021-12-21T09:28:06.270Z"
   },
   {
    "duration": 444,
    "start_time": "2021-12-21T09:28:06.700Z"
   },
   {
    "duration": 4,
    "start_time": "2021-12-21T09:28:07.146Z"
   },
   {
    "duration": 149,
    "start_time": "2021-12-21T09:28:07.152Z"
   },
   {
    "duration": 8,
    "start_time": "2021-12-21T09:28:07.303Z"
   },
   {
    "duration": 9,
    "start_time": "2021-12-21T09:28:07.313Z"
   },
   {
    "duration": 24,
    "start_time": "2021-12-21T09:28:07.323Z"
   },
   {
    "duration": 13,
    "start_time": "2021-12-21T09:28:07.349Z"
   },
   {
    "duration": 10,
    "start_time": "2021-12-21T09:28:07.364Z"
   },
   {
    "duration": 15,
    "start_time": "2021-12-21T09:28:07.376Z"
   },
   {
    "duration": 13,
    "start_time": "2021-12-21T09:28:07.393Z"
   },
   {
    "duration": 44,
    "start_time": "2021-12-21T09:28:07.408Z"
   },
   {
    "duration": 1404,
    "start_time": "2021-12-23T14:40:16.589Z"
   },
   {
    "duration": 4,
    "start_time": "2021-12-23T14:40:17.996Z"
   },
   {
    "duration": 56,
    "start_time": "2021-12-23T14:40:18.003Z"
   },
   {
    "duration": 48,
    "start_time": "2021-12-23T14:40:18.062Z"
   },
   {
    "duration": 33,
    "start_time": "2021-12-23T14:40:18.113Z"
   },
   {
    "duration": 12,
    "start_time": "2021-12-23T14:40:18.149Z"
   },
   {
    "duration": 41,
    "start_time": "2021-12-23T14:40:18.163Z"
   },
   {
    "duration": 40,
    "start_time": "2021-12-23T14:40:18.208Z"
   },
   {
    "duration": 42,
    "start_time": "2021-12-23T14:40:18.252Z"
   },
   {
    "duration": 31,
    "start_time": "2021-12-23T14:40:18.297Z"
   },
   {
    "duration": 38,
    "start_time": "2021-12-23T14:40:18.331Z"
   },
   {
    "duration": 25,
    "start_time": "2021-12-23T14:40:18.371Z"
   },
   {
    "duration": 344,
    "start_time": "2021-12-23T14:40:18.398Z"
   },
   {
    "duration": 280,
    "start_time": "2021-12-23T14:40:18.744Z"
   },
   {
    "duration": 9,
    "start_time": "2021-12-23T14:40:19.026Z"
   },
   {
    "duration": 560,
    "start_time": "2021-12-23T14:40:19.037Z"
   },
   {
    "duration": 534,
    "start_time": "2021-12-23T14:40:19.599Z"
   },
   {
    "duration": 645,
    "start_time": "2021-12-23T14:40:20.135Z"
   },
   {
    "duration": 504,
    "start_time": "2021-12-23T14:40:20.783Z"
   },
   {
    "duration": 832,
    "start_time": "2021-12-23T14:40:21.291Z"
   },
   {
    "duration": 208,
    "start_time": "2021-12-23T14:40:22.126Z"
   },
   {
    "duration": 476,
    "start_time": "2021-12-23T14:40:22.337Z"
   },
   {
    "duration": 578,
    "start_time": "2021-12-23T14:40:22.823Z"
   },
   {
    "duration": 6,
    "start_time": "2021-12-23T14:40:23.404Z"
   },
   {
    "duration": 854,
    "start_time": "2021-12-23T14:40:23.424Z"
   },
   {
    "duration": 642,
    "start_time": "2021-12-23T14:40:24.281Z"
   },
   {
    "duration": 655,
    "start_time": "2021-12-23T14:40:24.926Z"
   },
   {
    "duration": 8,
    "start_time": "2021-12-23T14:40:25.584Z"
   },
   {
    "duration": 278,
    "start_time": "2021-12-23T14:40:25.594Z"
   },
   {
    "duration": 11,
    "start_time": "2021-12-23T14:40:25.874Z"
   },
   {
    "duration": 24,
    "start_time": "2021-12-23T14:40:25.887Z"
   },
   {
    "duration": 11,
    "start_time": "2021-12-23T14:40:25.924Z"
   },
   {
    "duration": 31,
    "start_time": "2021-12-23T14:40:25.937Z"
   },
   {
    "duration": 12,
    "start_time": "2021-12-23T14:40:25.970Z"
   },
   {
    "duration": 54,
    "start_time": "2021-12-23T14:40:25.984Z"
   },
   {
    "duration": 18,
    "start_time": "2021-12-23T14:40:26.040Z"
   },
   {
    "duration": 19,
    "start_time": "2021-12-23T14:40:26.061Z"
   },
   {
    "duration": 755,
    "start_time": "2021-12-23T16:54:35.586Z"
   },
   {
    "duration": 17,
    "start_time": "2021-12-23T16:55:14.750Z"
   },
   {
    "duration": 16,
    "start_time": "2021-12-23T16:55:33.413Z"
   },
   {
    "duration": 13,
    "start_time": "2021-12-23T16:55:49.874Z"
   },
   {
    "duration": 21,
    "start_time": "2021-12-23T16:56:11.642Z"
   },
   {
    "duration": 8668,
    "start_time": "2021-12-23T16:57:24.554Z"
   },
   {
    "duration": 9635,
    "start_time": "2021-12-23T16:58:38.171Z"
   },
   {
    "duration": 18,
    "start_time": "2021-12-23T16:59:07.215Z"
   },
   {
    "duration": 13,
    "start_time": "2021-12-23T17:00:08.001Z"
   },
   {
    "duration": 13,
    "start_time": "2021-12-23T17:03:31.846Z"
   },
   {
    "duration": 523,
    "start_time": "2021-12-23T17:03:52.936Z"
   },
   {
    "duration": 16,
    "start_time": "2021-12-23T17:04:28.068Z"
   },
   {
    "duration": 11,
    "start_time": "2021-12-23T17:30:37.979Z"
   },
   {
    "duration": 25,
    "start_time": "2021-12-23T17:31:32.340Z"
   },
   {
    "duration": 31,
    "start_time": "2021-12-23T17:32:17.351Z"
   },
   {
    "duration": 12,
    "start_time": "2021-12-23T17:32:57.617Z"
   },
   {
    "duration": 25,
    "start_time": "2021-12-23T17:33:57.861Z"
   },
   {
    "duration": 40,
    "start_time": "2021-12-23T17:34:50.765Z"
   },
   {
    "duration": 1376,
    "start_time": "2021-12-23T17:38:22.426Z"
   },
   {
    "duration": 5,
    "start_time": "2021-12-23T17:38:23.805Z"
   },
   {
    "duration": 36,
    "start_time": "2021-12-23T17:38:23.825Z"
   },
   {
    "duration": 63,
    "start_time": "2021-12-23T17:38:23.864Z"
   },
   {
    "duration": 28,
    "start_time": "2021-12-23T17:38:23.930Z"
   },
   {
    "duration": 5,
    "start_time": "2021-12-23T17:38:23.961Z"
   },
   {
    "duration": 25,
    "start_time": "2021-12-23T17:38:23.969Z"
   },
   {
    "duration": 33,
    "start_time": "2021-12-23T17:38:23.998Z"
   },
   {
    "duration": 13,
    "start_time": "2021-12-23T17:38:24.033Z"
   },
   {
    "duration": 8,
    "start_time": "2021-12-23T17:38:24.048Z"
   },
   {
    "duration": 21,
    "start_time": "2021-12-23T17:38:24.058Z"
   },
   {
    "duration": 55,
    "start_time": "2021-12-23T17:38:24.082Z"
   },
   {
    "duration": 16,
    "start_time": "2021-12-23T17:38:24.139Z"
   },
   {
    "duration": 10,
    "start_time": "2021-12-23T17:38:24.158Z"
   },
   {
    "duration": 336,
    "start_time": "2021-12-23T17:38:24.170Z"
   },
   {
    "duration": 253,
    "start_time": "2021-12-23T17:38:24.508Z"
   },
   {
    "duration": 10,
    "start_time": "2021-12-23T17:38:24.763Z"
   },
   {
    "duration": 542,
    "start_time": "2021-12-23T17:38:24.775Z"
   },
   {
    "duration": 541,
    "start_time": "2021-12-23T17:38:25.323Z"
   },
   {
    "duration": 664,
    "start_time": "2021-12-23T17:38:25.866Z"
   },
   {
    "duration": 504,
    "start_time": "2021-12-23T17:38:26.533Z"
   },
   {
    "duration": 608,
    "start_time": "2021-12-23T17:38:27.040Z"
   },
   {
    "duration": 221,
    "start_time": "2021-12-23T17:38:27.653Z"
   },
   {
    "duration": 522,
    "start_time": "2021-12-23T17:38:27.877Z"
   },
   {
    "duration": 605,
    "start_time": "2021-12-23T17:38:28.402Z"
   },
   {
    "duration": 13,
    "start_time": "2021-12-23T17:38:29.010Z"
   },
   {
    "duration": 837,
    "start_time": "2021-12-23T17:38:29.026Z"
   },
   {
    "duration": 593,
    "start_time": "2021-12-23T17:38:29.866Z"
   },
   {
    "duration": 544,
    "start_time": "2021-12-23T17:38:30.462Z"
   },
   {
    "duration": 15,
    "start_time": "2021-12-23T17:38:31.008Z"
   },
   {
    "duration": 220,
    "start_time": "2021-12-23T17:38:31.026Z"
   },
   {
    "duration": 11,
    "start_time": "2021-12-23T17:38:31.248Z"
   },
   {
    "duration": 25,
    "start_time": "2021-12-23T17:38:31.261Z"
   },
   {
    "duration": 28,
    "start_time": "2021-12-23T17:38:31.288Z"
   },
   {
    "duration": 27,
    "start_time": "2021-12-23T17:38:31.319Z"
   },
   {
    "duration": 28,
    "start_time": "2021-12-23T17:38:31.349Z"
   },
   {
    "duration": 25,
    "start_time": "2021-12-23T17:38:31.380Z"
   },
   {
    "duration": 38,
    "start_time": "2021-12-23T17:38:31.407Z"
   },
   {
    "duration": 40,
    "start_time": "2021-12-23T17:38:31.447Z"
   },
   {
    "duration": 15,
    "start_time": "2021-12-23T17:40:16.532Z"
   },
   {
    "duration": 937,
    "start_time": "2021-12-23T17:59:57.502Z"
   },
   {
    "duration": 18,
    "start_time": "2021-12-23T18:00:19.525Z"
   },
   {
    "duration": 11,
    "start_time": "2021-12-23T18:37:17.456Z"
   },
   {
    "duration": 1300,
    "start_time": "2021-12-23T18:38:16.176Z"
   },
   {
    "duration": 4,
    "start_time": "2021-12-23T18:38:17.479Z"
   },
   {
    "duration": 38,
    "start_time": "2021-12-23T18:38:17.486Z"
   },
   {
    "duration": 48,
    "start_time": "2021-12-23T18:38:17.527Z"
   },
   {
    "duration": 28,
    "start_time": "2021-12-23T18:38:17.578Z"
   },
   {
    "duration": 4,
    "start_time": "2021-12-23T18:38:17.608Z"
   },
   {
    "duration": 27,
    "start_time": "2021-12-23T18:38:17.614Z"
   },
   {
    "duration": 13,
    "start_time": "2021-12-23T18:38:17.645Z"
   },
   {
    "duration": 11,
    "start_time": "2021-12-23T18:38:17.661Z"
   },
   {
    "duration": 7,
    "start_time": "2021-12-23T18:38:17.675Z"
   },
   {
    "duration": 53,
    "start_time": "2021-12-23T18:38:17.685Z"
   },
   {
    "duration": 17,
    "start_time": "2021-12-23T18:38:17.741Z"
   },
   {
    "duration": 715,
    "start_time": "2021-12-23T18:38:17.761Z"
   },
   {
    "duration": 9,
    "start_time": "2021-12-23T18:38:18.478Z"
   },
   {
    "duration": 327,
    "start_time": "2021-12-23T18:38:18.489Z"
   },
   {
    "duration": 289,
    "start_time": "2021-12-23T18:38:18.818Z"
   },
   {
    "duration": 19,
    "start_time": "2021-12-23T18:38:19.110Z"
   },
   {
    "duration": 524,
    "start_time": "2021-12-23T18:38:19.132Z"
   },
   {
    "duration": 512,
    "start_time": "2021-12-23T18:38:19.659Z"
   },
   {
    "duration": 664,
    "start_time": "2021-12-23T18:38:20.174Z"
   },
   {
    "duration": 518,
    "start_time": "2021-12-23T18:38:20.840Z"
   },
   {
    "duration": 610,
    "start_time": "2021-12-23T18:38:21.361Z"
   },
   {
    "duration": 234,
    "start_time": "2021-12-23T18:38:21.976Z"
   },
   {
    "duration": 461,
    "start_time": "2021-12-23T18:38:22.225Z"
   },
   {
    "duration": 667,
    "start_time": "2021-12-23T18:38:22.689Z"
   },
   {
    "duration": 7,
    "start_time": "2021-12-23T18:38:23.358Z"
   },
   {
    "duration": 751,
    "start_time": "2021-12-23T18:38:23.368Z"
   },
   {
    "duration": 579,
    "start_time": "2021-12-23T18:38:24.124Z"
   },
   {
    "duration": 610,
    "start_time": "2021-12-23T18:38:24.705Z"
   },
   {
    "duration": 10,
    "start_time": "2021-12-23T18:38:25.318Z"
   },
   {
    "duration": 224,
    "start_time": "2021-12-23T18:38:25.330Z"
   },
   {
    "duration": 10,
    "start_time": "2021-12-23T18:38:25.556Z"
   },
   {
    "duration": 19,
    "start_time": "2021-12-23T18:38:25.568Z"
   },
   {
    "duration": 10,
    "start_time": "2021-12-23T18:38:25.589Z"
   },
   {
    "duration": 34,
    "start_time": "2021-12-23T18:38:25.601Z"
   },
   {
    "duration": 25,
    "start_time": "2021-12-23T18:38:25.638Z"
   },
   {
    "duration": 29,
    "start_time": "2021-12-23T18:38:25.665Z"
   },
   {
    "duration": 20,
    "start_time": "2021-12-23T18:38:25.696Z"
   },
   {
    "duration": 34,
    "start_time": "2021-12-23T18:38:25.723Z"
   },
   {
    "duration": 1731,
    "start_time": "2021-12-23T18:43:33.818Z"
   },
   {
    "duration": 60,
    "start_time": "2021-12-23T18:46:52.200Z"
   },
   {
    "duration": 679,
    "start_time": "2021-12-23T18:52:31.083Z"
   },
   {
    "duration": 718,
    "start_time": "2021-12-23T18:55:38.959Z"
   },
   {
    "duration": 845,
    "start_time": "2021-12-23T19:19:00.890Z"
   },
   {
    "duration": 384,
    "start_time": "2021-12-23T19:20:29.998Z"
   },
   {
    "duration": 14,
    "start_time": "2021-12-23T19:26:29.014Z"
   },
   {
    "duration": 1010,
    "start_time": "2021-12-27T15:14:40.348Z"
   },
   {
    "duration": 2,
    "start_time": "2021-12-27T15:14:41.360Z"
   },
   {
    "duration": 27,
    "start_time": "2021-12-27T15:14:41.364Z"
   },
   {
    "duration": 59,
    "start_time": "2021-12-27T15:14:41.393Z"
   },
   {
    "duration": 22,
    "start_time": "2021-12-27T15:14:41.454Z"
   },
   {
    "duration": 3,
    "start_time": "2021-12-27T15:14:41.477Z"
   },
   {
    "duration": 15,
    "start_time": "2021-12-27T15:14:41.481Z"
   },
   {
    "duration": 9,
    "start_time": "2021-12-27T15:14:41.498Z"
   },
   {
    "duration": 7,
    "start_time": "2021-12-27T15:14:41.509Z"
   },
   {
    "duration": 9,
    "start_time": "2021-12-27T15:14:41.518Z"
   },
   {
    "duration": 11,
    "start_time": "2021-12-27T15:14:41.529Z"
   },
   {
    "duration": 8,
    "start_time": "2021-12-27T15:14:41.542Z"
   },
   {
    "duration": 470,
    "start_time": "2021-12-27T15:14:41.552Z"
   },
   {
    "duration": 6,
    "start_time": "2021-12-27T15:14:42.024Z"
   },
   {
    "duration": 177,
    "start_time": "2021-12-27T15:14:42.032Z"
   },
   {
    "duration": 148,
    "start_time": "2021-12-27T15:14:42.210Z"
   },
   {
    "duration": 6,
    "start_time": "2021-12-27T15:14:42.360Z"
   },
   {
    "duration": 372,
    "start_time": "2021-12-27T15:14:42.367Z"
   },
   {
    "duration": 304,
    "start_time": "2021-12-27T15:14:42.740Z"
   },
   {
    "duration": 461,
    "start_time": "2021-12-27T15:14:43.046Z"
   },
   {
    "duration": 300,
    "start_time": "2021-12-27T15:14:43.509Z"
   },
   {
    "duration": 523,
    "start_time": "2021-12-27T15:14:43.811Z"
   },
   {
    "duration": 135,
    "start_time": "2021-12-27T15:14:44.337Z"
   },
   {
    "duration": 291,
    "start_time": "2021-12-27T15:14:44.475Z"
   },
   {
    "duration": 364,
    "start_time": "2021-12-27T15:14:44.768Z"
   },
   {
    "duration": 4,
    "start_time": "2021-12-27T15:14:45.133Z"
   },
   {
    "duration": 430,
    "start_time": "2021-12-27T15:14:45.138Z"
   },
   {
    "duration": 355,
    "start_time": "2021-12-27T15:14:45.569Z"
   },
   {
    "duration": 398,
    "start_time": "2021-12-27T15:14:45.925Z"
   },
   {
    "duration": 4,
    "start_time": "2021-12-27T15:14:46.325Z"
   },
   {
    "duration": 103,
    "start_time": "2021-12-27T15:14:46.330Z"
   },
   {
    "duration": 7,
    "start_time": "2021-12-27T15:14:46.434Z"
   },
   {
    "duration": 4,
    "start_time": "2021-12-27T15:14:46.443Z"
   },
   {
    "duration": 10,
    "start_time": "2021-12-27T15:14:46.449Z"
   },
   {
    "duration": 11,
    "start_time": "2021-12-27T15:14:46.460Z"
   },
   {
    "duration": 9,
    "start_time": "2021-12-27T15:14:46.472Z"
   },
   {
    "duration": 9,
    "start_time": "2021-12-27T15:14:46.483Z"
   },
   {
    "duration": 41,
    "start_time": "2021-12-27T15:14:46.494Z"
   },
   {
    "duration": 13,
    "start_time": "2021-12-27T15:14:46.537Z"
   },
   {
    "duration": 1044,
    "start_time": "2021-12-27T16:05:35.712Z"
   },
   {
    "duration": 3,
    "start_time": "2021-12-27T16:05:36.757Z"
   },
   {
    "duration": 28,
    "start_time": "2021-12-27T16:05:36.762Z"
   },
   {
    "duration": 48,
    "start_time": "2021-12-27T16:05:36.792Z"
   },
   {
    "duration": 22,
    "start_time": "2021-12-27T16:05:36.842Z"
   },
   {
    "duration": 3,
    "start_time": "2021-12-27T16:05:36.866Z"
   },
   {
    "duration": 15,
    "start_time": "2021-12-27T16:05:36.871Z"
   },
   {
    "duration": 9,
    "start_time": "2021-12-27T16:05:36.889Z"
   },
   {
    "duration": 32,
    "start_time": "2021-12-27T16:05:36.900Z"
   },
   {
    "duration": 6,
    "start_time": "2021-12-27T16:05:36.934Z"
   },
   {
    "duration": 10,
    "start_time": "2021-12-27T16:05:36.942Z"
   },
   {
    "duration": 9,
    "start_time": "2021-12-27T16:05:36.954Z"
   },
   {
    "duration": 477,
    "start_time": "2021-12-27T16:05:36.964Z"
   },
   {
    "duration": 7,
    "start_time": "2021-12-27T16:05:37.443Z"
   },
   {
    "duration": 184,
    "start_time": "2021-12-27T16:05:37.451Z"
   },
   {
    "duration": 155,
    "start_time": "2021-12-27T16:05:37.636Z"
   },
   {
    "duration": 6,
    "start_time": "2021-12-27T16:05:37.793Z"
   },
   {
    "duration": 367,
    "start_time": "2021-12-27T16:05:37.801Z"
   },
   {
    "duration": 310,
    "start_time": "2021-12-27T16:05:38.169Z"
   },
   {
    "duration": 472,
    "start_time": "2021-12-27T16:05:38.481Z"
   },
   {
    "duration": 286,
    "start_time": "2021-12-27T16:05:38.955Z"
   },
   {
    "duration": 389,
    "start_time": "2021-12-27T16:05:39.242Z"
   },
   {
    "duration": 117,
    "start_time": "2021-12-27T16:05:39.634Z"
   },
   {
    "duration": 276,
    "start_time": "2021-12-27T16:05:39.753Z"
   },
   {
    "duration": 390,
    "start_time": "2021-12-27T16:05:40.031Z"
   },
   {
    "duration": 5,
    "start_time": "2021-12-27T16:05:40.422Z"
   },
   {
    "duration": 426,
    "start_time": "2021-12-27T16:05:40.429Z"
   },
   {
    "duration": 373,
    "start_time": "2021-12-27T16:05:40.857Z"
   },
   {
    "duration": 401,
    "start_time": "2021-12-27T16:05:41.232Z"
   },
   {
    "duration": 4,
    "start_time": "2021-12-27T16:05:41.634Z"
   },
   {
    "duration": 104,
    "start_time": "2021-12-27T16:05:41.639Z"
   },
   {
    "duration": 7,
    "start_time": "2021-12-27T16:05:41.745Z"
   },
   {
    "duration": 4,
    "start_time": "2021-12-27T16:05:41.753Z"
   },
   {
    "duration": 10,
    "start_time": "2021-12-27T16:05:41.759Z"
   },
   {
    "duration": 10,
    "start_time": "2021-12-27T16:05:41.770Z"
   },
   {
    "duration": 8,
    "start_time": "2021-12-27T16:05:41.781Z"
   },
   {
    "duration": 10,
    "start_time": "2021-12-27T16:05:41.790Z"
   },
   {
    "duration": 32,
    "start_time": "2021-12-27T16:05:41.802Z"
   },
   {
    "duration": 12,
    "start_time": "2021-12-27T16:05:41.835Z"
   },
   {
    "duration": 7,
    "start_time": "2021-12-27T18:57:00.677Z"
   }
  ],
  "kernelspec": {
   "display_name": "Python 3 (ipykernel)",
   "language": "python",
   "name": "python3"
  },
  "language_info": {
   "codemirror_mode": {
    "name": "ipython",
    "version": 3
   },
   "file_extension": ".py",
   "mimetype": "text/x-python",
   "name": "python",
   "nbconvert_exporter": "python",
   "pygments_lexer": "ipython3",
   "version": "3.9.7"
  },
  "toc": {
   "base_numbering": 1,
   "nav_menu": {},
   "number_sections": true,
   "sideBar": true,
   "skip_h1_title": true,
   "title_cell": "Table of Contents",
   "title_sidebar": "Contents",
   "toc_cell": false,
   "toc_position": {
    "height": "calc(100% - 180px)",
    "left": "10px",
    "top": "150px",
    "width": "165.391px"
   },
   "toc_section_display": true,
   "toc_window_display": false
  }
 },
 "nbformat": 4,
 "nbformat_minor": 2
}
