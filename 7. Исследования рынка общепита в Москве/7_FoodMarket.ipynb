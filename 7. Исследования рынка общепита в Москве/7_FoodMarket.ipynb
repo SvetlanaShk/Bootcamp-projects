{
 "cells": [
  {
   "cell_type": "markdown",
   "metadata": {},
   "source": [
    "# Рынок заведений общественного питания Москвы"
   ]
  },
  {
   "cell_type": "markdown",
   "metadata": {},
   "source": [
    "## Описание данных"
   ]
  },
  {
   "cell_type": "markdown",
   "metadata": {},
   "source": [
    "Мы решили открыть небольшое кафе в Москве, где гостей должны обслуживать роботы. Необходимо исследовать текущее положение дел на рынке и показать потенциальным инвесторам, сможет ли такое кафе снискать популярность на долгое время, когда все зеваки насмотрятся на роботов-официантов?\n",
    "\n",
    "У нас есть открытые данные о заведениях общественного питания в Москве - таблица rest_data:\n",
    "- id — идентификатор объекта;\n",
    "- object_name — название объекта общественного питания;\n",
    "- chain — сетевой ресторан;\n",
    "- object_type — тип объекта общественного питания;\n",
    "- address — адрес;\n",
    "- number — количество посадочных мест."
   ]
  },
  {
   "cell_type": "markdown",
   "metadata": {},
   "source": [
    "## Загрузка данных и их подготовка"
   ]
  },
  {
   "cell_type": "markdown",
   "metadata": {},
   "source": [
    "Импорт библиотек и настройки:"
   ]
  },
  {
   "cell_type": "code",
   "execution_count": 1,
   "metadata": {},
   "outputs": [],
   "source": [
    "import pandas as pd\n",
    "import seaborn as sns\n",
    "from matplotlib import pyplot as plt\n",
    "import re\n",
    "from io import BytesIO\n",
    "import requests\n",
    "import warnings\n",
    "warnings.filterwarnings('ignore')\n",
    "pd.set_option('display.max_colwidth', 180)"
   ]
  },
  {
   "cell_type": "markdown",
   "metadata": {},
   "source": [
    "Сохранение данных о заведениях общественного питания в переменные. Просмотр информации о датафрейме и вывод на экран нескольких строк из таблицы для ознакомления с данными."
   ]
  },
  {
   "cell_type": "code",
   "execution_count": 2,
   "metadata": {},
   "outputs": [
    {
     "name": "stdout",
     "output_type": "stream",
     "text": [
      "<class 'pandas.core.frame.DataFrame'>\n",
      "RangeIndex: 15366 entries, 0 to 15365\n",
      "Data columns (total 6 columns):\n",
      "id             15366 non-null int64\n",
      "object_name    15366 non-null object\n",
      "chain          15366 non-null object\n",
      "object_type    15366 non-null object\n",
      "address        15366 non-null object\n",
      "number         15366 non-null int64\n",
      "dtypes: int64(2), object(4)\n",
      "memory usage: 720.4+ KB\n"
     ]
    },
    {
     "data": {
      "text/html": [
       "<div>\n",
       "<style scoped>\n",
       "    .dataframe tbody tr th:only-of-type {\n",
       "        vertical-align: middle;\n",
       "    }\n",
       "\n",
       "    .dataframe tbody tr th {\n",
       "        vertical-align: top;\n",
       "    }\n",
       "\n",
       "    .dataframe thead th {\n",
       "        text-align: right;\n",
       "    }\n",
       "</style>\n",
       "<table border=\"1\" class=\"dataframe\">\n",
       "  <thead>\n",
       "    <tr style=\"text-align: right;\">\n",
       "      <th></th>\n",
       "      <th>id</th>\n",
       "      <th>object_name</th>\n",
       "      <th>chain</th>\n",
       "      <th>object_type</th>\n",
       "      <th>address</th>\n",
       "      <th>number</th>\n",
       "    </tr>\n",
       "  </thead>\n",
       "  <tbody>\n",
       "    <tr>\n",
       "      <td>2973</td>\n",
       "      <td>22736</td>\n",
       "      <td>Луна</td>\n",
       "      <td>нет</td>\n",
       "      <td>кафе</td>\n",
       "      <td>город Москва, Михалковская улица, дом 38, строение 6</td>\n",
       "      <td>40</td>\n",
       "    </tr>\n",
       "    <tr>\n",
       "      <td>2593</td>\n",
       "      <td>29065</td>\n",
       "      <td>Столовая ГБОУ 45 Гимназия имени Л.И. Мильграмма</td>\n",
       "      <td>нет</td>\n",
       "      <td>столовая</td>\n",
       "      <td>город Москва, улица Гримау, дом 8</td>\n",
       "      <td>300</td>\n",
       "    </tr>\n",
       "    <tr>\n",
       "      <td>6737</td>\n",
       "      <td>23349</td>\n",
       "      <td>Столовая ГБОУ СОШ № 1900</td>\n",
       "      <td>нет</td>\n",
       "      <td>столовая</td>\n",
       "      <td>город Москва, Дубравная улица, дом 41, корпус 4</td>\n",
       "      <td>240</td>\n",
       "    </tr>\n",
       "    <tr>\n",
       "      <td>14940</td>\n",
       "      <td>222539</td>\n",
       "      <td>Holy Vegan</td>\n",
       "      <td>нет</td>\n",
       "      <td>кафе</td>\n",
       "      <td>город Москва, Ходынский бульвар, дом 4</td>\n",
       "      <td>0</td>\n",
       "    </tr>\n",
       "    <tr>\n",
       "      <td>4088</td>\n",
       "      <td>26585</td>\n",
       "      <td>Ресторан «Очаг гурманов»</td>\n",
       "      <td>нет</td>\n",
       "      <td>ресторан</td>\n",
       "      <td>город Москва, Каширское шоссе, дом 51, корпус 3</td>\n",
       "      <td>42</td>\n",
       "    </tr>\n",
       "    <tr>\n",
       "      <td>5910</td>\n",
       "      <td>28867</td>\n",
       "      <td>школа 775</td>\n",
       "      <td>нет</td>\n",
       "      <td>буфет</td>\n",
       "      <td>город Москва, Армавирская улица, дом 4</td>\n",
       "      <td>210</td>\n",
       "    </tr>\n",
       "    <tr>\n",
       "      <td>10541</td>\n",
       "      <td>187743</td>\n",
       "      <td>24 Градуса</td>\n",
       "      <td>нет</td>\n",
       "      <td>бар</td>\n",
       "      <td>город Москва, Митинская улица, дом 36</td>\n",
       "      <td>4</td>\n",
       "    </tr>\n",
       "    <tr>\n",
       "      <td>14563</td>\n",
       "      <td>217236</td>\n",
       "      <td>Чайхана ОШ</td>\n",
       "      <td>нет</td>\n",
       "      <td>ресторан</td>\n",
       "      <td>город Москва, проспект Андропова, дом 36</td>\n",
       "      <td>49</td>\n",
       "    </tr>\n",
       "    <tr>\n",
       "      <td>10497</td>\n",
       "      <td>182718</td>\n",
       "      <td>ABC Coffee Roasters</td>\n",
       "      <td>нет</td>\n",
       "      <td>кафе</td>\n",
       "      <td>город Москва, улица Покровка, дом 7/9-11, корпус 1</td>\n",
       "      <td>15</td>\n",
       "    </tr>\n",
       "    <tr>\n",
       "      <td>7708</td>\n",
       "      <td>111069</td>\n",
       "      <td>Кафе Иль Патио «Il Patio»</td>\n",
       "      <td>да</td>\n",
       "      <td>кафе</td>\n",
       "      <td>город Москва, Каширское шоссе, дом 26</td>\n",
       "      <td>176</td>\n",
       "    </tr>\n",
       "  </tbody>\n",
       "</table>\n",
       "</div>"
      ],
      "text/plain": [
       "           id                                      object_name chain  \\\n",
       "2973    22736                                             Луна   нет   \n",
       "2593    29065  Столовая ГБОУ 45 Гимназия имени Л.И. Мильграмма   нет   \n",
       "6737    23349                         Столовая ГБОУ СОШ № 1900   нет   \n",
       "14940  222539                                       Holy Vegan   нет   \n",
       "4088    26585                         Ресторан «Очаг гурманов»   нет   \n",
       "5910    28867                                        школа 775   нет   \n",
       "10541  187743                                       24 Градуса   нет   \n",
       "14563  217236                                       Чайхана ОШ   нет   \n",
       "10497  182718                              ABC Coffee Roasters   нет   \n",
       "7708   111069                        Кафе Иль Патио «Il Patio»    да   \n",
       "\n",
       "      object_type                                               address  \\\n",
       "2973         кафе  город Москва, Михалковская улица, дом 38, строение 6   \n",
       "2593     столовая                     город Москва, улица Гримау, дом 8   \n",
       "6737     столовая       город Москва, Дубравная улица, дом 41, корпус 4   \n",
       "14940        кафе                город Москва, Ходынский бульвар, дом 4   \n",
       "4088     ресторан       город Москва, Каширское шоссе, дом 51, корпус 3   \n",
       "5910        буфет                город Москва, Армавирская улица, дом 4   \n",
       "10541         бар                 город Москва, Митинская улица, дом 36   \n",
       "14563    ресторан              город Москва, проспект Андропова, дом 36   \n",
       "10497        кафе    город Москва, улица Покровка, дом 7/9-11, корпус 1   \n",
       "7708         кафе                 город Москва, Каширское шоссе, дом 26   \n",
       "\n",
       "       number  \n",
       "2973       40  \n",
       "2593      300  \n",
       "6737      240  \n",
       "14940       0  \n",
       "4088       42  \n",
       "5910      210  \n",
       "10541       4  \n",
       "14563      49  \n",
       "10497      15  \n",
       "7708      176  "
      ]
     },
     "execution_count": 2,
     "metadata": {},
     "output_type": "execute_result"
    }
   ],
   "source": [
    "rest_data = pd.read_csv('/datasets/rest_data.csv')\n",
    "rest_data.info()\n",
    "rest_data.sample(n=10, random_state=1)"
   ]
  },
  {
   "cell_type": "markdown",
   "metadata": {},
   "source": [
    "Проверка датафрейма на наличие дубликатов:"
   ]
  },
  {
   "cell_type": "code",
   "execution_count": 3,
   "metadata": {},
   "outputs": [
    {
     "name": "stdout",
     "output_type": "stream",
     "text": [
      "Количество дубликатов в датафрейме: 0\n"
     ]
    }
   ],
   "source": [
    "print('Количество дубликатов в датафрейме:', rest_data.duplicated().sum())"
   ]
  },
  {
   "cell_type": "markdown",
   "metadata": {},
   "source": [
    "**Вывод**\n",
    "\n",
    "Из выведенной информации видно, что в таблице нет пропущенных значений, а типы данных столбцов соответствуют содержащейся в них информации. Кроме того, была проведена проверка на наличие дубликатов - дубликаты обнаружены не были. Таким образом мы подготовили датафрейм для дальнейшей работы."
   ]
  },
  {
   "cell_type": "markdown",
   "metadata": {},
   "source": [
    "## Анализ данных"
   ]
  },
  {
   "cell_type": "markdown",
   "metadata": {},
   "source": [
    "### Исследование видов объектов общественного питания"
   ]
  },
  {
   "cell_type": "markdown",
   "metadata": {},
   "source": [
    "Посмотрим количество объектов общественного питания по каждому виду:"
   ]
  },
  {
   "cell_type": "code",
   "execution_count": 4,
   "metadata": {},
   "outputs": [
    {
     "data": {
      "text/html": [
       "<div>\n",
       "<style scoped>\n",
       "    .dataframe tbody tr th:only-of-type {\n",
       "        vertical-align: middle;\n",
       "    }\n",
       "\n",
       "    .dataframe tbody tr th {\n",
       "        vertical-align: top;\n",
       "    }\n",
       "\n",
       "    .dataframe thead th {\n",
       "        text-align: right;\n",
       "    }\n",
       "</style>\n",
       "<table border=\"1\" class=\"dataframe\">\n",
       "  <thead>\n",
       "    <tr style=\"text-align: right;\">\n",
       "      <th></th>\n",
       "      <th>Вид объекта общественного питания</th>\n",
       "      <th>Количество</th>\n",
       "    </tr>\n",
       "  </thead>\n",
       "  <tbody>\n",
       "    <tr>\n",
       "      <td>0</td>\n",
       "      <td>кафе</td>\n",
       "      <td>6099</td>\n",
       "    </tr>\n",
       "    <tr>\n",
       "      <td>1</td>\n",
       "      <td>столовая</td>\n",
       "      <td>2587</td>\n",
       "    </tr>\n",
       "    <tr>\n",
       "      <td>2</td>\n",
       "      <td>ресторан</td>\n",
       "      <td>2285</td>\n",
       "    </tr>\n",
       "    <tr>\n",
       "      <td>3</td>\n",
       "      <td>предприятие быстрого обслуживания</td>\n",
       "      <td>1923</td>\n",
       "    </tr>\n",
       "    <tr>\n",
       "      <td>4</td>\n",
       "      <td>бар</td>\n",
       "      <td>856</td>\n",
       "    </tr>\n",
       "    <tr>\n",
       "      <td>5</td>\n",
       "      <td>буфет</td>\n",
       "      <td>585</td>\n",
       "    </tr>\n",
       "    <tr>\n",
       "      <td>6</td>\n",
       "      <td>кафетерий</td>\n",
       "      <td>398</td>\n",
       "    </tr>\n",
       "    <tr>\n",
       "      <td>7</td>\n",
       "      <td>закусочная</td>\n",
       "      <td>360</td>\n",
       "    </tr>\n",
       "    <tr>\n",
       "      <td>8</td>\n",
       "      <td>магазин (отдел кулинарии)</td>\n",
       "      <td>273</td>\n",
       "    </tr>\n",
       "  </tbody>\n",
       "</table>\n",
       "</div>"
      ],
      "text/plain": [
       "   Вид объекта общественного питания  Количество\n",
       "0                               кафе        6099\n",
       "1                           столовая        2587\n",
       "2                           ресторан        2285\n",
       "3  предприятие быстрого обслуживания        1923\n",
       "4                                бар         856\n",
       "5                              буфет         585\n",
       "6                          кафетерий         398\n",
       "7                         закусочная         360\n",
       "8          магазин (отдел кулинарии)         273"
      ]
     },
     "execution_count": 4,
     "metadata": {},
     "output_type": "execute_result"
    }
   ],
   "source": [
    "(rest_data['object_type']\n",
    "     .value_counts()\n",
    "     .reset_index()\n",
    "     .rename(columns={'index': 'Вид объекта общественного питания', 'object_type': 'Количество'})\n",
    ")"
   ]
  },
  {
   "cell_type": "markdown",
   "metadata": {},
   "source": [
    "Построим графики, чтобы визуализировать соотношение видов объектов общественного питания:"
   ]
  },
  {
   "cell_type": "code",
   "execution_count": 5,
   "metadata": {},
   "outputs": [
    {
     "data": {
      "image/png": "[encoded data removed]",
      "text/plain": [
       "<Figure size 1152x576 with 1 Axes>"
      ]
     },
     "metadata": {
      "needs_background": "light"
     },
     "output_type": "display_data"
    }
   ],
   "source": [
    "plt.figure(figsize=(16, 8))\n",
    "sns.set_palette('pastel')\n",
    "sns.barplot(x='index', y='object_type', data=rest_data['object_type'].value_counts().reset_index())\n",
    "plt.title('Количество объектов общественного питания по типам в городе Москве')\n",
    "plt.xlabel('Тип объекта')\n",
    "plt.ylabel('Количество объектов')\n",
    "plt.xticks(rotation=45)\n",
    "plt.grid()"
   ]
  },
  {
   "cell_type": "markdown",
   "metadata": {},
   "source": [
    "Большинство объектов общественного питания в Москве - это кафе. Второе место с большим отрывом в более чем 2 раза занимают столовые, на третьем с немного меньшим количеством по сравнению со столовыми - рестораны. Ресторанам немного уступают по количеству предприятия быстрого питания. Первую пятёрку завершают бары - однако их уже в 2 раза меньше, чем предприятий быстрого питания.\n",
    "\n",
    "Построим круговую диаграмму соотношения видов объектов общественного питания и оценим его в процентах."
   ]
  },
  {
   "cell_type": "code",
   "execution_count": 6,
   "metadata": {},
   "outputs": [
    {
     "data": {
      "image/png": "[encoded data removed]",
      "text/plain": [
       "<Figure size 720x720 with 1 Axes>"
      ]
     },
     "metadata": {},
     "output_type": "display_data"
    }
   ],
   "source": [
    "fig, ax = plt.subplots(figsize=(10, 10))\n",
    "ax.pie(rest_data['object_type'].value_counts().reset_index()['object_type'], labels=rest_data['object_type'].value_counts().reset_index()['index'], autopct='%1.1f%%')\n",
    "plt.title('Соотношение видов объектов общественного питания в городе Москве')\n",
    "plt.show()"
   ]
  },
  {
   "cell_type": "markdown",
   "metadata": {},
   "source": [
    "Самым распространённым типом заведений, как уже было замечено, является кафе - на его долю приходится почти 40% всех объектов общественного питания. На втором месте - столовые (16.8%), на третьем - рестораны (14.9%). К предприятиям быстрого питания относится 12.5% заведений, а к барам - 5.6%. На остальные типы (буфет, кафетерий, закусочная, отдел кулинарии в магазинах) приходится лишь примерно 10% от общего количества."
   ]
  },
  {
   "cell_type": "markdown",
   "metadata": {},
   "source": [
    "Посмотрим теперь, как соотносится количество сетевых и несетевых заведений по количеству. Построим график."
   ]
  },
  {
   "cell_type": "code",
   "execution_count": 7,
   "metadata": {},
   "outputs": [
    {
     "data": {
      "text/html": [
       "<div>\n",
       "<style scoped>\n",
       "    .dataframe tbody tr th:only-of-type {\n",
       "        vertical-align: middle;\n",
       "    }\n",
       "\n",
       "    .dataframe tbody tr th {\n",
       "        vertical-align: top;\n",
       "    }\n",
       "\n",
       "    .dataframe thead th {\n",
       "        text-align: right;\n",
       "    }\n",
       "</style>\n",
       "<table border=\"1\" class=\"dataframe\">\n",
       "  <thead>\n",
       "    <tr style=\"text-align: right;\">\n",
       "      <th></th>\n",
       "      <th>Является ли заведение сетевым</th>\n",
       "      <th>Количество</th>\n",
       "    </tr>\n",
       "  </thead>\n",
       "  <tbody>\n",
       "    <tr>\n",
       "      <td>0</td>\n",
       "      <td>нет</td>\n",
       "      <td>12398</td>\n",
       "    </tr>\n",
       "    <tr>\n",
       "      <td>1</td>\n",
       "      <td>да</td>\n",
       "      <td>2968</td>\n",
       "    </tr>\n",
       "  </tbody>\n",
       "</table>\n",
       "</div>"
      ],
      "text/plain": [
       "  Является ли заведение сетевым  Количество\n",
       "0                           нет       12398\n",
       "1                            да        2968"
      ]
     },
     "execution_count": 7,
     "metadata": {},
     "output_type": "execute_result"
    }
   ],
   "source": [
    "(rest_data['chain']\n",
    "     .value_counts()\n",
    "     .reset_index()\n",
    "     .rename(columns={'index': 'Является ли заведение сетевым', 'chain': 'Количество'})\n",
    ")"
   ]
  },
  {
   "cell_type": "code",
   "execution_count": 8,
   "metadata": {},
   "outputs": [
    {
     "data": {
      "image/png": "[encoded data removed]",
      "text/plain": [
       "<Figure size 576x360 with 1 Axes>"
      ]
     },
     "metadata": {
      "needs_background": "light"
     },
     "output_type": "display_data"
    }
   ],
   "source": [
    "plt.figure(figsize=(8, 5))\n",
    "sns.barplot(x='index', y='chain', data=rest_data['chain'].value_counts().reset_index())\n",
    "plt.title('Количество сетевых и несетевых объектов общественного питания в городе Москве')\n",
    "plt.xlabel('Является ли заведение сетевым')\n",
    "plt.ylabel('Количество заведений')\n",
    "plt.xticks(rotation=0)\n",
    "plt.grid()\n",
    "plt.show()"
   ]
  },
  {
   "cell_type": "code",
   "execution_count": 9,
   "metadata": {},
   "outputs": [
    {
     "data": {
      "image/png": "[encoded data removed]",
      "text/plain": [
       "<Figure size 432x432 with 1 Axes>"
      ]
     },
     "metadata": {},
     "output_type": "display_data"
    }
   ],
   "source": [
    "fig, ax = plt.subplots(figsize=(6, 6))\n",
    "ax.pie(rest_data['chain'].value_counts().reset_index()['chain'], labels={'несетевые', 'сетевые'}, autopct='%1.1f%%')\n",
    "plt.title('Соотношение сетевых и несетевых объектов общественного питания в городе Москве')\n",
    "plt.show()"
   ]
  },
  {
   "cell_type": "markdown",
   "metadata": {},
   "source": [
    "Диаграммы показывают, что подавляющее большинство объектов общественного питания - более 80% - несетевые.\n",
    "\n",
    "Проанализируем, для каких видов заведений характерно сетевое распространение. Для этого посчитаем количество сетевых заведений по каждому виду и выведем долю сетевых объектов в общем количестве."
   ]
  },
  {
   "cell_type": "code",
   "execution_count": 10,
   "metadata": {},
   "outputs": [
    {
     "data": {
      "text/html": [
       "<div>\n",
       "<style scoped>\n",
       "    .dataframe tbody tr th:only-of-type {\n",
       "        vertical-align: middle;\n",
       "    }\n",
       "\n",
       "    .dataframe tbody tr th {\n",
       "        vertical-align: top;\n",
       "    }\n",
       "\n",
       "    .dataframe thead th {\n",
       "        text-align: right;\n",
       "    }\n",
       "</style>\n",
       "<table border=\"1\" class=\"dataframe\">\n",
       "  <thead>\n",
       "    <tr style=\"text-align: right;\">\n",
       "      <th>chain</th>\n",
       "      <th>Тип объекта общественного питания</th>\n",
       "      <th>Количество сетевых объектов</th>\n",
       "      <th>Общее количество объектов</th>\n",
       "      <th>Доля сетевых объектов</th>\n",
       "    </tr>\n",
       "  </thead>\n",
       "  <tbody>\n",
       "    <tr>\n",
       "      <td>6</td>\n",
       "      <td>предприятие быстрого обслуживания</td>\n",
       "      <td>791</td>\n",
       "      <td>1923</td>\n",
       "      <td>0.411</td>\n",
       "    </tr>\n",
       "    <tr>\n",
       "      <td>5</td>\n",
       "      <td>магазин (отдел кулинарии)</td>\n",
       "      <td>78</td>\n",
       "      <td>273</td>\n",
       "      <td>0.286</td>\n",
       "    </tr>\n",
       "    <tr>\n",
       "      <td>7</td>\n",
       "      <td>ресторан</td>\n",
       "      <td>544</td>\n",
       "      <td>2285</td>\n",
       "      <td>0.238</td>\n",
       "    </tr>\n",
       "    <tr>\n",
       "      <td>3</td>\n",
       "      <td>кафе</td>\n",
       "      <td>1396</td>\n",
       "      <td>6099</td>\n",
       "      <td>0.229</td>\n",
       "    </tr>\n",
       "    <tr>\n",
       "      <td>2</td>\n",
       "      <td>закусочная</td>\n",
       "      <td>56</td>\n",
       "      <td>360</td>\n",
       "      <td>0.156</td>\n",
       "    </tr>\n",
       "    <tr>\n",
       "      <td>4</td>\n",
       "      <td>кафетерий</td>\n",
       "      <td>52</td>\n",
       "      <td>398</td>\n",
       "      <td>0.131</td>\n",
       "    </tr>\n",
       "    <tr>\n",
       "      <td>0</td>\n",
       "      <td>бар</td>\n",
       "      <td>37</td>\n",
       "      <td>856</td>\n",
       "      <td>0.043</td>\n",
       "    </tr>\n",
       "    <tr>\n",
       "      <td>1</td>\n",
       "      <td>буфет</td>\n",
       "      <td>11</td>\n",
       "      <td>585</td>\n",
       "      <td>0.019</td>\n",
       "    </tr>\n",
       "    <tr>\n",
       "      <td>8</td>\n",
       "      <td>столовая</td>\n",
       "      <td>3</td>\n",
       "      <td>2587</td>\n",
       "      <td>0.001</td>\n",
       "    </tr>\n",
       "  </tbody>\n",
       "</table>\n",
       "</div>"
      ],
      "text/plain": [
       "chain  Тип объекта общественного питания  Количество сетевых объектов  \\\n",
       "6      предприятие быстрого обслуживания                          791   \n",
       "5              магазин (отдел кулинарии)                           78   \n",
       "7                               ресторан                          544   \n",
       "3                                   кафе                         1396   \n",
       "2                             закусочная                           56   \n",
       "4                              кафетерий                           52   \n",
       "0                                    бар                           37   \n",
       "1                                  буфет                           11   \n",
       "8                               столовая                            3   \n",
       "\n",
       "chain  Общее количество объектов  Доля сетевых объектов  \n",
       "6                           1923                  0.411  \n",
       "5                            273                  0.286  \n",
       "7                           2285                  0.238  \n",
       "3                           6099                  0.229  \n",
       "2                            360                  0.156  \n",
       "4                            398                  0.131  \n",
       "0                            856                  0.043  \n",
       "1                            585                  0.019  \n",
       "8                           2587                  0.001  "
      ]
     },
     "execution_count": 10,
     "metadata": {},
     "output_type": "execute_result"
    }
   ],
   "source": [
    "rest_data_chain_pivot = (rest_data.pivot_table(\n",
    "                                 values='id',\n",
    "                                 index='object_type',\n",
    "                                 columns='chain',\n",
    "                                 aggfunc='count')\n",
    "                            .reset_index()\n",
    "                            .rename(columns={'да': 'chain_qty', 'нет': 'total_qty'})\n",
    "                  )\n",
    "rest_data_chain_pivot['total_qty'] = rest_data_chain_pivot['chain_qty'] + rest_data_chain_pivot['total_qty']\n",
    "rest_data_chain_pivot['chain_part'] = round(rest_data_chain_pivot['chain_qty'] / rest_data_chain_pivot['total_qty'], 3)\n",
    "rest_data_chain_pivot.sort_values(by='chain_part', ascending=False).rename(columns={'object_type': 'Тип объекта общественного питания', 'chain_qty': 'Количество сетевых объектов', 'total_qty': 'Общее количество объектов', 'chain_part': 'Доля сетевых объектов'})"
   ]
  },
  {
   "cell_type": "markdown",
   "metadata": {},
   "source": [
    "Самая большая доля сетевых объектов общественного питания наблюдается в предприятиях быстрого обслуживания - более 40%. Для этих заведений наиболее характерно сетевое распространение. А вот среди столовых, наоборот, почти нет сетевых заведений."
   ]
  },
  {
   "cell_type": "markdown",
   "metadata": {},
   "source": [
    "Проанализируем сетевые заведения и посмотрим, как зависят между собой количество заведений в сети и число посадочных мест. Выясним, что для них характерно: много заведений с небольшим числом посадочных мест в каждом или мало заведений с большим количеством посадочных мест.\n",
    "\n",
    "Сохраним сетевые заведения в отдельный датафрейм и выведем все уникальные значения столбца 'object_name'."
   ]
  },
  {
   "cell_type": "code",
   "execution_count": 11,
   "metadata": {},
   "outputs": [
    {
     "data": {
      "text/plain": [
       "array(['ПИЦЦЕТОРИЯ', 'Брусника', 'Алло Пицца', 'Суши Wok', 'Тануки',\n",
       "       \"Домино'с Пицца\", 'Готика', 'Му-Му', 'Хлеб насущный', 'TAJJ MAHAL',\n",
       "       'ДАНКИН ДОНАТС', 'Вареничная №1', 'ШОКОЛАДНИЦА', 'Теремок',\n",
       "       'Хинкальная', 'Шантимель', 'ТАНУКИ', 'Шоколадница', 'МУ-МУ',\n",
       "       'Хинкальная City', 'КРУЖКА', 'СУШИ ВОК', 'ПРИМАВЕРА', 'Виктория',\n",
       "       'Пиццерия «АКАДЕМИЯ»', 'Чебуречная СССР', 'МАКДОНАЛДС',\n",
       "       'Grand Cru', 'Чайхона №1', 'Панчо Пицца', 'KFC', 'Сабвей',\n",
       "       'ресторан «Якитория»', 'Советские времена', 'Кафе «Андерсон»',\n",
       "       'Кафе «Subway»', 'Ресторан «Макдоналдс»', 'Суши Сет', 'Суши WoK',\n",
       "       'Шоколад', 'Тирольские пироги', 'Гамбринус', 'Пицца Фабрика',\n",
       "       'Subway', 'Кафе «Якитория»', 'Кафе «Тануки»', 'Сити Пицца',\n",
       "       'Кружка', 'Кофе Хаус',\n",
       "       'Кулинарная Лавка Братьев Караваевых Братья Караваевы', 'Суши Вок',\n",
       "       'Прайм', 'Пицца Экспресс', 'Шоколадница Кофе Хаус', 'Николай',\n",
       "       'Якитория', 'МАГНОЛИЯ', 'КОФЕ С СОБОЙ', 'Джаганнат', 'Волконский',\n",
       "       'MosKalyan', 'Гино-но-таки', 'Макдоналдс', 'Тратория Semplice',\n",
       "       'Ньокки', 'Хижина', 'Додо Пицца', 'Крошка Картошка', 'Бургер Кинг',\n",
       "       'Суши WOK', 'Папа Джонс', 'Кондитерская Волконский',\n",
       "       'Бар- буфет «Николай»', 'Ресторан «Тануки»', 'Две палочки',\n",
       "       'Джон Джоли', 'Ваби-Саби', 'Кофемания', 'Простые Вещи',\n",
       "       'Павлин-Мавлин', 'Кафе «Чайхана Тапчан»', 'Штолле', 'Суши сет',\n",
       "       'Кофе с собой', 'Бабай Клаб', 'Андерсон', 'КОФЕМАНИЯ',\n",
       "       'КОФЕ ХАУС. ЭКСПРЕССО И КАПУЧИНО БАР', 'КАКТУС', 'Темпл бар',\n",
       "       'Хлеб&Co', 'Кофе-Бин', 'Французская выпечка',\n",
       "       'Кофейня «Кофе Хаус»', 'Планета Суши', 'Де Марко',\n",
       "       'Ресторан «Илья Муромец»', 'Ресторан «Корчма Тарас Бульба»',\n",
       "       'Кофейня «Шоколадница»', 'Стейк Хаус ГУДМАН', 'ИЛЬ ПАТИО',\n",
       "       'Иль-патио', 'ЯКИТОРИЯ', 'Мюнгер', 'БОТИК ПЕТРА',\n",
       "       'кафе «Папа Джонс»', 'Кафе «Штолле»', 'Чин Чин', 'ПРАВDА Кофе',\n",
       "       'Сити', 'Krispy Creme', 'Prime Прайм стар', 'Азбука Вкуса',\n",
       "       'Ресторан «Якитория»', 'КАФЕ «ШТОЛЛЕ»', 'РЕСТОРАН «ДЖОН ДЖОЛИ»',\n",
       "       'Ресторан «ТАНУКИ»', 'КОФЕ ХАУС', 'РЕСТОРАН «Тануки»', 'ПИВКО',\n",
       "       'Додо пицца', 'Пиццерия «Папа Джонс»', 'Ресторан «Брудер»',\n",
       "       'ПРАЙМ', 'ДЖОН ДЖОЛИ', 'Мимино', 'Кофепорт',\n",
       "       'Кафе «Пицца Фабрика»', 'Прайм стар', 'Цинандали Хинкальная',\n",
       "       'Иль Форно', 'Travelers Coffee', 'Рецептор', 'СушиШоп',\n",
       "       'Кофе-Хаус', 'Баскин Роббинс', 'Барашка', 'КОРЧМА «ТАРАС БУЛЬБА»',\n",
       "       'Кафе «Шоколадница»', 'Пицца Хат', 'Мята Lounge', 'Costa Coffee',\n",
       "       'Илья Муромец', 'Ёрш', 'СтардогS', 'КОРЧМА ТАРАС БУЛЬБА',\n",
       "       'UPSIDE DOWN CAKE', 'Кафе Пекарня Хачапури',\n",
       "       'Домашнее Кафе сеть городских кафе', 'Ресторан Тануки',\n",
       "       'Бар-буфет Николай', 'Добрынинский и партнёры',\n",
       "       'КОФЕЙНЯ «ДЕ МАРКО»', 'Менза', 'Тапчан', 'Колбасофф',\n",
       "       'Крепери де пари', \"Домино'с пицца\", 'БРАВА Коста кофе',\n",
       "       'Старбакс Starbucks', 'АндерСон', 'Венеция', 'Жан Жак', 'Гурмания',\n",
       "       'Кулинарная лавка братьев Караваевых', 'Кафе «Тапчан»',\n",
       "       'Ресторан «Ньокки»', 'Bierloga', 'Штирбирлиц', 'Маки-Маки',\n",
       "       'ХАЧАПУРИ', 'В&В Бургер', 'Прайм Стар', 'Jeffreys coffee',\n",
       "       'Travelers Coffe', 'АКАДЕМИЯ', 'Дабл Би', 'Иль Патио',\n",
       "       'ЗОЛОТАЯ ВОБЛА', 'ТЕРЕМОК', 'Корчма Тарас Бульба', 'АЛЛО ПИЦЦА',\n",
       "       'ПИЛЗНЕР', 'Траттория Примавера', 'ПРАЙМкафе Прайм стар',\n",
       "       \"Пиццерия «Домино'с Пицца»\", 'Кафе «Суши Сет»', 'Коста Кофе',\n",
       "       'СУШИ WOK', 'РЕСТОРАН «ТАНУКИ»', 'Перекресток', 'Starbucks',\n",
       "       'Руккола', 'Иль Патио Планета Суши', 'Кафе «Starbucks»',\n",
       "       'Шантимель (кондитерские)', 'Милано пицца',\n",
       "       'Ресторан «Джон Джоли»', 'Зодиак', 'Ресторан «Ёрш»', 'Торро Гриль',\n",
       "       'ФИТНЕС-БАР «WORLD CLASS»', 'Роллофф', 'Кафе «Кулинарное бюро»',\n",
       "       'БУРГЕР КИНГ', 'Билла', 'УРЮК', 'Темпл Бар', 'Кофейня «Старбакс»',\n",
       "       'Кафе «Кружка»', 'Пицца экспресс', 'Tokyo bay',\n",
       "       'Пиццерия «ПАПА ДЖОНС»', 'КУЛИНАРНОЕ БЮРО', 'Пиппони',\n",
       "       'Пицца Пипони', 'Золотая вобла', 'ДЕТСКОЕ КАФЕ «АНДЕРСОН»',\n",
       "       'Кулинарное бюро', 'КАФЕ «Хлеб насущный»', 'ПИЦЦЕРИЯ «Папа Джонс»',\n",
       "       'КАФЕ «Андерсон»', 'Кулинарное бюро Китчен', 'Сытая Утка',\n",
       "       'Икура Паб', 'Сварня', 'Пиццетория', 'ДЕТСКИЙ КЛУБ «АНДЕРСОН»',\n",
       "       'Пиццерия Пиу дель Чибо',\n",
       "       'Предприятие быстрого обслуживания «Бургер Кинг»',\n",
       "       'Предприятие быстрого обслуживания «Крошка Картошка»',\n",
       "       'Предприятие быстрого обслуживания «Макдоналдс»',\n",
       "       'Предприятие быстрого обслуживания «Теремок»', 'Ичибан Боши',\n",
       "       'Макс Бреннер', 'Бутчер Бизон', 'Магбургер АЗС №16',\n",
       "       'Магазин-кулинария «Суши Сет»', 'Магбургер АЗС №17',\n",
       "       'Кондитерская-пекарня Волконский', 'Му-му', 'IL Forno Иль Форно',\n",
       "       'Хлеб Насущный', 'Кафе «Prime» Прайм стар', 'То Да Сё',\n",
       "       'Пицца Pomodoro', 'Бургер Кинг Burger King',\n",
       "       'Чешская пивная «Козловица»', 'Ресторан Джон Джоли',\n",
       "       'Простые вещи', 'Грабли', 'VietCafe Вьеткафе', 'Оникс',\n",
       "       'Пицца Pomodoro и Суши Дзен', 'Вьеткафе', 'Да Пино',\n",
       "       'Старина Миллер', 'Кафе Рецептор', 'Якитория и Ян Примус',\n",
       "       'СТАРИНА МЮЛЛЕР Старина Миллер', 'Кафе Кофемания', 'Хинкальная №1',\n",
       "       'Пронто', 'Пицца «Паоло»', 'Лепешка', 'Чешская пивная «Пилзнер»',\n",
       "       'ПИРОГИ ШТОЛЛЕ', 'Крепери де Пари', 'Гурман', 'ТЕРРИТОРИЯ ЯСЕНЕВО',\n",
       "       'Сабвей СушиВок', 'Городские автокофейни', 'ВГости. Урюк',\n",
       "       'Порто Мальтезе', 'Мимино Хинкальная', 'Квартира 44',\n",
       "       'Хинкальная КИНТО', 'КОЛБАСОФФ', 'Урюк',\n",
       "       'Американ Сити Пицца ЦЕХ ПО ИЗГОТОВЛЕНИЮ ПИЦЦЫ',\n",
       "       'РЕСТОРАН «Чайхона №1»', 'БАР Азбука Вкуса', 'КАФЕ «Шоколадница»',\n",
       "       'Суп Кафе', 'Ресторан «Florentini»', 'Upside Down Cake',\n",
       "       'Поль Бейкери', 'кафе «Шоколадница»', 'Кафе «Му-Му»',\n",
       "       'GlowSubs Sandwiches', 'Ми Пьяче', 'Кафе «Хинкальная»',\n",
       "       'Закусочная «СушиШоп»', 'Ресторан «Территория»', 'Кафе «KFC»',\n",
       "       'Кафе «Пицца Хат»', 'Пиццерия Донателло',\n",
       "       'Закусочная «Американ Сити Пицца»',\n",
       "       'Предприятие быстрого обслуживания «СушиШоп»',\n",
       "       'Кафе «PRIME» Прайм стар', 'Нияма Пицца Пи', 'Кафе «Ваби-Саби»',\n",
       "       'Кафе «Марукамэ»', 'Кафе Чайхона №1', 'Бир хаус', 'САБВЕЙ',\n",
       "       'Хачапури', 'СПБ', 'Кебаб хаус', 'Прайм-кафе', 'PAUL Поль',\n",
       "       'ВЕНЕЦИЯ', 'ШАШЛЫК-МАШЛЫК', 'ГЕНАЦВАЛИ', 'Территория TIMBIGFAMILY',\n",
       "       'Территория', 'Да Пино (Da Pino)',\n",
       "       'Кулинарная лавка братьев Караваевых Братья Караваевы',\n",
       "       'Ресторан «Золотая Вобла»', 'Кафе PRIME Прайм стар',\n",
       "       'Граци рагацци Зю Кафе', 'Виват-Пицца', 'Ресторан «Вьеткафе»',\n",
       "       'Пироговая Штолле', 'Сабвей Subway', 'Starlite Diner',\n",
       "       'Прайм-кафе Прайм стар', 'ресторан «Брудер»', 'Старбакс', 'ПРОНТО',\n",
       "       'РЕСТОРАН «УРЮК»', 'Krispy Krem', 'ГРАБЛИ', 'Кофе Хаус,Экспресс',\n",
       "       'Ростикс KFC', 'Ресторан «ИЛЬ ПАТИО»', 'Ресторан Маки-Маки',\n",
       "       'КАФЕ «МУ-МУ»', 'Кофейня Шоколадница', 'Кафе Пронто',\n",
       "       'Кафе Якитория', 'Кофетун', 'ТАШИР ПИЦЦА', 'Ресторан Хинкальная',\n",
       "       'Закусочная KFC', 'Елки-Палки', 'Кофейня ШОКОЛАДНИЦА',\n",
       "       'Кафе КОФЕ ТУН', 'Метро К&К', 'Тамаси Суши', 'Burger Club',\n",
       "       'ФАНТОЦЦИ РУС', 'КАФЕ «ЯКИТОРИЯ»', 'Кафе «Урюк» Хивинская чайхона',\n",
       "       'Ресторан «Пронто»', 'Изба', 'Воккер', 'Нияма', 'Ганс и Марта',\n",
       "       'Кафе «Поль Бейкери»', 'Кафе «Сабвей» Старбакс',\n",
       "       'KFC Волгоградский', 'Кофе', 'Ресторан «Чайхона №1»',\n",
       "       'Кафе «Теремок»', 'Ливан-хаус', 'Крошка картошка', 'Лето',\n",
       "       'Кафе «АндерСон»', 'Суши бар «Маки-маки»', 'ЯММИ МИКС', 'Брудер',\n",
       "       'Бургер кинг', 'Баракат', 'Кафе при АЗС', 'Урюк Вавилова',\n",
       "       'SUBWAY', 'Кафе теремок', 'Кулинарное бюро Kitchen',\n",
       "       'МОСКВА - МАКДОНАЛДС', 'ТЕРЕМОК ИНВЕСТ', 'Ресторан«ВьетКафе»',\n",
       "       'НИЯМА', 'Кафе Космик', 'СушиМан', 'Кафе шоколад', 'ЯПОША',\n",
       "       'МАКИ-МАКИ', 'Примавера', 'Кофе тун', 'Барбарис', 'Yogurt Frenzy',\n",
       "       'Ташир пицца', 'Bocconcino', 'ПОМИДОР', 'Дюшес', 'Маки-маки',\n",
       "       'Планета суши', 'Чайхона №1 Бутово', 'Кафе «То Да Сё»',\n",
       "       'кафе «Старбакс»', 'Урожай', 'Ресторан «Ян Примус»', 'ШВАРЦВАЛЬД',\n",
       "       'TUTTI FRUTTI FROZEN YOGURT', 'Данкин Донатс', 'Кафе «Нияма»',\n",
       "       'Кафе «Менза»', 'Ресторан «Джардино Да Пино»', 'Кафе «МЕЛЕНКА»',\n",
       "       'Кафе «Кофейня Старбакс»', 'Ресторан «Колбасофф»',\n",
       "       'КАФЕ МАКДОНАЛДС', 'КАФЕ «Теремок»', 'КАФЕ KFC', 'Сбарро',\n",
       "       'КАФЕ «МАКДОНАЛДС»', 'КАФЕ «Восточный базар»', 'КАФЕ Кофе-Хаус',\n",
       "       'КАФЕ Starbucks', 'РЕСТОРАН «Космик»', 'КАРО', 'ХИНКАЛЬНАЯ',\n",
       "       'ПБО «KFC Покрышкина»', 'кафе «Му-Му»', 'Кофейня «СТАРБАКС КОФЕ»',\n",
       "       'Ресторан «Планета Суши»', 'White Rabbite (Белый кролик)',\n",
       "       'БАКИНСКИЙ БУЛЬВАР', 'Ян Примус', 'Кафе МУ-МУ',\n",
       "       'Кафе «Prime» (Прайм стар)', 'Healthy Food', 'Sushilka',\n",
       "       'Кебаб Хаус', 'Coffeeshop Company', 'Теремок-Инвест',\n",
       "       'Кафе «МАКДОНАЛДС»', 'ИЛЬ ФОРНО', 'Maki Maki',\n",
       "       'РЕСТОРАН«МАКДОНАЛДС»', 'ЧАЙХОНА №1', 'РЕСТОРАН «ЧАЙХОНА №1»',\n",
       "       'КОФЕЙНЯ «ШОКОЛАДНИЦА»', 'АНДЕРСОН', 'КАФЕ «ТЕРЕМОК»',\n",
       "       'СТЕЙК-ХАУС ГУДМАН', 'МЕНЗА', 'Барбекю', 'Обжорный ряд', 'Космик',\n",
       "       'Ресторан «БРУДЕР»', 'Тайм Авеню', 'Братья Караваевы',\n",
       "       'СтардогS и шаурма', 'Wok & Box', 'ПивКо',\n",
       "       'Кафе при АЗС Газпромнефть', 'Старбакс Кофе', 'Бар Боулинг-Космик',\n",
       "       'Академия', 'Ресторан «Темпл Бар»', 'Закусочная «Бургер Кинг»',\n",
       "       'Ресторан «Чайхана Урюк»', 'Прайм Стар кафе',\n",
       "       'Кофе с собой Gate 42', 'Кафе-закусочная «Бургер Кинг»',\n",
       "       'Ресторан «ЯКИТОРИЯ»', 'Кафе «Торнадо»', 'Магбургер', 'КОФЕПОРТ',\n",
       "       'Ресторан «Теремок»', 'Кафе «Макдоналдс»',\n",
       "       'Ресторан «Бакинский бульвар»', 'Бакинский бульвар',\n",
       "       \"Предприятие быстрого обслуживания «Домино'с Пицца»\",\n",
       "       'Кафе «Прайм Стар»', 'Кафе «SUBWAY»',\n",
       "       'Предприятие быстрого обслуживания «Бенто WOK»',\n",
       "       'Предприятие быстрого обслуживания «KFC»', 'Бургер клаб',\n",
       "       'Кафе «Кофе Хаус»', 'Кафе при АЗС «BP»', 'Wokker', 'АРИАНА',\n",
       "       'Кафе «Суши Вок»', 'Кафе «Бургер Кинг»', 'ПАПА ДЖОНС ПИЦЦА',\n",
       "       'Закусочная «Теремок»', 'Закусочная «Крошка Картошка»',\n",
       "       'Ресторан «Иль Патио»', 'Спорт-бар «Космик»', 'Ресторан «Космик»',\n",
       "       'Ресторан японской кухни «Маки-Маки»', 'Детское кафе «Космик»',\n",
       "       'Кафе ПРОНТО', 'Кофейня «Кофе хаус»', 'Ванвок', 'Шикари Иль Патио',\n",
       "       'Кафе «Данкин Донатс»', 'Ресторан «Бургер Кинг»',\n",
       "       'Кафе «Крошка Картошка»', 'Закусочная «KFC»',\n",
       "       'Закусочная «Пицца Хат»', 'Кафе «Costa coffee»', 'Каффе «Wokker»',\n",
       "       'Семейный ресторан «Космик»', 'Кафе Иль Патио «Il Patio»',\n",
       "       'Ресторан «Урюк»', 'Кофейня «Дабл Би»', 'Ресторан KFC',\n",
       "       'Ресторан быстрого питания «Крошка Картошка»', 'кафе «Нияма»',\n",
       "       'Starbucks кофе', 'МИ ПЬЯЧЕ', 'Пражечка',\n",
       "       'Павлин Мавлин Чайхона №1', 'Блинная', 'Correas',\n",
       "       'Мистер Картошка', 'Кафе «Сим-Сим»', 'Кафе «Му-му»',\n",
       "       'Pizengof99 СПБ', 'Меленка', 'Югос', 'Марчеллис',\n",
       "       'Кафе Песто и Митлес', 'Ресторан «Вареничная №1»', 'Молли гвинз',\n",
       "       'ВьетКафе', 'Шоколадница Кофемания', 'Дорогая я перезвоню',\n",
       "       'M Cafe Хинкальная', 'Marrakesh Хинкальная',\n",
       "       'Кофейня Кофемания, пиццерия Бармалини',\n",
       "       'Кофешоп Coffeeshop Company', 'Гудман Гудвин', 'Гудман',\n",
       "       'Torro Grill Торро Гриль', 'Ресторан Торро Гриль',\n",
       "       'Кафе «Старбакс»', 'The Terrace', 'Ваби-саби', 'Бир Хаус Паб',\n",
       "       'CORREAS', 'Вlack Burger Чайхона №1', 'Пончиковое кафе ИКЕА Ikea',\n",
       "       'Ресторан ИКЕА Ikea', 'Black & White', 'Пиццерия «Додо Пицца»',\n",
       "       'Роснефть', 'Upside Down', 'ПБО «KFC»', 'ПБО «Теремок»',\n",
       "       'Starbucks, СТАРБАКС КОФЕ', 'КОФЕЙНЯ «Costa Coffee»',\n",
       "       \"ДОМИНО'С ПИЦЦА\", 'Cookhouse', 'Dunkin Donuts',\n",
       "       'МСК Московская сеть кальянных', 'Братья Караваевых',\n",
       "       'Кафе Бургер Кинг', 'Кафе «ТО ДА СЁ»',\n",
       "       'Предприятие быстрого обслуживания «Магбургер»',\n",
       "       'Кафе «Баскин Роббинс»', 'Ресторан «БУРГЕР КИНГ»',\n",
       "       'Кафе БУРГЕР КИНГ', 'Пицца Паоло', 'COFIX', 'Пикколо', 'Пицца хат',\n",
       "       'Cofix', 'Милти', 'Сеть магазинов «Суши Wok»', 'Васаби',\n",
       "       'Грузинская кухня ЭZО Хинкальная', 'Кафе быстрого питания Му-му',\n",
       "       'Ресторан ТАНУКИ', 'Кафе Суши Wok', 'Хачапури, Одесса -мама',\n",
       "       'TGI FRIDAYS', 'Deli by Prime Прайм-кафе', 'Пицерия «Папа Джонс»',\n",
       "       'HEALTHY Food', 'Дабл Би блэк', 'Азбука вкуса', 'МИМИНО',\n",
       "       'Точка продажи готовой еды Милти',\n",
       "       'Предприятие быстрого обслуживания «ДОДО Пицца»',\n",
       "       'Суши «Маки-Маки»', 'Семейное кафе и кондитерская «Андерсон»',\n",
       "       'Пиццерия Папа Джонс', 'GRAND УРЮК', 'Кафе Волконский пекарня',\n",
       "       'Стардогs', 'Panda Express', 'Кафе «БУРГЕР КИНГ»',\n",
       "       'АВ-Дейли Азбука Вкуса', 'ШАНТИМЕЛЬ', 'Healthy food',\n",
       "       'Ирландский Паб', 'Ресторан «KFC»',\n",
       "       'Кафе мороженного «Tutti Frutti»', 'Кафе «Суши Wok»',\n",
       "       'Бар «Суши Wok»', 'Япоша', 'КУЛИНАРНАЯ ЛАВКА БРАТЬЕВ КАРАВАЕВЫХ',\n",
       "       \"Ресторан «Домино'с Пицца»\", 'Tutti frutti', 'Кафе «Папа Джонс»',\n",
       "       'ПАПА ДЖОНС', 'Кафе Prime Прайм стар Прайм-кафе',\n",
       "       'PRIME Прайм стар Прайм-кафе', 'Суши вок', \"Кафе «Домино'с Пицца»\",\n",
       "       'КАФЕ-ПЕКАРЕЯ «ВОЛКОНСКИЙ»', 'Нияма. Пицца Пи', 'Алло Пицца 2',\n",
       "       'БИСТРО ПРОНТО', 'ШТОЛЛЕ', 'Ливан-Хаус', 'Зю Кафе',\n",
       "       'Восточный базар', 'Сказка', 'Ресторан «Хинкальная»',\n",
       "       'Jeffreys Coffee', 'Ресторан «Пицца Хат»', 'Вкусняшка',\n",
       "       'МагБургер', 'Грузинские каникулы Барбарис', 'Стардогс СтардогS',\n",
       "       'Суши тун, Хруст pizza, Кофе тун', 'Кофе с собой «Кофейня»',\n",
       "       'Пиццерия «Пицца Паоло»', 'Кафе при АЗС Лукойл',\n",
       "       'Лукойл-Центрнефтьпродукт', 'FRIDAYS', 'TGI Fridays', 'Мираторг',\n",
       "       'Закусочная «Баскин Роббинс & Стардогс»', 'Бенто WOK',\n",
       "       'Кафе «Иль Патио»', 'Bubbleology', 'Starbucks Старбакс',\n",
       "       'Бодрый день Кофе с собой', 'ДоДо Пицца', 'ДОДО ПИЦЦА',\n",
       "       'ДОДО Пицца', 'BooBo', 'Кальянная Мята Lounge',\n",
       "       'Кальян-бар «Мята Lounge»', 'Кальян- бар «Мята Lounge»',\n",
       "       'Паб Кружка', 'БРУСНИКА', 'Luciano', 'Пиццерия «Пицца Хат»',\n",
       "       'Лукойл', 'Мята Lounge Шаболовка', 'Кальянная F-lounge', 'МИЛТИ',\n",
       "       'ПРАЙМ СТАР', 'МСК Московская сеть кальянных на Шаболовке',\n",
       "       'Семейное кафе Андерсон',\n",
       "       '«Кафе «Кулинарная лавка братьев Караваевых»»',\n",
       "       'Кафе «Кулинарная лавка братьев Караваевых»',\n",
       "       '«Кафе «Кулинарная лавка братьев Караваевых»',\n",
       "       \"Домино'с Пицца Domino,s Pizza\", 'Чешская пивная ПИЛЗНЕР',\n",
       "       'Beverly Hills Diner', 'Кафе Штолле',\n",
       "       'Предприятие быстрого питания «Крошка Картошка»', 'Florentini',\n",
       "       'Кондитерия Тирольские пироги', 'LAVKALAVKA', 'Хлебница пекарня',\n",
       "       'Кальян-бар MosKalyan', 'Анти-кафе кальянная «MosKalyan»',\n",
       "       'Ботик Петра', 'Советские времена Чебуречная СССР', 'ДоДо пицца',\n",
       "       'Мята Lounge Автозаводская', 'Osteria Mario', 'МЯСОROOB',\n",
       "       'МясоROOB', 'Газпромнефтьцентр', 'ДВЕ ПАЛОЧКИ', 'ХЛЕБ НАСУЩНЫЙ',\n",
       "       'ЯКИТОРИЯ И СПОРТ БАР', 'Японский ресторан «Ваби-Саби»',\n",
       "       'Goodman Гудман', 'PRIME STAR Прайм стар', 'Праймстар',\n",
       "       'CoffeeShop', 'My box', 'Vanwok Ванвок', 'Van Wok Ванвок',\n",
       "       'ББ энд БУРГЕРС В&В Бургер', 'КРОШКА КАРТОШКА',\n",
       "       'Закусочная «СтардогS»', 'Сувлаки', 'Бургер Клаб', 'Суши тун',\n",
       "       'Кофе с Собой', 'Пицца ПИПОНИ', 'Пицца Паоло и Бенто WOK',\n",
       "       'STARBUCKS COFFEE', 'Кофемания Starbucks', 'Movenpick',\n",
       "       'РОСТИКС KFC', 'Fridays KFC', 'Ресторан быстрого питания KFC',\n",
       "       'ВОККЕР', 'Marmalato', 'Предприятие быстрого обслуживания «Милти»',\n",
       "       'Дабл би', 'ДОДО пицца', 'Магазин готовой еды «Милти»',\n",
       "       'Готовые блюда Милти', 'Мята lounge', 'Лаундж-бар «Мята Lounge»',\n",
       "       'Бар Мята Lounge', 'Мята Lounge Октябрьская',\n",
       "       'Кальянная «Мята Lounge»', 'Мята'], dtype=object)"
      ]
     },
     "execution_count": 11,
     "metadata": {},
     "output_type": "execute_result"
    }
   ],
   "source": [
    "rest_data_chain = rest_data[rest_data['chain'] == 'да']\n",
    "rest_data_chain['object_name'].unique()"
   ]
  },
  {
   "cell_type": "markdown",
   "metadata": {},
   "source": [
    "Видим, что одна и та же сеть заведений может быть записана по-разному (например, \"Макдоналдс\", \"Ресторан «Макдоналдс»\" и \"МАКДОНАЛДС\" - это одна сеть, но алгоритмом из-за неодинакового написания она будет распознаваться как несколько разных). Уберём из названий сетевых заведений кавычки, типы заведений, приведём все названия к нижнему регистру и к единообразному написанию."
   ]
  },
  {
   "cell_type": "code",
   "execution_count": 12,
   "metadata": {
    "scrolled": false
   },
   "outputs": [],
   "source": [
    "rest_data_chain['object_name'] = rest_data_chain['object_name'].str.lower()\n",
    "\n",
    "list_of_words = ['закусочная ', 'магазин готовой еды ', '«', '»', '.', 'кафе ', 'кофейня ', 'детское ', 'кондитерская ', 'пиццерия ', 'предприятие быстрого обслуживания ', 'ресторан ', ' и ', 'семейный ', 'семейное ', 'пекарня ', 'точка продажи готовой еды ', 'быстрого питания ', 'японской кухни ', 'кафе-пекарея ', 'сеть городских кафе', 'кальян- бар ', 'кальян-бар ', 'кальянная ', 'мороженного ', 'кондитерская-пекарня ', 'лаундж-бар ', 'москва - ', ' на шаболовке', 'магазин-кулинария ', ' автозаводская', ' азс №17', 'боулинг-', ' октябрьская', ' шаболовка', 'пбо ', ' покрышкина', 'бар- буфет ', 'бар-буфет ', 'бар ', 'предприятие быстрого питания ', 'быстрого питания ', 'ресторан', 'спорт-бар ', ' спорт бар', 'спорт-', 'ав-дейл', ' 2', '. экспрессо капучино бар', '-центрнефтьпродукт', ' азс №16', 'предприятие ', 'ростикс ', ' (кондитерские)', ' бутово', ' вавилова', 'точка продажготовой еды ', '-инвест', 'сеть магазинов ', 'японский ', ' инвест', 'анти-', ' пекарня', ' волгоградский', ' frozen yogurt', 'вгост', 'готовые блюда ', 'детский клуб ', 'кондитерия ', 'траттория ', ' цех по изготовлению пиццы', ' ясенево']\n",
    "\n",
    "for word in list_of_words:\n",
    "    rest_data_chain['object_name'] = rest_data_chain['object_name'].str.replace(word, '')\n",
    "\n",
    "def correct_name(str):\n",
    "    if 'prime' in str:\n",
    "        return 'prime star'\n",
    "    elif 'прайм' in str:\n",
    "        return 'prime star'\n",
    "    elif 'starbucks' in str:\n",
    "        return 'starbucks'\n",
    "    elif 'старбакс' in str:\n",
    "        return 'starbucks'\n",
    "    elif 'бургер кинг' in str:\n",
    "        return 'burger king'\n",
    "    elif 'burger king' in str:\n",
    "        return 'burger king'\n",
    "    elif 'domino' in str:\n",
    "        return 'dominos'\n",
    "    elif 'домино' in str:\n",
    "        return 'dominos'\n",
    "    elif 'stardog' in str:\n",
    "        return 'стардогs'\n",
    "    elif 'стардог' in str:\n",
    "        return 'стардогs'\n",
    "    elif 'subway' in str:\n",
    "        return 'subway'\n",
    "    elif 'сабвей' in str:\n",
    "        return 'subway'\n",
    "    elif 'урюк' in str:\n",
    "        return 'урюк'\n",
    "    elif 'волконский' in str:\n",
    "        return 'волконский'\n",
    "    elif 'мавлин' in str:\n",
    "        return 'павлин-мавлин'\n",
    "    elif 'миллер' in str:\n",
    "        return 'старина миллер'\n",
    "    elif 'travelers coffe' in str:\n",
    "        return 'travelers coffee'\n",
    "    elif 'караваев' in str:\n",
    "        return 'братья караваевы'\n",
    "    elif 'вьеткафе' in str:\n",
    "        return 'вьеткафе'\n",
    "    elif 'папа джонс' in str:\n",
    "        return 'папа джонс'\n",
    "    elif 'krispy' in str:\n",
    "        return 'krispy creme'\n",
    "    elif 'в&в' in str:\n",
    "        return 'в&в бургер'\n",
    "    elif 'шантимель' in str:\n",
    "        return 'шантимель'\n",
    "    elif 'ванвок' in str:\n",
    "        return 'ванвок'\n",
    "    elif 'маки-маки' in str:\n",
    "        return 'маки-маки'\n",
    "    elif 'maki maki' in str:\n",
    "        return 'маки-маки'\n",
    "    elif 'маки маки' in str:\n",
    "        return 'маки-маки'\n",
    "    elif 'иль патио' in str:\n",
    "        return 'иль патио'\n",
    "    elif 'иль-патио' in str:\n",
    "        return 'иль патио'\n",
    "    elif 'празс' in str:\n",
    "        return 'празс'\n",
    "    elif 'pomodoro' in str:\n",
    "        return 'pomodoro'\n",
    "    elif 'икеа' in str:\n",
    "        return 'икеа'\n",
    "    elif 'wokker' in str:\n",
    "        return 'wokker'\n",
    "    elif 'воккер' in str:\n",
    "        return 'wokker'\n",
    "    elif 'кофе хау' in str:\n",
    "        return 'кофе хаус'\n",
    "    elif 'кофе-хаус' in str:\n",
    "        return 'кофе хаус'\n",
    "    elif 'иль форно' in str:\n",
    "        return 'иль форно'\n",
    "    elif 'кулинарное бюро' in str:\n",
    "        return 'кулинарное бюро kitchen'\n",
    "    elif 'гудман' in str:\n",
    "        return 'стейк хаус гудман'\n",
    "    elif 'штолле' in str:\n",
    "        return 'штолле'\n",
    "    elif 'штолле' in str:\n",
    "        return 'штолле'\n",
    "    elif 'пиппони' in str:\n",
    "        return 'пицца пипони'\n",
    "    elif 'барбарис' in str:\n",
    "        return 'барбарис'\n",
    "    elif 'чайхона №1' in str:\n",
    "        return 'чайхона №1'\n",
    "    elif 'upside down' in str:\n",
    "        return 'upside down'\n",
    "    elif 'коста кофе' in str:\n",
    "        return 'costa coffee'\n",
    "    elif 'coffeeshop' in str:\n",
    "        return 'coffeeshop'\n",
    "    elif 'пронто' in str:\n",
    "        return 'пронто'\n",
    "    elif 'мята' in str:\n",
    "        return 'мята lounge'\n",
    "    elif 'кружка' in str:\n",
    "        return 'кружка'\n",
    "    elif 'мимино' in str:\n",
    "        return 'мимино'\n",
    "    elif 'ситпицца' in str:\n",
    "        return 'ситпицца'\n",
    "    else:\n",
    "        return str\n",
    "\n",
    "rest_data_chain['object_name'] = rest_data_chain['object_name'].apply(correct_name)"
   ]
  },
  {
   "cell_type": "markdown",
   "metadata": {},
   "source": [
    "Теперь сгруппируем датафрейм по имени заведения, и посчитаем количество заведений в сети и медианное значение числа посадочных мест. Выведем на экран 15 заведений с наибольшим количеством объектов в сети."
   ]
  },
  {
   "cell_type": "code",
   "execution_count": 13,
   "metadata": {},
   "outputs": [
    {
     "data": {
      "text/html": [
       "<div>\n",
       "<style scoped>\n",
       "    .dataframe tbody tr th:only-of-type {\n",
       "        vertical-align: middle;\n",
       "    }\n",
       "\n",
       "    .dataframe tbody tr th {\n",
       "        vertical-align: top;\n",
       "    }\n",
       "\n",
       "    .dataframe thead th {\n",
       "        text-align: right;\n",
       "    }\n",
       "</style>\n",
       "<table border=\"1\" class=\"dataframe\">\n",
       "  <thead>\n",
       "    <tr style=\"text-align: right;\">\n",
       "      <th></th>\n",
       "      <th>Название сети объектов общественного питания</th>\n",
       "      <th>Количество объектов в сети</th>\n",
       "      <th>Медианное количество посадочных мест</th>\n",
       "    </tr>\n",
       "  </thead>\n",
       "  <tbody>\n",
       "    <tr>\n",
       "      <td>23</td>\n",
       "      <td>kfc</td>\n",
       "      <td>187</td>\n",
       "      <td>48.0</td>\n",
       "    </tr>\n",
       "    <tr>\n",
       "      <td>284</td>\n",
       "      <td>шоколадница</td>\n",
       "      <td>183</td>\n",
       "      <td>50.0</td>\n",
       "    </tr>\n",
       "    <tr>\n",
       "      <td>162</td>\n",
       "      <td>макдоналдс</td>\n",
       "      <td>173</td>\n",
       "      <td>76.0</td>\n",
       "    </tr>\n",
       "    <tr>\n",
       "      <td>7</td>\n",
       "      <td>burger king</td>\n",
       "      <td>159</td>\n",
       "      <td>45.0</td>\n",
       "    </tr>\n",
       "    <tr>\n",
       "      <td>250</td>\n",
       "      <td>теремок</td>\n",
       "      <td>111</td>\n",
       "      <td>24.0</td>\n",
       "    </tr>\n",
       "    <tr>\n",
       "      <td>13</td>\n",
       "      <td>dominos</td>\n",
       "      <td>99</td>\n",
       "      <td>16.0</td>\n",
       "    </tr>\n",
       "    <tr>\n",
       "      <td>153</td>\n",
       "      <td>крошка картошка</td>\n",
       "      <td>96</td>\n",
       "      <td>15.0</td>\n",
       "    </tr>\n",
       "    <tr>\n",
       "      <td>172</td>\n",
       "      <td>милти</td>\n",
       "      <td>81</td>\n",
       "      <td>0.0</td>\n",
       "    </tr>\n",
       "    <tr>\n",
       "      <td>236</td>\n",
       "      <td>суши wok</td>\n",
       "      <td>76</td>\n",
       "      <td>6.0</td>\n",
       "    </tr>\n",
       "    <tr>\n",
       "      <td>39</td>\n",
       "      <td>starbucks</td>\n",
       "      <td>71</td>\n",
       "      <td>40.0</td>\n",
       "    </tr>\n",
       "    <tr>\n",
       "      <td>190</td>\n",
       "      <td>папа джонс</td>\n",
       "      <td>67</td>\n",
       "      <td>20.0</td>\n",
       "    </tr>\n",
       "    <tr>\n",
       "      <td>38</td>\n",
       "      <td>prime star</td>\n",
       "      <td>60</td>\n",
       "      <td>30.0</td>\n",
       "    </tr>\n",
       "    <tr>\n",
       "      <td>41</td>\n",
       "      <td>subway</td>\n",
       "      <td>58</td>\n",
       "      <td>15.0</td>\n",
       "    </tr>\n",
       "    <tr>\n",
       "      <td>115</td>\n",
       "      <td>додо пицца</td>\n",
       "      <td>54</td>\n",
       "      <td>30.0</td>\n",
       "    </tr>\n",
       "    <tr>\n",
       "      <td>275</td>\n",
       "      <td>чайхона №1</td>\n",
       "      <td>51</td>\n",
       "      <td>125.0</td>\n",
       "    </tr>\n",
       "  </tbody>\n",
       "</table>\n",
       "</div>"
      ],
      "text/plain": [
       "    Название сети объектов общественного питания  Количество объектов в сети  \\\n",
       "23                                           kfc                         187   \n",
       "284                                  шоколадница                         183   \n",
       "162                                   макдоналдс                         173   \n",
       "7                                    burger king                         159   \n",
       "250                                      теремок                         111   \n",
       "13                                       dominos                          99   \n",
       "153                              крошка картошка                          96   \n",
       "172                                        милти                          81   \n",
       "236                                     суши wok                          76   \n",
       "39                                     starbucks                          71   \n",
       "190                                   папа джонс                          67   \n",
       "38                                    prime star                          60   \n",
       "41                                        subway                          58   \n",
       "115                                   додо пицца                          54   \n",
       "275                                   чайхона №1                          51   \n",
       "\n",
       "     Медианное количество посадочных мест  \n",
       "23                                   48.0  \n",
       "284                                  50.0  \n",
       "162                                  76.0  \n",
       "7                                    45.0  \n",
       "250                                  24.0  \n",
       "13                                   16.0  \n",
       "153                                  15.0  \n",
       "172                                   0.0  \n",
       "236                                   6.0  \n",
       "39                                   40.0  \n",
       "190                                  20.0  \n",
       "38                                   30.0  \n",
       "41                                   15.0  \n",
       "115                                  30.0  \n",
       "275                                 125.0  "
      ]
     },
     "execution_count": 13,
     "metadata": {},
     "output_type": "execute_result"
    }
   ],
   "source": [
    "rest_data_chain = (rest_data_chain\n",
    "                             .groupby(['object_name'])\n",
    "                             .agg({'id': 'count', 'number': 'median'})\n",
    "                             .reset_index()\n",
    "                             .rename(columns={'id': 'count', 'number': 'number_median'})\n",
    "                  )\n",
    "(rest_data_chain\n",
    "     .sort_values(by='count', ascending=False)\n",
    "     .rename(columns={'object_name': 'Название сети объектов общественного питания', 'count': 'Количество объектов в сети', 'number_median': 'Медианное количество посадочных мест'})\n",
    "     .head(15))"
   ]
  },
  {
   "cell_type": "markdown",
   "metadata": {},
   "source": [
    "Построим график зависимости числа объектов общественного питания в сети и медианного количества посадочных мест:"
   ]
  },
  {
   "cell_type": "code",
   "execution_count": 14,
   "metadata": {},
   "outputs": [
    {
     "data": {
      "image/png": "[encoded data removed]",
      "text/plain": [
       "<Figure size 1152x576 with 1 Axes>"
      ]
     },
     "metadata": {
      "needs_background": "light"
     },
     "output_type": "display_data"
    }
   ],
   "source": [
    "rest_data_chain.plot(x='number_median', y='count', kind='scatter', figsize=(16, 8), color='#575b6e', grid=True)\n",
    "plt.title('График зависимости числа объектов общественного питания в сети и медианного количества посадочных мест')\n",
    "plt.xlabel('Медианное количество посадочных мест')\n",
    "plt.ylabel('Число объектов общественного питания в сети')\n",
    "plt.show()"
   ]
  },
  {
   "cell_type": "markdown",
   "metadata": {},
   "source": [
    "Укрупним нижнюю часть графика:"
   ]
  },
  {
   "cell_type": "code",
   "execution_count": 15,
   "metadata": {},
   "outputs": [
    {
     "data": {
      "image/png": "[encoded data removed]",
      "text/plain": [
       "<Figure size 1152x576 with 1 Axes>"
      ]
     },
     "metadata": {
      "needs_background": "light"
     },
     "output_type": "display_data"
    }
   ],
   "source": [
    "rest_data_chain.plot(x='number_median', y='count', kind='scatter', figsize=(16, 8), color='#575b6e', grid=True)\n",
    "plt.title('График зависимости числа объектов общественного питания в сети и медианного количества посадочных мест (нижняя часть графика)')\n",
    "plt.xlabel('Медианное количество посадочных мест')\n",
    "plt.ylabel('Число объектов общественного питания в сети')\n",
    "plt.ylim(0, 50)\n",
    "plt.show()"
   ]
  },
  {
   "cell_type": "markdown",
   "metadata": {},
   "source": [
    "\n"
   ]
  },
  {
   "cell_type": "markdown",
   "metadata": {},
   "source": [
    "По графику видно, что для сетевых заведений характерно небольшое количество объектов в сети (до 20) с количеством посадочных мест в диапазоне от 0 до 100.\n",
    "\n",
    "Посчитаем среднее количество посадочных мест для каждого вида объекта общественного питания."
   ]
  },
  {
   "cell_type": "code",
   "execution_count": 16,
   "metadata": {},
   "outputs": [
    {
     "data": {
      "text/html": [
       "<div>\n",
       "<style scoped>\n",
       "    .dataframe tbody tr th:only-of-type {\n",
       "        vertical-align: middle;\n",
       "    }\n",
       "\n",
       "    .dataframe tbody tr th {\n",
       "        vertical-align: top;\n",
       "    }\n",
       "\n",
       "    .dataframe thead th {\n",
       "        text-align: right;\n",
       "    }\n",
       "</style>\n",
       "<table border=\"1\" class=\"dataframe\">\n",
       "  <thead>\n",
       "    <tr style=\"text-align: right;\">\n",
       "      <th></th>\n",
       "      <th>Вид объектов общественного питания</th>\n",
       "      <th>Среднее количество посадочных мест</th>\n",
       "    </tr>\n",
       "  </thead>\n",
       "  <tbody>\n",
       "    <tr>\n",
       "      <td>0</td>\n",
       "      <td>столовая</td>\n",
       "      <td>130.2</td>\n",
       "    </tr>\n",
       "    <tr>\n",
       "      <td>1</td>\n",
       "      <td>ресторан</td>\n",
       "      <td>96.8</td>\n",
       "    </tr>\n",
       "    <tr>\n",
       "      <td>2</td>\n",
       "      <td>буфет</td>\n",
       "      <td>51.1</td>\n",
       "    </tr>\n",
       "    <tr>\n",
       "      <td>3</td>\n",
       "      <td>бар</td>\n",
       "      <td>43.5</td>\n",
       "    </tr>\n",
       "    <tr>\n",
       "      <td>4</td>\n",
       "      <td>кафе</td>\n",
       "      <td>39.7</td>\n",
       "    </tr>\n",
       "    <tr>\n",
       "      <td>5</td>\n",
       "      <td>предприятие быстрого обслуживания</td>\n",
       "      <td>20.6</td>\n",
       "    </tr>\n",
       "    <tr>\n",
       "      <td>6</td>\n",
       "      <td>кафетерий</td>\n",
       "      <td>9.1</td>\n",
       "    </tr>\n",
       "    <tr>\n",
       "      <td>7</td>\n",
       "      <td>закусочная</td>\n",
       "      <td>7.6</td>\n",
       "    </tr>\n",
       "    <tr>\n",
       "      <td>8</td>\n",
       "      <td>магазин (отдел кулинарии)</td>\n",
       "      <td>5.6</td>\n",
       "    </tr>\n",
       "  </tbody>\n",
       "</table>\n",
       "</div>"
      ],
      "text/plain": [
       "  Вид объектов общественного питания  Среднее количество посадочных мест\n",
       "0                           столовая                               130.2\n",
       "1                           ресторан                                96.8\n",
       "2                              буфет                                51.1\n",
       "3                                бар                                43.5\n",
       "4                               кафе                                39.7\n",
       "5  предприятие быстрого обслуживания                                20.6\n",
       "6                          кафетерий                                 9.1\n",
       "7                         закусочная                                 7.6\n",
       "8          магазин (отдел кулинарии)                                 5.6"
      ]
     },
     "execution_count": 16,
     "metadata": {},
     "output_type": "execute_result"
    }
   ],
   "source": [
    "rest_data_number = (rest_data\n",
    "     .groupby(['object_type'])\n",
    "     .agg({'number': 'mean'})\n",
    "     .sort_values(by='number', ascending=False)\n",
    "     .reset_index()\n",
    "     )\n",
    "\n",
    "\n",
    "rest_data_number['number'] = rest_data_number['number'].round(decimals=1)\n",
    "\n",
    "(rest_data_number\n",
    "        .rename(columns={'object_type': 'Вид объектов общественного питания', 'number': 'Среднее количество посадочных мест'})\n",
    ")"
   ]
  },
  {
   "cell_type": "markdown",
   "metadata": {},
   "source": [
    "Построим столбчатую диаграмму, чтобы визуализировать среднее количество посадочных мест для каждого вида объекта общественного питания."
   ]
  },
  {
   "cell_type": "code",
   "execution_count": 17,
   "metadata": {},
   "outputs": [
    {
     "data": {
      "image/png": "[encoded data removed]",
      "text/plain": [
       "<Figure size 1152x576 with 1 Axes>"
      ]
     },
     "metadata": {
      "needs_background": "light"
     },
     "output_type": "display_data"
    }
   ],
   "source": [
    "ax = rest_data_number['number'].plot(kind='bar', figsize=(16, 8), grid=True, color='#82b9bf', legend=None)\n",
    "ax.set_title('Среднее количество посадочных мест для каждого вида объекта общественного питания в городе Москве')\n",
    "ax.set_xlabel('Вид объекта')\n",
    "ax.set_ylabel('Среднее количество посадочных мест')\n",
    "ax.set_xticklabels(rest_data_number['object_type'], rotation=45)\n",
    "plt.show()"
   ]
  },
  {
   "cell_type": "markdown",
   "metadata": {},
   "source": [
    "В среднем самое большое количество посадочных мест предоставляют столовые и рестораны. У буфетов посадочных мест в среднем почти в два раза меньше, чем у ресторанов. У баров и кафе мест уже примерно в 3 раза меньше, чем у столовых, а у предприятий быстрого обслуживания - в 2 раза меньше, чем у кафе. Самое маленькое количество мест в среднем предоставляют такие типы заведений, как кафетерии, закусочные и отделы кулинарии в магазинах."
   ]
  },
  {
   "cell_type": "markdown",
   "metadata": {},
   "source": [
    "### Исследование местоположения объектов общественного питания"
   ]
  },
  {
   "cell_type": "markdown",
   "metadata": {},
   "source": [
    "Выделим в отдельный столбец 'street' информацию об улице из столбца 'address'. Зададим список с типами улиц, включив туда также некоторые названия населённых территорий, где нет улиц. Затем зададим функцию, которая выделяет из адреса название улицы."
   ]
  },
  {
   "cell_type": "code",
   "execution_count": 18,
   "metadata": {},
   "outputs": [
    {
     "data": {
      "text/html": [
       "<div>\n",
       "<style scoped>\n",
       "    .dataframe tbody tr th:only-of-type {\n",
       "        vertical-align: middle;\n",
       "    }\n",
       "\n",
       "    .dataframe tbody tr th {\n",
       "        vertical-align: top;\n",
       "    }\n",
       "\n",
       "    .dataframe thead th {\n",
       "        text-align: right;\n",
       "    }\n",
       "</style>\n",
       "<table border=\"1\" class=\"dataframe\">\n",
       "  <thead>\n",
       "    <tr style=\"text-align: right;\">\n",
       "      <th></th>\n",
       "      <th>id</th>\n",
       "      <th>object_name</th>\n",
       "      <th>chain</th>\n",
       "      <th>object_type</th>\n",
       "      <th>address</th>\n",
       "      <th>number</th>\n",
       "      <th>street</th>\n",
       "    </tr>\n",
       "  </thead>\n",
       "  <tbody>\n",
       "    <tr>\n",
       "      <td>0</td>\n",
       "      <td>151635</td>\n",
       "      <td>СМЕТАНА</td>\n",
       "      <td>нет</td>\n",
       "      <td>кафе</td>\n",
       "      <td>город Москва, улица Егора Абакумова, дом 9</td>\n",
       "      <td>48</td>\n",
       "      <td>улица Егора Абакумова</td>\n",
       "    </tr>\n",
       "    <tr>\n",
       "      <td>1</td>\n",
       "      <td>77874</td>\n",
       "      <td>Родник</td>\n",
       "      <td>нет</td>\n",
       "      <td>кафе</td>\n",
       "      <td>город Москва, улица Талалихина, дом 2/1, корпус 1</td>\n",
       "      <td>35</td>\n",
       "      <td>улица Талалихина</td>\n",
       "    </tr>\n",
       "    <tr>\n",
       "      <td>2</td>\n",
       "      <td>24309</td>\n",
       "      <td>Кафе «Академия»</td>\n",
       "      <td>нет</td>\n",
       "      <td>кафе</td>\n",
       "      <td>город Москва, Абельмановская улица, дом 6</td>\n",
       "      <td>95</td>\n",
       "      <td>Абельмановская улица</td>\n",
       "    </tr>\n",
       "    <tr>\n",
       "      <td>3</td>\n",
       "      <td>21894</td>\n",
       "      <td>ПИЦЦЕТОРИЯ</td>\n",
       "      <td>да</td>\n",
       "      <td>кафе</td>\n",
       "      <td>город Москва, Абрамцевская улица, дом 1</td>\n",
       "      <td>40</td>\n",
       "      <td>Абрамцевская улица</td>\n",
       "    </tr>\n",
       "    <tr>\n",
       "      <td>4</td>\n",
       "      <td>119365</td>\n",
       "      <td>Кафе «Вишневая метель»</td>\n",
       "      <td>нет</td>\n",
       "      <td>кафе</td>\n",
       "      <td>город Москва, Абрамцевская улица, дом 9, корпус 1</td>\n",
       "      <td>50</td>\n",
       "      <td>Абрамцевская улица</td>\n",
       "    </tr>\n",
       "    <tr>\n",
       "      <td>...</td>\n",
       "      <td>...</td>\n",
       "      <td>...</td>\n",
       "      <td>...</td>\n",
       "      <td>...</td>\n",
       "      <td>...</td>\n",
       "      <td>...</td>\n",
       "      <td>...</td>\n",
       "    </tr>\n",
       "    <tr>\n",
       "      <td>15361</td>\n",
       "      <td>208537</td>\n",
       "      <td>Шоколадница</td>\n",
       "      <td>да</td>\n",
       "      <td>кафе</td>\n",
       "      <td>город Москва, 3-й Крутицкий переулок, дом 18</td>\n",
       "      <td>50</td>\n",
       "      <td>3-й Крутицкий переулок</td>\n",
       "    </tr>\n",
       "    <tr>\n",
       "      <td>15362</td>\n",
       "      <td>209264</td>\n",
       "      <td>Шоколадница</td>\n",
       "      <td>да</td>\n",
       "      <td>кафе</td>\n",
       "      <td>город Москва, улица Земляной Вал, дом 33</td>\n",
       "      <td>10</td>\n",
       "      <td>улица Земляной Вал</td>\n",
       "    </tr>\n",
       "    <tr>\n",
       "      <td>15363</td>\n",
       "      <td>209186</td>\n",
       "      <td>Шоколадница</td>\n",
       "      <td>да</td>\n",
       "      <td>кафе</td>\n",
       "      <td>город Москва, улица Земляной Вал, дом 33</td>\n",
       "      <td>20</td>\n",
       "      <td>улица Земляной Вал</td>\n",
       "    </tr>\n",
       "    <tr>\n",
       "      <td>15364</td>\n",
       "      <td>221900</td>\n",
       "      <td>Шоколадница</td>\n",
       "      <td>да</td>\n",
       "      <td>кафе</td>\n",
       "      <td>город Москва, поселение Московский, Киевское шоссе, 22-й километр, домовладение 4, строение 1</td>\n",
       "      <td>36</td>\n",
       "      <td>Киевское шоссе</td>\n",
       "    </tr>\n",
       "    <tr>\n",
       "      <td>15365</td>\n",
       "      <td>222535</td>\n",
       "      <td>Шоколадница</td>\n",
       "      <td>да</td>\n",
       "      <td>кафе</td>\n",
       "      <td>город Москва, Ходынский бульвар, дом 4</td>\n",
       "      <td>10</td>\n",
       "      <td>Ходынский бульвар</td>\n",
       "    </tr>\n",
       "  </tbody>\n",
       "</table>\n",
       "<p>15366 rows × 7 columns</p>\n",
       "</div>"
      ],
      "text/plain": [
       "           id             object_name chain object_type  \\\n",
       "0      151635                 СМЕТАНА   нет        кафе   \n",
       "1       77874                  Родник   нет        кафе   \n",
       "2       24309         Кафе «Академия»   нет        кафе   \n",
       "3       21894              ПИЦЦЕТОРИЯ    да        кафе   \n",
       "4      119365  Кафе «Вишневая метель»   нет        кафе   \n",
       "...       ...                     ...   ...         ...   \n",
       "15361  208537             Шоколадница    да        кафе   \n",
       "15362  209264             Шоколадница    да        кафе   \n",
       "15363  209186             Шоколадница    да        кафе   \n",
       "15364  221900             Шоколадница    да        кафе   \n",
       "15365  222535             Шоколадница    да        кафе   \n",
       "\n",
       "                                                                                             address  \\\n",
       "0                                                         город Москва, улица Егора Абакумова, дом 9   \n",
       "1                                                  город Москва, улица Талалихина, дом 2/1, корпус 1   \n",
       "2                                                          город Москва, Абельмановская улица, дом 6   \n",
       "3                                                            город Москва, Абрамцевская улица, дом 1   \n",
       "4                                                  город Москва, Абрамцевская улица, дом 9, корпус 1   \n",
       "...                                                                                              ...   \n",
       "15361                                                   город Москва, 3-й Крутицкий переулок, дом 18   \n",
       "15362                                                       город Москва, улица Земляной Вал, дом 33   \n",
       "15363                                                       город Москва, улица Земляной Вал, дом 33   \n",
       "15364  город Москва, поселение Московский, Киевское шоссе, 22-й километр, домовладение 4, строение 1   \n",
       "15365                                                         город Москва, Ходынский бульвар, дом 4   \n",
       "\n",
       "       number                  street  \n",
       "0          48   улица Егора Абакумова  \n",
       "1          35        улица Талалихина  \n",
       "2          95    Абельмановская улица  \n",
       "3          40      Абрамцевская улица  \n",
       "4          50      Абрамцевская улица  \n",
       "...       ...                     ...  \n",
       "15361      50  3-й Крутицкий переулок  \n",
       "15362      10      улица Земляной Вал  \n",
       "15363      20      улица Земляной Вал  \n",
       "15364      36          Киевское шоссе  \n",
       "15365      10       Ходынский бульвар  \n",
       "\n",
       "[15366 rows x 7 columns]"
      ]
     },
     "execution_count": 18,
     "metadata": {},
     "output_type": "execute_result"
    }
   ],
   "source": [
    "street_names = [\n",
    "    'переулок',\n",
    "    'проспект',\n",
    "    'шоссе',\n",
    "    'бульвар',\n",
    "    'проезд',\n",
    "    'улица',\n",
    "    'набережная',\n",
    "    'площадь',\n",
    "    'вал',\n",
    "    'аллея',\n",
    "    'линия',\n",
    "    'квартал',\n",
    "    'микрорайон',\n",
    "    'тупик',\n",
    "    'территория',\n",
    "    'просек',\n",
    "    'мост',\n",
    "    'парк',\n",
    "    'Зеленоград',\n",
    "    'деревня',\n",
    "    'посёлок',\n",
    "    'поселок',\n",
    "    'село',\n",
    "    'километр Московской Кольцевой',\n",
    "    'километр МКАД',\n",
    "    'Щаповское',\n",
    "    'Марушкинское',\n",
    "    'Вороновское'\n",
    "]\n",
    "\n",
    "def get_street(address):\n",
    "    entries = re.split(',', address)\n",
    "    for entry in entries:\n",
    "        for name in street_names:\n",
    "            if name in entry:\n",
    "                return entry\n",
    "\n",
    "# применяем функцию\n",
    "rest_data['street'] = rest_data['address'].apply(get_street)\n",
    "\n",
    "# убираем пробелы слева и справа\n",
    "rest_data['street'] = rest_data['street'].str.strip()\n",
    "\n",
    "rest_data"
   ]
  },
  {
   "cell_type": "markdown",
   "metadata": {},
   "source": [
    "Проверим, нет ли в новом столбце пропущенных значений:"
   ]
  },
  {
   "cell_type": "code",
   "execution_count": 19,
   "metadata": {
    "scrolled": false
   },
   "outputs": [
    {
     "name": "stdout",
     "output_type": "stream",
     "text": [
      "Количество пропущенных значений в столбце \"street\": 1\n"
     ]
    }
   ],
   "source": [
    "print('Количество пропущенных значений в столбце \"street\":', len(rest_data[rest_data['street'].isna() == True]))"
   ]
  },
  {
   "cell_type": "markdown",
   "metadata": {},
   "source": [
    "В таблице остался всего один пропуск. Выведем на экран строку с пропущенным значением:"
   ]
  },
  {
   "cell_type": "code",
   "execution_count": 20,
   "metadata": {},
   "outputs": [
    {
     "data": {
      "text/html": [
       "<div>\n",
       "<style scoped>\n",
       "    .dataframe tbody tr th:only-of-type {\n",
       "        vertical-align: middle;\n",
       "    }\n",
       "\n",
       "    .dataframe tbody tr th {\n",
       "        vertical-align: top;\n",
       "    }\n",
       "\n",
       "    .dataframe thead th {\n",
       "        text-align: right;\n",
       "    }\n",
       "</style>\n",
       "<table border=\"1\" class=\"dataframe\">\n",
       "  <thead>\n",
       "    <tr style=\"text-align: right;\">\n",
       "      <th></th>\n",
       "      <th>id</th>\n",
       "      <th>object_name</th>\n",
       "      <th>chain</th>\n",
       "      <th>object_type</th>\n",
       "      <th>address</th>\n",
       "      <th>number</th>\n",
       "      <th>street</th>\n",
       "    </tr>\n",
       "  </thead>\n",
       "  <tbody>\n",
       "    <tr>\n",
       "      <td>14807</td>\n",
       "      <td>214436</td>\n",
       "      <td>КАФЕ</td>\n",
       "      <td>нет</td>\n",
       "      <td>буфет</td>\n",
       "      <td>город Москва, поселение \"Мосрентген\", МКАД, 44-й километр, владение 1, строение 1</td>\n",
       "      <td>36</td>\n",
       "      <td>None</td>\n",
       "    </tr>\n",
       "  </tbody>\n",
       "</table>\n",
       "</div>"
      ],
      "text/plain": [
       "           id object_name chain object_type  \\\n",
       "14807  214436        КАФЕ   нет       буфет   \n",
       "\n",
       "                                                                                 address  \\\n",
       "14807  город Москва, поселение \"Мосрентген\", МКАД, 44-й километр, владение 1, строение 1   \n",
       "\n",
       "       number street  \n",
       "14807      36   None  "
      ]
     },
     "execution_count": 20,
     "metadata": {},
     "output_type": "execute_result"
    }
   ],
   "source": [
    "rest_data[rest_data['street'].isna() == True]"
   ]
  },
  {
   "cell_type": "markdown",
   "metadata": {},
   "source": [
    "Заполним единственный оставшийся пропуск вручную."
   ]
  },
  {
   "cell_type": "code",
   "execution_count": 21,
   "metadata": {},
   "outputs": [
    {
     "name": "stdout",
     "output_type": "stream",
     "text": [
      "Количество пропущенных значений в столбце \"street\": 0\n"
     ]
    }
   ],
   "source": [
    "rest_data['street'] = rest_data['street'].fillna('МКАД, 44-й километр')\n",
    "print('Количество пропущенных значений в столбце \"street\":', len(rest_data[rest_data['street'].isna() == True]))"
   ]
  },
  {
   "cell_type": "markdown",
   "metadata": {},
   "source": [
    "Воспользуемся внешней информацией - таблицей соответствия улиц и районов города area_data, и добавим в таблицу rest_data информацию о районе города, к которому принадлежат объекты общественного питания. Выведем десять произвольных строк этой таблицы для ознакомления."
   ]
  },
  {
   "cell_type": "code",
   "execution_count": 22,
   "metadata": {},
   "outputs": [
    {
     "data": {
      "text/html": [
       "<div>\n",
       "<style scoped>\n",
       "    .dataframe tbody tr th:only-of-type {\n",
       "        vertical-align: middle;\n",
       "    }\n",
       "\n",
       "    .dataframe tbody tr th {\n",
       "        vertical-align: top;\n",
       "    }\n",
       "\n",
       "    .dataframe thead th {\n",
       "        text-align: right;\n",
       "    }\n",
       "</style>\n",
       "<table border=\"1\" class=\"dataframe\">\n",
       "  <thead>\n",
       "    <tr style=\"text-align: right;\">\n",
       "      <th></th>\n",
       "      <th>street</th>\n",
       "      <th>area</th>\n",
       "    </tr>\n",
       "  </thead>\n",
       "  <tbody>\n",
       "    <tr>\n",
       "      <td>3015</td>\n",
       "      <td>Липецкая улица</td>\n",
       "      <td>Район Бирюлево Восточное</td>\n",
       "    </tr>\n",
       "    <tr>\n",
       "      <td>1073</td>\n",
       "      <td>улица 9 Мая</td>\n",
       "      <td>Район Восточный</td>\n",
       "    </tr>\n",
       "    <tr>\n",
       "      <td>993</td>\n",
       "      <td>улица Измайловский Вал</td>\n",
       "      <td>Район Соколиная Гора</td>\n",
       "    </tr>\n",
       "    <tr>\n",
       "      <td>3116</td>\n",
       "      <td>Балаклавский проспект</td>\n",
       "      <td>Район Чертаново Северное</td>\n",
       "    </tr>\n",
       "    <tr>\n",
       "      <td>3599</td>\n",
       "      <td>улица Знаменка</td>\n",
       "      <td>Район Хамовники</td>\n",
       "    </tr>\n",
       "    <tr>\n",
       "      <td>2801</td>\n",
       "      <td>Московская Кольцевая Автодорога</td>\n",
       "      <td>Район Митино</td>\n",
       "    </tr>\n",
       "    <tr>\n",
       "      <td>2579</td>\n",
       "      <td>Мурманский проезд</td>\n",
       "      <td>Останкинский район</td>\n",
       "    </tr>\n",
       "    <tr>\n",
       "      <td>3079</td>\n",
       "      <td>улица Бехтерева</td>\n",
       "      <td>Район Царицыно</td>\n",
       "    </tr>\n",
       "    <tr>\n",
       "      <td>4423</td>\n",
       "      <td>улица Сервантеса</td>\n",
       "      <td>поселение Сосенское</td>\n",
       "    </tr>\n",
       "    <tr>\n",
       "      <td>779</td>\n",
       "      <td>Большая Косинская улица</td>\n",
       "      <td>Район Косино-Ухтомский</td>\n",
       "    </tr>\n",
       "  </tbody>\n",
       "</table>\n",
       "</div>"
      ],
      "text/plain": [
       "                               street                      area\n",
       "3015                   Липецкая улица  Район Бирюлево Восточное\n",
       "1073                      улица 9 Мая           Район Восточный\n",
       "993            улица Измайловский Вал      Район Соколиная Гора\n",
       "3116            Балаклавский проспект  Район Чертаново Северное\n",
       "3599                   улица Знаменка           Район Хамовники\n",
       "2801  Московская Кольцевая Автодорога              Район Митино\n",
       "2579                Мурманский проезд        Останкинский район\n",
       "3079                  улица Бехтерева            Район Царицыно\n",
       "4423                 улица Сервантеса       поселение Сосенское\n",
       "779           Большая Косинская улица    Район Косино-Ухтомский"
      ]
     },
     "execution_count": 22,
     "metadata": {},
     "output_type": "execute_result"
    }
   ],
   "source": [
    "spreadsheet_id = '1wTkL0BWDCchtSgFsciRMuQWDJxmcnzXqoauclrQHfUo'\n",
    "file_name = 'https://docs.google.com/spreadsheets/d/{}/export?format=csv'.format(spreadsheet_id)\n",
    "r = requests.get(file_name)\n",
    "area_data = pd.read_csv(BytesIO(r.content))\n",
    "area_data = area_data.rename(columns={'streetname': 'street'}).drop(columns=['areaid', 'okrug'])\n",
    "area_data.sample(n=10, random_state=1)"
   ]
  },
  {
   "cell_type": "markdown",
   "metadata": {},
   "source": [
    "Так как одной улице в таблице может соответствовать несколько районов, сгруппируем таблицу по названиям улиц и сложим районы, соответствующие улицам, в список."
   ]
  },
  {
   "cell_type": "code",
   "execution_count": 23,
   "metadata": {
    "scrolled": false
   },
   "outputs": [
    {
     "data": {
      "text/html": [
       "<div>\n",
       "<style scoped>\n",
       "    .dataframe tbody tr th:only-of-type {\n",
       "        vertical-align: middle;\n",
       "    }\n",
       "\n",
       "    .dataframe tbody tr th {\n",
       "        vertical-align: top;\n",
       "    }\n",
       "\n",
       "    .dataframe thead th {\n",
       "        text-align: right;\n",
       "    }\n",
       "</style>\n",
       "<table border=\"1\" class=\"dataframe\">\n",
       "  <thead>\n",
       "    <tr style=\"text-align: right;\">\n",
       "      <th></th>\n",
       "      <th>street</th>\n",
       "      <th>area</th>\n",
       "    </tr>\n",
       "  </thead>\n",
       "  <tbody>\n",
       "    <tr>\n",
       "      <td>0</td>\n",
       "      <td>1-й Автозаводский проезд</td>\n",
       "      <td>[Даниловский район]</td>\n",
       "    </tr>\n",
       "    <tr>\n",
       "      <td>1</td>\n",
       "      <td>1-й Амбулаторный проезд</td>\n",
       "      <td>[Район Аэропорт]</td>\n",
       "    </tr>\n",
       "    <tr>\n",
       "      <td>2</td>\n",
       "      <td>1-й Архивный переулок</td>\n",
       "      <td>[Район Хамовники]</td>\n",
       "    </tr>\n",
       "    <tr>\n",
       "      <td>3</td>\n",
       "      <td>1-й Бабьегородский переулок</td>\n",
       "      <td>[Район Якиманка]</td>\n",
       "    </tr>\n",
       "    <tr>\n",
       "      <td>4</td>\n",
       "      <td>1-й Балтийский переулок</td>\n",
       "      <td>[Район Аэропорт]</td>\n",
       "    </tr>\n",
       "    <tr>\n",
       "      <td>...</td>\n",
       "      <td>...</td>\n",
       "      <td>...</td>\n",
       "    </tr>\n",
       "    <tr>\n",
       "      <td>3739</td>\n",
       "      <td>улица Юности</td>\n",
       "      <td>[Район Вешняки, Район Матушкино-Савелки]</td>\n",
       "    </tr>\n",
       "    <tr>\n",
       "      <td>3740</td>\n",
       "      <td>улица Юных Ленинцев</td>\n",
       "      <td>[Район Кузьминки, Район Текстильщики]</td>\n",
       "    </tr>\n",
       "    <tr>\n",
       "      <td>3741</td>\n",
       "      <td>улица Яблочкова</td>\n",
       "      <td>[Бутырский район]</td>\n",
       "    </tr>\n",
       "    <tr>\n",
       "      <td>3742</td>\n",
       "      <td>шоссе Фрезер</td>\n",
       "      <td>[Нижегородский район]</td>\n",
       "    </tr>\n",
       "    <tr>\n",
       "      <td>3743</td>\n",
       "      <td>шоссе Энтузиастов</td>\n",
       "      <td>[Район Измайлово, Район Перово, Район Соколиная Гора, Район Ивановское, Район Лефортово]</td>\n",
       "    </tr>\n",
       "  </tbody>\n",
       "</table>\n",
       "<p>3744 rows × 2 columns</p>\n",
       "</div>"
      ],
      "text/plain": [
       "                           street  \\\n",
       "0        1-й Автозаводский проезд   \n",
       "1         1-й Амбулаторный проезд   \n",
       "2           1-й Архивный переулок   \n",
       "3     1-й Бабьегородский переулок   \n",
       "4         1-й Балтийский переулок   \n",
       "...                           ...   \n",
       "3739                 улица Юности   \n",
       "3740          улица Юных Ленинцев   \n",
       "3741              улица Яблочкова   \n",
       "3742                 шоссе Фрезер   \n",
       "3743            шоссе Энтузиастов   \n",
       "\n",
       "                                                                                          area  \n",
       "0                                                                          [Даниловский район]  \n",
       "1                                                                             [Район Аэропорт]  \n",
       "2                                                                            [Район Хамовники]  \n",
       "3                                                                             [Район Якиманка]  \n",
       "4                                                                             [Район Аэропорт]  \n",
       "...                                                                                        ...  \n",
       "3739                                                  [Район Вешняки, Район Матушкино-Савелки]  \n",
       "3740                                                     [Район Кузьминки, Район Текстильщики]  \n",
       "3741                                                                         [Бутырский район]  \n",
       "3742                                                                     [Нижегородский район]  \n",
       "3743  [Район Измайлово, Район Перово, Район Соколиная Гора, Район Ивановское, Район Лефортово]  \n",
       "\n",
       "[3744 rows x 2 columns]"
      ]
     },
     "execution_count": 23,
     "metadata": {},
     "output_type": "execute_result"
    }
   ],
   "source": [
    "area_data = area_data.groupby(['street']).agg({'area': 'unique'}).reset_index()\n",
    "area_data"
   ]
  },
  {
   "cell_type": "markdown",
   "metadata": {},
   "source": [
    "Добавим к основной таблице rest_data столбец с районом методом `.merge()`. Проверим, есть ли пропуски в новом столбце."
   ]
  },
  {
   "cell_type": "code",
   "execution_count": 24,
   "metadata": {},
   "outputs": [
    {
     "name": "stdout",
     "output_type": "stream",
     "text": [
      "Количество пропущенных значений в столбце \"area\": 39\n"
     ]
    }
   ],
   "source": [
    "rest_data_area = rest_data.merge(area_data, on = ['street'], how='left')\n",
    "print('Количество пропущенных значений в столбце \"area\":', len(rest_data_area[rest_data_area['area'].isna() == True]))"
   ]
  },
  {
   "cell_type": "markdown",
   "metadata": {},
   "source": [
    "Выведем на экран строки с отстуствующими значениями в столбце 'area':"
   ]
  },
  {
   "cell_type": "code",
   "execution_count": 25,
   "metadata": {
    "scrolled": true
   },
   "outputs": [
    {
     "data": {
      "text/html": [
       "<div>\n",
       "<style scoped>\n",
       "    .dataframe tbody tr th:only-of-type {\n",
       "        vertical-align: middle;\n",
       "    }\n",
       "\n",
       "    .dataframe tbody tr th {\n",
       "        vertical-align: top;\n",
       "    }\n",
       "\n",
       "    .dataframe thead th {\n",
       "        text-align: right;\n",
       "    }\n",
       "</style>\n",
       "<table border=\"1\" class=\"dataframe\">\n",
       "  <thead>\n",
       "    <tr style=\"text-align: right;\">\n",
       "      <th></th>\n",
       "      <th>id</th>\n",
       "      <th>object_name</th>\n",
       "      <th>chain</th>\n",
       "      <th>object_type</th>\n",
       "      <th>address</th>\n",
       "      <th>number</th>\n",
       "      <th>street</th>\n",
       "      <th>area</th>\n",
       "    </tr>\n",
       "  </thead>\n",
       "  <tbody>\n",
       "    <tr>\n",
       "      <td>1737</td>\n",
       "      <td>69842</td>\n",
       "      <td>Чайхона №1</td>\n",
       "      <td>да</td>\n",
       "      <td>ресторан</td>\n",
       "      <td>город Москва, улица Мичуринский Проспект, Олимпийская Деревня, дом 1, корпус 1</td>\n",
       "      <td>94</td>\n",
       "      <td>улица Мичуринский Проспект</td>\n",
       "      <td>NaN</td>\n",
       "    </tr>\n",
       "    <tr>\n",
       "      <td>2942</td>\n",
       "      <td>19643</td>\n",
       "      <td>Бар «ЛЮКС»</td>\n",
       "      <td>нет</td>\n",
       "      <td>бар</td>\n",
       "      <td>город Москва, улица Мичуринский Проспект, Олимпийская Деревня, дом 4, корпус 1</td>\n",
       "      <td>24</td>\n",
       "      <td>улица Мичуринский Проспект</td>\n",
       "      <td>NaN</td>\n",
       "    </tr>\n",
       "    <tr>\n",
       "      <td>2943</td>\n",
       "      <td>19978</td>\n",
       "      <td>Ресторан «Люкс»</td>\n",
       "      <td>нет</td>\n",
       "      <td>ресторан</td>\n",
       "      <td>город Москва, улица Мичуринский Проспект, Олимпийская Деревня, дом 4, корпус 1</td>\n",
       "      <td>100</td>\n",
       "      <td>улица Мичуринский Проспект</td>\n",
       "      <td>NaN</td>\n",
       "    </tr>\n",
       "    <tr>\n",
       "      <td>2944</td>\n",
       "      <td>23451</td>\n",
       "      <td>СТОЛОВАЯ при «ЛЮКС»</td>\n",
       "      <td>нет</td>\n",
       "      <td>столовая</td>\n",
       "      <td>город Москва, улица Мичуринский Проспект, Олимпийская Деревня, дом 4, корпус 1</td>\n",
       "      <td>66</td>\n",
       "      <td>улица Мичуринский Проспект</td>\n",
       "      <td>NaN</td>\n",
       "    </tr>\n",
       "    <tr>\n",
       "      <td>3134</td>\n",
       "      <td>69195</td>\n",
       "      <td>МАКДОНАЛДС</td>\n",
       "      <td>да</td>\n",
       "      <td>предприятие быстрого обслуживания</td>\n",
       "      <td>город Москва, улица Героев-Панфиловцев, дом 7</td>\n",
       "      <td>114</td>\n",
       "      <td>улица Героев-Панфиловцев</td>\n",
       "      <td>NaN</td>\n",
       "    </tr>\n",
       "    <tr>\n",
       "      <td>3135</td>\n",
       "      <td>127544</td>\n",
       "      <td>Пиццерия Хвост Бобра</td>\n",
       "      <td>нет</td>\n",
       "      <td>кафе</td>\n",
       "      <td>город Москва, улица Героев-Панфиловцев, дом 7</td>\n",
       "      <td>10</td>\n",
       "      <td>улица Героев-Панфиловцев</td>\n",
       "      <td>NaN</td>\n",
       "    </tr>\n",
       "    <tr>\n",
       "      <td>3485</td>\n",
       "      <td>79548</td>\n",
       "      <td>Ресторан «Florentini»</td>\n",
       "      <td>да</td>\n",
       "      <td>ресторан</td>\n",
       "      <td>город Москва, улица Мичуринский Проспект, Олимпийская Деревня, дом 4, корпус 3</td>\n",
       "      <td>95</td>\n",
       "      <td>улица Мичуринский Проспект</td>\n",
       "      <td>NaN</td>\n",
       "    </tr>\n",
       "    <tr>\n",
       "      <td>3490</td>\n",
       "      <td>22942</td>\n",
       "      <td>ПАБ Zolden (закрыто на ремонт в 2018 году)</td>\n",
       "      <td>нет</td>\n",
       "      <td>ресторан</td>\n",
       "      <td>город Москва, улица Мичуринский Проспект, Олимпийская Деревня, дом 3</td>\n",
       "      <td>150</td>\n",
       "      <td>улица Мичуринский Проспект</td>\n",
       "      <td>NaN</td>\n",
       "    </tr>\n",
       "    <tr>\n",
       "      <td>6434</td>\n",
       "      <td>23577</td>\n",
       "      <td>СТОЛОВАЯ ШКОЛА 843 (812)</td>\n",
       "      <td>нет</td>\n",
       "      <td>столовая</td>\n",
       "      <td>город Москва, улица Мичуринский Проспект, Олимпийская Деревня, владение 22А</td>\n",
       "      <td>150</td>\n",
       "      <td>улица Мичуринский Проспект</td>\n",
       "      <td>NaN</td>\n",
       "    </tr>\n",
       "    <tr>\n",
       "      <td>6448</td>\n",
       "      <td>129686</td>\n",
       "      <td>Три правила</td>\n",
       "      <td>нет</td>\n",
       "      <td>кафе</td>\n",
       "      <td>город Москва, улица Мичуринский Проспект, Олимпийская Деревня, дом 3, корпус 1</td>\n",
       "      <td>70</td>\n",
       "      <td>улица Мичуринский Проспект</td>\n",
       "      <td>NaN</td>\n",
       "    </tr>\n",
       "    <tr>\n",
       "      <td>6449</td>\n",
       "      <td>124392</td>\n",
       "      <td>Ресторан «Джардино Да Пино»</td>\n",
       "      <td>да</td>\n",
       "      <td>ресторан</td>\n",
       "      <td>город Москва, улица Мичуринский Проспект, Олимпийская Деревня, дом 3, корпус 1</td>\n",
       "      <td>100</td>\n",
       "      <td>улица Мичуринский Проспект</td>\n",
       "      <td>NaN</td>\n",
       "    </tr>\n",
       "    <tr>\n",
       "      <td>6450</td>\n",
       "      <td>19857</td>\n",
       "      <td>Кафе «Шоколадница»</td>\n",
       "      <td>да</td>\n",
       "      <td>кафе</td>\n",
       "      <td>город Москва, улица Мичуринский Проспект, Олимпийская Деревня, дом 3, корпус 1</td>\n",
       "      <td>84</td>\n",
       "      <td>улица Мичуринский Проспект</td>\n",
       "      <td>NaN</td>\n",
       "    </tr>\n",
       "    <tr>\n",
       "      <td>6451</td>\n",
       "      <td>19835</td>\n",
       "      <td>МАКДОНАЛДС</td>\n",
       "      <td>да</td>\n",
       "      <td>предприятие быстрого обслуживания</td>\n",
       "      <td>город Москва, улица Мичуринский Проспект, Олимпийская Деревня, дом 3, корпус 1</td>\n",
       "      <td>50</td>\n",
       "      <td>улица Мичуринский Проспект</td>\n",
       "      <td>NaN</td>\n",
       "    </tr>\n",
       "    <tr>\n",
       "      <td>6452</td>\n",
       "      <td>19841</td>\n",
       "      <td>Бургер Кинг</td>\n",
       "      <td>да</td>\n",
       "      <td>предприятие быстрого обслуживания</td>\n",
       "      <td>город Москва, улица Мичуринский Проспект, Олимпийская Деревня, дом 3, корпус 1</td>\n",
       "      <td>67</td>\n",
       "      <td>улица Мичуринский Проспект</td>\n",
       "      <td>NaN</td>\n",
       "    </tr>\n",
       "    <tr>\n",
       "      <td>6453</td>\n",
       "      <td>19842</td>\n",
       "      <td>Кафе «KFC»</td>\n",
       "      <td>да</td>\n",
       "      <td>предприятие быстрого обслуживания</td>\n",
       "      <td>город Москва, улица Мичуринский Проспект, Олимпийская Деревня, дом 3, корпус 1</td>\n",
       "      <td>60</td>\n",
       "      <td>улица Мичуринский Проспект</td>\n",
       "      <td>NaN</td>\n",
       "    </tr>\n",
       "    <tr>\n",
       "      <td>6454</td>\n",
       "      <td>19692</td>\n",
       "      <td>Кафе «МЕЛЕНКА»</td>\n",
       "      <td>да</td>\n",
       "      <td>предприятие быстрого обслуживания</td>\n",
       "      <td>город Москва, улица Мичуринский Проспект, Олимпийская Деревня, дом 3, корпус 1</td>\n",
       "      <td>60</td>\n",
       "      <td>улица Мичуринский Проспект</td>\n",
       "      <td>NaN</td>\n",
       "    </tr>\n",
       "    <tr>\n",
       "      <td>6455</td>\n",
       "      <td>20192</td>\n",
       "      <td>Кафе «Кофейня Старбакс»</td>\n",
       "      <td>да</td>\n",
       "      <td>кафе</td>\n",
       "      <td>город Москва, улица Мичуринский Проспект, Олимпийская Деревня, дом 3, корпус 1</td>\n",
       "      <td>60</td>\n",
       "      <td>улица Мичуринский Проспект</td>\n",
       "      <td>NaN</td>\n",
       "    </tr>\n",
       "    <tr>\n",
       "      <td>6456</td>\n",
       "      <td>150346</td>\n",
       "      <td>Кафе «Андерсон»</td>\n",
       "      <td>да</td>\n",
       "      <td>кафе</td>\n",
       "      <td>город Москва, улица Мичуринский Проспект, Олимпийская Деревня, дом 3, корпус 1</td>\n",
       "      <td>50</td>\n",
       "      <td>улица Мичуринский Проспект</td>\n",
       "      <td>NaN</td>\n",
       "    </tr>\n",
       "    <tr>\n",
       "      <td>6457</td>\n",
       "      <td>22868</td>\n",
       "      <td>Ресторан «Колбасофф»</td>\n",
       "      <td>да</td>\n",
       "      <td>ресторан</td>\n",
       "      <td>город Москва, улица Мичуринский Проспект, Олимпийская Деревня, дом 3, корпус 1</td>\n",
       "      <td>120</td>\n",
       "      <td>улица Мичуринский Проспект</td>\n",
       "      <td>NaN</td>\n",
       "    </tr>\n",
       "    <tr>\n",
       "      <td>6499</td>\n",
       "      <td>23559</td>\n",
       "      <td>СТОЛОВАЯ ШКОЛА 843</td>\n",
       "      <td>нет</td>\n",
       "      <td>столовая</td>\n",
       "      <td>город Москва, улица Мичуринский Проспект, Олимпийская Деревня, дом 23, строение 2</td>\n",
       "      <td>150</td>\n",
       "      <td>улица Мичуринский Проспект</td>\n",
       "      <td>NaN</td>\n",
       "    </tr>\n",
       "    <tr>\n",
       "      <td>6502</td>\n",
       "      <td>125541</td>\n",
       "      <td>Столовая</td>\n",
       "      <td>нет</td>\n",
       "      <td>столовая</td>\n",
       "      <td>город Москва, улица Мичуринский Проспект, Олимпийская Деревня, дом 1, корпус 3, строение 1</td>\n",
       "      <td>50</td>\n",
       "      <td>улица Мичуринский Проспект</td>\n",
       "      <td>NaN</td>\n",
       "    </tr>\n",
       "    <tr>\n",
       "      <td>6503</td>\n",
       "      <td>125542</td>\n",
       "      <td>Буфет</td>\n",
       "      <td>нет</td>\n",
       "      <td>буфет</td>\n",
       "      <td>город Москва, улица Мичуринский Проспект, Олимпийская Деревня, дом 1, корпус 3, строение 1</td>\n",
       "      <td>10</td>\n",
       "      <td>улица Мичуринский Проспект</td>\n",
       "      <td>NaN</td>\n",
       "    </tr>\n",
       "    <tr>\n",
       "      <td>8844</td>\n",
       "      <td>19849</td>\n",
       "      <td>Кафе «Крэйзи парк»</td>\n",
       "      <td>нет</td>\n",
       "      <td>кафе</td>\n",
       "      <td>город Москва, улица Мичуринский Проспект, Олимпийская Деревня, дом 3, корпус 1</td>\n",
       "      <td>40</td>\n",
       "      <td>улица Мичуринский Проспект</td>\n",
       "      <td>NaN</td>\n",
       "    </tr>\n",
       "    <tr>\n",
       "      <td>8895</td>\n",
       "      <td>69829</td>\n",
       "      <td>Хинкальная</td>\n",
       "      <td>да</td>\n",
       "      <td>кафе</td>\n",
       "      <td>город Москва, улица Мичуринский Проспект, Олимпийская Деревня, дом 4, корпус 32</td>\n",
       "      <td>60</td>\n",
       "      <td>улица Мичуринский Проспект</td>\n",
       "      <td>NaN</td>\n",
       "    </tr>\n",
       "    <tr>\n",
       "      <td>8898</td>\n",
       "      <td>86794</td>\n",
       "      <td>Кафе «Баскин Роббинс»</td>\n",
       "      <td>да</td>\n",
       "      <td>кафе</td>\n",
       "      <td>город Москва, улица Мичуринский Проспект, Олимпийская Деревня, дом 3, корпус 1</td>\n",
       "      <td>10</td>\n",
       "      <td>улица Мичуринский Проспект</td>\n",
       "      <td>NaN</td>\n",
       "    </tr>\n",
       "    <tr>\n",
       "      <td>10848</td>\n",
       "      <td>141469</td>\n",
       "      <td>Berikoni</td>\n",
       "      <td>нет</td>\n",
       "      <td>ресторан</td>\n",
       "      <td>город Москва, улица Мичуринский Проспект, Олимпийская Деревня, дом 4, корпус 3</td>\n",
       "      <td>80</td>\n",
       "      <td>улица Мичуринский Проспект</td>\n",
       "      <td>NaN</td>\n",
       "    </tr>\n",
       "    <tr>\n",
       "      <td>12192</td>\n",
       "      <td>192419</td>\n",
       "      <td>Кондитерская -пекарня «Мия»</td>\n",
       "      <td>нет</td>\n",
       "      <td>кафе</td>\n",
       "      <td>город Москва, улица Мичуринский Проспект, Олимпийская Деревня, дом 4, корпус 32</td>\n",
       "      <td>2</td>\n",
       "      <td>улица Мичуринский Проспект</td>\n",
       "      <td>NaN</td>\n",
       "    </tr>\n",
       "    <tr>\n",
       "      <td>12479</td>\n",
       "      <td>192883</td>\n",
       "      <td>Milk&amp;Beans</td>\n",
       "      <td>нет</td>\n",
       "      <td>бар</td>\n",
       "      <td>город Москва, улица Мичуринский Проспект, Олимпийская Деревня, дом 1, корпус 1</td>\n",
       "      <td>2</td>\n",
       "      <td>улица Мичуринский Проспект</td>\n",
       "      <td>NaN</td>\n",
       "    </tr>\n",
       "    <tr>\n",
       "      <td>12623</td>\n",
       "      <td>192876</td>\n",
       "      <td>Шаурма</td>\n",
       "      <td>нет</td>\n",
       "      <td>предприятие быстрого обслуживания</td>\n",
       "      <td>город Москва, улица Мичуринский Проспект, Олимпийская Деревня, дом 1</td>\n",
       "      <td>1</td>\n",
       "      <td>улица Мичуринский Проспект</td>\n",
       "      <td>NaN</td>\n",
       "    </tr>\n",
       "    <tr>\n",
       "      <td>12624</td>\n",
       "      <td>192872</td>\n",
       "      <td>Кафе АРКА</td>\n",
       "      <td>нет</td>\n",
       "      <td>кафе</td>\n",
       "      <td>город Москва, улица Мичуринский Проспект, Олимпийская Деревня, дом 1</td>\n",
       "      <td>36</td>\n",
       "      <td>улица Мичуринский Проспект</td>\n",
       "      <td>NaN</td>\n",
       "    </tr>\n",
       "    <tr>\n",
       "      <td>12625</td>\n",
       "      <td>192874</td>\n",
       "      <td>ПИВО</td>\n",
       "      <td>нет</td>\n",
       "      <td>бар</td>\n",
       "      <td>город Москва, улица Мичуринский Проспект, Олимпийская Деревня, дом 1</td>\n",
       "      <td>4</td>\n",
       "      <td>улица Мичуринский Проспект</td>\n",
       "      <td>NaN</td>\n",
       "    </tr>\n",
       "    <tr>\n",
       "      <td>12628</td>\n",
       "      <td>192893</td>\n",
       "      <td>Выпечка</td>\n",
       "      <td>нет</td>\n",
       "      <td>кафе</td>\n",
       "      <td>город Москва, улица Мичуринский Проспект, Олимпийская Деревня, дом 4, корпус 3</td>\n",
       "      <td>3</td>\n",
       "      <td>улица Мичуринский Проспект</td>\n",
       "      <td>NaN</td>\n",
       "    </tr>\n",
       "    <tr>\n",
       "      <td>12964</td>\n",
       "      <td>193620</td>\n",
       "      <td>Dim Sum&amp;Co</td>\n",
       "      <td>нет</td>\n",
       "      <td>кафе</td>\n",
       "      <td>город Москва, улица Мичуринский Проспект, Олимпийская Деревня, дом 3, корпус 1</td>\n",
       "      <td>60</td>\n",
       "      <td>улица Мичуринский Проспект</td>\n",
       "      <td>NaN</td>\n",
       "    </tr>\n",
       "    <tr>\n",
       "      <td>12965</td>\n",
       "      <td>193624</td>\n",
       "      <td>MATCHA Sushi&amp;Bento</td>\n",
       "      <td>нет</td>\n",
       "      <td>кафе</td>\n",
       "      <td>город Москва, улица Мичуринский Проспект, Олимпийская Деревня, дом 3, корпус 1</td>\n",
       "      <td>30</td>\n",
       "      <td>улица Мичуринский Проспект</td>\n",
       "      <td>NaN</td>\n",
       "    </tr>\n",
       "    <tr>\n",
       "      <td>12966</td>\n",
       "      <td>194798</td>\n",
       "      <td>One Price Coffee</td>\n",
       "      <td>нет</td>\n",
       "      <td>кафетерий</td>\n",
       "      <td>город Москва, улица Мичуринский Проспект, Олимпийская Деревня, дом 3, корпус 1</td>\n",
       "      <td>4</td>\n",
       "      <td>улица Мичуринский Проспект</td>\n",
       "      <td>NaN</td>\n",
       "    </tr>\n",
       "    <tr>\n",
       "      <td>13345</td>\n",
       "      <td>193627</td>\n",
       "      <td>Гудман</td>\n",
       "      <td>да</td>\n",
       "      <td>кафе</td>\n",
       "      <td>город Москва, улица Мичуринский Проспект, Олимпийская Деревня, дом 3, корпус 1</td>\n",
       "      <td>80</td>\n",
       "      <td>улица Мичуринский Проспект</td>\n",
       "      <td>NaN</td>\n",
       "    </tr>\n",
       "    <tr>\n",
       "      <td>14343</td>\n",
       "      <td>215633</td>\n",
       "      <td>ГРИЛЬ ХАУС</td>\n",
       "      <td>нет</td>\n",
       "      <td>кафе</td>\n",
       "      <td>город Москва, улица Мичуринский Проспект, Олимпийская Деревня, дом 3, корпус 1</td>\n",
       "      <td>50</td>\n",
       "      <td>улица Мичуринский Проспект</td>\n",
       "      <td>NaN</td>\n",
       "    </tr>\n",
       "    <tr>\n",
       "      <td>14344</td>\n",
       "      <td>215637</td>\n",
       "      <td>COFFEE WAY</td>\n",
       "      <td>нет</td>\n",
       "      <td>кафе</td>\n",
       "      <td>город Москва, улица Мичуринский Проспект, Олимпийская Деревня, дом 3, корпус 1</td>\n",
       "      <td>30</td>\n",
       "      <td>улица Мичуринский Проспект</td>\n",
       "      <td>NaN</td>\n",
       "    </tr>\n",
       "    <tr>\n",
       "      <td>14345</td>\n",
       "      <td>215589</td>\n",
       "      <td>Waffle Fish</td>\n",
       "      <td>нет</td>\n",
       "      <td>кафе</td>\n",
       "      <td>город Москва, улица Мичуринский Проспект, Олимпийская Деревня, дом 3, корпус 1</td>\n",
       "      <td>2</td>\n",
       "      <td>улица Мичуринский Проспект</td>\n",
       "      <td>NaN</td>\n",
       "    </tr>\n",
       "  </tbody>\n",
       "</table>\n",
       "</div>"
      ],
      "text/plain": [
       "           id                                 object_name chain  \\\n",
       "1737    69842                                  Чайхона №1    да   \n",
       "2942    19643                                  Бар «ЛЮКС»   нет   \n",
       "2943    19978                             Ресторан «Люкс»   нет   \n",
       "2944    23451                         СТОЛОВАЯ при «ЛЮКС»   нет   \n",
       "3134    69195                                  МАКДОНАЛДС    да   \n",
       "3135   127544                        Пиццерия Хвост Бобра   нет   \n",
       "3485    79548                       Ресторан «Florentini»    да   \n",
       "3490    22942  ПАБ Zolden (закрыто на ремонт в 2018 году)   нет   \n",
       "6434    23577                    СТОЛОВАЯ ШКОЛА 843 (812)   нет   \n",
       "6448   129686                                 Три правила   нет   \n",
       "6449   124392                 Ресторан «Джардино Да Пино»    да   \n",
       "6450    19857                          Кафе «Шоколадница»    да   \n",
       "6451    19835                                  МАКДОНАЛДС    да   \n",
       "6452    19841                                 Бургер Кинг    да   \n",
       "6453    19842                                  Кафе «KFC»    да   \n",
       "6454    19692                              Кафе «МЕЛЕНКА»    да   \n",
       "6455    20192                     Кафе «Кофейня Старбакс»    да   \n",
       "6456   150346                             Кафе «Андерсон»    да   \n",
       "6457    22868                        Ресторан «Колбасофф»    да   \n",
       "6499    23559                          СТОЛОВАЯ ШКОЛА 843   нет   \n",
       "6502   125541                                    Столовая   нет   \n",
       "6503   125542                                       Буфет   нет   \n",
       "8844    19849                          Кафе «Крэйзи парк»   нет   \n",
       "8895    69829                                  Хинкальная    да   \n",
       "8898    86794                       Кафе «Баскин Роббинс»    да   \n",
       "10848  141469                                    Berikoni   нет   \n",
       "12192  192419                 Кондитерская -пекарня «Мия»   нет   \n",
       "12479  192883                                  Milk&Beans   нет   \n",
       "12623  192876                                      Шаурма   нет   \n",
       "12624  192872                                   Кафе АРКА   нет   \n",
       "12625  192874                                        ПИВО   нет   \n",
       "12628  192893                                     Выпечка   нет   \n",
       "12964  193620                                  Dim Sum&Co   нет   \n",
       "12965  193624                          MATCHA Sushi&Bento   нет   \n",
       "12966  194798                            One Price Coffee   нет   \n",
       "13345  193627                                      Гудман    да   \n",
       "14343  215633                                  ГРИЛЬ ХАУС   нет   \n",
       "14344  215637                                  COFFEE WAY   нет   \n",
       "14345  215589                                 Waffle Fish   нет   \n",
       "\n",
       "                             object_type  \\\n",
       "1737                            ресторан   \n",
       "2942                                 бар   \n",
       "2943                            ресторан   \n",
       "2944                            столовая   \n",
       "3134   предприятие быстрого обслуживания   \n",
       "3135                                кафе   \n",
       "3485                            ресторан   \n",
       "3490                            ресторан   \n",
       "6434                            столовая   \n",
       "6448                                кафе   \n",
       "6449                            ресторан   \n",
       "6450                                кафе   \n",
       "6451   предприятие быстрого обслуживания   \n",
       "6452   предприятие быстрого обслуживания   \n",
       "6453   предприятие быстрого обслуживания   \n",
       "6454   предприятие быстрого обслуживания   \n",
       "6455                                кафе   \n",
       "6456                                кафе   \n",
       "6457                            ресторан   \n",
       "6499                            столовая   \n",
       "6502                            столовая   \n",
       "6503                               буфет   \n",
       "8844                                кафе   \n",
       "8895                                кафе   \n",
       "8898                                кафе   \n",
       "10848                           ресторан   \n",
       "12192                               кафе   \n",
       "12479                                бар   \n",
       "12623  предприятие быстрого обслуживания   \n",
       "12624                               кафе   \n",
       "12625                                бар   \n",
       "12628                               кафе   \n",
       "12964                               кафе   \n",
       "12965                               кафе   \n",
       "12966                          кафетерий   \n",
       "13345                               кафе   \n",
       "14343                               кафе   \n",
       "14344                               кафе   \n",
       "14345                               кафе   \n",
       "\n",
       "                                                                                          address  \\\n",
       "1737               город Москва, улица Мичуринский Проспект, Олимпийская Деревня, дом 1, корпус 1   \n",
       "2942               город Москва, улица Мичуринский Проспект, Олимпийская Деревня, дом 4, корпус 1   \n",
       "2943               город Москва, улица Мичуринский Проспект, Олимпийская Деревня, дом 4, корпус 1   \n",
       "2944               город Москва, улица Мичуринский Проспект, Олимпийская Деревня, дом 4, корпус 1   \n",
       "3134                                                город Москва, улица Героев-Панфиловцев, дом 7   \n",
       "3135                                                город Москва, улица Героев-Панфиловцев, дом 7   \n",
       "3485               город Москва, улица Мичуринский Проспект, Олимпийская Деревня, дом 4, корпус 3   \n",
       "3490                         город Москва, улица Мичуринский Проспект, Олимпийская Деревня, дом 3   \n",
       "6434                  город Москва, улица Мичуринский Проспект, Олимпийская Деревня, владение 22А   \n",
       "6448               город Москва, улица Мичуринский Проспект, Олимпийская Деревня, дом 3, корпус 1   \n",
       "6449               город Москва, улица Мичуринский Проспект, Олимпийская Деревня, дом 3, корпус 1   \n",
       "6450               город Москва, улица Мичуринский Проспект, Олимпийская Деревня, дом 3, корпус 1   \n",
       "6451               город Москва, улица Мичуринский Проспект, Олимпийская Деревня, дом 3, корпус 1   \n",
       "6452               город Москва, улица Мичуринский Проспект, Олимпийская Деревня, дом 3, корпус 1   \n",
       "6453               город Москва, улица Мичуринский Проспект, Олимпийская Деревня, дом 3, корпус 1   \n",
       "6454               город Москва, улица Мичуринский Проспект, Олимпийская Деревня, дом 3, корпус 1   \n",
       "6455               город Москва, улица Мичуринский Проспект, Олимпийская Деревня, дом 3, корпус 1   \n",
       "6456               город Москва, улица Мичуринский Проспект, Олимпийская Деревня, дом 3, корпус 1   \n",
       "6457               город Москва, улица Мичуринский Проспект, Олимпийская Деревня, дом 3, корпус 1   \n",
       "6499            город Москва, улица Мичуринский Проспект, Олимпийская Деревня, дом 23, строение 2   \n",
       "6502   город Москва, улица Мичуринский Проспект, Олимпийская Деревня, дом 1, корпус 3, строение 1   \n",
       "6503   город Москва, улица Мичуринский Проспект, Олимпийская Деревня, дом 1, корпус 3, строение 1   \n",
       "8844               город Москва, улица Мичуринский Проспект, Олимпийская Деревня, дом 3, корпус 1   \n",
       "8895              город Москва, улица Мичуринский Проспект, Олимпийская Деревня, дом 4, корпус 32   \n",
       "8898               город Москва, улица Мичуринский Проспект, Олимпийская Деревня, дом 3, корпус 1   \n",
       "10848              город Москва, улица Мичуринский Проспект, Олимпийская Деревня, дом 4, корпус 3   \n",
       "12192             город Москва, улица Мичуринский Проспект, Олимпийская Деревня, дом 4, корпус 32   \n",
       "12479              город Москва, улица Мичуринский Проспект, Олимпийская Деревня, дом 1, корпус 1   \n",
       "12623                        город Москва, улица Мичуринский Проспект, Олимпийская Деревня, дом 1   \n",
       "12624                        город Москва, улица Мичуринский Проспект, Олимпийская Деревня, дом 1   \n",
       "12625                        город Москва, улица Мичуринский Проспект, Олимпийская Деревня, дом 1   \n",
       "12628              город Москва, улица Мичуринский Проспект, Олимпийская Деревня, дом 4, корпус 3   \n",
       "12964              город Москва, улица Мичуринский Проспект, Олимпийская Деревня, дом 3, корпус 1   \n",
       "12965              город Москва, улица Мичуринский Проспект, Олимпийская Деревня, дом 3, корпус 1   \n",
       "12966              город Москва, улица Мичуринский Проспект, Олимпийская Деревня, дом 3, корпус 1   \n",
       "13345              город Москва, улица Мичуринский Проспект, Олимпийская Деревня, дом 3, корпус 1   \n",
       "14343              город Москва, улица Мичуринский Проспект, Олимпийская Деревня, дом 3, корпус 1   \n",
       "14344              город Москва, улица Мичуринский Проспект, Олимпийская Деревня, дом 3, корпус 1   \n",
       "14345              город Москва, улица Мичуринский Проспект, Олимпийская Деревня, дом 3, корпус 1   \n",
       "\n",
       "       number                      street area  \n",
       "1737       94  улица Мичуринский Проспект  NaN  \n",
       "2942       24  улица Мичуринский Проспект  NaN  \n",
       "2943      100  улица Мичуринский Проспект  NaN  \n",
       "2944       66  улица Мичуринский Проспект  NaN  \n",
       "3134      114    улица Героев-Панфиловцев  NaN  \n",
       "3135       10    улица Героев-Панфиловцев  NaN  \n",
       "3485       95  улица Мичуринский Проспект  NaN  \n",
       "3490      150  улица Мичуринский Проспект  NaN  \n",
       "6434      150  улица Мичуринский Проспект  NaN  \n",
       "6448       70  улица Мичуринский Проспект  NaN  \n",
       "6449      100  улица Мичуринский Проспект  NaN  \n",
       "6450       84  улица Мичуринский Проспект  NaN  \n",
       "6451       50  улица Мичуринский Проспект  NaN  \n",
       "6452       67  улица Мичуринский Проспект  NaN  \n",
       "6453       60  улица Мичуринский Проспект  NaN  \n",
       "6454       60  улица Мичуринский Проспект  NaN  \n",
       "6455       60  улица Мичуринский Проспект  NaN  \n",
       "6456       50  улица Мичуринский Проспект  NaN  \n",
       "6457      120  улица Мичуринский Проспект  NaN  \n",
       "6499      150  улица Мичуринский Проспект  NaN  \n",
       "6502       50  улица Мичуринский Проспект  NaN  \n",
       "6503       10  улица Мичуринский Проспект  NaN  \n",
       "8844       40  улица Мичуринский Проспект  NaN  \n",
       "8895       60  улица Мичуринский Проспект  NaN  \n",
       "8898       10  улица Мичуринский Проспект  NaN  \n",
       "10848      80  улица Мичуринский Проспект  NaN  \n",
       "12192       2  улица Мичуринский Проспект  NaN  \n",
       "12479       2  улица Мичуринский Проспект  NaN  \n",
       "12623       1  улица Мичуринский Проспект  NaN  \n",
       "12624      36  улица Мичуринский Проспект  NaN  \n",
       "12625       4  улица Мичуринский Проспект  NaN  \n",
       "12628       3  улица Мичуринский Проспект  NaN  \n",
       "12964      60  улица Мичуринский Проспект  NaN  \n",
       "12965      30  улица Мичуринский Проспект  NaN  \n",
       "12966       4  улица Мичуринский Проспект  NaN  \n",
       "13345      80  улица Мичуринский Проспект  NaN  \n",
       "14343      50  улица Мичуринский Проспект  NaN  \n",
       "14344      30  улица Мичуринский Проспект  NaN  \n",
       "14345       2  улица Мичуринский Проспект  NaN  "
      ]
     },
     "execution_count": 25,
     "metadata": {},
     "output_type": "execute_result"
    }
   ],
   "source": [
    "rest_data_area[rest_data_area['area'].isna() == True]"
   ]
  },
  {
   "cell_type": "markdown",
   "metadata": {},
   "source": [
    "Пропуски возникли скорее всего из-за различий в написании улиц. В таблице соответствия улиц и районов \"Мичуринский проспект\" наверняка записан без слова \"улица\" перед ним. А \"улица Героев-Панфиловцев\" правильно пишется без дефиса - \"улица Героев Панфиловцев\". Проверим наши предположения:"
   ]
  },
  {
   "cell_type": "code",
   "execution_count": 26,
   "metadata": {},
   "outputs": [
    {
     "data": {
      "text/html": [
       "<div>\n",
       "<style scoped>\n",
       "    .dataframe tbody tr th:only-of-type {\n",
       "        vertical-align: middle;\n",
       "    }\n",
       "\n",
       "    .dataframe tbody tr th {\n",
       "        vertical-align: top;\n",
       "    }\n",
       "\n",
       "    .dataframe thead th {\n",
       "        text-align: right;\n",
       "    }\n",
       "</style>\n",
       "<table border=\"1\" class=\"dataframe\">\n",
       "  <thead>\n",
       "    <tr style=\"text-align: right;\">\n",
       "      <th></th>\n",
       "      <th>street</th>\n",
       "      <th>area</th>\n",
       "    </tr>\n",
       "  </thead>\n",
       "  <tbody>\n",
       "    <tr>\n",
       "      <td>1822</td>\n",
       "      <td>Мичуринский проспект</td>\n",
       "      <td>[Район Очаково-Матвеевское, Район Проспект Вернадского, Район Раменки, Район Тропарево-Никулино]</td>\n",
       "    </tr>\n",
       "  </tbody>\n",
       "</table>\n",
       "</div>"
      ],
      "text/plain": [
       "                    street  \\\n",
       "1822  Мичуринский проспект   \n",
       "\n",
       "                                                                                                  area  \n",
       "1822  [Район Очаково-Матвеевское, Район Проспект Вернадского, Район Раменки, Район Тропарево-Никулино]  "
      ]
     },
     "execution_count": 26,
     "metadata": {},
     "output_type": "execute_result"
    }
   ],
   "source": [
    "area_data[area_data['street'] == 'Мичуринский проспект']"
   ]
  },
  {
   "cell_type": "code",
   "execution_count": 27,
   "metadata": {},
   "outputs": [
    {
     "data": {
      "text/html": [
       "<div>\n",
       "<style scoped>\n",
       "    .dataframe tbody tr th:only-of-type {\n",
       "        vertical-align: middle;\n",
       "    }\n",
       "\n",
       "    .dataframe tbody tr th {\n",
       "        vertical-align: top;\n",
       "    }\n",
       "\n",
       "    .dataframe thead th {\n",
       "        text-align: right;\n",
       "    }\n",
       "</style>\n",
       "<table border=\"1\" class=\"dataframe\">\n",
       "  <thead>\n",
       "    <tr style=\"text-align: right;\">\n",
       "      <th></th>\n",
       "      <th>street</th>\n",
       "      <th>area</th>\n",
       "    </tr>\n",
       "  </thead>\n",
       "  <tbody>\n",
       "    <tr>\n",
       "      <td>3268</td>\n",
       "      <td>улица Героев Панфиловцев</td>\n",
       "      <td>[Район Северное Тушино]</td>\n",
       "    </tr>\n",
       "  </tbody>\n",
       "</table>\n",
       "</div>"
      ],
      "text/plain": [
       "                        street                     area\n",
       "3268  улица Героев Панфиловцев  [Район Северное Тушино]"
      ]
     },
     "execution_count": 27,
     "metadata": {},
     "output_type": "execute_result"
    }
   ],
   "source": [
    "area_data[area_data['street'] == 'улица Героев Панфиловцев']"
   ]
  },
  {
   "cell_type": "markdown",
   "metadata": {},
   "source": [
    "Предположения подтвердились. Откорректируем название улиц и заполним пропуски вручную."
   ]
  },
  {
   "cell_type": "code",
   "execution_count": 28,
   "metadata": {},
   "outputs": [
    {
     "name": "stdout",
     "output_type": "stream",
     "text": [
      "Количество пропущенных значений в столбце \"area\": 0\n"
     ]
    }
   ],
   "source": [
    "# корректировка названий улиц\n",
    "rest_data_area.loc[rest_data_area['street'] == 'улица Мичуринский Проспект', ['street']] = 'Мичуринский проспект'\n",
    "rest_data_area.loc[rest_data_area['street'] == 'улица Героев-Панфиловцев', ['street']] = 'улица Героев Панфиловцев'\n",
    "\n",
    "# заполнение пропусков\n",
    "rest_data_area.loc[rest_data_area['street'] == 'Мичуринский проспект','area'] = rest_data_area.loc[rest_data_area['street'] == 'Мичуринский проспект','area'].fillna('[Район Очаково-Матвеевское, Район Проспект Вернадского, Район Раменки, Район Тропарево-Никулино]')\n",
    "rest_data_area.loc[rest_data_area['street'] == 'улица Героев Панфиловцев','area'] = rest_data_area.loc[rest_data_area['street'] == 'улица Героев Панфиловцев','area'].fillna('[Район Северное Тушино]')\n",
    "\n",
    "# проверка на наличие пропусков\n",
    "print('Количество пропущенных значений в столбце \"area\":', len(rest_data_area[rest_data_area['area'].isna() == True]))"
   ]
  },
  {
   "cell_type": "markdown",
   "metadata": {},
   "source": [
    "Выделим топ-10 улиц по количеству объектов общественного питания и найдем районы, в которых эти улицы расположены. Построим график."
   ]
  },
  {
   "cell_type": "code",
   "execution_count": 29,
   "metadata": {
    "scrolled": false
   },
   "outputs": [
    {
     "data": {
      "text/html": [
       "<div>\n",
       "<style scoped>\n",
       "    .dataframe tbody tr th:only-of-type {\n",
       "        vertical-align: middle;\n",
       "    }\n",
       "\n",
       "    .dataframe tbody tr th {\n",
       "        vertical-align: top;\n",
       "    }\n",
       "\n",
       "    .dataframe thead th {\n",
       "        text-align: right;\n",
       "    }\n",
       "</style>\n",
       "<table border=\"1\" class=\"dataframe\">\n",
       "  <thead>\n",
       "    <tr style=\"text-align: right;\">\n",
       "      <th></th>\n",
       "      <th>street</th>\n",
       "      <th>rest_qty</th>\n",
       "      <th>area</th>\n",
       "    </tr>\n",
       "  </thead>\n",
       "  <tbody>\n",
       "    <tr>\n",
       "      <td>0</td>\n",
       "      <td>город Зеленоград</td>\n",
       "      <td>232</td>\n",
       "      <td>[Район Крюково, Район Матушкино-Савелки, Панфиловский район]</td>\n",
       "    </tr>\n",
       "    <tr>\n",
       "      <td>1</td>\n",
       "      <td>проспект Мира</td>\n",
       "      <td>204</td>\n",
       "      <td>[Алексеевский район, Ярославский Район, Район Марьина роща, Останкинский район, Район Ростокино, Район Свиблово, Мещанский район]</td>\n",
       "    </tr>\n",
       "    <tr>\n",
       "      <td>2</td>\n",
       "      <td>Профсоюзная улица</td>\n",
       "      <td>183</td>\n",
       "      <td>[Академический район, Район Черемушки, Район Ясенево, Район Коньково, Обручевский район, Район Теплый Стан]</td>\n",
       "    </tr>\n",
       "    <tr>\n",
       "      <td>3</td>\n",
       "      <td>Ленинградский проспект</td>\n",
       "      <td>173</td>\n",
       "      <td>[Район Аэропорт, Район Беговой, Хорошевский район, Район Сокол]</td>\n",
       "    </tr>\n",
       "    <tr>\n",
       "      <td>4</td>\n",
       "      <td>Пресненская набережная</td>\n",
       "      <td>167</td>\n",
       "      <td>[Пресненский район]</td>\n",
       "    </tr>\n",
       "    <tr>\n",
       "      <td>5</td>\n",
       "      <td>Варшавское шоссе</td>\n",
       "      <td>165</td>\n",
       "      <td>[Район Чертаново Центральное, Район Чертаново Северное, Район Чертаново Южное, Донской район, Район Нагатино-Садовники, Нагорный район, Район Северное Бутово, Район Южное Бутово]</td>\n",
       "    </tr>\n",
       "    <tr>\n",
       "      <td>6</td>\n",
       "      <td>Ленинский проспект</td>\n",
       "      <td>148</td>\n",
       "      <td>[Район Проспект Вернадского, Район Тропарево-Никулино, Донской район, Район Гагаринский, Ломоносовский район, Обручевский район, Район Теплый Стан, Район Якиманка]</td>\n",
       "    </tr>\n",
       "    <tr>\n",
       "      <td>7</td>\n",
       "      <td>проспект Вернадского</td>\n",
       "      <td>132</td>\n",
       "      <td>[Район Проспект Вернадского, Район Раменки, Район Тропарево-Никулино, Район Гагаринский, Ломоносовский район]</td>\n",
       "    </tr>\n",
       "    <tr>\n",
       "      <td>8</td>\n",
       "      <td>Кутузовский проспект</td>\n",
       "      <td>114</td>\n",
       "      <td>[Район Дорогомилово, Район Фили-Давыдково]</td>\n",
       "    </tr>\n",
       "    <tr>\n",
       "      <td>9</td>\n",
       "      <td>Каширское шоссе</td>\n",
       "      <td>112</td>\n",
       "      <td>[Район Москворечье-Сабурово, Район Нагатино-Садовники, Район Орехово-Борисово Южное, Район Орехово-Борисово Северное]</td>\n",
       "    </tr>\n",
       "  </tbody>\n",
       "</table>\n",
       "</div>"
      ],
      "text/plain": [
       "                   street  rest_qty  \\\n",
       "0        город Зеленоград       232   \n",
       "1           проспект Мира       204   \n",
       "2       Профсоюзная улица       183   \n",
       "3  Ленинградский проспект       173   \n",
       "4  Пресненская набережная       167   \n",
       "5        Варшавское шоссе       165   \n",
       "6      Ленинский проспект       148   \n",
       "7    проспект Вернадского       132   \n",
       "8    Кутузовский проспект       114   \n",
       "9         Каширское шоссе       112   \n",
       "\n",
       "                                                                                                                                                                                 area  \n",
       "0                                                                                                                        [Район Крюково, Район Матушкино-Савелки, Панфиловский район]  \n",
       "1                                                   [Алексеевский район, Ярославский Район, Район Марьина роща, Останкинский район, Район Ростокино, Район Свиблово, Мещанский район]  \n",
       "2                                                                         [Академический район, Район Черемушки, Район Ясенево, Район Коньково, Обручевский район, Район Теплый Стан]  \n",
       "3                                                                                                                     [Район Аэропорт, Район Беговой, Хорошевский район, Район Сокол]  \n",
       "4                                                                                                                                                                 [Пресненский район]  \n",
       "5  [Район Чертаново Центральное, Район Чертаново Северное, Район Чертаново Южное, Донской район, Район Нагатино-Садовники, Нагорный район, Район Северное Бутово, Район Южное Бутово]  \n",
       "6                 [Район Проспект Вернадского, Район Тропарево-Никулино, Донской район, Район Гагаринский, Ломоносовский район, Обручевский район, Район Теплый Стан, Район Якиманка]  \n",
       "7                                                                       [Район Проспект Вернадского, Район Раменки, Район Тропарево-Никулино, Район Гагаринский, Ломоносовский район]  \n",
       "8                                                                                                                                          [Район Дорогомилово, Район Фили-Давыдково]  \n",
       "9                                                               [Район Москворечье-Сабурово, Район Нагатино-Садовники, Район Орехово-Борисово Южное, Район Орехово-Борисово Северное]  "
      ]
     },
     "execution_count": 29,
     "metadata": {},
     "output_type": "execute_result"
    }
   ],
   "source": [
    "rest_street_top10 = (rest_data_area\n",
    "                         .groupby(['street'])\n",
    "                         .agg({'id': 'count'})\n",
    "                         .reset_index()\n",
    "                         .sort_values(by='id', ascending=False)\n",
    "                         .rename(columns={'id': 'rest_qty'})\n",
    "                         .head(10))\n",
    "\n",
    "rest_street_top10 = rest_street_top10.merge(area_data, on = ['street'], how='left')\n",
    "rest_street_top10"
   ]
  },
  {
   "cell_type": "code",
   "execution_count": 30,
   "metadata": {},
   "outputs": [
    {
     "data": {
      "image/png": "[encoded data removed]",
      "text/plain": [
       "<Figure size 1152x576 with 1 Axes>"
      ]
     },
     "metadata": {
      "needs_background": "light"
     },
     "output_type": "display_data"
    }
   ],
   "source": [
    "ax = rest_street_top10['rest_qty'].plot(kind='bar', figsize=(16, 8), grid=True, color='#82b9bf', legend=None)\n",
    "ax.set_title('Топ-10 улиц Москвы по количеству объектов общественного питания')\n",
    "ax.set_xlabel('Название улицы')\n",
    "ax.set_ylabel('Количество объектов общественного питания')\n",
    "ax.set_xticklabels(rest_street_top10['street'], rotation=45)\n",
    "plt.show()"
   ]
  },
  {
   "cell_type": "markdown",
   "metadata": {},
   "source": [
    "Мы получили список достаточно протяженных улиц Москвы, расположенных в различных районах города, на которых располагается несколько торговых центров. Пресненская набережная, хотя и непротяженная улица, но насчитывает 4 торговых центра. В торговых центрах присутствует, как правило, большое количество объектов общественного питания - не только в рамках фудкортов, но и в формате отдельных заведений. Этим можно объяснить, почему на этих улицах находится много кафе/ресторанов. \n",
    "К аналогичным выводам приводит нас рассмотрение города Зеленограда."
   ]
  },
  {
   "cell_type": "markdown",
   "metadata": {},
   "source": [
    "Найдём улицы с одним объектом общественного питания, а также районы расположения этих улиц. Посчитаем их количество."
   ]
  },
  {
   "cell_type": "code",
   "execution_count": 31,
   "metadata": {},
   "outputs": [
    {
     "data": {
      "text/html": [
       "<div>\n",
       "<style scoped>\n",
       "    .dataframe tbody tr th:only-of-type {\n",
       "        vertical-align: middle;\n",
       "    }\n",
       "\n",
       "    .dataframe tbody tr th {\n",
       "        vertical-align: top;\n",
       "    }\n",
       "\n",
       "    .dataframe thead th {\n",
       "        text-align: right;\n",
       "    }\n",
       "</style>\n",
       "<table border=\"1\" class=\"dataframe\">\n",
       "  <thead>\n",
       "    <tr style=\"text-align: right;\">\n",
       "      <th></th>\n",
       "      <th>street</th>\n",
       "      <th>rest_qty</th>\n",
       "      <th>area</th>\n",
       "    </tr>\n",
       "  </thead>\n",
       "  <tbody>\n",
       "    <tr>\n",
       "      <td>261</td>\n",
       "      <td>Малая Андроньевская улица</td>\n",
       "      <td>1</td>\n",
       "      <td>[Таганский район]</td>\n",
       "    </tr>\n",
       "    <tr>\n",
       "      <td>548</td>\n",
       "      <td>улица Павла Андреева</td>\n",
       "      <td>1</td>\n",
       "      <td>[Район Замоскворечье, Даниловский район]</td>\n",
       "    </tr>\n",
       "    <tr>\n",
       "      <td>267</td>\n",
       "      <td>Малый Ивановский переулок</td>\n",
       "      <td>1</td>\n",
       "      <td>[Басманный район]</td>\n",
       "    </tr>\n",
       "    <tr>\n",
       "      <td>373</td>\n",
       "      <td>Средний Кондратьевский переулок</td>\n",
       "      <td>1</td>\n",
       "      <td>[Пресненский район]</td>\n",
       "    </tr>\n",
       "    <tr>\n",
       "      <td>417</td>\n",
       "      <td>Фруктовая улица</td>\n",
       "      <td>1</td>\n",
       "      <td>[Нагорный район, Район Зюзино]</td>\n",
       "    </tr>\n",
       "    <tr>\n",
       "      <td>285</td>\n",
       "      <td>Миллионная улица</td>\n",
       "      <td>1</td>\n",
       "      <td>[Район Богородское]</td>\n",
       "    </tr>\n",
       "    <tr>\n",
       "      <td>241</td>\n",
       "      <td>Красноказарменный проезд</td>\n",
       "      <td>1</td>\n",
       "      <td>[Район Лефортово]</td>\n",
       "    </tr>\n",
       "    <tr>\n",
       "      <td>549</td>\n",
       "      <td>улица Паперника</td>\n",
       "      <td>1</td>\n",
       "      <td>[Рязанский район]</td>\n",
       "    </tr>\n",
       "    <tr>\n",
       "      <td>257</td>\n",
       "      <td>Лыщиков переулок</td>\n",
       "      <td>1</td>\n",
       "      <td>[Таганский район]</td>\n",
       "    </tr>\n",
       "    <tr>\n",
       "      <td>411</td>\n",
       "      <td>Фармацевтический проезд</td>\n",
       "      <td>1</td>\n",
       "      <td>[Район Коптево]</td>\n",
       "    </tr>\n",
       "    <tr>\n",
       "      <td>388</td>\n",
       "      <td>Сумская улица</td>\n",
       "      <td>1</td>\n",
       "      <td>[Район Чертаново Северное]</td>\n",
       "    </tr>\n",
       "    <tr>\n",
       "      <td>467</td>\n",
       "      <td>переулок Расковой</td>\n",
       "      <td>1</td>\n",
       "      <td>[Район Беговой]</td>\n",
       "    </tr>\n",
       "    <tr>\n",
       "      <td>305</td>\n",
       "      <td>Никитский переулок</td>\n",
       "      <td>1</td>\n",
       "      <td>[Тверской район]</td>\n",
       "    </tr>\n",
       "    <tr>\n",
       "      <td>223</td>\n",
       "      <td>Институтский переулок</td>\n",
       "      <td>1</td>\n",
       "      <td>[Район Марьина роща]</td>\n",
       "    </tr>\n",
       "    <tr>\n",
       "      <td>553</td>\n",
       "      <td>улица Пржевальского</td>\n",
       "      <td>1</td>\n",
       "      <td>[Район Очаково-Матвеевское]</td>\n",
       "    </tr>\n",
       "    <tr>\n",
       "      <td>66</td>\n",
       "      <td>2-й Щемиловский переулок</td>\n",
       "      <td>1</td>\n",
       "      <td>[Тверской район]</td>\n",
       "    </tr>\n",
       "    <tr>\n",
       "      <td>119</td>\n",
       "      <td>7-й Ростовский переулок</td>\n",
       "      <td>1</td>\n",
       "      <td>[Район Хамовники]</td>\n",
       "    </tr>\n",
       "    <tr>\n",
       "      <td>147</td>\n",
       "      <td>Бескудниковский проезд</td>\n",
       "      <td>1</td>\n",
       "      <td>[Бескудниковский Район]</td>\n",
       "    </tr>\n",
       "    <tr>\n",
       "      <td>47</td>\n",
       "      <td>2-й Вышеславцев переулок</td>\n",
       "      <td>1</td>\n",
       "      <td>[Район Марьина роща]</td>\n",
       "    </tr>\n",
       "    <tr>\n",
       "      <td>312</td>\n",
       "      <td>Новосибирская улица</td>\n",
       "      <td>1</td>\n",
       "      <td>[Район Гольяново]</td>\n",
       "    </tr>\n",
       "    <tr>\n",
       "      <td>342</td>\n",
       "      <td>Производственная улица</td>\n",
       "      <td>1</td>\n",
       "      <td>[Район Солнцево]</td>\n",
       "    </tr>\n",
       "    <tr>\n",
       "      <td>435</td>\n",
       "      <td>Штурвальная улица</td>\n",
       "      <td>1</td>\n",
       "      <td>[Район Южное Тушино]</td>\n",
       "    </tr>\n",
       "    <tr>\n",
       "      <td>510</td>\n",
       "      <td>улица Дмитрия Рябинкина</td>\n",
       "      <td>1</td>\n",
       "      <td>[поселение Десеновское]</td>\n",
       "    </tr>\n",
       "    <tr>\n",
       "      <td>85</td>\n",
       "      <td>3-й Павловский переулок</td>\n",
       "      <td>1</td>\n",
       "      <td>[Даниловский район]</td>\n",
       "    </tr>\n",
       "    <tr>\n",
       "      <td>547</td>\n",
       "      <td>улица Новая Дорога</td>\n",
       "      <td>1</td>\n",
       "      <td>[Басманный район]</td>\n",
       "    </tr>\n",
       "  </tbody>\n",
       "</table>\n",
       "</div>"
      ],
      "text/plain": [
       "                              street  rest_qty  \\\n",
       "261        Малая Андроньевская улица         1   \n",
       "548             улица Павла Андреева         1   \n",
       "267        Малый Ивановский переулок         1   \n",
       "373  Средний Кондратьевский переулок         1   \n",
       "417                  Фруктовая улица         1   \n",
       "285                 Миллионная улица         1   \n",
       "241         Красноказарменный проезд         1   \n",
       "549                  улица Паперника         1   \n",
       "257                 Лыщиков переулок         1   \n",
       "411          Фармацевтический проезд         1   \n",
       "388                    Сумская улица         1   \n",
       "467                переулок Расковой         1   \n",
       "305               Никитский переулок         1   \n",
       "223            Институтский переулок         1   \n",
       "553              улица Пржевальского         1   \n",
       "66          2-й Щемиловский переулок         1   \n",
       "119          7-й Ростовский переулок         1   \n",
       "147           Бескудниковский проезд         1   \n",
       "47          2-й Вышеславцев переулок         1   \n",
       "312              Новосибирская улица         1   \n",
       "342           Производственная улица         1   \n",
       "435                Штурвальная улица         1   \n",
       "510          улица Дмитрия Рябинкина         1   \n",
       "85           3-й Павловский переулок         1   \n",
       "547               улица Новая Дорога         1   \n",
       "\n",
       "                                         area  \n",
       "261                         [Таганский район]  \n",
       "548  [Район Замоскворечье, Даниловский район]  \n",
       "267                         [Басманный район]  \n",
       "373                       [Пресненский район]  \n",
       "417            [Нагорный район, Район Зюзино]  \n",
       "285                       [Район Богородское]  \n",
       "241                         [Район Лефортово]  \n",
       "549                         [Рязанский район]  \n",
       "257                         [Таганский район]  \n",
       "411                           [Район Коптево]  \n",
       "388                [Район Чертаново Северное]  \n",
       "467                           [Район Беговой]  \n",
       "305                          [Тверской район]  \n",
       "223                      [Район Марьина роща]  \n",
       "553               [Район Очаково-Матвеевское]  \n",
       "66                           [Тверской район]  \n",
       "119                         [Район Хамовники]  \n",
       "147                   [Бескудниковский Район]  \n",
       "47                       [Район Марьина роща]  \n",
       "312                         [Район Гольяново]  \n",
       "342                          [Район Солнцево]  \n",
       "435                      [Район Южное Тушино]  \n",
       "510                   [поселение Десеновское]  \n",
       "85                        [Даниловский район]  \n",
       "547                         [Басманный район]  "
      ]
     },
     "execution_count": 31,
     "metadata": {},
     "output_type": "execute_result"
    }
   ],
   "source": [
    "rest_street_1 = (rest_data_area\n",
    "                         .groupby(['street'])\n",
    "                         .agg({'id': 'count'})\n",
    "                         .reset_index()\n",
    "                         .rename(columns={'id': 'rest_qty'})\n",
    "                         )\n",
    "\n",
    "rest_street_1 = rest_street_1[rest_street_1['rest_qty'] == 1]\n",
    "rest_street_1 = rest_street_1.merge(area_data, on = ['street'], how='left')\n",
    "rest_street_1.sample(n=25, random_state=1)"
   ]
  },
  {
   "cell_type": "code",
   "execution_count": 32,
   "metadata": {},
   "outputs": [
    {
     "name": "stdout",
     "output_type": "stream",
     "text": [
      "Число улиц с одним объектом общественного питания: 577\n"
     ]
    }
   ],
   "source": [
    "print('Число улиц с одним объектом общественного питания:', len(rest_street_1))"
   ]
  },
  {
   "cell_type": "markdown",
   "metadata": {},
   "source": [
    "Всего в городе Москве 577 улиц с одним заведением. И здесь опять не наблюдается привязки к какому-то одному округу города - такие улицы могут быть расположены как в центре Москвы, так и ближе к её окраинам. Наличие на этих улицах всего одного объекта общественного питания, может объясняться малой протяжённостью улицы (характерно для небольших проездов, переулков в центре), либо расположением заведений в непопулярном месте (например, промзоны, трассы, МКАД)."
   ]
  },
  {
   "cell_type": "markdown",
   "metadata": {},
   "source": [
    "Для улиц с большим количеством объектов общественного питания построим распределение количества посадочных мест."
   ]
  },
  {
   "cell_type": "code",
   "execution_count": 33,
   "metadata": {},
   "outputs": [
    {
     "data": {
      "image/png": "[encoded data removed]",
      "text/plain": [
       "<Figure size 1152x720 with 1 Axes>"
      ]
     },
     "metadata": {
      "needs_background": "light"
     },
     "output_type": "display_data"
    }
   ],
   "source": [
    "ax = rest_data_area[rest_data_area['street'].isin(rest_street_top10['street'])]['number'].hist(figsize=(16, 10), grid=True, color='#82b9bf', bins = 100)\n",
    "ax.set_title('Распределение количества посадочных мест в заведениях, расположенных на улицах с большим количеством объектов общественного питания')\n",
    "ax.set_xlabel('Количество посадочных мест')\n",
    "ax.set_ylabel('Частота')\n",
    "plt.show()"
   ]
  },
  {
   "cell_type": "markdown",
   "metadata": {},
   "source": [
    "Выведем на экран числовое описания серии количества посадочных мест для улиц с большим количеством объектов общественного питания."
   ]
  },
  {
   "cell_type": "code",
   "execution_count": 34,
   "metadata": {},
   "outputs": [
    {
     "data": {
      "text/plain": [
       "count    1630.000000\n",
       "mean       60.052147\n",
       "std        88.024846\n",
       "min         0.000000\n",
       "25%        15.000000\n",
       "50%        40.000000\n",
       "75%        80.000000\n",
       "max      1700.000000\n",
       "Name: number, dtype: float64"
      ]
     },
     "execution_count": 34,
     "metadata": {},
     "output_type": "execute_result"
    }
   ],
   "source": [
    "rest_data_area[rest_data_area['street'].isin(rest_street_top10['street'])]['number'].describe()"
   ]
  },
  {
   "cell_type": "markdown",
   "metadata": {},
   "source": [
    "На графике распределения виден большой пик около нуля - это означает, что довольно много заведений не имеют посадочных мест. Это могут быть, например, заведения в торговых центрах, где находятся много кафе/ресторанов, для которых обычно есть лишь общая зона с посадочными местами (то есть своих посадочных мест они не имеют). Половина всех заведений имеет до 40 посадочных мест, а основная часть заведений - от 0 до примерно 100 мест."
   ]
  },
  {
   "cell_type": "markdown",
   "metadata": {},
   "source": [
    "**Вывод**\n",
    "\n",
    "В ходе анализа рынка заведений общественного питания города Москвы были выявлены следующие закономерности:\n",
    "- около 40% всех заведений имеют тип \"кафе\", а к ресторанам относятся 15% заведений;\n",
    "- 80% всех заведений не являются сетевыми;\n",
    "- сетевой тип распространён прежде всего среди предприятий быстрого питания - их доля составляет более 40%. Среди ресторанов и кафе доля сетевых объектов равна 24% и 23% соответственно;\n",
    "- для сетевых заведений характерно небольшое количество объектов в сети (до 20) с количеством посадочных мест от 0 до 100;\n",
    "- самое большое количество посадочных мест характерно для столовых (в среднем 130 мест) и ресторанов (в среднем 97 мест); в среднем кафе располагается 40 посадочных мест;\n",
    "- наибольшее число объектов общественного питания расположено на протяжённых улицах с расположенными на них несколькими торговыми центрами. Районы расположения таких улиц довольно разнообразны, они могут находится как в центре города, так и ближе к окраинам;\n",
    "- основная часть заведений, расположенных на улицах с большим количеством объектов общественного питания, имеет от 0 до 100 посадочных мест;\n",
    "- на 577 улицах Москвы располагается лишь по одному заведению. Объясняется это может либо маленькой протяжённостью улицы, либо непопулярностью (низкой проходимостью) места расположения."
   ]
  },
  {
   "cell_type": "markdown",
   "metadata": {},
   "source": [
    "## Выводы"
   ]
  },
  {
   "cell_type": "markdown",
   "metadata": {},
   "source": [
    "На основании открытых данных об объектах общественного питания был проведён анализ рынка заведений города Москвы. Выявленные в процессе анализа закономерности, подробно отраженные в выводе к предыдущему пункту, помогли нам сделать обоснованные предложения о виде заведения, количестве посадочных мест, районе расположения, а также о возможности развития сети:\n",
    "- Так как планируется открытие заведения с роботами-официантами, мы не будем рассматривать в качестве потенциальных такие типы заведений, как столовая, бар, буфет, кафетерий, закусочная и предприятие быстрого питания, поскольку такие типы заведений, как правило, не предполагают наличие официантов. Остановимся на выборе из двух вариантов: ресторан или кафе. Как мы увидели, самый распространёный тип заведения, на долю которого приходится 40% всех заведений в городе, - это кафе. Такая массовая распространённость кафе делает этот тип заведения в сознании потребителей доступным. Однако в пользу варианта \"ресторан\" говорит относительно небольшая доля ресторанов на рынке - 15%. Поэтому оба варианта - ресторан и кафе - являются потенциально возможными;\n",
    "- Рестораны - вторые в рейтинге заведений с наибольшим количеством посадочных мест - в среднем ресторане - 97 мест. Среднее кафе имеет 40 мест. Для заведений, расположенных на улицах с большим количеством объектов общественного питания характерно до 100 мест. Следовательно, можно порекомендовать 50-100 посадочных мест для нашего заведения.\n",
    "- Исследование местоположения показало, что есть улицы с очень большим расположенным на них количеством заведений, так и улицы с одним объектом общественного питания. Районы расположения как первых, так и вторых, достаточно разнообразны, они могут лежать и в центре города, и ближе к окраине. С одной стороны кажется, что на улицах с одним заведением меньше конкуренции, и что там стоит открывать наше кафе, однако малое количество заведений на улице может говорить о низкой проходимости. На улицах с большим количеством объектов общественного питания, наоборот, проходимость очень высокая, и такие улицы могут быть потенциально более привлекательны. Одновременно при выборе местоположения следует отталкиваться от формата нашего заведения и от местанахождения целевой аудитории. Поскольку у нас заведение очень нетипичное, оно способно стать не просто местом для принятия пищи, но и некой достопримечательностью, аттракционом. Значит, лучше всего его расположить в районах, часто посещаемых и туристами, и москвичами, то есть в районах, принадлежащих ЦАО. Это поможет не только наработать лояльных посетителей, но и постоянный приток новых клиентов. Таким образом, рекомендованный район для открытия - Пресненский.\n",
    "- Сетевых заведений в Москве всего 20% от общего числа, а среди ресторанов и кафе доля сетевых составляет 24% и 23% соответственно. Потенциальная возможность для развития сети есть."
   ]
  },
  {
   "cell_type": "code",
   "execution_count": null,
   "metadata": {},
   "outputs": [],
   "source": []
  }
 ],
 "metadata": {
  "ExecuteTimeLog": [
   {
    "duration": 1141,
    "start_time": "2022-01-11T12:41:04.935Z"
   },
   {
    "duration": 58,
    "start_time": "2022-01-11T12:41:09.414Z"
   },
   {
    "duration": 19,
    "start_time": "2022-01-11T12:47:01.819Z"
   },
   {
    "duration": 386,
    "start_time": "2022-01-11T13:24:37.655Z"
   },
   {
    "duration": 8,
    "start_time": "2022-01-11T13:24:47.755Z"
   },
   {
    "duration": 210,
    "start_time": "2022-01-11T13:56:29.451Z"
   },
   {
    "duration": 521,
    "start_time": "2022-01-11T13:58:12.107Z"
   },
   {
    "duration": 493,
    "start_time": "2022-01-11T13:58:45.518Z"
   },
   {
    "duration": 322,
    "start_time": "2022-01-11T13:59:03.067Z"
   },
   {
    "duration": 336,
    "start_time": "2022-01-11T14:02:16.307Z"
   },
   {
    "duration": 313,
    "start_time": "2022-01-11T14:06:17.479Z"
   },
   {
    "duration": 535,
    "start_time": "2022-01-11T14:08:05.325Z"
   },
   {
    "duration": 301,
    "start_time": "2022-01-11T14:08:58.740Z"
   },
   {
    "duration": 288,
    "start_time": "2022-01-11T14:09:44.742Z"
   },
   {
    "duration": 288,
    "start_time": "2022-01-11T14:10:07.502Z"
   },
   {
    "duration": 1106,
    "start_time": "2022-01-12T13:41:38.929Z"
   },
   {
    "duration": 424,
    "start_time": "2022-01-12T13:41:40.037Z"
   },
   {
    "duration": 15,
    "start_time": "2022-01-12T13:41:40.465Z"
   },
   {
    "duration": 5,
    "start_time": "2022-01-12T13:41:40.482Z"
   },
   {
    "duration": 341,
    "start_time": "2022-01-12T13:41:40.489Z"
   },
   {
    "duration": 10,
    "start_time": "2022-01-12T13:41:40.831Z"
   },
   {
    "duration": 233,
    "start_time": "2022-01-12T13:43:56.698Z"
   },
   {
    "duration": 6,
    "start_time": "2022-01-12T14:01:15.489Z"
   },
   {
    "duration": 10,
    "start_time": "2022-01-12T14:09:31.821Z"
   },
   {
    "duration": 9,
    "start_time": "2022-01-12T14:10:49.484Z"
   },
   {
    "duration": 184,
    "start_time": "2022-01-12T14:13:39.120Z"
   },
   {
    "duration": 190,
    "start_time": "2022-01-12T14:14:05.023Z"
   },
   {
    "duration": 197,
    "start_time": "2022-01-12T14:14:24.117Z"
   },
   {
    "duration": 188,
    "start_time": "2022-01-12T14:14:34.324Z"
   },
   {
    "duration": 235,
    "start_time": "2022-01-12T14:15:15.342Z"
   },
   {
    "duration": 182,
    "start_time": "2022-01-12T14:15:22.179Z"
   },
   {
    "duration": 188,
    "start_time": "2022-01-12T14:15:30.744Z"
   },
   {
    "duration": 185,
    "start_time": "2022-01-12T14:15:37.289Z"
   },
   {
    "duration": 190,
    "start_time": "2022-01-12T14:15:46.740Z"
   },
   {
    "duration": 138,
    "start_time": "2022-01-12T14:17:43.591Z"
   },
   {
    "duration": 151,
    "start_time": "2022-01-12T14:17:57.861Z"
   },
   {
    "duration": 93,
    "start_time": "2022-01-12T14:18:15.086Z"
   },
   {
    "duration": 8,
    "start_time": "2022-01-12T14:26:51.769Z"
   },
   {
    "duration": 10,
    "start_time": "2022-01-12T14:27:57.974Z"
   },
   {
    "duration": 368,
    "start_time": "2022-01-12T17:46:29.723Z"
   },
   {
    "duration": 278,
    "start_time": "2022-01-12T17:46:43.842Z"
   },
   {
    "duration": 12,
    "start_time": "2022-01-12T17:47:23.751Z"
   },
   {
    "duration": 12,
    "start_time": "2022-01-12T17:47:55.173Z"
   },
   {
    "duration": 173,
    "start_time": "2022-01-12T17:57:27.221Z"
   },
   {
    "duration": 18,
    "start_time": "2022-01-12T17:59:01.221Z"
   },
   {
    "duration": 95,
    "start_time": "2022-01-12T18:01:03.932Z"
   },
   {
    "duration": 53,
    "start_time": "2022-01-12T18:30:07.039Z"
   },
   {
    "duration": 16,
    "start_time": "2022-01-12T18:34:24.783Z"
   },
   {
    "duration": 12,
    "start_time": "2022-01-12T18:35:27.788Z"
   },
   {
    "duration": 13,
    "start_time": "2022-01-12T18:35:33.397Z"
   },
   {
    "duration": 17,
    "start_time": "2022-01-12T18:35:42.029Z"
   },
   {
    "duration": 24,
    "start_time": "2022-01-12T18:44:16.925Z"
   },
   {
    "duration": 22,
    "start_time": "2022-01-12T18:44:52.085Z"
   },
   {
    "duration": 275,
    "start_time": "2022-01-12T18:52:41.142Z"
   },
   {
    "duration": 22,
    "start_time": "2022-01-12T18:53:11.365Z"
   },
   {
    "duration": 82,
    "start_time": "2022-01-12T18:53:46.288Z"
   },
   {
    "duration": 24,
    "start_time": "2022-01-12T18:54:24.295Z"
   },
   {
    "duration": 30,
    "start_time": "2022-01-12T18:55:31.204Z"
   },
   {
    "duration": 1478,
    "start_time": "2022-01-13T07:48:17.877Z"
   },
   {
    "duration": 106,
    "start_time": "2022-01-13T07:48:19.360Z"
   },
   {
    "duration": 24,
    "start_time": "2022-01-13T07:48:19.469Z"
   },
   {
    "duration": 15,
    "start_time": "2022-01-13T07:48:19.496Z"
   },
   {
    "duration": 558,
    "start_time": "2022-01-13T07:48:19.513Z"
   },
   {
    "duration": 342,
    "start_time": "2022-01-13T07:48:20.074Z"
   },
   {
    "duration": 15,
    "start_time": "2022-01-13T07:48:20.419Z"
   },
   {
    "duration": 294,
    "start_time": "2022-01-13T07:48:20.437Z"
   },
   {
    "duration": 174,
    "start_time": "2022-01-13T07:48:20.734Z"
   },
   {
    "duration": 56,
    "start_time": "2022-01-13T07:48:20.911Z"
   },
   {
    "duration": 12,
    "start_time": "2022-01-13T07:53:17.445Z"
   },
   {
    "duration": 12,
    "start_time": "2022-01-13T07:55:44.533Z"
   },
   {
    "duration": 21,
    "start_time": "2022-01-13T08:00:55.166Z"
   },
   {
    "duration": 23,
    "start_time": "2022-01-13T08:01:24.610Z"
   },
   {
    "duration": 30,
    "start_time": "2022-01-13T08:13:26.267Z"
   },
   {
    "duration": 78,
    "start_time": "2022-01-13T08:30:53.830Z"
   },
   {
    "duration": 78,
    "start_time": "2022-01-13T08:31:00.039Z"
   },
   {
    "duration": 12,
    "start_time": "2022-01-13T08:32:45.415Z"
   },
   {
    "duration": 9,
    "start_time": "2022-01-13T08:33:09.926Z"
   },
   {
    "duration": 12,
    "start_time": "2022-01-13T08:38:09.953Z"
   },
   {
    "duration": 27,
    "start_time": "2022-01-13T08:45:45.820Z"
   },
   {
    "duration": 1457,
    "start_time": "2022-01-13T08:59:17.781Z"
   },
   {
    "duration": 81,
    "start_time": "2022-01-13T08:59:19.241Z"
   },
   {
    "duration": 43,
    "start_time": "2022-01-13T08:59:19.326Z"
   },
   {
    "duration": 16,
    "start_time": "2022-01-13T08:59:19.373Z"
   },
   {
    "duration": 535,
    "start_time": "2022-01-13T08:59:19.392Z"
   },
   {
    "duration": 350,
    "start_time": "2022-01-13T08:59:19.930Z"
   },
   {
    "duration": 19,
    "start_time": "2022-01-13T08:59:20.282Z"
   },
   {
    "duration": 323,
    "start_time": "2022-01-13T08:59:20.305Z"
   },
   {
    "duration": 185,
    "start_time": "2022-01-13T08:59:20.631Z"
   },
   {
    "duration": 53,
    "start_time": "2022-01-13T08:59:20.818Z"
   },
   {
    "duration": 12,
    "start_time": "2022-01-13T08:59:20.873Z"
   },
   {
    "duration": 9,
    "start_time": "2022-01-13T08:59:20.888Z"
   },
   {
    "duration": 24,
    "start_time": "2022-01-13T09:02:16.239Z"
   },
   {
    "duration": 22,
    "start_time": "2022-01-13T09:02:37.994Z"
   },
   {
    "duration": 23,
    "start_time": "2022-01-13T09:02:54.006Z"
   },
   {
    "duration": 664,
    "start_time": "2022-01-13T09:13:31.038Z"
   },
   {
    "duration": 702,
    "start_time": "2022-01-13T09:14:43.308Z"
   },
   {
    "duration": 640,
    "start_time": "2022-01-13T09:15:09.419Z"
   },
   {
    "duration": 640,
    "start_time": "2022-01-13T09:18:00.436Z"
   },
   {
    "duration": 2566,
    "start_time": "2022-01-13T09:36:38.994Z"
   },
   {
    "duration": 19,
    "start_time": "2022-01-13T09:58:42.779Z"
   },
   {
    "duration": 16,
    "start_time": "2022-01-13T09:59:38.767Z"
   },
   {
    "duration": 21,
    "start_time": "2022-01-13T10:04:21.014Z"
   },
   {
    "duration": 6,
    "start_time": "2022-01-13T10:11:47.801Z"
   },
   {
    "duration": 13,
    "start_time": "2022-01-13T10:14:32.945Z"
   },
   {
    "duration": 18,
    "start_time": "2022-01-13T10:21:00.825Z"
   },
   {
    "duration": 2471,
    "start_time": "2022-01-13T10:21:06.525Z"
   },
   {
    "duration": 2509,
    "start_time": "2022-01-13T10:24:07.453Z"
   },
   {
    "duration": 33,
    "start_time": "2022-01-13T13:06:26.558Z"
   },
   {
    "duration": 23,
    "start_time": "2022-01-13T13:22:32.313Z"
   },
   {
    "duration": 1475,
    "start_time": "2022-01-13T13:23:06.768Z"
   },
   {
    "duration": 83,
    "start_time": "2022-01-13T13:23:08.245Z"
   },
   {
    "duration": 46,
    "start_time": "2022-01-13T13:23:08.337Z"
   },
   {
    "duration": 15,
    "start_time": "2022-01-13T13:23:08.385Z"
   },
   {
    "duration": 542,
    "start_time": "2022-01-13T13:23:08.403Z"
   },
   {
    "duration": 445,
    "start_time": "2022-01-13T13:23:08.948Z"
   },
   {
    "duration": 16,
    "start_time": "2022-01-13T13:23:09.396Z"
   },
   {
    "duration": 286,
    "start_time": "2022-01-13T13:23:09.414Z"
   },
   {
    "duration": 178,
    "start_time": "2022-01-13T13:23:09.702Z"
   },
   {
    "duration": 41,
    "start_time": "2022-01-13T13:23:09.882Z"
   },
   {
    "duration": 39,
    "start_time": "2022-01-13T13:23:09.925Z"
   },
   {
    "duration": 21,
    "start_time": "2022-01-13T13:23:28.258Z"
   },
   {
    "duration": 23,
    "start_time": "2022-01-13T13:24:41.652Z"
   },
   {
    "duration": 12,
    "start_time": "2022-01-13T13:27:44.686Z"
   },
   {
    "duration": 26,
    "start_time": "2022-01-13T13:28:38.322Z"
   },
   {
    "duration": 15,
    "start_time": "2022-01-13T13:29:29.896Z"
   },
   {
    "duration": 24,
    "start_time": "2022-01-13T13:30:04.120Z"
   },
   {
    "duration": 25,
    "start_time": "2022-01-13T13:31:20.035Z"
   },
   {
    "duration": 30,
    "start_time": "2022-01-13T13:34:09.087Z"
   },
   {
    "duration": 28,
    "start_time": "2022-01-13T13:36:19.704Z"
   },
   {
    "duration": 28,
    "start_time": "2022-01-13T13:37:46.778Z"
   },
   {
    "duration": 15,
    "start_time": "2022-01-13T13:56:41.076Z"
   },
   {
    "duration": 75,
    "start_time": "2022-01-13T14:29:35.776Z"
   },
   {
    "duration": 84,
    "start_time": "2022-01-13T14:39:14.028Z"
   },
   {
    "duration": 83,
    "start_time": "2022-01-13T14:39:43.335Z"
   },
   {
    "duration": 92,
    "start_time": "2022-01-13T14:40:04.901Z"
   },
   {
    "duration": 85,
    "start_time": "2022-01-13T14:40:44.835Z"
   },
   {
    "duration": 92,
    "start_time": "2022-01-13T14:41:47.751Z"
   },
   {
    "duration": 85,
    "start_time": "2022-01-13T14:46:06.311Z"
   },
   {
    "duration": 16,
    "start_time": "2022-01-13T14:46:49.319Z"
   },
   {
    "duration": 20,
    "start_time": "2022-01-13T14:48:38.416Z"
   },
   {
    "duration": 24,
    "start_time": "2022-01-13T14:48:52.486Z"
   },
   {
    "duration": 1514,
    "start_time": "2022-01-13T14:49:00.928Z"
   },
   {
    "duration": 82,
    "start_time": "2022-01-13T14:49:02.446Z"
   },
   {
    "duration": 54,
    "start_time": "2022-01-13T14:49:02.532Z"
   },
   {
    "duration": 16,
    "start_time": "2022-01-13T14:49:02.589Z"
   },
   {
    "duration": 542,
    "start_time": "2022-01-13T14:49:02.608Z"
   },
   {
    "duration": 352,
    "start_time": "2022-01-13T14:49:03.159Z"
   },
   {
    "duration": 18,
    "start_time": "2022-01-13T14:49:03.514Z"
   },
   {
    "duration": 307,
    "start_time": "2022-01-13T14:49:03.535Z"
   },
   {
    "duration": 183,
    "start_time": "2022-01-13T14:49:03.844Z"
   },
   {
    "duration": 55,
    "start_time": "2022-01-13T14:49:04.029Z"
   },
   {
    "duration": 26,
    "start_time": "2022-01-13T14:49:04.086Z"
   },
   {
    "duration": 166,
    "start_time": "2022-01-13T14:49:04.115Z"
   },
   {
    "duration": 33,
    "start_time": "2022-01-13T14:49:04.285Z"
   },
   {
    "duration": 83,
    "start_time": "2022-01-13T15:07:21.311Z"
   },
   {
    "duration": 30,
    "start_time": "2022-01-13T15:07:39.778Z"
   },
   {
    "duration": 25,
    "start_time": "2022-01-13T15:08:00.547Z"
   },
   {
    "duration": 81,
    "start_time": "2022-01-13T15:12:53.435Z"
   },
   {
    "duration": 24,
    "start_time": "2022-01-13T15:13:02.836Z"
   },
   {
    "duration": 86,
    "start_time": "2022-01-13T15:22:14.143Z"
   },
   {
    "duration": 1529,
    "start_time": "2022-01-13T15:23:05.751Z"
   },
   {
    "duration": 82,
    "start_time": "2022-01-13T15:23:07.283Z"
   },
   {
    "duration": 27,
    "start_time": "2022-01-13T15:23:07.369Z"
   },
   {
    "duration": 21,
    "start_time": "2022-01-13T15:23:07.399Z"
   },
   {
    "duration": 683,
    "start_time": "2022-01-13T15:23:07.422Z"
   },
   {
    "duration": 354,
    "start_time": "2022-01-13T15:23:08.108Z"
   },
   {
    "duration": 14,
    "start_time": "2022-01-13T15:23:08.466Z"
   },
   {
    "duration": 304,
    "start_time": "2022-01-13T15:23:08.484Z"
   },
   {
    "duration": 179,
    "start_time": "2022-01-13T15:23:08.791Z"
   },
   {
    "duration": 45,
    "start_time": "2022-01-13T15:23:08.972Z"
   },
   {
    "duration": 43,
    "start_time": "2022-01-13T15:23:09.019Z"
   },
   {
    "duration": 124,
    "start_time": "2022-01-13T15:23:09.064Z"
   },
   {
    "duration": 21,
    "start_time": "2022-01-13T15:23:09.191Z"
   },
   {
    "duration": 80,
    "start_time": "2022-01-13T15:47:43.294Z"
   },
   {
    "duration": 1582,
    "start_time": "2022-01-13T15:48:20.932Z"
   },
   {
    "duration": 120,
    "start_time": "2022-01-13T15:48:22.517Z"
   },
   {
    "duration": 42,
    "start_time": "2022-01-13T15:48:22.642Z"
   },
   {
    "duration": 17,
    "start_time": "2022-01-13T15:48:22.687Z"
   },
   {
    "duration": 858,
    "start_time": "2022-01-13T15:48:22.707Z"
   },
   {
    "duration": 350,
    "start_time": "2022-01-13T15:48:23.568Z"
   },
   {
    "duration": 18,
    "start_time": "2022-01-13T15:48:23.921Z"
   },
   {
    "duration": 435,
    "start_time": "2022-01-13T15:48:23.960Z"
   },
   {
    "duration": 251,
    "start_time": "2022-01-13T15:48:24.400Z"
   },
   {
    "duration": 66,
    "start_time": "2022-01-13T15:48:24.659Z"
   },
   {
    "duration": 47,
    "start_time": "2022-01-13T15:48:24.728Z"
   },
   {
    "duration": 170,
    "start_time": "2022-01-13T15:48:24.778Z"
   },
   {
    "duration": 22,
    "start_time": "2022-01-13T15:48:24.950Z"
   },
   {
    "duration": 1509,
    "start_time": "2022-01-13T15:51:35.633Z"
   },
   {
    "duration": 83,
    "start_time": "2022-01-13T15:51:37.144Z"
   },
   {
    "duration": 43,
    "start_time": "2022-01-13T15:51:37.231Z"
   },
   {
    "duration": 16,
    "start_time": "2022-01-13T15:51:37.277Z"
   },
   {
    "duration": 649,
    "start_time": "2022-01-13T15:51:37.296Z"
   },
   {
    "duration": 493,
    "start_time": "2022-01-13T15:51:37.948Z"
   },
   {
    "duration": 31,
    "start_time": "2022-01-13T15:51:38.444Z"
   },
   {
    "duration": 444,
    "start_time": "2022-01-13T15:51:38.481Z"
   },
   {
    "duration": 225,
    "start_time": "2022-01-13T15:51:38.929Z"
   },
   {
    "duration": 63,
    "start_time": "2022-01-13T15:51:39.160Z"
   },
   {
    "duration": 56,
    "start_time": "2022-01-13T15:51:39.227Z"
   },
   {
    "duration": 168,
    "start_time": "2022-01-13T15:51:39.286Z"
   },
   {
    "duration": 27,
    "start_time": "2022-01-13T15:51:39.460Z"
   },
   {
    "duration": 1624,
    "start_time": "2022-01-13T15:54:56.067Z"
   },
   {
    "duration": 714,
    "start_time": "2022-01-13T15:54:57.694Z"
   },
   {
    "duration": 28,
    "start_time": "2022-01-13T15:54:58.412Z"
   },
   {
    "duration": 134,
    "start_time": "2022-01-13T15:54:58.444Z"
   },
   {
    "duration": 787,
    "start_time": "2022-01-13T15:54:58.583Z"
   },
   {
    "duration": 345,
    "start_time": "2022-01-13T15:54:59.373Z"
   },
   {
    "duration": 14,
    "start_time": "2022-01-13T15:54:59.721Z"
   },
   {
    "duration": 302,
    "start_time": "2022-01-13T15:54:59.761Z"
   },
   {
    "duration": 184,
    "start_time": "2022-01-13T15:55:00.066Z"
   },
   {
    "duration": 46,
    "start_time": "2022-01-13T15:55:00.260Z"
   },
   {
    "duration": 52,
    "start_time": "2022-01-13T15:55:00.309Z"
   },
   {
    "duration": 184,
    "start_time": "2022-01-13T15:55:00.364Z"
   },
   {
    "duration": 36,
    "start_time": "2022-01-13T15:55:00.552Z"
   },
   {
    "duration": 94,
    "start_time": "2022-01-13T16:03:11.532Z"
   },
   {
    "duration": 33,
    "start_time": "2022-01-13T16:03:16.575Z"
   },
   {
    "duration": 91,
    "start_time": "2022-01-13T17:04:15.907Z"
   },
   {
    "duration": 86,
    "start_time": "2022-01-13T17:05:25.637Z"
   },
   {
    "duration": 21,
    "start_time": "2022-01-13T17:05:33.273Z"
   },
   {
    "duration": 24,
    "start_time": "2022-01-13T17:05:46.924Z"
   },
   {
    "duration": 23,
    "start_time": "2022-01-13T17:06:25.159Z"
   },
   {
    "duration": 17,
    "start_time": "2022-01-13T17:07:23.037Z"
   },
   {
    "duration": 23,
    "start_time": "2022-01-13T17:07:54.437Z"
   },
   {
    "duration": 100,
    "start_time": "2022-01-13T17:09:26.444Z"
   },
   {
    "duration": 23,
    "start_time": "2022-01-13T17:09:29.763Z"
   },
   {
    "duration": 284,
    "start_time": "2022-01-13T17:10:33.765Z"
   },
   {
    "duration": 94,
    "start_time": "2022-01-13T17:10:41.670Z"
   },
   {
    "duration": 25,
    "start_time": "2022-01-13T17:10:46.376Z"
   },
   {
    "duration": 98,
    "start_time": "2022-01-13T17:16:53.044Z"
   },
   {
    "duration": 24,
    "start_time": "2022-01-13T17:17:00.732Z"
   },
   {
    "duration": 91,
    "start_time": "2022-01-13T17:17:47.952Z"
   },
   {
    "duration": 24,
    "start_time": "2022-01-13T17:17:51.682Z"
   },
   {
    "duration": 183,
    "start_time": "2022-01-13T17:22:22.177Z"
   },
   {
    "duration": 48,
    "start_time": "2022-01-13T17:22:26.035Z"
   },
   {
    "duration": 93,
    "start_time": "2022-01-13T17:23:42.821Z"
   },
   {
    "duration": 24,
    "start_time": "2022-01-13T17:23:46.277Z"
   },
   {
    "duration": 21,
    "start_time": "2022-01-13T17:24:43.724Z"
   },
   {
    "duration": 145,
    "start_time": "2022-01-13T17:25:39.045Z"
   },
   {
    "duration": 22,
    "start_time": "2022-01-13T17:25:42.172Z"
   },
   {
    "duration": 106,
    "start_time": "2022-01-13T17:26:26.868Z"
   },
   {
    "duration": 31,
    "start_time": "2022-01-13T17:26:30.100Z"
   },
   {
    "duration": 98,
    "start_time": "2022-01-13T17:27:17.646Z"
   },
   {
    "duration": 22,
    "start_time": "2022-01-13T17:27:21.035Z"
   },
   {
    "duration": 94,
    "start_time": "2022-01-13T17:29:43.474Z"
   },
   {
    "duration": 25,
    "start_time": "2022-01-13T17:29:45.960Z"
   },
   {
    "duration": 97,
    "start_time": "2022-01-13T17:32:21.321Z"
   },
   {
    "duration": 29,
    "start_time": "2022-01-13T17:32:24.890Z"
   },
   {
    "duration": 95,
    "start_time": "2022-01-13T17:34:19.716Z"
   },
   {
    "duration": 25,
    "start_time": "2022-01-13T17:34:22.776Z"
   },
   {
    "duration": 22,
    "start_time": "2022-01-13T17:34:51.570Z"
   },
   {
    "duration": 709,
    "start_time": "2022-01-13T17:35:51.636Z"
   },
   {
    "duration": 23,
    "start_time": "2022-01-13T17:35:54.369Z"
   },
   {
    "duration": 132,
    "start_time": "2022-01-13T17:36:05.275Z"
   },
   {
    "duration": 24,
    "start_time": "2022-01-13T17:36:09.603Z"
   },
   {
    "duration": 106,
    "start_time": "2022-01-13T17:37:21.284Z"
   },
   {
    "duration": 30,
    "start_time": "2022-01-13T17:37:24.541Z"
   },
   {
    "duration": 24,
    "start_time": "2022-01-13T17:37:47.498Z"
   },
   {
    "duration": 92,
    "start_time": "2022-01-13T17:41:41.901Z"
   },
   {
    "duration": 23,
    "start_time": "2022-01-13T17:41:45.128Z"
   },
   {
    "duration": 1574,
    "start_time": "2022-01-13T17:59:02.749Z"
   },
   {
    "duration": 83,
    "start_time": "2022-01-13T17:59:04.326Z"
   },
   {
    "duration": 24,
    "start_time": "2022-01-13T17:59:04.412Z"
   },
   {
    "duration": 22,
    "start_time": "2022-01-13T17:59:04.459Z"
   },
   {
    "duration": 780,
    "start_time": "2022-01-13T17:59:04.484Z"
   },
   {
    "duration": 363,
    "start_time": "2022-01-13T17:59:05.267Z"
   },
   {
    "duration": 27,
    "start_time": "2022-01-13T17:59:05.632Z"
   },
   {
    "duration": 293,
    "start_time": "2022-01-13T17:59:05.662Z"
   },
   {
    "duration": 176,
    "start_time": "2022-01-13T17:59:05.960Z"
   },
   {
    "duration": 51,
    "start_time": "2022-01-13T17:59:06.139Z"
   },
   {
    "duration": 13,
    "start_time": "2022-01-13T17:59:06.193Z"
   },
   {
    "duration": 275,
    "start_time": "2022-01-13T17:59:06.209Z"
   },
   {
    "duration": 24,
    "start_time": "2022-01-13T17:59:06.486Z"
   },
   {
    "duration": 536,
    "start_time": "2022-01-13T18:06:03.108Z"
   },
   {
    "duration": 659,
    "start_time": "2022-01-13T18:06:51.793Z"
   },
   {
    "duration": 607,
    "start_time": "2022-01-13T18:07:49.103Z"
   },
   {
    "duration": 8953,
    "start_time": "2022-01-13T18:12:09.070Z"
   },
   {
    "duration": 1512,
    "start_time": "2022-01-13T18:12:38.327Z"
   },
   {
    "duration": 82,
    "start_time": "2022-01-13T18:12:39.842Z"
   },
   {
    "duration": 41,
    "start_time": "2022-01-13T18:12:39.927Z"
   },
   {
    "duration": 17,
    "start_time": "2022-01-13T18:12:39.971Z"
   },
   {
    "duration": 571,
    "start_time": "2022-01-13T18:12:39.990Z"
   },
   {
    "duration": 348,
    "start_time": "2022-01-13T18:12:40.564Z"
   },
   {
    "duration": 16,
    "start_time": "2022-01-13T18:12:40.914Z"
   },
   {
    "duration": 306,
    "start_time": "2022-01-13T18:12:40.934Z"
   },
   {
    "duration": 183,
    "start_time": "2022-01-13T18:12:41.242Z"
   },
   {
    "duration": 55,
    "start_time": "2022-01-13T18:12:41.428Z"
   },
   {
    "duration": 13,
    "start_time": "2022-01-13T18:12:41.486Z"
   },
   {
    "duration": 287,
    "start_time": "2022-01-13T18:12:41.502Z"
   },
   {
    "duration": 21,
    "start_time": "2022-01-13T18:12:41.792Z"
   },
   {
    "duration": 648,
    "start_time": "2022-01-13T18:12:41.816Z"
   },
   {
    "duration": 12,
    "start_time": "2022-01-13T18:22:12.860Z"
   },
   {
    "duration": 15,
    "start_time": "2022-01-13T18:28:39.397Z"
   },
   {
    "duration": 18,
    "start_time": "2022-01-13T18:28:48.757Z"
   },
   {
    "duration": 1446,
    "start_time": "2022-01-18T07:44:19.905Z"
   },
   {
    "duration": 82,
    "start_time": "2022-01-18T07:44:21.353Z"
   },
   {
    "duration": 34,
    "start_time": "2022-01-18T07:44:21.438Z"
   },
   {
    "duration": 16,
    "start_time": "2022-01-18T07:44:21.475Z"
   },
   {
    "duration": 569,
    "start_time": "2022-01-18T07:44:21.493Z"
   },
   {
    "duration": 353,
    "start_time": "2022-01-18T07:44:22.064Z"
   },
   {
    "duration": 15,
    "start_time": "2022-01-18T07:44:22.419Z"
   },
   {
    "duration": 308,
    "start_time": "2022-01-18T07:44:22.437Z"
   },
   {
    "duration": 234,
    "start_time": "2022-01-18T07:44:22.747Z"
   },
   {
    "duration": 43,
    "start_time": "2022-01-18T07:44:22.984Z"
   },
   {
    "duration": 32,
    "start_time": "2022-01-18T07:44:23.029Z"
   },
   {
    "duration": 276,
    "start_time": "2022-01-18T07:44:23.064Z"
   },
   {
    "duration": 34,
    "start_time": "2022-01-18T07:44:23.342Z"
   },
   {
    "duration": 621,
    "start_time": "2022-01-18T07:44:23.378Z"
   },
   {
    "duration": 835,
    "start_time": "2022-01-18T07:47:07.536Z"
   },
   {
    "duration": 631,
    "start_time": "2022-01-18T07:47:31.736Z"
   },
   {
    "duration": 588,
    "start_time": "2022-01-18T07:47:56.094Z"
   },
   {
    "duration": 8993,
    "start_time": "2022-01-18T07:58:38.957Z"
   },
   {
    "duration": 1477,
    "start_time": "2022-01-18T07:59:03.057Z"
   },
   {
    "duration": 84,
    "start_time": "2022-01-18T07:59:04.536Z"
   },
   {
    "duration": 25,
    "start_time": "2022-01-18T07:59:04.623Z"
   },
   {
    "duration": 16,
    "start_time": "2022-01-18T07:59:04.658Z"
   },
   {
    "duration": 595,
    "start_time": "2022-01-18T07:59:04.676Z"
   },
   {
    "duration": 352,
    "start_time": "2022-01-18T07:59:05.273Z"
   },
   {
    "duration": 33,
    "start_time": "2022-01-18T07:59:05.628Z"
   },
   {
    "duration": 299,
    "start_time": "2022-01-18T07:59:05.663Z"
   },
   {
    "duration": 179,
    "start_time": "2022-01-18T07:59:05.965Z"
   },
   {
    "duration": 50,
    "start_time": "2022-01-18T07:59:06.147Z"
   },
   {
    "duration": 13,
    "start_time": "2022-01-18T07:59:06.200Z"
   },
   {
    "duration": 264,
    "start_time": "2022-01-18T07:59:06.216Z"
   },
   {
    "duration": 23,
    "start_time": "2022-01-18T07:59:06.483Z"
   },
   {
    "duration": 639,
    "start_time": "2022-01-18T07:59:06.509Z"
   },
   {
    "duration": 681,
    "start_time": "2022-01-18T07:59:07.151Z"
   },
   {
    "duration": 28,
    "start_time": "2022-01-18T08:02:15.141Z"
   },
   {
    "duration": 13,
    "start_time": "2022-01-18T08:02:39.688Z"
   },
   {
    "duration": 18,
    "start_time": "2022-01-18T08:04:50.559Z"
   },
   {
    "duration": 17,
    "start_time": "2022-01-18T08:10:57.969Z"
   },
   {
    "duration": 20,
    "start_time": "2022-01-18T08:11:52.398Z"
   },
   {
    "duration": 340,
    "start_time": "2022-01-18T08:15:42.031Z"
   },
   {
    "duration": 474,
    "start_time": "2022-01-18T08:19:26.275Z"
   },
   {
    "duration": 457,
    "start_time": "2022-01-18T08:21:29.541Z"
   },
   {
    "duration": 925,
    "start_time": "2022-01-18T08:24:51.763Z"
   },
   {
    "duration": 905,
    "start_time": "2022-01-18T08:27:56.920Z"
   },
   {
    "duration": 812,
    "start_time": "2022-01-18T08:29:08.650Z"
   },
   {
    "duration": 845,
    "start_time": "2022-01-18T08:29:28.140Z"
   },
   {
    "duration": 531,
    "start_time": "2022-01-18T08:30:47.867Z"
   },
   {
    "duration": 20,
    "start_time": "2022-01-18T08:31:49.203Z"
   },
   {
    "duration": 514,
    "start_time": "2022-01-18T08:31:53.602Z"
   },
   {
    "duration": 5,
    "start_time": "2022-01-18T08:43:30.128Z"
   },
   {
    "duration": 735,
    "start_time": "2022-01-18T10:00:30.993Z"
   },
   {
    "duration": 8,
    "start_time": "2022-01-18T10:00:41.416Z"
   },
   {
    "duration": 15,
    "start_time": "2022-01-18T10:01:47.953Z"
   },
   {
    "duration": 1434,
    "start_time": "2022-01-18T10:02:30.608Z"
   },
   {
    "duration": 1418,
    "start_time": "2022-01-18T10:03:07.560Z"
   },
   {
    "duration": 19,
    "start_time": "2022-01-18T10:04:17.209Z"
   },
   {
    "duration": 6,
    "start_time": "2022-01-18T10:05:26.098Z"
   },
   {
    "duration": 5,
    "start_time": "2022-01-18T10:05:38.413Z"
   },
   {
    "duration": 5,
    "start_time": "2022-01-18T10:05:58.154Z"
   },
   {
    "duration": 6,
    "start_time": "2022-01-18T10:06:57.907Z"
   },
   {
    "duration": 8,
    "start_time": "2022-01-18T10:07:20.231Z"
   },
   {
    "duration": 6,
    "start_time": "2022-01-18T10:07:53.528Z"
   },
   {
    "duration": 7,
    "start_time": "2022-01-18T10:08:07.561Z"
   },
   {
    "duration": 7,
    "start_time": "2022-01-18T10:10:06.308Z"
   },
   {
    "duration": 20,
    "start_time": "2022-01-18T10:10:15.806Z"
   },
   {
    "duration": 19,
    "start_time": "2022-01-18T10:10:35.785Z"
   },
   {
    "duration": 28,
    "start_time": "2022-01-18T10:15:26.132Z"
   },
   {
    "duration": 5,
    "start_time": "2022-01-18T11:21:17.169Z"
   },
   {
    "duration": 29,
    "start_time": "2022-01-18T12:22:52.274Z"
   },
   {
    "duration": 2497,
    "start_time": "2022-01-18T12:24:58.288Z"
   },
   {
    "duration": 1422,
    "start_time": "2022-01-18T12:27:04.351Z"
   },
   {
    "duration": 1420,
    "start_time": "2022-01-18T12:27:33.418Z"
   },
   {
    "duration": 28,
    "start_time": "2022-01-18T12:27:47.759Z"
   },
   {
    "duration": 79,
    "start_time": "2022-01-18T12:28:30.671Z"
   },
   {
    "duration": 25,
    "start_time": "2022-01-18T12:29:30.337Z"
   },
   {
    "duration": 26,
    "start_time": "2022-01-18T12:30:33.445Z"
   },
   {
    "duration": 24,
    "start_time": "2022-01-18T12:36:16.209Z"
   },
   {
    "duration": 25,
    "start_time": "2022-01-18T12:36:25.874Z"
   },
   {
    "duration": 1479,
    "start_time": "2022-01-18T12:37:52.791Z"
   },
   {
    "duration": 16,
    "start_time": "2022-01-18T12:38:23.480Z"
   },
   {
    "duration": 6,
    "start_time": "2022-01-18T12:50:36.564Z"
   },
   {
    "duration": 107,
    "start_time": "2022-01-18T12:50:55.400Z"
   },
   {
    "duration": 8281,
    "start_time": "2022-01-18T12:51:51.157Z"
   },
   {
    "duration": 25,
    "start_time": "2022-01-18T12:53:03.391Z"
   },
   {
    "duration": 122,
    "start_time": "2022-01-18T12:55:41.181Z"
   },
   {
    "duration": 26,
    "start_time": "2022-01-18T12:55:51.629Z"
   },
   {
    "duration": 109,
    "start_time": "2022-01-18T12:57:53.787Z"
   },
   {
    "duration": 26,
    "start_time": "2022-01-18T12:57:57.371Z"
   },
   {
    "duration": 112,
    "start_time": "2022-01-18T12:58:56.772Z"
   },
   {
    "duration": 26,
    "start_time": "2022-01-18T12:58:59.933Z"
   },
   {
    "duration": 23,
    "start_time": "2022-01-18T12:59:50.660Z"
   },
   {
    "duration": 25,
    "start_time": "2022-01-18T13:00:21.487Z"
   },
   {
    "duration": 1804,
    "start_time": "2022-01-18T13:07:27.066Z"
   },
   {
    "duration": 24,
    "start_time": "2022-01-18T13:09:04.978Z"
   },
   {
    "duration": 259,
    "start_time": "2022-01-18T13:10:35.143Z"
   },
   {
    "duration": 21,
    "start_time": "2022-01-18T13:10:47.462Z"
   },
   {
    "duration": 153,
    "start_time": "2022-01-18T13:13:14.678Z"
   },
   {
    "duration": 21,
    "start_time": "2022-01-18T13:14:10.052Z"
   },
   {
    "duration": 146,
    "start_time": "2022-01-18T13:16:30.811Z"
   },
   {
    "duration": 26,
    "start_time": "2022-01-18T13:16:33.757Z"
   },
   {
    "duration": 15,
    "start_time": "2022-01-18T13:17:17.537Z"
   },
   {
    "duration": 454,
    "start_time": "2022-01-18T13:19:46.109Z"
   },
   {
    "duration": 171,
    "start_time": "2022-01-18T13:20:33.674Z"
   },
   {
    "duration": 173,
    "start_time": "2022-01-18T13:20:42.810Z"
   },
   {
    "duration": 136,
    "start_time": "2022-01-18T13:21:36.224Z"
   },
   {
    "duration": 6,
    "start_time": "2022-01-18T13:31:47.732Z"
   },
   {
    "duration": 6,
    "start_time": "2022-01-18T13:32:11.223Z"
   },
   {
    "duration": 6,
    "start_time": "2022-01-18T13:33:55.538Z"
   },
   {
    "duration": 308,
    "start_time": "2022-01-18T13:34:22.535Z"
   },
   {
    "duration": 5,
    "start_time": "2022-01-18T13:34:29.463Z"
   },
   {
    "duration": 15,
    "start_time": "2022-01-18T13:34:51.511Z"
   },
   {
    "duration": 6,
    "start_time": "2022-01-18T13:37:03.424Z"
   },
   {
    "duration": 6,
    "start_time": "2022-01-18T13:38:00.011Z"
   },
   {
    "duration": 7,
    "start_time": "2022-01-18T13:57:24.806Z"
   },
   {
    "duration": 153,
    "start_time": "2022-01-18T14:02:52.360Z"
   },
   {
    "duration": 142,
    "start_time": "2022-01-18T14:03:15.539Z"
   },
   {
    "duration": 153,
    "start_time": "2022-01-18T14:03:29.419Z"
   },
   {
    "duration": 148,
    "start_time": "2022-01-18T14:03:54.186Z"
   },
   {
    "duration": 149,
    "start_time": "2022-01-18T14:05:17.821Z"
   },
   {
    "duration": 157,
    "start_time": "2022-01-18T14:05:39.956Z"
   },
   {
    "duration": 193,
    "start_time": "2022-01-18T14:06:33.623Z"
   },
   {
    "duration": 23,
    "start_time": "2022-01-18T14:07:00.334Z"
   },
   {
    "duration": 6,
    "start_time": "2022-01-18T17:16:55.260Z"
   },
   {
    "duration": 528,
    "start_time": "2022-01-18T17:24:20.621Z"
   },
   {
    "duration": 643,
    "start_time": "2022-01-18T17:24:48.242Z"
   },
   {
    "duration": 4,
    "start_time": "2022-01-18T17:24:54.201Z"
   },
   {
    "duration": 5,
    "start_time": "2022-01-18T17:25:11.479Z"
   },
   {
    "duration": 31,
    "start_time": "2022-01-18T17:26:22.969Z"
   },
   {
    "duration": 6,
    "start_time": "2022-01-18T17:26:43.463Z"
   },
   {
    "duration": 321,
    "start_time": "2022-01-18T17:38:06.883Z"
   },
   {
    "duration": 7,
    "start_time": "2022-01-18T17:38:25.577Z"
   },
   {
    "duration": 13,
    "start_time": "2022-01-18T17:38:34.503Z"
   },
   {
    "duration": 6,
    "start_time": "2022-01-18T17:41:22.270Z"
   },
   {
    "duration": 7,
    "start_time": "2022-01-18T17:42:01.553Z"
   },
   {
    "duration": 5,
    "start_time": "2022-01-18T17:42:10.567Z"
   },
   {
    "duration": 5,
    "start_time": "2022-01-18T17:42:16.718Z"
   },
   {
    "duration": 15,
    "start_time": "2022-01-18T17:43:25.178Z"
   },
   {
    "duration": 5,
    "start_time": "2022-01-18T17:43:49.117Z"
   },
   {
    "duration": 6,
    "start_time": "2022-01-18T17:44:19.821Z"
   },
   {
    "duration": 102,
    "start_time": "2022-01-18T17:48:43.944Z"
   },
   {
    "duration": 31,
    "start_time": "2022-01-18T17:49:01.157Z"
   },
   {
    "duration": 13,
    "start_time": "2022-01-18T17:51:40.288Z"
   },
   {
    "duration": 8,
    "start_time": "2022-01-18T17:51:59.011Z"
   },
   {
    "duration": 305,
    "start_time": "2022-01-18T17:52:26.995Z"
   },
   {
    "duration": 18,
    "start_time": "2022-01-18T17:52:33.747Z"
   },
   {
    "duration": 26,
    "start_time": "2022-01-18T17:55:06.454Z"
   },
   {
    "duration": 91,
    "start_time": "2022-01-18T17:55:44.277Z"
   },
   {
    "duration": 24,
    "start_time": "2022-01-18T17:55:51.767Z"
   },
   {
    "duration": 117,
    "start_time": "2022-01-18T17:56:44.278Z"
   },
   {
    "duration": 27,
    "start_time": "2022-01-18T17:56:48.541Z"
   },
   {
    "duration": 92,
    "start_time": "2022-01-18T18:02:10.252Z"
   },
   {
    "duration": 17,
    "start_time": "2022-01-18T18:02:14.022Z"
   },
   {
    "duration": 7,
    "start_time": "2022-01-18T18:03:28.104Z"
   },
   {
    "duration": 17,
    "start_time": "2022-01-18T18:03:38.618Z"
   },
   {
    "duration": 94,
    "start_time": "2022-01-18T18:05:56.774Z"
   },
   {
    "duration": 16,
    "start_time": "2022-01-18T18:06:07.620Z"
   },
   {
    "duration": 98,
    "start_time": "2022-01-18T18:07:28.437Z"
   },
   {
    "duration": 16,
    "start_time": "2022-01-18T18:07:32.558Z"
   },
   {
    "duration": 101,
    "start_time": "2022-01-18T18:10:50.708Z"
   },
   {
    "duration": 9,
    "start_time": "2022-01-18T18:11:42.739Z"
   },
   {
    "duration": 8,
    "start_time": "2022-01-18T18:12:51.076Z"
   },
   {
    "duration": 18,
    "start_time": "2022-01-18T18:18:42.523Z"
   },
   {
    "duration": 21,
    "start_time": "2022-01-18T18:21:16.697Z"
   },
   {
    "duration": 21,
    "start_time": "2022-01-18T18:21:32.465Z"
   },
   {
    "duration": 1132,
    "start_time": "2022-01-19T10:47:05.953Z"
   },
   {
    "duration": 61,
    "start_time": "2022-01-19T10:47:07.087Z"
   },
   {
    "duration": 22,
    "start_time": "2022-01-19T10:47:07.150Z"
   },
   {
    "duration": 11,
    "start_time": "2022-01-19T10:47:07.175Z"
   },
   {
    "duration": 322,
    "start_time": "2022-01-19T10:47:07.187Z"
   },
   {
    "duration": 209,
    "start_time": "2022-01-19T10:47:07.511Z"
   },
   {
    "duration": 11,
    "start_time": "2022-01-19T10:47:07.721Z"
   },
   {
    "duration": 179,
    "start_time": "2022-01-19T10:47:07.734Z"
   },
   {
    "duration": 108,
    "start_time": "2022-01-19T10:47:07.915Z"
   },
   {
    "duration": 28,
    "start_time": "2022-01-19T10:47:08.024Z"
   },
   {
    "duration": 21,
    "start_time": "2022-01-19T10:47:08.054Z"
   },
   {
    "duration": 154,
    "start_time": "2022-01-19T10:47:08.077Z"
   },
   {
    "duration": 15,
    "start_time": "2022-01-19T10:47:08.233Z"
   },
   {
    "duration": 446,
    "start_time": "2022-01-19T10:47:08.249Z"
   },
   {
    "duration": 492,
    "start_time": "2022-01-19T10:47:08.697Z"
   },
   {
    "duration": 12,
    "start_time": "2022-01-19T10:47:09.191Z"
   },
   {
    "duration": 297,
    "start_time": "2022-01-19T10:47:09.204Z"
   },
   {
    "duration": 57,
    "start_time": "2022-01-19T10:47:09.502Z"
   },
   {
    "duration": 6,
    "start_time": "2022-01-19T10:47:09.572Z"
   },
   {
    "duration": 12,
    "start_time": "2022-01-19T10:47:09.579Z"
   },
   {
    "duration": 324,
    "start_time": "2022-01-19T11:02:57.142Z"
   },
   {
    "duration": 510,
    "start_time": "2022-01-19T14:10:47.566Z"
   },
   {
    "duration": 1235,
    "start_time": "2022-01-19T14:11:02.904Z"
   },
   {
    "duration": 874,
    "start_time": "2022-01-19T17:52:22.509Z"
   },
   {
    "duration": 974,
    "start_time": "2022-01-19T17:59:40.975Z"
   },
   {
    "duration": 757,
    "start_time": "2022-01-19T18:00:07.848Z"
   },
   {
    "duration": 22,
    "start_time": "2022-01-19T18:02:28.566Z"
   },
   {
    "duration": 15,
    "start_time": "2022-01-19T18:04:49.688Z"
   },
   {
    "duration": 17,
    "start_time": "2022-01-19T18:05:18.359Z"
   },
   {
    "duration": 8,
    "start_time": "2022-01-19T18:06:46.671Z"
   },
   {
    "duration": 8,
    "start_time": "2022-01-19T18:07:36.951Z"
   },
   {
    "duration": 8,
    "start_time": "2022-01-19T18:08:05.241Z"
   },
   {
    "duration": 1118,
    "start_time": "2022-01-19T18:22:59.430Z"
   },
   {
    "duration": 20,
    "start_time": "2022-01-19T18:23:21.366Z"
   },
   {
    "duration": 567,
    "start_time": "2022-01-19T18:34:23.937Z"
   },
   {
    "duration": 564,
    "start_time": "2022-01-19T18:34:44.916Z"
   },
   {
    "duration": 544,
    "start_time": "2022-01-19T18:35:12.197Z"
   },
   {
    "duration": 21,
    "start_time": "2022-01-19T18:35:17.219Z"
   },
   {
    "duration": 18,
    "start_time": "2022-01-19T18:35:29.053Z"
   },
   {
    "duration": 1209,
    "start_time": "2022-01-21T08:24:58.279Z"
   },
   {
    "duration": 79,
    "start_time": "2022-01-21T08:24:59.489Z"
   },
   {
    "duration": 16,
    "start_time": "2022-01-21T08:24:59.570Z"
   },
   {
    "duration": 11,
    "start_time": "2022-01-21T08:24:59.588Z"
   },
   {
    "duration": 314,
    "start_time": "2022-01-21T08:24:59.601Z"
   },
   {
    "duration": 221,
    "start_time": "2022-01-21T08:24:59.917Z"
   },
   {
    "duration": 10,
    "start_time": "2022-01-21T08:25:00.140Z"
   },
   {
    "duration": 185,
    "start_time": "2022-01-21T08:25:00.153Z"
   },
   {
    "duration": 100,
    "start_time": "2022-01-21T08:25:00.340Z"
   },
   {
    "duration": 87,
    "start_time": "2022-01-21T08:25:00.442Z"
   },
   {
    "duration": 9,
    "start_time": "2022-01-21T08:25:00.530Z"
   },
   {
    "duration": 164,
    "start_time": "2022-01-21T08:25:00.541Z"
   },
   {
    "duration": 15,
    "start_time": "2022-01-21T08:25:00.707Z"
   },
   {
    "duration": 395,
    "start_time": "2022-01-21T08:25:00.723Z"
   },
   {
    "duration": 380,
    "start_time": "2022-01-21T08:25:01.119Z"
   },
   {
    "duration": 13,
    "start_time": "2022-01-21T08:25:01.502Z"
   },
   {
    "duration": 431,
    "start_time": "2022-01-21T08:25:01.517Z"
   },
   {
    "duration": 74,
    "start_time": "2022-01-21T08:25:01.950Z"
   },
   {
    "duration": 8,
    "start_time": "2022-01-21T08:25:02.025Z"
   },
   {
    "duration": 38,
    "start_time": "2022-01-21T08:25:02.035Z"
   },
   {
    "duration": 336,
    "start_time": "2022-01-21T08:25:02.075Z"
   },
   {
    "duration": 1211,
    "start_time": "2022-01-21T08:25:02.413Z"
   },
   {
    "duration": 540,
    "start_time": "2022-01-21T08:25:03.627Z"
   },
   {
    "duration": 19,
    "start_time": "2022-01-21T08:25:04.171Z"
   },
   {
    "duration": 16,
    "start_time": "2022-01-21T08:25:04.192Z"
   },
   {
    "duration": 7,
    "start_time": "2022-01-21T08:25:04.209Z"
   },
   {
    "duration": 3586,
    "start_time": "2022-01-21T08:27:07.964Z"
   },
   {
    "duration": 3762,
    "start_time": "2022-01-21T08:27:56.857Z"
   },
   {
    "duration": 1096,
    "start_time": "2022-01-21T08:30:31.405Z"
   },
   {
    "duration": 847,
    "start_time": "2022-01-21T08:31:51.092Z"
   },
   {
    "duration": 1237,
    "start_time": "2022-01-21T08:33:42.306Z"
   },
   {
    "duration": 58,
    "start_time": "2022-01-21T08:33:43.544Z"
   },
   {
    "duration": 16,
    "start_time": "2022-01-21T08:33:43.604Z"
   },
   {
    "duration": 11,
    "start_time": "2022-01-21T08:33:43.621Z"
   },
   {
    "duration": 323,
    "start_time": "2022-01-21T08:33:43.633Z"
   },
   {
    "duration": 200,
    "start_time": "2022-01-21T08:33:43.958Z"
   },
   {
    "duration": 18,
    "start_time": "2022-01-21T08:33:44.160Z"
   },
   {
    "duration": 171,
    "start_time": "2022-01-21T08:33:44.181Z"
   },
   {
    "duration": 105,
    "start_time": "2022-01-21T08:33:44.354Z"
   },
   {
    "duration": 83,
    "start_time": "2022-01-21T08:33:44.461Z"
   },
   {
    "duration": 8,
    "start_time": "2022-01-21T08:33:44.545Z"
   },
   {
    "duration": 157,
    "start_time": "2022-01-21T08:33:44.555Z"
   },
   {
    "duration": 14,
    "start_time": "2022-01-21T08:33:44.714Z"
   },
   {
    "duration": 404,
    "start_time": "2022-01-21T08:33:44.729Z"
   },
   {
    "duration": 408,
    "start_time": "2022-01-21T08:33:45.135Z"
   },
   {
    "duration": 12,
    "start_time": "2022-01-21T08:33:45.544Z"
   },
   {
    "duration": 302,
    "start_time": "2022-01-21T08:33:45.557Z"
   },
   {
    "duration": 58,
    "start_time": "2022-01-21T08:33:45.861Z"
   },
   {
    "duration": 6,
    "start_time": "2022-01-21T08:33:45.921Z"
   },
   {
    "duration": 12,
    "start_time": "2022-01-21T08:33:45.928Z"
   },
   {
    "duration": 343,
    "start_time": "2022-01-21T08:33:45.941Z"
   },
   {
    "duration": 1134,
    "start_time": "2022-01-21T08:33:46.286Z"
   },
   {
    "duration": 573,
    "start_time": "2022-01-21T08:33:47.423Z"
   },
   {
    "duration": 20,
    "start_time": "2022-01-21T08:33:47.998Z"
   },
   {
    "duration": 16,
    "start_time": "2022-01-21T08:33:48.020Z"
   },
   {
    "duration": 7,
    "start_time": "2022-01-21T08:33:48.038Z"
   },
   {
    "duration": 12,
    "start_time": "2022-01-21T08:37:17.724Z"
   },
   {
    "duration": 18,
    "start_time": "2022-01-21T08:37:53.324Z"
   },
   {
    "duration": 3338,
    "start_time": "2022-01-21T08:40:16.221Z"
   },
   {
    "duration": 3784,
    "start_time": "2022-01-21T08:43:17.155Z"
   },
   {
    "duration": 4675,
    "start_time": "2022-01-21T08:43:38.402Z"
   },
   {
    "duration": 13,
    "start_time": "2022-01-21T08:48:27.232Z"
   },
   {
    "duration": 3452,
    "start_time": "2022-01-21T08:48:41.805Z"
   },
   {
    "duration": 3314,
    "start_time": "2022-01-21T08:49:08.991Z"
   },
   {
    "duration": 5119,
    "start_time": "2022-01-21T08:49:30.834Z"
   },
   {
    "duration": 1149,
    "start_time": "2022-01-21T08:50:20.500Z"
   },
   {
    "duration": 59,
    "start_time": "2022-01-21T08:50:21.651Z"
   },
   {
    "duration": 16,
    "start_time": "2022-01-21T08:50:21.712Z"
   },
   {
    "duration": 11,
    "start_time": "2022-01-21T08:50:21.730Z"
   },
   {
    "duration": 328,
    "start_time": "2022-01-21T08:50:21.743Z"
   },
   {
    "duration": 201,
    "start_time": "2022-01-21T08:50:22.073Z"
   },
   {
    "duration": 10,
    "start_time": "2022-01-21T08:50:22.275Z"
   },
   {
    "duration": 172,
    "start_time": "2022-01-21T08:50:22.286Z"
   },
   {
    "duration": 97,
    "start_time": "2022-01-21T08:50:22.460Z"
   },
   {
    "duration": 88,
    "start_time": "2022-01-21T08:50:22.560Z"
   },
   {
    "duration": 9,
    "start_time": "2022-01-21T08:50:22.650Z"
   },
   {
    "duration": 156,
    "start_time": "2022-01-21T08:50:22.660Z"
   },
   {
    "duration": 15,
    "start_time": "2022-01-21T08:50:22.817Z"
   },
   {
    "duration": 444,
    "start_time": "2022-01-21T08:50:22.834Z"
   },
   {
    "duration": 388,
    "start_time": "2022-01-21T08:50:23.280Z"
   },
   {
    "duration": 11,
    "start_time": "2022-01-21T08:50:23.671Z"
   },
   {
    "duration": 302,
    "start_time": "2022-01-21T08:50:23.684Z"
   },
   {
    "duration": 60,
    "start_time": "2022-01-21T08:50:23.987Z"
   },
   {
    "duration": 6,
    "start_time": "2022-01-21T08:50:24.048Z"
   },
   {
    "duration": 12,
    "start_time": "2022-01-21T08:50:24.072Z"
   },
   {
    "duration": 318,
    "start_time": "2022-01-21T08:50:24.085Z"
   },
   {
    "duration": 912,
    "start_time": "2022-01-21T08:50:24.404Z"
   },
   {
    "duration": 539,
    "start_time": "2022-01-21T08:50:25.318Z"
   },
   {
    "duration": 23,
    "start_time": "2022-01-21T08:50:25.858Z"
   },
   {
    "duration": 14,
    "start_time": "2022-01-21T08:50:25.882Z"
   },
   {
    "duration": 7,
    "start_time": "2022-01-21T08:50:25.898Z"
   },
   {
    "duration": 1228,
    "start_time": "2022-01-21T08:51:24.211Z"
   },
   {
    "duration": 55,
    "start_time": "2022-01-21T08:51:25.441Z"
   },
   {
    "duration": 15,
    "start_time": "2022-01-21T08:51:25.498Z"
   },
   {
    "duration": 11,
    "start_time": "2022-01-21T08:51:25.515Z"
   },
   {
    "duration": 314,
    "start_time": "2022-01-21T08:51:25.527Z"
   },
   {
    "duration": 195,
    "start_time": "2022-01-21T08:51:25.843Z"
   },
   {
    "duration": 11,
    "start_time": "2022-01-21T08:51:26.039Z"
   },
   {
    "duration": 172,
    "start_time": "2022-01-21T08:51:26.051Z"
   },
   {
    "duration": 103,
    "start_time": "2022-01-21T08:51:26.225Z"
   },
   {
    "duration": 93,
    "start_time": "2022-01-21T08:51:26.330Z"
   },
   {
    "duration": 9,
    "start_time": "2022-01-21T08:51:26.425Z"
   },
   {
    "duration": 149,
    "start_time": "2022-01-21T08:51:26.436Z"
   },
   {
    "duration": 15,
    "start_time": "2022-01-21T08:51:26.586Z"
   },
   {
    "duration": 377,
    "start_time": "2022-01-21T08:51:26.602Z"
   },
   {
    "duration": 390,
    "start_time": "2022-01-21T08:51:26.981Z"
   },
   {
    "duration": 12,
    "start_time": "2022-01-21T08:51:27.373Z"
   },
   {
    "duration": 298,
    "start_time": "2022-01-21T08:51:27.386Z"
   },
   {
    "duration": 59,
    "start_time": "2022-01-21T08:51:27.685Z"
   },
   {
    "duration": 6,
    "start_time": "2022-01-21T08:51:27.746Z"
   },
   {
    "duration": 29,
    "start_time": "2022-01-21T08:51:27.753Z"
   },
   {
    "duration": 335,
    "start_time": "2022-01-21T08:51:27.784Z"
   },
   {
    "duration": 825,
    "start_time": "2022-01-21T08:51:28.121Z"
   },
   {
    "duration": 565,
    "start_time": "2022-01-21T08:51:28.947Z"
   },
   {
    "duration": 20,
    "start_time": "2022-01-21T08:51:29.513Z"
   },
   {
    "duration": 37,
    "start_time": "2022-01-21T08:51:29.535Z"
   },
   {
    "duration": 7,
    "start_time": "2022-01-21T08:51:29.574Z"
   },
   {
    "duration": 1166,
    "start_time": "2022-01-21T19:58:20.995Z"
   },
   {
    "duration": 63,
    "start_time": "2022-01-21T19:58:22.163Z"
   },
   {
    "duration": 17,
    "start_time": "2022-01-21T19:58:22.228Z"
   },
   {
    "duration": 12,
    "start_time": "2022-01-21T19:58:22.247Z"
   },
   {
    "duration": 318,
    "start_time": "2022-01-21T19:58:22.272Z"
   },
   {
    "duration": 216,
    "start_time": "2022-01-21T19:58:22.592Z"
   },
   {
    "duration": 10,
    "start_time": "2022-01-21T19:58:22.810Z"
   },
   {
    "duration": 194,
    "start_time": "2022-01-21T19:58:22.823Z"
   },
   {
    "duration": 113,
    "start_time": "2022-01-21T19:58:23.019Z"
   },
   {
    "duration": 93,
    "start_time": "2022-01-21T19:58:23.134Z"
   },
   {
    "duration": 8,
    "start_time": "2022-01-21T19:58:23.229Z"
   },
   {
    "duration": 169,
    "start_time": "2022-01-21T19:58:23.239Z"
   },
   {
    "duration": 16,
    "start_time": "2022-01-21T19:58:23.409Z"
   },
   {
    "duration": 411,
    "start_time": "2022-01-21T19:58:23.427Z"
   },
   {
    "duration": 408,
    "start_time": "2022-01-21T19:58:23.839Z"
   },
   {
    "duration": 23,
    "start_time": "2022-01-21T19:58:24.249Z"
   },
   {
    "duration": 305,
    "start_time": "2022-01-21T19:58:24.274Z"
   },
   {
    "duration": 63,
    "start_time": "2022-01-21T19:58:24.580Z"
   },
   {
    "duration": 6,
    "start_time": "2022-01-21T19:58:24.645Z"
   },
   {
    "duration": 28,
    "start_time": "2022-01-21T19:58:24.652Z"
   },
   {
    "duration": 331,
    "start_time": "2022-01-21T19:58:24.682Z"
   },
   {
    "duration": 1017,
    "start_time": "2022-01-21T19:58:25.015Z"
   },
   {
    "duration": 549,
    "start_time": "2022-01-21T19:58:26.034Z"
   },
   {
    "duration": 21,
    "start_time": "2022-01-21T19:58:26.584Z"
   },
   {
    "duration": 15,
    "start_time": "2022-01-21T19:58:26.606Z"
   },
   {
    "duration": 7,
    "start_time": "2022-01-21T19:58:26.622Z"
   },
   {
    "duration": 9,
    "start_time": "2022-01-21T19:59:06.663Z"
   },
   {
    "duration": 7,
    "start_time": "2022-01-21T19:59:16.207Z"
   },
   {
    "duration": 7,
    "start_time": "2022-01-21T19:59:20.813Z"
   },
   {
    "duration": 7,
    "start_time": "2022-01-21T19:59:26.078Z"
   },
   {
    "duration": 7,
    "start_time": "2022-01-21T19:59:59.572Z"
   },
   {
    "duration": 7,
    "start_time": "2022-01-21T20:00:41.832Z"
   },
   {
    "duration": 9,
    "start_time": "2022-01-21T20:00:46.140Z"
   },
   {
    "duration": 7,
    "start_time": "2022-01-21T20:02:40.136Z"
   },
   {
    "duration": 7,
    "start_time": "2022-01-21T20:19:42.715Z"
   },
   {
    "duration": 14,
    "start_time": "2022-01-21T20:21:08.092Z"
   },
   {
    "duration": 15,
    "start_time": "2022-01-21T20:27:08.306Z"
   },
   {
    "duration": 1240,
    "start_time": "2022-01-21T20:33:36.111Z"
   },
   {
    "duration": 61,
    "start_time": "2022-01-21T20:33:37.353Z"
   },
   {
    "duration": 16,
    "start_time": "2022-01-21T20:33:37.416Z"
   },
   {
    "duration": 12,
    "start_time": "2022-01-21T20:33:37.434Z"
   },
   {
    "duration": 323,
    "start_time": "2022-01-21T20:33:37.447Z"
   },
   {
    "duration": 207,
    "start_time": "2022-01-21T20:33:37.772Z"
   },
   {
    "duration": 12,
    "start_time": "2022-01-21T20:33:37.981Z"
   },
   {
    "duration": 183,
    "start_time": "2022-01-21T20:33:37.997Z"
   },
   {
    "duration": 107,
    "start_time": "2022-01-21T20:33:38.183Z"
   },
   {
    "duration": 93,
    "start_time": "2022-01-21T20:33:38.292Z"
   },
   {
    "duration": 8,
    "start_time": "2022-01-21T20:33:38.387Z"
   },
   {
    "duration": 154,
    "start_time": "2022-01-21T20:33:38.397Z"
   },
   {
    "duration": 23,
    "start_time": "2022-01-21T20:33:38.553Z"
   },
   {
    "duration": 419,
    "start_time": "2022-01-21T20:33:38.578Z"
   },
   {
    "duration": 397,
    "start_time": "2022-01-21T20:33:38.999Z"
   },
   {
    "duration": 12,
    "start_time": "2022-01-21T20:33:39.398Z"
   },
   {
    "duration": 318,
    "start_time": "2022-01-21T20:33:39.411Z"
   },
   {
    "duration": 77,
    "start_time": "2022-01-21T20:33:39.731Z"
   },
   {
    "duration": 7,
    "start_time": "2022-01-21T20:33:39.810Z"
   },
   {
    "duration": 12,
    "start_time": "2022-01-21T20:33:39.819Z"
   },
   {
    "duration": 325,
    "start_time": "2022-01-21T20:33:39.832Z"
   },
   {
    "duration": 694,
    "start_time": "2022-01-21T20:33:40.159Z"
   },
   {
    "duration": 562,
    "start_time": "2022-01-21T20:33:40.856Z"
   },
   {
    "duration": 21,
    "start_time": "2022-01-21T20:33:41.420Z"
   },
   {
    "duration": 14,
    "start_time": "2022-01-21T20:33:41.443Z"
   },
   {
    "duration": 7,
    "start_time": "2022-01-21T20:33:41.472Z"
   },
   {
    "duration": 16,
    "start_time": "2022-01-21T20:33:58.881Z"
   },
   {
    "duration": 15,
    "start_time": "2022-01-21T20:38:11.424Z"
   },
   {
    "duration": 1134,
    "start_time": "2022-01-21T20:47:50.120Z"
   },
   {
    "duration": 60,
    "start_time": "2022-01-21T20:47:51.256Z"
   },
   {
    "duration": 16,
    "start_time": "2022-01-21T20:47:51.318Z"
   },
   {
    "duration": 11,
    "start_time": "2022-01-21T20:47:51.336Z"
   },
   {
    "duration": 312,
    "start_time": "2022-01-21T20:47:51.349Z"
   },
   {
    "duration": 204,
    "start_time": "2022-01-21T20:47:51.663Z"
   },
   {
    "duration": 11,
    "start_time": "2022-01-21T20:47:51.869Z"
   },
   {
    "duration": 169,
    "start_time": "2022-01-21T20:47:51.883Z"
   },
   {
    "duration": 99,
    "start_time": "2022-01-21T20:47:52.054Z"
   },
   {
    "duration": 92,
    "start_time": "2022-01-21T20:47:52.154Z"
   },
   {
    "duration": 7,
    "start_time": "2022-01-21T20:47:52.248Z"
   },
   {
    "duration": 160,
    "start_time": "2022-01-21T20:47:52.257Z"
   },
   {
    "duration": 13,
    "start_time": "2022-01-21T20:47:52.418Z"
   },
   {
    "duration": 410,
    "start_time": "2022-01-21T20:47:52.433Z"
   },
   {
    "duration": 446,
    "start_time": "2022-01-21T20:47:52.844Z"
   },
   {
    "duration": 12,
    "start_time": "2022-01-21T20:47:53.292Z"
   },
   {
    "duration": 312,
    "start_time": "2022-01-21T20:47:53.305Z"
   },
   {
    "duration": 76,
    "start_time": "2022-01-21T20:47:53.619Z"
   },
   {
    "duration": 6,
    "start_time": "2022-01-21T20:47:53.697Z"
   },
   {
    "duration": 12,
    "start_time": "2022-01-21T20:47:53.704Z"
   },
   {
    "duration": 330,
    "start_time": "2022-01-21T20:47:53.718Z"
   },
   {
    "duration": 1342,
    "start_time": "2022-01-21T20:47:54.049Z"
   },
   {
    "duration": 568,
    "start_time": "2022-01-21T20:47:55.393Z"
   },
   {
    "duration": 27,
    "start_time": "2022-01-21T20:47:55.963Z"
   },
   {
    "duration": 13,
    "start_time": "2022-01-21T20:47:55.992Z"
   },
   {
    "duration": 7,
    "start_time": "2022-01-21T20:47:56.007Z"
   },
   {
    "duration": 16,
    "start_time": "2022-01-21T20:48:14.903Z"
   },
   {
    "duration": 14,
    "start_time": "2022-01-21T20:48:39.041Z"
   },
   {
    "duration": 15,
    "start_time": "2022-01-21T20:57:55.425Z"
   },
   {
    "duration": 1121,
    "start_time": "2022-01-21T21:09:05.517Z"
   },
   {
    "duration": 59,
    "start_time": "2022-01-21T21:09:06.639Z"
   },
   {
    "duration": 16,
    "start_time": "2022-01-21T21:09:06.700Z"
   },
   {
    "duration": 11,
    "start_time": "2022-01-21T21:09:06.717Z"
   },
   {
    "duration": 315,
    "start_time": "2022-01-21T21:09:06.729Z"
   },
   {
    "duration": 197,
    "start_time": "2022-01-21T21:09:07.046Z"
   },
   {
    "duration": 9,
    "start_time": "2022-01-21T21:09:07.245Z"
   },
   {
    "duration": 163,
    "start_time": "2022-01-21T21:09:07.256Z"
   },
   {
    "duration": 102,
    "start_time": "2022-01-21T21:09:07.421Z"
   },
   {
    "duration": 90,
    "start_time": "2022-01-21T21:09:07.525Z"
   },
   {
    "duration": 9,
    "start_time": "2022-01-21T21:09:07.617Z"
   },
   {
    "duration": 156,
    "start_time": "2022-01-21T21:09:07.628Z"
   },
   {
    "duration": 16,
    "start_time": "2022-01-21T21:09:07.786Z"
   },
   {
    "duration": 389,
    "start_time": "2022-01-21T21:09:07.803Z"
   },
   {
    "duration": 384,
    "start_time": "2022-01-21T21:09:08.193Z"
   },
   {
    "duration": 12,
    "start_time": "2022-01-21T21:09:08.579Z"
   },
   {
    "duration": 309,
    "start_time": "2022-01-21T21:09:08.592Z"
   },
   {
    "duration": 74,
    "start_time": "2022-01-21T21:09:08.902Z"
   },
   {
    "duration": 7,
    "start_time": "2022-01-21T21:09:08.977Z"
   },
   {
    "duration": 12,
    "start_time": "2022-01-21T21:09:08.985Z"
   },
   {
    "duration": 321,
    "start_time": "2022-01-21T21:09:08.999Z"
   },
   {
    "duration": 744,
    "start_time": "2022-01-21T21:09:09.321Z"
   },
   {
    "duration": 566,
    "start_time": "2022-01-21T21:09:10.069Z"
   },
   {
    "duration": 34,
    "start_time": "2022-01-21T21:09:10.637Z"
   },
   {
    "duration": 15,
    "start_time": "2022-01-21T21:09:10.673Z"
   },
   {
    "duration": 6,
    "start_time": "2022-01-21T21:09:10.690Z"
   },
   {
    "duration": 15,
    "start_time": "2022-01-21T21:09:44.863Z"
   },
   {
    "duration": 8,
    "start_time": "2022-01-21T21:10:57.059Z"
   },
   {
    "duration": 16,
    "start_time": "2022-01-21T21:11:05.942Z"
   },
   {
    "duration": 13,
    "start_time": "2022-01-21T21:14:22.298Z"
   },
   {
    "duration": 10,
    "start_time": "2022-01-21T21:14:31.277Z"
   },
   {
    "duration": 16,
    "start_time": "2022-01-21T21:15:24.828Z"
   },
   {
    "duration": 17,
    "start_time": "2022-01-21T21:23:24.831Z"
   },
   {
    "duration": 1144,
    "start_time": "2022-01-21T21:28:26.294Z"
   },
   {
    "duration": 58,
    "start_time": "2022-01-21T21:28:27.440Z"
   },
   {
    "duration": 15,
    "start_time": "2022-01-21T21:28:27.500Z"
   },
   {
    "duration": 10,
    "start_time": "2022-01-21T21:28:27.517Z"
   },
   {
    "duration": 311,
    "start_time": "2022-01-21T21:28:27.529Z"
   },
   {
    "duration": 195,
    "start_time": "2022-01-21T21:28:27.842Z"
   },
   {
    "duration": 10,
    "start_time": "2022-01-21T21:28:28.039Z"
   },
   {
    "duration": 177,
    "start_time": "2022-01-21T21:28:28.052Z"
   },
   {
    "duration": 101,
    "start_time": "2022-01-21T21:28:28.231Z"
   },
   {
    "duration": 94,
    "start_time": "2022-01-21T21:28:28.333Z"
   },
   {
    "duration": 8,
    "start_time": "2022-01-21T21:28:28.429Z"
   },
   {
    "duration": 150,
    "start_time": "2022-01-21T21:28:28.438Z"
   },
   {
    "duration": 14,
    "start_time": "2022-01-21T21:28:28.590Z"
   },
   {
    "duration": 402,
    "start_time": "2022-01-21T21:28:28.605Z"
   },
   {
    "duration": 393,
    "start_time": "2022-01-21T21:28:29.009Z"
   },
   {
    "duration": 13,
    "start_time": "2022-01-21T21:28:29.403Z"
   },
   {
    "duration": 310,
    "start_time": "2022-01-21T21:28:29.417Z"
   },
   {
    "duration": 77,
    "start_time": "2022-01-21T21:28:29.728Z"
   },
   {
    "duration": 7,
    "start_time": "2022-01-21T21:28:29.807Z"
   },
   {
    "duration": 13,
    "start_time": "2022-01-21T21:28:29.815Z"
   },
   {
    "duration": 329,
    "start_time": "2022-01-21T21:28:29.829Z"
   },
   {
    "duration": 770,
    "start_time": "2022-01-21T21:28:30.160Z"
   },
   {
    "duration": 666,
    "start_time": "2022-01-21T21:28:30.933Z"
   },
   {
    "duration": 20,
    "start_time": "2022-01-21T21:28:31.601Z"
   },
   {
    "duration": 12,
    "start_time": "2022-01-21T21:28:31.623Z"
   },
   {
    "duration": 6,
    "start_time": "2022-01-21T21:28:31.637Z"
   },
   {
    "duration": 31,
    "start_time": "2022-01-21T21:28:31.645Z"
   },
   {
    "duration": 15,
    "start_time": "2022-01-21T21:36:22.003Z"
   },
   {
    "duration": 15,
    "start_time": "2022-01-21T21:36:34.834Z"
   },
   {
    "duration": 1242,
    "start_time": "2022-01-21T21:41:33.020Z"
   },
   {
    "duration": 60,
    "start_time": "2022-01-21T21:41:34.263Z"
   },
   {
    "duration": 17,
    "start_time": "2022-01-21T21:41:34.325Z"
   },
   {
    "duration": 12,
    "start_time": "2022-01-21T21:41:34.345Z"
   },
   {
    "duration": 293,
    "start_time": "2022-01-21T21:41:34.372Z"
   },
   {
    "duration": 201,
    "start_time": "2022-01-21T21:41:34.671Z"
   },
   {
    "duration": 9,
    "start_time": "2022-01-21T21:41:34.874Z"
   },
   {
    "duration": 175,
    "start_time": "2022-01-21T21:41:34.886Z"
   },
   {
    "duration": 100,
    "start_time": "2022-01-21T21:41:35.063Z"
   },
   {
    "duration": 91,
    "start_time": "2022-01-21T21:41:35.165Z"
   },
   {
    "duration": 18,
    "start_time": "2022-01-21T21:41:35.258Z"
   },
   {
    "duration": 154,
    "start_time": "2022-01-21T21:41:35.278Z"
   },
   {
    "duration": 15,
    "start_time": "2022-01-21T21:41:35.433Z"
   },
   {
    "duration": 427,
    "start_time": "2022-01-21T21:41:35.450Z"
   },
   {
    "duration": 402,
    "start_time": "2022-01-21T21:41:35.878Z"
   },
   {
    "duration": 12,
    "start_time": "2022-01-21T21:41:36.282Z"
   },
   {
    "duration": 308,
    "start_time": "2022-01-21T21:41:36.296Z"
   },
   {
    "duration": 73,
    "start_time": "2022-01-21T21:41:36.605Z"
   },
   {
    "duration": 6,
    "start_time": "2022-01-21T21:41:36.680Z"
   },
   {
    "duration": 13,
    "start_time": "2022-01-21T21:41:36.688Z"
   },
   {
    "duration": 327,
    "start_time": "2022-01-21T21:41:36.703Z"
   },
   {
    "duration": 1066,
    "start_time": "2022-01-21T21:41:37.031Z"
   },
   {
    "duration": 1194,
    "start_time": "2022-01-21T21:41:38.101Z"
   },
   {
    "duration": 32,
    "start_time": "2022-01-21T21:41:39.297Z"
   },
   {
    "duration": 40,
    "start_time": "2022-01-21T21:41:39.331Z"
   },
   {
    "duration": 9,
    "start_time": "2022-01-21T21:41:39.373Z"
   },
   {
    "duration": 14,
    "start_time": "2022-01-21T21:41:39.384Z"
   },
   {
    "duration": 14,
    "start_time": "2022-01-21T21:42:10.576Z"
   },
   {
    "duration": 14,
    "start_time": "2022-01-21T21:43:59.543Z"
   },
   {
    "duration": 12,
    "start_time": "2022-01-21T21:47:04.081Z"
   },
   {
    "duration": 9,
    "start_time": "2022-01-21T21:47:13.974Z"
   },
   {
    "duration": 9,
    "start_time": "2022-01-21T21:47:19.192Z"
   },
   {
    "duration": 8,
    "start_time": "2022-01-21T21:48:02.733Z"
   },
   {
    "duration": 12,
    "start_time": "2022-01-21T21:48:07.421Z"
   },
   {
    "duration": 11,
    "start_time": "2022-01-21T21:50:35.022Z"
   },
   {
    "duration": 1198,
    "start_time": "2022-01-21T21:51:06.836Z"
   },
   {
    "duration": 57,
    "start_time": "2022-01-21T21:51:08.038Z"
   },
   {
    "duration": 16,
    "start_time": "2022-01-21T21:51:08.097Z"
   },
   {
    "duration": 11,
    "start_time": "2022-01-21T21:51:08.115Z"
   },
   {
    "duration": 468,
    "start_time": "2022-01-21T21:51:08.128Z"
   },
   {
    "duration": 295,
    "start_time": "2022-01-21T21:51:08.598Z"
   },
   {
    "duration": 15,
    "start_time": "2022-01-21T21:51:08.897Z"
   },
   {
    "duration": 263,
    "start_time": "2022-01-21T21:51:08.915Z"
   },
   {
    "duration": 143,
    "start_time": "2022-01-21T21:51:09.180Z"
   },
   {
    "duration": 116,
    "start_time": "2022-01-21T21:51:09.324Z"
   },
   {
    "duration": 11,
    "start_time": "2022-01-21T21:51:09.442Z"
   },
   {
    "duration": 242,
    "start_time": "2022-01-21T21:51:09.455Z"
   },
   {
    "duration": 21,
    "start_time": "2022-01-21T21:51:09.699Z"
   },
   {
    "duration": 546,
    "start_time": "2022-01-21T21:51:09.722Z"
   },
   {
    "duration": 529,
    "start_time": "2022-01-21T21:51:10.271Z"
   },
   {
    "duration": 18,
    "start_time": "2022-01-21T21:51:10.802Z"
   },
   {
    "duration": 467,
    "start_time": "2022-01-21T21:51:10.822Z"
   },
   {
    "duration": 121,
    "start_time": "2022-01-21T21:51:11.291Z"
   },
   {
    "duration": 8,
    "start_time": "2022-01-21T21:51:11.414Z"
   },
   {
    "duration": 28,
    "start_time": "2022-01-21T21:51:11.424Z"
   },
   {
    "duration": 472,
    "start_time": "2022-01-21T21:51:11.454Z"
   },
   {
    "duration": 681,
    "start_time": "2022-01-21T21:51:11.930Z"
   },
   {
    "duration": 1205,
    "start_time": "2022-01-21T21:51:12.614Z"
   },
   {
    "duration": 23,
    "start_time": "2022-01-21T21:51:13.821Z"
   },
   {
    "duration": 27,
    "start_time": "2022-01-21T21:51:13.846Z"
   },
   {
    "duration": 15,
    "start_time": "2022-01-21T21:51:13.875Z"
   },
   {
    "duration": 31,
    "start_time": "2022-01-21T21:51:13.892Z"
   },
   {
    "duration": 17,
    "start_time": "2022-01-21T21:55:41.874Z"
   },
   {
    "duration": 23,
    "start_time": "2022-01-21T21:56:33.616Z"
   },
   {
    "duration": 8,
    "start_time": "2022-01-21T21:56:43.087Z"
   },
   {
    "duration": 16,
    "start_time": "2022-01-21T21:57:21.841Z"
   },
   {
    "duration": 1176,
    "start_time": "2022-01-21T22:00:22.599Z"
   },
   {
    "duration": 63,
    "start_time": "2022-01-21T22:00:23.777Z"
   },
   {
    "duration": 18,
    "start_time": "2022-01-21T22:00:23.842Z"
   },
   {
    "duration": 16,
    "start_time": "2022-01-21T22:00:23.862Z"
   },
   {
    "duration": 332,
    "start_time": "2022-01-21T22:00:23.880Z"
   },
   {
    "duration": 216,
    "start_time": "2022-01-21T22:00:24.215Z"
   },
   {
    "duration": 12,
    "start_time": "2022-01-21T22:00:24.433Z"
   },
   {
    "duration": 180,
    "start_time": "2022-01-21T22:00:24.449Z"
   },
   {
    "duration": 106,
    "start_time": "2022-01-21T22:00:24.631Z"
   },
   {
    "duration": 98,
    "start_time": "2022-01-21T22:00:24.738Z"
   },
   {
    "duration": 9,
    "start_time": "2022-01-21T22:00:24.837Z"
   },
   {
    "duration": 161,
    "start_time": "2022-01-21T22:00:24.848Z"
   },
   {
    "duration": 15,
    "start_time": "2022-01-21T22:00:25.011Z"
   },
   {
    "duration": 389,
    "start_time": "2022-01-21T22:00:25.028Z"
   },
   {
    "duration": 370,
    "start_time": "2022-01-21T22:00:25.419Z"
   },
   {
    "duration": 13,
    "start_time": "2022-01-21T22:00:25.790Z"
   },
   {
    "duration": 403,
    "start_time": "2022-01-21T22:00:25.805Z"
   },
   {
    "duration": 121,
    "start_time": "2022-01-21T22:00:26.211Z"
   },
   {
    "duration": 9,
    "start_time": "2022-01-21T22:00:26.334Z"
   },
   {
    "duration": 33,
    "start_time": "2022-01-21T22:00:26.345Z"
   },
   {
    "duration": 449,
    "start_time": "2022-01-21T22:00:26.380Z"
   },
   {
    "duration": 854,
    "start_time": "2022-01-21T22:00:26.831Z"
   },
   {
    "duration": 695,
    "start_time": "2022-01-21T22:00:27.688Z"
   },
   {
    "duration": 22,
    "start_time": "2022-01-21T22:00:28.384Z"
   },
   {
    "duration": 19,
    "start_time": "2022-01-21T22:00:28.407Z"
   },
   {
    "duration": 7,
    "start_time": "2022-01-21T22:00:28.428Z"
   },
   {
    "duration": 8,
    "start_time": "2022-01-21T22:00:28.472Z"
   },
   {
    "duration": 15,
    "start_time": "2022-01-21T22:06:27.006Z"
   },
   {
    "duration": 18,
    "start_time": "2022-01-21T22:09:20.571Z"
   },
   {
    "duration": 18,
    "start_time": "2022-01-21T22:12:22.503Z"
   },
   {
    "duration": 1139,
    "start_time": "2022-01-21T22:12:36.709Z"
   },
   {
    "duration": 61,
    "start_time": "2022-01-21T22:12:37.850Z"
   },
   {
    "duration": 16,
    "start_time": "2022-01-21T22:12:37.913Z"
   },
   {
    "duration": 11,
    "start_time": "2022-01-21T22:12:37.930Z"
   },
   {
    "duration": 310,
    "start_time": "2022-01-21T22:12:37.943Z"
   },
   {
    "duration": 195,
    "start_time": "2022-01-21T22:12:38.255Z"
   },
   {
    "duration": 20,
    "start_time": "2022-01-21T22:12:38.452Z"
   },
   {
    "duration": 252,
    "start_time": "2022-01-21T22:12:38.476Z"
   },
   {
    "duration": 150,
    "start_time": "2022-01-21T22:12:38.730Z"
   },
   {
    "duration": 128,
    "start_time": "2022-01-21T22:12:38.883Z"
   },
   {
    "duration": 11,
    "start_time": "2022-01-21T22:12:39.013Z"
   },
   {
    "duration": 242,
    "start_time": "2022-01-21T22:12:39.026Z"
   },
   {
    "duration": 22,
    "start_time": "2022-01-21T22:12:39.272Z"
   },
   {
    "duration": 554,
    "start_time": "2022-01-21T22:12:39.296Z"
   },
   {
    "duration": 578,
    "start_time": "2022-01-21T22:12:39.852Z"
   },
   {
    "duration": 15,
    "start_time": "2022-01-21T22:12:40.432Z"
   },
   {
    "duration": 317,
    "start_time": "2022-01-21T22:12:40.449Z"
   },
   {
    "duration": 70,
    "start_time": "2022-01-21T22:12:40.771Z"
   },
   {
    "duration": 9,
    "start_time": "2022-01-21T22:12:40.842Z"
   },
   {
    "duration": 14,
    "start_time": "2022-01-21T22:12:40.872Z"
   },
   {
    "duration": 318,
    "start_time": "2022-01-21T22:12:40.888Z"
   },
   {
    "duration": 712,
    "start_time": "2022-01-21T22:12:41.208Z"
   },
   {
    "duration": 598,
    "start_time": "2022-01-21T22:12:41.922Z"
   },
   {
    "duration": 23,
    "start_time": "2022-01-21T22:12:42.522Z"
   },
   {
    "duration": 30,
    "start_time": "2022-01-21T22:12:42.546Z"
   },
   {
    "duration": 6,
    "start_time": "2022-01-21T22:12:42.578Z"
   },
   {
    "duration": 10,
    "start_time": "2022-01-21T22:12:42.585Z"
   },
   {
    "duration": 17,
    "start_time": "2022-01-21T22:19:31.299Z"
   },
   {
    "duration": 1203,
    "start_time": "2022-01-21T22:23:24.648Z"
   },
   {
    "duration": 59,
    "start_time": "2022-01-21T22:23:25.853Z"
   },
   {
    "duration": 16,
    "start_time": "2022-01-21T22:23:25.914Z"
   },
   {
    "duration": 12,
    "start_time": "2022-01-21T22:23:25.932Z"
   },
   {
    "duration": 312,
    "start_time": "2022-01-21T22:23:25.946Z"
   },
   {
    "duration": 197,
    "start_time": "2022-01-21T22:23:26.260Z"
   },
   {
    "duration": 18,
    "start_time": "2022-01-21T22:23:26.458Z"
   },
   {
    "duration": 165,
    "start_time": "2022-01-21T22:23:26.479Z"
   },
   {
    "duration": 100,
    "start_time": "2022-01-21T22:23:26.647Z"
   },
   {
    "duration": 92,
    "start_time": "2022-01-21T22:23:26.749Z"
   },
   {
    "duration": 8,
    "start_time": "2022-01-21T22:23:26.842Z"
   },
   {
    "duration": 158,
    "start_time": "2022-01-21T22:23:26.852Z"
   },
   {
    "duration": 16,
    "start_time": "2022-01-21T22:23:27.013Z"
   },
   {
    "duration": 393,
    "start_time": "2022-01-21T22:23:27.031Z"
   },
   {
    "duration": 364,
    "start_time": "2022-01-21T22:23:27.426Z"
   },
   {
    "duration": 12,
    "start_time": "2022-01-21T22:23:27.792Z"
   },
   {
    "duration": 308,
    "start_time": "2022-01-21T22:23:27.806Z"
   },
   {
    "duration": 70,
    "start_time": "2022-01-21T22:23:28.115Z"
   },
   {
    "duration": 7,
    "start_time": "2022-01-21T22:23:28.186Z"
   },
   {
    "duration": 11,
    "start_time": "2022-01-21T22:23:28.195Z"
   },
   {
    "duration": 344,
    "start_time": "2022-01-21T22:23:28.208Z"
   },
   {
    "duration": 758,
    "start_time": "2022-01-21T22:23:28.553Z"
   },
   {
    "duration": 574,
    "start_time": "2022-01-21T22:23:29.315Z"
   },
   {
    "duration": 22,
    "start_time": "2022-01-21T22:23:29.891Z"
   },
   {
    "duration": 16,
    "start_time": "2022-01-21T22:23:29.915Z"
   },
   {
    "duration": 7,
    "start_time": "2022-01-21T22:23:29.932Z"
   },
   {
    "duration": 35,
    "start_time": "2022-01-21T22:23:29.940Z"
   },
   {
    "duration": 17,
    "start_time": "2022-01-21T22:23:56.327Z"
   },
   {
    "duration": 1167,
    "start_time": "2022-01-22T09:45:43.015Z"
   },
   {
    "duration": 66,
    "start_time": "2022-01-22T09:45:44.184Z"
   },
   {
    "duration": 22,
    "start_time": "2022-01-22T09:45:44.253Z"
   },
   {
    "duration": 23,
    "start_time": "2022-01-22T09:45:44.277Z"
   },
   {
    "duration": 346,
    "start_time": "2022-01-22T09:45:44.302Z"
   },
   {
    "duration": 313,
    "start_time": "2022-01-22T09:45:44.650Z"
   },
   {
    "duration": 11,
    "start_time": "2022-01-22T09:45:44.965Z"
   },
   {
    "duration": 212,
    "start_time": "2022-01-22T09:45:44.979Z"
   },
   {
    "duration": 117,
    "start_time": "2022-01-22T09:45:45.193Z"
   },
   {
    "duration": 119,
    "start_time": "2022-01-22T09:45:45.312Z"
   },
   {
    "duration": 10,
    "start_time": "2022-01-22T09:45:45.432Z"
   },
   {
    "duration": 177,
    "start_time": "2022-01-22T09:45:45.444Z"
   },
   {
    "duration": 17,
    "start_time": "2022-01-22T09:45:45.623Z"
   },
   {
    "duration": 481,
    "start_time": "2022-01-22T09:45:45.641Z"
   },
   {
    "duration": 449,
    "start_time": "2022-01-22T09:45:46.124Z"
   },
   {
    "duration": 14,
    "start_time": "2022-01-22T09:45:46.575Z"
   },
   {
    "duration": 354,
    "start_time": "2022-01-22T09:45:46.590Z"
   },
   {
    "duration": 79,
    "start_time": "2022-01-22T09:45:46.945Z"
   },
   {
    "duration": 8,
    "start_time": "2022-01-22T09:45:47.026Z"
   },
   {
    "duration": 364,
    "start_time": "2022-01-22T09:45:47.036Z"
   },
   {
    "duration": 2412,
    "start_time": "2022-01-22T09:45:44.991Z"
   },
   {
    "duration": 2406,
    "start_time": "2022-01-22T09:45:44.998Z"
   },
   {
    "duration": 2403,
    "start_time": "2022-01-22T09:45:45.002Z"
   },
   {
    "duration": 2395,
    "start_time": "2022-01-22T09:45:45.012Z"
   },
   {
    "duration": 2392,
    "start_time": "2022-01-22T09:45:45.016Z"
   },
   {
    "duration": 2390,
    "start_time": "2022-01-22T09:45:45.020Z"
   },
   {
    "duration": 2387,
    "start_time": "2022-01-22T09:45:45.024Z"
   },
   {
    "duration": 2385,
    "start_time": "2022-01-22T09:45:45.028Z"
   },
   {
    "duration": 2382,
    "start_time": "2022-01-22T09:45:45.032Z"
   },
   {
    "duration": 11,
    "start_time": "2022-01-22T09:46:09.684Z"
   },
   {
    "duration": 12,
    "start_time": "2022-01-22T09:47:32.250Z"
   },
   {
    "duration": 8,
    "start_time": "2022-01-22T09:48:18.411Z"
   },
   {
    "duration": 780,
    "start_time": "2022-01-22T09:50:18.162Z"
   },
   {
    "duration": 611,
    "start_time": "2022-01-22T09:50:33.736Z"
   },
   {
    "duration": 20,
    "start_time": "2022-01-22T09:51:58.113Z"
   },
   {
    "duration": 19,
    "start_time": "2022-01-22T09:59:08.183Z"
   },
   {
    "duration": 9,
    "start_time": "2022-01-22T10:03:46.197Z"
   },
   {
    "duration": 14,
    "start_time": "2022-01-22T10:04:01.144Z"
   },
   {
    "duration": 9,
    "start_time": "2022-01-22T10:04:10.608Z"
   },
   {
    "duration": 320,
    "start_time": "2022-01-22T10:14:19.806Z"
   },
   {
    "duration": 14,
    "start_time": "2022-01-22T10:14:56.910Z"
   },
   {
    "duration": 24,
    "start_time": "2022-01-22T10:15:25.357Z"
   },
   {
    "duration": 22,
    "start_time": "2022-01-22T10:17:52.571Z"
   },
   {
    "duration": 19,
    "start_time": "2022-01-22T10:18:42.562Z"
   },
   {
    "duration": 24,
    "start_time": "2022-01-22T10:32:00.627Z"
   },
   {
    "duration": 45,
    "start_time": "2022-01-22T10:33:00.010Z"
   },
   {
    "duration": 24,
    "start_time": "2022-01-22T10:40:44.630Z"
   },
   {
    "duration": 2053,
    "start_time": "2022-01-22T10:43:35.742Z"
   },
   {
    "duration": 13,
    "start_time": "2022-01-22T10:46:45.306Z"
   },
   {
    "duration": 17,
    "start_time": "2022-01-22T10:48:00.499Z"
   },
   {
    "duration": 23,
    "start_time": "2022-01-22T10:52:01.594Z"
   },
   {
    "duration": 320,
    "start_time": "2022-01-22T14:39:38.649Z"
   },
   {
    "duration": 4,
    "start_time": "2022-01-22T14:42:24.600Z"
   },
   {
    "duration": 23,
    "start_time": "2022-01-22T14:42:30.897Z"
   },
   {
    "duration": 4,
    "start_time": "2022-01-22T14:42:48.282Z"
   },
   {
    "duration": 21,
    "start_time": "2022-01-22T14:42:55.202Z"
   },
   {
    "duration": 4,
    "start_time": "2022-01-22T14:43:15.104Z"
   },
   {
    "duration": 22,
    "start_time": "2022-01-22T14:43:20.900Z"
   },
   {
    "duration": 25,
    "start_time": "2022-01-22T14:55:48.893Z"
   },
   {
    "duration": 27,
    "start_time": "2022-01-22T14:58:51.832Z"
   },
   {
    "duration": 26,
    "start_time": "2022-01-22T14:59:48.343Z"
   },
   {
    "duration": 3,
    "start_time": "2022-01-22T15:00:47.526Z"
   },
   {
    "duration": 1512,
    "start_time": "2022-01-22T15:15:44.515Z"
   },
   {
    "duration": 63,
    "start_time": "2022-01-22T15:15:46.029Z"
   },
   {
    "duration": 17,
    "start_time": "2022-01-22T15:15:46.095Z"
   },
   {
    "duration": 22,
    "start_time": "2022-01-22T15:15:46.114Z"
   },
   {
    "duration": 341,
    "start_time": "2022-01-22T15:15:46.138Z"
   },
   {
    "duration": 244,
    "start_time": "2022-01-22T15:15:46.481Z"
   },
   {
    "duration": 12,
    "start_time": "2022-01-22T15:15:46.727Z"
   },
   {
    "duration": 191,
    "start_time": "2022-01-22T15:15:46.740Z"
   },
   {
    "duration": 109,
    "start_time": "2022-01-22T15:15:46.934Z"
   },
   {
    "duration": 104,
    "start_time": "2022-01-22T15:15:47.045Z"
   },
   {
    "duration": 17,
    "start_time": "2022-01-22T15:15:47.150Z"
   },
   {
    "duration": 167,
    "start_time": "2022-01-22T15:15:47.169Z"
   },
   {
    "duration": 58,
    "start_time": "2022-01-22T15:15:47.338Z"
   },
   {
    "duration": 463,
    "start_time": "2022-01-22T15:15:47.399Z"
   },
   {
    "duration": 422,
    "start_time": "2022-01-22T15:15:47.864Z"
   },
   {
    "duration": 14,
    "start_time": "2022-01-22T15:15:48.289Z"
   },
   {
    "duration": 331,
    "start_time": "2022-01-22T15:15:48.305Z"
   },
   {
    "duration": 78,
    "start_time": "2022-01-22T15:15:48.638Z"
   },
   {
    "duration": 9,
    "start_time": "2022-01-22T15:15:48.718Z"
   },
   {
    "duration": 32,
    "start_time": "2022-01-22T15:15:48.729Z"
   },
   {
    "duration": 9,
    "start_time": "2022-01-22T15:15:48.763Z"
   },
   {
    "duration": 1325,
    "start_time": "2022-01-22T15:15:48.774Z"
   },
   {
    "duration": 607,
    "start_time": "2022-01-22T15:15:50.101Z"
   },
   {
    "duration": 19,
    "start_time": "2022-01-22T15:15:50.710Z"
   },
   {
    "duration": 35,
    "start_time": "2022-01-22T15:15:50.731Z"
   },
   {
    "duration": 29,
    "start_time": "2022-01-22T15:15:50.768Z"
   },
   {
    "duration": 22,
    "start_time": "2022-01-22T15:15:50.800Z"
   },
   {
    "duration": 42,
    "start_time": "2022-01-22T15:15:50.824Z"
   },
   {
    "duration": 47,
    "start_time": "2022-01-22T15:15:50.868Z"
   },
   {
    "duration": 322,
    "start_time": "2022-01-22T15:15:50.917Z"
   },
   {
    "duration": 38,
    "start_time": "2022-01-22T15:15:51.241Z"
   },
   {
    "duration": 3,
    "start_time": "2022-01-22T15:15:51.281Z"
   },
   {
    "duration": 1666,
    "start_time": "2022-01-22T15:15:51.285Z"
   },
   {
    "duration": 262,
    "start_time": "2022-01-22T16:06:29.249Z"
   },
   {
    "duration": 398,
    "start_time": "2022-01-22T16:10:59.762Z"
   },
   {
    "duration": 381,
    "start_time": "2022-01-22T16:11:23.346Z"
   },
   {
    "duration": 362,
    "start_time": "2022-01-22T16:12:42.147Z"
   },
   {
    "duration": 455,
    "start_time": "2022-01-22T16:17:53.810Z"
   },
   {
    "duration": 588,
    "start_time": "2022-01-22T16:21:11.426Z"
   },
   {
    "duration": 10,
    "start_time": "2022-01-22T16:21:58.146Z"
   },
   {
    "duration": 11,
    "start_time": "2022-01-22T16:24:02.861Z"
   },
   {
    "duration": 272,
    "start_time": "2022-01-22T19:06:01.562Z"
   },
   {
    "duration": 485,
    "start_time": "2022-01-22T19:07:48.366Z"
   },
   {
    "duration": 26,
    "start_time": "2022-01-22T19:51:40.974Z"
   },
   {
    "duration": 1170,
    "start_time": "2022-01-23T07:42:20.216Z"
   },
   {
    "duration": 61,
    "start_time": "2022-01-23T07:42:21.388Z"
   },
   {
    "duration": 17,
    "start_time": "2022-01-23T07:42:21.451Z"
   },
   {
    "duration": 12,
    "start_time": "2022-01-23T07:42:21.469Z"
   },
   {
    "duration": 313,
    "start_time": "2022-01-23T07:42:21.483Z"
   },
   {
    "duration": 198,
    "start_time": "2022-01-23T07:42:21.798Z"
   },
   {
    "duration": 10,
    "start_time": "2022-01-23T07:42:21.998Z"
   },
   {
    "duration": 173,
    "start_time": "2022-01-23T07:42:22.011Z"
   },
   {
    "duration": 107,
    "start_time": "2022-01-23T07:42:22.186Z"
   },
   {
    "duration": 94,
    "start_time": "2022-01-23T07:42:22.295Z"
   },
   {
    "duration": 9,
    "start_time": "2022-01-23T07:42:22.390Z"
   },
   {
    "duration": 147,
    "start_time": "2022-01-23T07:42:22.400Z"
   },
   {
    "duration": 14,
    "start_time": "2022-01-23T07:42:22.548Z"
   },
   {
    "duration": 419,
    "start_time": "2022-01-23T07:42:22.564Z"
   },
   {
    "duration": 399,
    "start_time": "2022-01-23T07:42:22.985Z"
   },
   {
    "duration": 13,
    "start_time": "2022-01-23T07:42:23.385Z"
   },
   {
    "duration": 308,
    "start_time": "2022-01-23T07:42:23.399Z"
   },
   {
    "duration": 73,
    "start_time": "2022-01-23T07:42:23.709Z"
   },
   {
    "duration": 10,
    "start_time": "2022-01-23T07:42:23.784Z"
   },
   {
    "duration": 23,
    "start_time": "2022-01-23T07:42:23.795Z"
   },
   {
    "duration": 13,
    "start_time": "2022-01-23T07:42:23.819Z"
   },
   {
    "duration": 1087,
    "start_time": "2022-01-23T07:42:23.834Z"
   },
   {
    "duration": 582,
    "start_time": "2022-01-23T07:42:24.924Z"
   },
   {
    "duration": 19,
    "start_time": "2022-01-23T07:42:25.508Z"
   },
   {
    "duration": 18,
    "start_time": "2022-01-23T07:42:25.529Z"
   },
   {
    "duration": 30,
    "start_time": "2022-01-23T07:42:25.548Z"
   },
   {
    "duration": 9,
    "start_time": "2022-01-23T07:42:25.580Z"
   },
   {
    "duration": 22,
    "start_time": "2022-01-23T07:42:25.590Z"
   },
   {
    "duration": 22,
    "start_time": "2022-01-23T07:42:25.614Z"
   },
   {
    "duration": 334,
    "start_time": "2022-01-23T07:42:25.637Z"
   },
   {
    "duration": 25,
    "start_time": "2022-01-23T07:42:25.972Z"
   },
   {
    "duration": 3,
    "start_time": "2022-01-23T07:42:25.999Z"
   },
   {
    "duration": 470,
    "start_time": "2022-01-23T07:42:26.003Z"
   },
   {
    "duration": 10,
    "start_time": "2022-01-23T07:42:26.475Z"
   },
   {
    "duration": 11,
    "start_time": "2022-01-23T13:06:32.400Z"
   },
   {
    "duration": 9,
    "start_time": "2022-01-23T13:18:41.920Z"
   },
   {
    "duration": 957,
    "start_time": "2022-01-23T15:10:43.184Z"
   },
   {
    "duration": 1105,
    "start_time": "2022-01-23T15:11:49.045Z"
   },
   {
    "duration": 1053,
    "start_time": "2022-01-23T15:12:36.072Z"
   },
   {
    "duration": 1005,
    "start_time": "2022-01-23T15:13:32.881Z"
   },
   {
    "duration": 1023,
    "start_time": "2022-01-23T15:13:48.680Z"
   },
   {
    "duration": 1246,
    "start_time": "2022-01-23T15:14:23.461Z"
   },
   {
    "duration": 1120,
    "start_time": "2022-01-23T15:15:51.696Z"
   },
   {
    "duration": 1018,
    "start_time": "2022-01-23T15:16:35.481Z"
   },
   {
    "duration": 1080,
    "start_time": "2022-01-23T15:17:02.263Z"
   },
   {
    "duration": 977,
    "start_time": "2022-01-23T15:18:56.933Z"
   },
   {
    "duration": 209,
    "start_time": "2022-01-23T15:23:46.920Z"
   },
   {
    "duration": 306,
    "start_time": "2022-01-23T15:24:22.326Z"
   },
   {
    "duration": 365,
    "start_time": "2022-01-23T15:28:04.413Z"
   },
   {
    "duration": 267,
    "start_time": "2022-01-23T15:28:14.528Z"
   },
   {
    "duration": 310,
    "start_time": "2022-01-23T15:28:55.936Z"
   },
   {
    "duration": 310,
    "start_time": "2022-01-23T15:29:09.134Z"
   },
   {
    "duration": 559,
    "start_time": "2022-01-23T15:29:49.530Z"
   },
   {
    "duration": 332,
    "start_time": "2022-01-23T15:30:07.897Z"
   },
   {
    "duration": 351,
    "start_time": "2022-01-23T15:30:25.934Z"
   },
   {
    "duration": 160,
    "start_time": "2022-01-23T15:32:35.434Z"
   },
   {
    "duration": 162,
    "start_time": "2022-01-23T15:33:10.563Z"
   },
   {
    "duration": 267,
    "start_time": "2022-01-23T15:33:38.687Z"
   },
   {
    "duration": 513,
    "start_time": "2022-01-23T20:17:37.865Z"
   },
   {
    "duration": 360,
    "start_time": "2022-01-23T20:18:59.742Z"
   },
   {
    "duration": 652,
    "start_time": "2022-01-23T20:19:11.403Z"
   },
   {
    "duration": 1202,
    "start_time": "2022-01-23T20:19:34.056Z"
   },
   {
    "duration": 63,
    "start_time": "2022-01-23T20:19:35.260Z"
   },
   {
    "duration": 17,
    "start_time": "2022-01-23T20:19:35.325Z"
   },
   {
    "duration": 12,
    "start_time": "2022-01-23T20:19:35.343Z"
   },
   {
    "duration": 333,
    "start_time": "2022-01-23T20:19:35.372Z"
   },
   {
    "duration": 210,
    "start_time": "2022-01-23T20:19:35.706Z"
   },
   {
    "duration": 11,
    "start_time": "2022-01-23T20:19:35.919Z"
   },
   {
    "duration": 175,
    "start_time": "2022-01-23T20:19:35.932Z"
   },
   {
    "duration": 101,
    "start_time": "2022-01-23T20:19:36.109Z"
   },
   {
    "duration": 96,
    "start_time": "2022-01-23T20:19:36.212Z"
   },
   {
    "duration": 8,
    "start_time": "2022-01-23T20:19:36.310Z"
   },
   {
    "duration": 152,
    "start_time": "2022-01-23T20:19:36.319Z"
   },
   {
    "duration": 15,
    "start_time": "2022-01-23T20:19:36.473Z"
   },
   {
    "duration": 403,
    "start_time": "2022-01-23T20:19:36.490Z"
   },
   {
    "duration": 390,
    "start_time": "2022-01-23T20:19:36.895Z"
   },
   {
    "duration": 14,
    "start_time": "2022-01-23T20:19:37.287Z"
   },
   {
    "duration": 316,
    "start_time": "2022-01-23T20:19:37.303Z"
   },
   {
    "duration": 74,
    "start_time": "2022-01-23T20:19:37.621Z"
   },
   {
    "duration": 6,
    "start_time": "2022-01-23T20:19:37.697Z"
   },
   {
    "duration": 9,
    "start_time": "2022-01-23T20:19:37.705Z"
   },
   {
    "duration": 6,
    "start_time": "2022-01-23T20:19:37.716Z"
   },
   {
    "duration": 982,
    "start_time": "2022-01-23T20:19:37.724Z"
   },
   {
    "duration": 592,
    "start_time": "2022-01-23T20:19:38.709Z"
   },
   {
    "duration": 18,
    "start_time": "2022-01-23T20:19:39.303Z"
   },
   {
    "duration": 24,
    "start_time": "2022-01-23T20:19:39.322Z"
   },
   {
    "duration": 25,
    "start_time": "2022-01-23T20:19:39.348Z"
   },
   {
    "duration": 26,
    "start_time": "2022-01-23T20:19:39.375Z"
   },
   {
    "duration": 31,
    "start_time": "2022-01-23T20:19:39.403Z"
   },
   {
    "duration": 37,
    "start_time": "2022-01-23T20:19:39.435Z"
   },
   {
    "duration": 321,
    "start_time": "2022-01-23T20:19:39.474Z"
   },
   {
    "duration": 25,
    "start_time": "2022-01-23T20:19:39.797Z"
   },
   {
    "duration": 3,
    "start_time": "2022-01-23T20:19:39.823Z"
   },
   {
    "duration": 480,
    "start_time": "2022-01-23T20:19:39.828Z"
   },
   {
    "duration": 11,
    "start_time": "2022-01-23T20:19:40.310Z"
   },
   {
    "duration": 413,
    "start_time": "2022-01-23T20:21:35.535Z"
   },
   {
    "duration": 406,
    "start_time": "2022-01-23T20:21:52.098Z"
   },
   {
    "duration": 390,
    "start_time": "2022-01-23T20:22:28.400Z"
   },
   {
    "duration": 548,
    "start_time": "2022-01-23T20:22:39.838Z"
   },
   {
    "duration": 1578,
    "start_time": "2022-01-23T20:22:46.067Z"
   },
   {
    "duration": 71,
    "start_time": "2022-01-23T20:22:47.647Z"
   },
   {
    "duration": 21,
    "start_time": "2022-01-23T20:22:47.723Z"
   },
   {
    "duration": 10,
    "start_time": "2022-01-23T20:22:47.746Z"
   },
   {
    "duration": 340,
    "start_time": "2022-01-23T20:22:47.772Z"
   },
   {
    "duration": 204,
    "start_time": "2022-01-23T20:22:48.114Z"
   },
   {
    "duration": 10,
    "start_time": "2022-01-23T20:22:48.320Z"
   },
   {
    "duration": 174,
    "start_time": "2022-01-23T20:22:48.334Z"
   },
   {
    "duration": 108,
    "start_time": "2022-01-23T20:22:48.510Z"
   },
   {
    "duration": 97,
    "start_time": "2022-01-23T20:22:48.619Z"
   },
   {
    "duration": 8,
    "start_time": "2022-01-23T20:22:48.717Z"
   },
   {
    "duration": 152,
    "start_time": "2022-01-23T20:22:48.727Z"
   },
   {
    "duration": 15,
    "start_time": "2022-01-23T20:22:48.881Z"
   },
   {
    "duration": 408,
    "start_time": "2022-01-23T20:22:48.897Z"
   },
   {
    "duration": 380,
    "start_time": "2022-01-23T20:22:49.307Z"
   },
   {
    "duration": 13,
    "start_time": "2022-01-23T20:22:49.689Z"
   },
   {
    "duration": 398,
    "start_time": "2022-01-23T20:22:49.704Z"
   },
   {
    "duration": 138,
    "start_time": "2022-01-23T20:22:50.104Z"
   },
   {
    "duration": 9,
    "start_time": "2022-01-23T20:22:50.244Z"
   },
   {
    "duration": 25,
    "start_time": "2022-01-23T20:22:50.255Z"
   },
   {
    "duration": 8,
    "start_time": "2022-01-23T20:22:50.282Z"
   },
   {
    "duration": 765,
    "start_time": "2022-01-23T20:22:50.292Z"
   },
   {
    "duration": 593,
    "start_time": "2022-01-23T20:22:51.060Z"
   },
   {
    "duration": 29,
    "start_time": "2022-01-23T20:22:51.655Z"
   },
   {
    "duration": 18,
    "start_time": "2022-01-23T20:22:51.686Z"
   },
   {
    "duration": 8,
    "start_time": "2022-01-23T20:22:51.707Z"
   },
   {
    "duration": 8,
    "start_time": "2022-01-23T20:22:51.717Z"
   },
   {
    "duration": 51,
    "start_time": "2022-01-23T20:22:51.727Z"
   },
   {
    "duration": 21,
    "start_time": "2022-01-23T20:22:51.780Z"
   },
   {
    "duration": 336,
    "start_time": "2022-01-23T20:22:51.803Z"
   },
   {
    "duration": 39,
    "start_time": "2022-01-23T20:22:52.141Z"
   },
   {
    "duration": 4,
    "start_time": "2022-01-23T20:22:52.182Z"
   },
   {
    "duration": 465,
    "start_time": "2022-01-23T20:22:52.188Z"
   },
   {
    "duration": 18,
    "start_time": "2022-01-23T20:22:52.655Z"
   }
  ],
  "kernelspec": {
   "display_name": "Python 3 (ipykernel)",
   "language": "python",
   "name": "python3"
  },
  "language_info": {
   "codemirror_mode": {
    "name": "ipython",
    "version": 3
   },
   "file_extension": ".py",
   "mimetype": "text/x-python",
   "name": "python",
   "nbconvert_exporter": "python",
   "pygments_lexer": "ipython3",
   "version": "3.9.7"
  },
  "toc": {
   "base_numbering": 1,
   "nav_menu": {},
   "number_sections": true,
   "sideBar": true,
   "skip_h1_title": true,
   "title_cell": "Table of Contents",
   "title_sidebar": "Contents",
   "toc_cell": false,
   "toc_position": {
    "height": "calc(100% - 180px)",
    "left": "10px",
    "top": "150px",
    "width": "165px"
   },
   "toc_section_display": true,
   "toc_window_display": true
  }
 },
 "nbformat": 4,
 "nbformat_minor": 2
}
