{
 "cells": [
  {
   "cell_type": "markdown",
   "metadata": {},
   "source": [
    "<h1>Content</h1>\n",
    "\n",
    "1. Connecting to database and exploring the data\n",
    "2. Research\n",
    "3. Conclusions"
   ]
  },
  {
   "cell_type": "markdown",
   "metadata": {},
   "source": [
    "# Retrieve Bookstore Data Using SQL"
   ]
  },
  {
   "cell_type": "markdown",
   "metadata": {},
   "source": [
    "Our company bought a large service for reading books by subscription. The task is to retrieve data from a database and perform the analysis.\n",
    "The database contains information about books, publishers, authors, as well as user reviews of books.\n",
    "\n",
    "**Analysis plan**\n",
    "\n",
    "- Calculate how many books came out after January 1, 2000;\n",
    "- For each book, calculate the number of reviews and the average rating;\n",
    "- Determine the publishing house that has released the largest number of books thicker than 50 pages - so we exclude brochures from the analysis;\n",
    "- Determine the author with the highest average rating of books - we will take into account only books with 50 or more ratings;\n",
    "- Calculate the average number of reviews from users who have given more than 50 ratings.\n",
    "\n",
    "**Data Description**\n",
    "\n",
    "<u>Table books</u> - contains data about books:\n",
    "\n",
    "- book_id — book ID;\n",
    "- author_id — author ID;\n",
    "- title — book title;\n",
    "- num_pages — number of pages;\n",
    "- publication_date — book publication date;\n",
    "- publisher_id — publisher ID.\n",
    "\n",
    "<u>Table authors</u> - contains information about the authors:\n",
    "\n",
    "- author_id — author ID;\n",
    "- author — author's name.\n",
    "\n",
    "<u>Table publishers</u> - contains information about publishers:\n",
    "\n",
    "- publisher_id — publisher identifier;\n",
    "- publisher — publisher name;\n",
    "\n",
    "<u>Table ratings</u> - contains data about user ratings of books:\n",
    "\n",
    "- rating_id — rating ID;\n",
    "- book_id — book ID;\n",
    "- username — the name of the user who left the rating;\n",
    "- rating — book rating.\n",
    "\n",
    "<u>Table reviews</u> - contains data about user reviews of books:\n",
    "\n",
    "- review_id — review ID;\n",
    "- book_id — book ID;\n",
    "- username — the name of the user who wrote the review;\n",
    "- text — review text.\n",
    "<br><br>"
   ]
  },
  {
   "cell_type": "markdown",
   "metadata": {},
   "source": [
    "**ERD**\n",
    "\n",
    "<img src=\"https://www.notion.so/image/https%3A%2F%2Fs3-us-west-2.amazonaws.com%2Fsecure.notion-static.com%2F069818d1-0e5c-4d87-a461-0de584ab9c33%2FUntitled_(33).png?id=bd53c8db-b4fd-49eb-8cc9-572ebb3c9163&table=block&spaceId=9e4bd47b-c6e6-4ca3-bcee-279794b47315&width=1640&userId=e61b3059-2e3b-4865-a7aa-189696da4398&cache=v2\"  />"
   ]
  },
  {
   "cell_type": "markdown",
   "metadata": {},
   "source": [
    "## Connecting to database and exploring the data"
   ]
  },
  {
   "cell_type": "markdown",
   "metadata": {},
   "source": [
    "Import libraries, setting options:"
   ]
  },
  {
   "cell_type": "code",
   "execution_count": 1,
   "metadata": {},
   "outputs": [],
   "source": [
    "# Import libraries\n",
    "import pandas as pd\n",
    "from sqlalchemy import create_engine\n",
    "\n",
    "# setting options\n",
    "db_config = {'user': 'praktikum_student', # user's name\n",
    " 'pwd': 'Sdf4$2;d-d30pp', # password\n",
    " 'host': 'rc1b-wcoijxj3yxfsf3fs.mdb.yandexcloud.net',\n",
    " 'port': 6432, # connection port\n",
    " 'db': 'data-analyst-final-project-db'} # database name\n",
    "connection_string = 'postgresql://{}:{}@{}:{}/{}'.format(db_config['user'],\n",
    " db_config['pwd'],\n",
    " db_config['host'],\n",
    " db_config['port'],\n",
    " db_config['db'])\n",
    "\n",
    "# save the connector\n",
    "engine = create_engine(connection_string, connect_args={'sslmode':'require'})"
   ]
  },
  {
   "cell_type": "markdown",
   "metadata": {},
   "source": [
    "Let's explore the data by displaying the first 5 rows of each table:"
   ]
  },
  {
   "cell_type": "code",
   "execution_count": 2,
   "metadata": {},
   "outputs": [
    {
     "name": "stdout",
     "output_type": "stream",
     "text": [
      "Table  books\n"
     ]
    },
    {
     "data": {
      "text/html": [
       "<div>\n",
       "<style scoped>\n",
       "    .dataframe tbody tr th:only-of-type {\n",
       "        vertical-align: middle;\n",
       "    }\n",
       "\n",
       "    .dataframe tbody tr th {\n",
       "        vertical-align: top;\n",
       "    }\n",
       "\n",
       "    .dataframe thead th {\n",
       "        text-align: right;\n",
       "    }\n",
       "</style>\n",
       "<table border=\"1\" class=\"dataframe\">\n",
       "  <thead>\n",
       "    <tr style=\"text-align: right;\">\n",
       "      <th></th>\n",
       "      <th>book_id</th>\n",
       "      <th>author_id</th>\n",
       "      <th>title</th>\n",
       "      <th>num_pages</th>\n",
       "      <th>publication_date</th>\n",
       "      <th>publisher_id</th>\n",
       "    </tr>\n",
       "  </thead>\n",
       "  <tbody>\n",
       "    <tr>\n",
       "      <th>0</th>\n",
       "      <td>1</td>\n",
       "      <td>546</td>\n",
       "      <td>'Salem's Lot</td>\n",
       "      <td>594</td>\n",
       "      <td>2005-11-01</td>\n",
       "      <td>93</td>\n",
       "    </tr>\n",
       "    <tr>\n",
       "      <th>1</th>\n",
       "      <td>2</td>\n",
       "      <td>465</td>\n",
       "      <td>1 000 Places to See Before You Die</td>\n",
       "      <td>992</td>\n",
       "      <td>2003-05-22</td>\n",
       "      <td>336</td>\n",
       "    </tr>\n",
       "    <tr>\n",
       "      <th>2</th>\n",
       "      <td>3</td>\n",
       "      <td>407</td>\n",
       "      <td>13 Little Blue Envelopes (Little Blue Envelope...</td>\n",
       "      <td>322</td>\n",
       "      <td>2010-12-21</td>\n",
       "      <td>135</td>\n",
       "    </tr>\n",
       "    <tr>\n",
       "      <th>3</th>\n",
       "      <td>4</td>\n",
       "      <td>82</td>\n",
       "      <td>1491: New Revelations of the Americas Before C...</td>\n",
       "      <td>541</td>\n",
       "      <td>2006-10-10</td>\n",
       "      <td>309</td>\n",
       "    </tr>\n",
       "    <tr>\n",
       "      <th>4</th>\n",
       "      <td>5</td>\n",
       "      <td>125</td>\n",
       "      <td>1776</td>\n",
       "      <td>386</td>\n",
       "      <td>2006-07-04</td>\n",
       "      <td>268</td>\n",
       "    </tr>\n",
       "  </tbody>\n",
       "</table>\n",
       "</div>"
      ],
      "text/plain": [
       "   book_id  author_id                                              title  \\\n",
       "0        1        546                                       'Salem's Lot   \n",
       "1        2        465                 1 000 Places to See Before You Die   \n",
       "2        3        407  13 Little Blue Envelopes (Little Blue Envelope...   \n",
       "3        4         82  1491: New Revelations of the Americas Before C...   \n",
       "4        5        125                                               1776   \n",
       "\n",
       "   num_pages publication_date  publisher_id  \n",
       "0        594       2005-11-01            93  \n",
       "1        992       2003-05-22           336  \n",
       "2        322       2010-12-21           135  \n",
       "3        541       2006-10-10           309  \n",
       "4        386       2006-07-04           268  "
      ]
     },
     "metadata": {},
     "output_type": "display_data"
    },
    {
     "name": "stdout",
     "output_type": "stream",
     "text": [
      "\n",
      "\n",
      "Table  authors\n"
     ]
    },
    {
     "data": {
      "text/html": [
       "<div>\n",
       "<style scoped>\n",
       "    .dataframe tbody tr th:only-of-type {\n",
       "        vertical-align: middle;\n",
       "    }\n",
       "\n",
       "    .dataframe tbody tr th {\n",
       "        vertical-align: top;\n",
       "    }\n",
       "\n",
       "    .dataframe thead th {\n",
       "        text-align: right;\n",
       "    }\n",
       "</style>\n",
       "<table border=\"1\" class=\"dataframe\">\n",
       "  <thead>\n",
       "    <tr style=\"text-align: right;\">\n",
       "      <th></th>\n",
       "      <th>author_id</th>\n",
       "      <th>author</th>\n",
       "    </tr>\n",
       "  </thead>\n",
       "  <tbody>\n",
       "    <tr>\n",
       "      <th>0</th>\n",
       "      <td>1</td>\n",
       "      <td>A.S. Byatt</td>\n",
       "    </tr>\n",
       "    <tr>\n",
       "      <th>1</th>\n",
       "      <td>2</td>\n",
       "      <td>Aesop/Laura Harris/Laura Gibbs</td>\n",
       "    </tr>\n",
       "    <tr>\n",
       "      <th>2</th>\n",
       "      <td>3</td>\n",
       "      <td>Agatha Christie</td>\n",
       "    </tr>\n",
       "    <tr>\n",
       "      <th>3</th>\n",
       "      <td>4</td>\n",
       "      <td>Alan Brennert</td>\n",
       "    </tr>\n",
       "    <tr>\n",
       "      <th>4</th>\n",
       "      <td>5</td>\n",
       "      <td>Alan Moore/David   Lloyd</td>\n",
       "    </tr>\n",
       "  </tbody>\n",
       "</table>\n",
       "</div>"
      ],
      "text/plain": [
       "   author_id                          author\n",
       "0          1                      A.S. Byatt\n",
       "1          2  Aesop/Laura Harris/Laura Gibbs\n",
       "2          3                 Agatha Christie\n",
       "3          4                   Alan Brennert\n",
       "4          5        Alan Moore/David   Lloyd"
      ]
     },
     "metadata": {},
     "output_type": "display_data"
    },
    {
     "name": "stdout",
     "output_type": "stream",
     "text": [
      "\n",
      "\n",
      "Table  publishers\n"
     ]
    },
    {
     "data": {
      "text/html": [
       "<div>\n",
       "<style scoped>\n",
       "    .dataframe tbody tr th:only-of-type {\n",
       "        vertical-align: middle;\n",
       "    }\n",
       "\n",
       "    .dataframe tbody tr th {\n",
       "        vertical-align: top;\n",
       "    }\n",
       "\n",
       "    .dataframe thead th {\n",
       "        text-align: right;\n",
       "    }\n",
       "</style>\n",
       "<table border=\"1\" class=\"dataframe\">\n",
       "  <thead>\n",
       "    <tr style=\"text-align: right;\">\n",
       "      <th></th>\n",
       "      <th>publisher_id</th>\n",
       "      <th>publisher</th>\n",
       "    </tr>\n",
       "  </thead>\n",
       "  <tbody>\n",
       "    <tr>\n",
       "      <th>0</th>\n",
       "      <td>1</td>\n",
       "      <td>Ace</td>\n",
       "    </tr>\n",
       "    <tr>\n",
       "      <th>1</th>\n",
       "      <td>2</td>\n",
       "      <td>Ace Book</td>\n",
       "    </tr>\n",
       "    <tr>\n",
       "      <th>2</th>\n",
       "      <td>3</td>\n",
       "      <td>Ace Books</td>\n",
       "    </tr>\n",
       "    <tr>\n",
       "      <th>3</th>\n",
       "      <td>4</td>\n",
       "      <td>Ace Hardcover</td>\n",
       "    </tr>\n",
       "    <tr>\n",
       "      <th>4</th>\n",
       "      <td>5</td>\n",
       "      <td>Addison Wesley Publishing Company</td>\n",
       "    </tr>\n",
       "  </tbody>\n",
       "</table>\n",
       "</div>"
      ],
      "text/plain": [
       "   publisher_id                          publisher\n",
       "0             1                                Ace\n",
       "1             2                           Ace Book\n",
       "2             3                          Ace Books\n",
       "3             4                      Ace Hardcover\n",
       "4             5  Addison Wesley Publishing Company"
      ]
     },
     "metadata": {},
     "output_type": "display_data"
    },
    {
     "name": "stdout",
     "output_type": "stream",
     "text": [
      "\n",
      "\n",
      "Table  ratings\n"
     ]
    },
    {
     "data": {
      "text/html": [
       "<div>\n",
       "<style scoped>\n",
       "    .dataframe tbody tr th:only-of-type {\n",
       "        vertical-align: middle;\n",
       "    }\n",
       "\n",
       "    .dataframe tbody tr th {\n",
       "        vertical-align: top;\n",
       "    }\n",
       "\n",
       "    .dataframe thead th {\n",
       "        text-align: right;\n",
       "    }\n",
       "</style>\n",
       "<table border=\"1\" class=\"dataframe\">\n",
       "  <thead>\n",
       "    <tr style=\"text-align: right;\">\n",
       "      <th></th>\n",
       "      <th>rating_id</th>\n",
       "      <th>book_id</th>\n",
       "      <th>username</th>\n",
       "      <th>rating</th>\n",
       "    </tr>\n",
       "  </thead>\n",
       "  <tbody>\n",
       "    <tr>\n",
       "      <th>0</th>\n",
       "      <td>1</td>\n",
       "      <td>1</td>\n",
       "      <td>ryanfranco</td>\n",
       "      <td>4</td>\n",
       "    </tr>\n",
       "    <tr>\n",
       "      <th>1</th>\n",
       "      <td>2</td>\n",
       "      <td>1</td>\n",
       "      <td>grantpatricia</td>\n",
       "      <td>2</td>\n",
       "    </tr>\n",
       "    <tr>\n",
       "      <th>2</th>\n",
       "      <td>3</td>\n",
       "      <td>1</td>\n",
       "      <td>brandtandrea</td>\n",
       "      <td>5</td>\n",
       "    </tr>\n",
       "    <tr>\n",
       "      <th>3</th>\n",
       "      <td>4</td>\n",
       "      <td>2</td>\n",
       "      <td>lorichen</td>\n",
       "      <td>3</td>\n",
       "    </tr>\n",
       "    <tr>\n",
       "      <th>4</th>\n",
       "      <td>5</td>\n",
       "      <td>2</td>\n",
       "      <td>mariokeller</td>\n",
       "      <td>2</td>\n",
       "    </tr>\n",
       "  </tbody>\n",
       "</table>\n",
       "</div>"
      ],
      "text/plain": [
       "   rating_id  book_id       username  rating\n",
       "0          1        1     ryanfranco       4\n",
       "1          2        1  grantpatricia       2\n",
       "2          3        1   brandtandrea       5\n",
       "3          4        2       lorichen       3\n",
       "4          5        2    mariokeller       2"
      ]
     },
     "metadata": {},
     "output_type": "display_data"
    },
    {
     "name": "stdout",
     "output_type": "stream",
     "text": [
      "\n",
      "\n",
      "Table  reviews\n"
     ]
    },
    {
     "data": {
      "text/html": [
       "<div>\n",
       "<style scoped>\n",
       "    .dataframe tbody tr th:only-of-type {\n",
       "        vertical-align: middle;\n",
       "    }\n",
       "\n",
       "    .dataframe tbody tr th {\n",
       "        vertical-align: top;\n",
       "    }\n",
       "\n",
       "    .dataframe thead th {\n",
       "        text-align: right;\n",
       "    }\n",
       "</style>\n",
       "<table border=\"1\" class=\"dataframe\">\n",
       "  <thead>\n",
       "    <tr style=\"text-align: right;\">\n",
       "      <th></th>\n",
       "      <th>review_id</th>\n",
       "      <th>book_id</th>\n",
       "      <th>username</th>\n",
       "      <th>text</th>\n",
       "    </tr>\n",
       "  </thead>\n",
       "  <tbody>\n",
       "    <tr>\n",
       "      <th>0</th>\n",
       "      <td>1</td>\n",
       "      <td>1</td>\n",
       "      <td>brandtandrea</td>\n",
       "      <td>Mention society tell send professor analysis. ...</td>\n",
       "    </tr>\n",
       "    <tr>\n",
       "      <th>1</th>\n",
       "      <td>2</td>\n",
       "      <td>1</td>\n",
       "      <td>ryanfranco</td>\n",
       "      <td>Foot glass pretty audience hit themselves. Amo...</td>\n",
       "    </tr>\n",
       "    <tr>\n",
       "      <th>2</th>\n",
       "      <td>3</td>\n",
       "      <td>2</td>\n",
       "      <td>lorichen</td>\n",
       "      <td>Listen treat keep worry. Miss husband tax but ...</td>\n",
       "    </tr>\n",
       "    <tr>\n",
       "      <th>3</th>\n",
       "      <td>4</td>\n",
       "      <td>3</td>\n",
       "      <td>johnsonamanda</td>\n",
       "      <td>Finally month interesting blue could nature cu...</td>\n",
       "    </tr>\n",
       "    <tr>\n",
       "      <th>4</th>\n",
       "      <td>5</td>\n",
       "      <td>3</td>\n",
       "      <td>scotttamara</td>\n",
       "      <td>Nation purpose heavy give wait song will. List...</td>\n",
       "    </tr>\n",
       "  </tbody>\n",
       "</table>\n",
       "</div>"
      ],
      "text/plain": [
       "   review_id  book_id       username  \\\n",
       "0          1        1   brandtandrea   \n",
       "1          2        1     ryanfranco   \n",
       "2          3        2       lorichen   \n",
       "3          4        3  johnsonamanda   \n",
       "4          5        3    scotttamara   \n",
       "\n",
       "                                                text  \n",
       "0  Mention society tell send professor analysis. ...  \n",
       "1  Foot glass pretty audience hit themselves. Amo...  \n",
       "2  Listen treat keep worry. Miss husband tax but ...  \n",
       "3  Finally month interesting blue could nature cu...  \n",
       "4  Nation purpose heavy give wait song will. List...  "
      ]
     },
     "metadata": {},
     "output_type": "display_data"
    },
    {
     "name": "stdout",
     "output_type": "stream",
     "text": [
      "\n",
      "\n"
     ]
    }
   ],
   "source": [
    "for i in ['books', 'authors', 'publishers', 'ratings', 'reviews']:\n",
    "    print('Table ', i)\n",
    "    display(pd.io.sql.read_sql(f'''SELECT * FROM {i} LIMIT 5''', con = engine))\n",
    "    print()\n",
    "    print()"
   ]
  },
  {
   "cell_type": "markdown",
   "metadata": {},
   "source": [
    "Now we understand what data we have."
   ]
  },
  {
   "cell_type": "markdown",
   "metadata": {},
   "source": [
    "## Queries"
   ]
  },
  {
   "cell_type": "markdown",
   "metadata": {},
   "source": [
    "1. Calculate how many books were published after January 1, 2000:"
   ]
  },
  {
   "cell_type": "code",
   "execution_count": 3,
   "metadata": {},
   "outputs": [],
   "source": [
    "query = '''\n",
    "SELECT\n",
    "    COUNT(book_id)\n",
    "FROM\n",
    "    books\n",
    "WHERE\n",
    "    publication_date > '2000-01-01'\n",
    "'''"
   ]
  },
  {
   "cell_type": "code",
   "execution_count": 4,
   "metadata": {},
   "outputs": [
    {
     "data": {
      "text/html": [
       "<div>\n",
       "<style scoped>\n",
       "    .dataframe tbody tr th:only-of-type {\n",
       "        vertical-align: middle;\n",
       "    }\n",
       "\n",
       "    .dataframe tbody tr th {\n",
       "        vertical-align: top;\n",
       "    }\n",
       "\n",
       "    .dataframe thead th {\n",
       "        text-align: right;\n",
       "    }\n",
       "</style>\n",
       "<table border=\"1\" class=\"dataframe\">\n",
       "  <thead>\n",
       "    <tr style=\"text-align: right;\">\n",
       "      <th></th>\n",
       "      <th>count</th>\n",
       "    </tr>\n",
       "  </thead>\n",
       "  <tbody>\n",
       "    <tr>\n",
       "      <th>0</th>\n",
       "      <td>819</td>\n",
       "    </tr>\n",
       "  </tbody>\n",
       "</table>\n",
       "</div>"
      ],
      "text/plain": [
       "   count\n",
       "0    819"
      ]
     },
     "execution_count": 4,
     "metadata": {},
     "output_type": "execute_result"
    }
   ],
   "source": [
    "pd.io.sql.read_sql(query, con = engine)"
   ]
  },
  {
   "cell_type": "markdown",
   "metadata": {},
   "source": [
    "Since January 1, 2000, 819 books have been published.\n",
    "<br><br>"
   ]
  },
  {
   "cell_type": "markdown",
   "metadata": {},
   "source": [
    "2. For each book, calculate the number of reviews and the average rating:"
   ]
  },
  {
   "cell_type": "code",
   "execution_count": 5,
   "metadata": {},
   "outputs": [],
   "source": [
    "query = '''\n",
    "WITH a AS (\n",
    "SELECT\n",
    "    books.book_id,\n",
    "    books.title,\n",
    "    COUNT(reviews.review_id) as count_reviews\n",
    "FROM\n",
    "    books\n",
    "FULL JOIN reviews ON  reviews.book_id = books.book_id\n",
    "GROUP BY\n",
    "    books.book_id\n",
    "ORDER BY\n",
    "    count_reviews DESC\n",
    "    ),\n",
    "b as (\n",
    "SELECT\n",
    "    books.book_id,\n",
    "    books.title,\n",
    "    AVG(ratings.rating) as avg_rating\n",
    "FROM\n",
    "    books\n",
    "FULL JOIN ratings ON  ratings.book_id = books.book_id\n",
    "GROUP BY\n",
    "    books.book_id\n",
    "ORDER BY\n",
    "    avg_rating DESC\n",
    "    )\n",
    "SELECT\n",
    "    a.book_id,\n",
    "    a.title,\n",
    "    a.count_reviews,\n",
    "    b.avg_rating\n",
    "FROM\n",
    "    a\n",
    "FULL JOIN b ON  a.book_id = b.book_id\n",
    "ORDER BY\n",
    "    count_reviews DESC,\n",
    "    avg_rating DESC\n",
    "LIMIT 10\n",
    "'''"
   ]
  },
  {
   "cell_type": "code",
   "execution_count": 6,
   "metadata": {},
   "outputs": [
    {
     "data": {
      "text/html": [
       "<div>\n",
       "<style scoped>\n",
       "    .dataframe tbody tr th:only-of-type {\n",
       "        vertical-align: middle;\n",
       "    }\n",
       "\n",
       "    .dataframe tbody tr th {\n",
       "        vertical-align: top;\n",
       "    }\n",
       "\n",
       "    .dataframe thead th {\n",
       "        text-align: right;\n",
       "    }\n",
       "</style>\n",
       "<table border=\"1\" class=\"dataframe\">\n",
       "  <thead>\n",
       "    <tr style=\"text-align: right;\">\n",
       "      <th></th>\n",
       "      <th>book_id</th>\n",
       "      <th>title</th>\n",
       "      <th>count_reviews</th>\n",
       "      <th>avg_rating</th>\n",
       "    </tr>\n",
       "  </thead>\n",
       "  <tbody>\n",
       "    <tr>\n",
       "      <th>0</th>\n",
       "      <td>948</td>\n",
       "      <td>Twilight (Twilight  #1)</td>\n",
       "      <td>7</td>\n",
       "      <td>3.662500</td>\n",
       "    </tr>\n",
       "    <tr>\n",
       "      <th>1</th>\n",
       "      <td>302</td>\n",
       "      <td>Harry Potter and the Prisoner of Azkaban (Harr...</td>\n",
       "      <td>6</td>\n",
       "      <td>4.414634</td>\n",
       "    </tr>\n",
       "    <tr>\n",
       "      <th>2</th>\n",
       "      <td>299</td>\n",
       "      <td>Harry Potter and the Chamber of Secrets (Harry...</td>\n",
       "      <td>6</td>\n",
       "      <td>4.287500</td>\n",
       "    </tr>\n",
       "    <tr>\n",
       "      <th>3</th>\n",
       "      <td>656</td>\n",
       "      <td>The Book Thief</td>\n",
       "      <td>6</td>\n",
       "      <td>4.264151</td>\n",
       "    </tr>\n",
       "    <tr>\n",
       "      <th>4</th>\n",
       "      <td>734</td>\n",
       "      <td>The Glass Castle</td>\n",
       "      <td>6</td>\n",
       "      <td>4.206897</td>\n",
       "    </tr>\n",
       "    <tr>\n",
       "      <th>5</th>\n",
       "      <td>497</td>\n",
       "      <td>Outlander (Outlander  #1)</td>\n",
       "      <td>6</td>\n",
       "      <td>4.125000</td>\n",
       "    </tr>\n",
       "    <tr>\n",
       "      <th>6</th>\n",
       "      <td>750</td>\n",
       "      <td>The Hobbit  or There and Back Again</td>\n",
       "      <td>6</td>\n",
       "      <td>4.125000</td>\n",
       "    </tr>\n",
       "    <tr>\n",
       "      <th>7</th>\n",
       "      <td>695</td>\n",
       "      <td>The Curious Incident of the Dog in the Night-Time</td>\n",
       "      <td>6</td>\n",
       "      <td>4.081081</td>\n",
       "    </tr>\n",
       "    <tr>\n",
       "      <th>8</th>\n",
       "      <td>779</td>\n",
       "      <td>The Lightning Thief (Percy Jackson and the Oly...</td>\n",
       "      <td>6</td>\n",
       "      <td>4.080645</td>\n",
       "    </tr>\n",
       "    <tr>\n",
       "      <th>9</th>\n",
       "      <td>963</td>\n",
       "      <td>Water for Elephants</td>\n",
       "      <td>6</td>\n",
       "      <td>3.977273</td>\n",
       "    </tr>\n",
       "  </tbody>\n",
       "</table>\n",
       "</div>"
      ],
      "text/plain": [
       "   book_id                                              title  count_reviews  \\\n",
       "0      948                            Twilight (Twilight  #1)              7   \n",
       "1      302  Harry Potter and the Prisoner of Azkaban (Harr...              6   \n",
       "2      299  Harry Potter and the Chamber of Secrets (Harry...              6   \n",
       "3      656                                     The Book Thief              6   \n",
       "4      734                                   The Glass Castle              6   \n",
       "5      497                          Outlander (Outlander  #1)              6   \n",
       "6      750                The Hobbit  or There and Back Again              6   \n",
       "7      695  The Curious Incident of the Dog in the Night-Time              6   \n",
       "8      779  The Lightning Thief (Percy Jackson and the Oly...              6   \n",
       "9      963                                Water for Elephants              6   \n",
       "\n",
       "   avg_rating  \n",
       "0    3.662500  \n",
       "1    4.414634  \n",
       "2    4.287500  \n",
       "3    4.264151  \n",
       "4    4.206897  \n",
       "5    4.125000  \n",
       "6    4.125000  \n",
       "7    4.081081  \n",
       "8    4.080645  \n",
       "9    3.977273  "
      ]
     },
     "execution_count": 6,
     "metadata": {},
     "output_type": "execute_result"
    }
   ],
   "source": [
    "pd.io.sql.read_sql(query, con = engine)"
   ]
  },
  {
   "cell_type": "markdown",
   "metadata": {},
   "source": [
    "The table above shows the top 10 books by number of reviews. In first place is the book \"Twilight (Twilight #1)\" with an average rating of 3.66. There are no books in the table with less than 6 reviews. The book with the highest rating in the top is Harry Potter and the Prisoner of Azkaban, its rating is 4.4.\n",
    "<br><br>"
   ]
  },
  {
   "cell_type": "markdown",
   "metadata": {},
   "source": [
    "3. Determine a publishing house that has released the largest number of books with more than 50 pages (this condition allows us to exclude brochures)."
   ]
  },
  {
   "cell_type": "code",
   "execution_count": 7,
   "metadata": {},
   "outputs": [],
   "source": [
    "query = '''\n",
    "SELECT\n",
    "    publisher,\n",
    "    COUNT(book_id) as count_book\n",
    "FROM\n",
    "    publishers\n",
    "FULL JOIN books ON books.publisher_id = publishers.publisher_id \n",
    "WHERE \n",
    "    num_pages > 50\n",
    "GROUP BY\n",
    "    publisher\n",
    "ORDER BY\n",
    "    count_book DESC\n",
    "LIMIT 10\n",
    "'''"
   ]
  },
  {
   "cell_type": "code",
   "execution_count": 8,
   "metadata": {},
   "outputs": [
    {
     "data": {
      "text/html": [
       "<div>\n",
       "<style scoped>\n",
       "    .dataframe tbody tr th:only-of-type {\n",
       "        vertical-align: middle;\n",
       "    }\n",
       "\n",
       "    .dataframe tbody tr th {\n",
       "        vertical-align: top;\n",
       "    }\n",
       "\n",
       "    .dataframe thead th {\n",
       "        text-align: right;\n",
       "    }\n",
       "</style>\n",
       "<table border=\"1\" class=\"dataframe\">\n",
       "  <thead>\n",
       "    <tr style=\"text-align: right;\">\n",
       "      <th></th>\n",
       "      <th>publisher</th>\n",
       "      <th>count_book</th>\n",
       "    </tr>\n",
       "  </thead>\n",
       "  <tbody>\n",
       "    <tr>\n",
       "      <th>0</th>\n",
       "      <td>Penguin Books</td>\n",
       "      <td>42</td>\n",
       "    </tr>\n",
       "    <tr>\n",
       "      <th>1</th>\n",
       "      <td>Vintage</td>\n",
       "      <td>31</td>\n",
       "    </tr>\n",
       "    <tr>\n",
       "      <th>2</th>\n",
       "      <td>Grand Central Publishing</td>\n",
       "      <td>25</td>\n",
       "    </tr>\n",
       "    <tr>\n",
       "      <th>3</th>\n",
       "      <td>Penguin Classics</td>\n",
       "      <td>24</td>\n",
       "    </tr>\n",
       "    <tr>\n",
       "      <th>4</th>\n",
       "      <td>Ballantine Books</td>\n",
       "      <td>19</td>\n",
       "    </tr>\n",
       "    <tr>\n",
       "      <th>5</th>\n",
       "      <td>Bantam</td>\n",
       "      <td>19</td>\n",
       "    </tr>\n",
       "    <tr>\n",
       "      <th>6</th>\n",
       "      <td>Berkley</td>\n",
       "      <td>17</td>\n",
       "    </tr>\n",
       "    <tr>\n",
       "      <th>7</th>\n",
       "      <td>St. Martin's Press</td>\n",
       "      <td>14</td>\n",
       "    </tr>\n",
       "    <tr>\n",
       "      <th>8</th>\n",
       "      <td>Berkley Books</td>\n",
       "      <td>14</td>\n",
       "    </tr>\n",
       "    <tr>\n",
       "      <th>9</th>\n",
       "      <td>William Morrow Paperbacks</td>\n",
       "      <td>13</td>\n",
       "    </tr>\n",
       "  </tbody>\n",
       "</table>\n",
       "</div>"
      ],
      "text/plain": [
       "                   publisher  count_book\n",
       "0              Penguin Books          42\n",
       "1                    Vintage          31\n",
       "2   Grand Central Publishing          25\n",
       "3           Penguin Classics          24\n",
       "4           Ballantine Books          19\n",
       "5                     Bantam          19\n",
       "6                    Berkley          17\n",
       "7         St. Martin's Press          14\n",
       "8              Berkley Books          14\n",
       "9  William Morrow Paperbacks          13"
      ]
     },
     "execution_count": 8,
     "metadata": {},
     "output_type": "execute_result"
    }
   ],
   "source": [
    "pd.io.sql.read_sql(query, con = engine)"
   ]
  },
  {
   "cell_type": "markdown",
   "metadata": {},
   "source": [
    "The largest number of books was published by Penguin Books.\n",
    "<br><br>"
   ]
  },
  {
   "cell_type": "markdown",
   "metadata": {},
   "source": [
    "4. Find the author with the highest average book rating. Consider only books with 50 or more ratings:"
   ]
  },
  {
   "cell_type": "code",
   "execution_count": 9,
   "metadata": {},
   "outputs": [],
   "source": [
    "query = '''\n",
    "WITH bookdata as (\n",
    "SELECT \n",
    "    authors.author,\n",
    "    ratings.book_id,\n",
    "    COUNT(ratings.rating) as count_rating,\n",
    "    AVG(ratings.rating) as avg_rating\n",
    "FROM \n",
    "    ratings\n",
    "LEFT JOIN books ON ratings.book_id = books.book_id\n",
    "LEFT JOIN authors ON books.author_id = authors.author_id\n",
    "GROUP BY\n",
    "    authors.author,\n",
    "    ratings.book_id\n",
    "HAVING\n",
    "   COUNT(rating) > 50\n",
    "   )\n",
    "\n",
    "SELECT \n",
    "    author,\n",
    "    AVG(avg_rating) as avg_rating\n",
    "FROM \n",
    "    bookdata\n",
    "GROUP BY\n",
    "    author\n",
    "ORDER BY\n",
    "    avg_rating DESC\n",
    "LIMIT 10\n",
    "'''"
   ]
  },
  {
   "cell_type": "code",
   "execution_count": 10,
   "metadata": {},
   "outputs": [
    {
     "data": {
      "text/html": [
       "<div>\n",
       "<style scoped>\n",
       "    .dataframe tbody tr th:only-of-type {\n",
       "        vertical-align: middle;\n",
       "    }\n",
       "\n",
       "    .dataframe tbody tr th {\n",
       "        vertical-align: top;\n",
       "    }\n",
       "\n",
       "    .dataframe thead th {\n",
       "        text-align: right;\n",
       "    }\n",
       "</style>\n",
       "<table border=\"1\" class=\"dataframe\">\n",
       "  <thead>\n",
       "    <tr style=\"text-align: right;\">\n",
       "      <th></th>\n",
       "      <th>author</th>\n",
       "      <th>avg_rating</th>\n",
       "    </tr>\n",
       "  </thead>\n",
       "  <tbody>\n",
       "    <tr>\n",
       "      <th>0</th>\n",
       "      <td>J.K. Rowling/Mary GrandPré</td>\n",
       "      <td>4.283844</td>\n",
       "    </tr>\n",
       "    <tr>\n",
       "      <th>1</th>\n",
       "      <td>Markus Zusak/Cao Xuân Việt Khương</td>\n",
       "      <td>4.264151</td>\n",
       "    </tr>\n",
       "    <tr>\n",
       "      <th>2</th>\n",
       "      <td>J.R.R. Tolkien</td>\n",
       "      <td>4.258446</td>\n",
       "    </tr>\n",
       "    <tr>\n",
       "      <th>3</th>\n",
       "      <td>Louisa May Alcott</td>\n",
       "      <td>4.192308</td>\n",
       "    </tr>\n",
       "    <tr>\n",
       "      <th>4</th>\n",
       "      <td>Rick Riordan</td>\n",
       "      <td>4.080645</td>\n",
       "    </tr>\n",
       "    <tr>\n",
       "      <th>5</th>\n",
       "      <td>William Golding</td>\n",
       "      <td>3.901408</td>\n",
       "    </tr>\n",
       "    <tr>\n",
       "      <th>6</th>\n",
       "      <td>J.D. Salinger</td>\n",
       "      <td>3.825581</td>\n",
       "    </tr>\n",
       "    <tr>\n",
       "      <th>7</th>\n",
       "      <td>Paulo Coelho/Alan R. Clarke/Özdemir İnce</td>\n",
       "      <td>3.789474</td>\n",
       "    </tr>\n",
       "    <tr>\n",
       "      <th>8</th>\n",
       "      <td>William Shakespeare/Paul Werstine/Barbara A. M...</td>\n",
       "      <td>3.787879</td>\n",
       "    </tr>\n",
       "    <tr>\n",
       "      <th>9</th>\n",
       "      <td>Dan Brown</td>\n",
       "      <td>3.754540</td>\n",
       "    </tr>\n",
       "  </tbody>\n",
       "</table>\n",
       "</div>"
      ],
      "text/plain": [
       "                                              author  avg_rating\n",
       "0                         J.K. Rowling/Mary GrandPré    4.283844\n",
       "1                  Markus Zusak/Cao Xuân Việt Khương    4.264151\n",
       "2                                     J.R.R. Tolkien    4.258446\n",
       "3                                  Louisa May Alcott    4.192308\n",
       "4                                       Rick Riordan    4.080645\n",
       "5                                    William Golding    3.901408\n",
       "6                                      J.D. Salinger    3.825581\n",
       "7           Paulo Coelho/Alan R. Clarke/Özdemir İnce    3.789474\n",
       "8  William Shakespeare/Paul Werstine/Barbara A. M...    3.787879\n",
       "9                                          Dan Brown    3.754540"
      ]
     },
     "execution_count": 10,
     "metadata": {},
     "output_type": "execute_result"
    }
   ],
   "source": [
    "pd.io.sql.read_sql(query, con = engine)"
   ]
  },
  {
   "cell_type": "markdown",
   "metadata": {},
   "source": [
    "The author with the highest average book rating is J.K. Rowling/Mary GrandPre. The average rating for her books is 4.3.\n",
    "<br><br>"
   ]
  },
  {
   "cell_type": "markdown",
   "metadata": {},
   "source": [
    "5.Calculate the average number of reviews from users who have given more than 50 ratings."
   ]
  },
  {
   "cell_type": "code",
   "execution_count": 11,
   "metadata": {},
   "outputs": [],
   "source": [
    "query = '''\n",
    "SELECT\n",
    " AVG (number_of_reviews) AS AVG_count\n",
    " FROM (\n",
    "   SELECT COUNT (review_id) AS number_of_reviews\n",
    "   FROM reviews\n",
    "   INNER JOIN (SELECT username,\n",
    "                      COUNT (rating_id) AS number_of_ratings\n",
    "               FROM ratings\n",
    "               GROUP BY username\n",
    "               HAVING COUNT (rating_id) > 50) AS ratings_users\n",
    "               ON ratings_users.username = reviews.username\n",
    "    GROUP BY reviews.username) AS number_of_reviews\n",
    "'''"
   ]
  },
  {
   "cell_type": "code",
   "execution_count": 12,
   "metadata": {},
   "outputs": [
    {
     "data": {
      "text/html": [
       "<div>\n",
       "<style scoped>\n",
       "    .dataframe tbody tr th:only-of-type {\n",
       "        vertical-align: middle;\n",
       "    }\n",
       "\n",
       "    .dataframe tbody tr th {\n",
       "        vertical-align: top;\n",
       "    }\n",
       "\n",
       "    .dataframe thead th {\n",
       "        text-align: right;\n",
       "    }\n",
       "</style>\n",
       "<table border=\"1\" class=\"dataframe\">\n",
       "  <thead>\n",
       "    <tr style=\"text-align: right;\">\n",
       "      <th></th>\n",
       "      <th>avg_count</th>\n",
       "    </tr>\n",
       "  </thead>\n",
       "  <tbody>\n",
       "    <tr>\n",
       "      <th>0</th>\n",
       "      <td>24.333333</td>\n",
       "    </tr>\n",
       "  </tbody>\n",
       "</table>\n",
       "</div>"
      ],
      "text/plain": [
       "   avg_count\n",
       "0  24.333333"
      ]
     },
     "execution_count": 12,
     "metadata": {},
     "output_type": "execute_result"
    }
   ],
   "source": [
    "pd.io.sql.read_sql(query, con = engine)"
   ]
  },
  {
   "cell_type": "markdown",
   "metadata": {},
   "source": [
    "The average number of reviews from users with more than 50 ratings is 24.\n",
    "<br><br>"
   ]
  },
  {
   "cell_type": "markdown",
   "metadata": {},
   "source": [
    "## Summary"
   ]
  },
  {
   "cell_type": "markdown",
   "metadata": {},
   "source": [
    "As a result of queries in the database:\n",
    "\n",
    "- Since January 1, 2000, 819 books have been published.\n",
    "- The book \"Twilight (Twilight #1)\" has the maximum number of user reviews and has an average rating of 3.7 points.\n",
    "- Penguin Books published the maximum number of books (42 books).\n",
    "- The author with the highest average book rating (4.3) is J.K. Rowling/Mary GrandPre.\n",
    "- On average, a user who has put more than 50 ratings writes 24 reviews."
   ]
  },
  {
   "cell_type": "code",
   "execution_count": null,
   "metadata": {},
   "outputs": [],
   "source": []
  }
 ],
 "metadata": {
  "ExecuteTimeLog": [
   {
    "duration": 6809,
    "start_time": "2022-03-21T14:54:39.571Z"
   },
   {
    "duration": 539,
    "start_time": "2022-03-21T14:55:10.213Z"
   },
   {
    "duration": 3,
    "start_time": "2022-03-21T14:56:59.571Z"
   },
   {
    "duration": 70,
    "start_time": "2022-03-21T14:57:10.203Z"
   },
   {
    "duration": 3,
    "start_time": "2022-03-21T14:58:12.193Z"
   },
   {
    "duration": 76,
    "start_time": "2022-03-21T14:58:21.285Z"
   },
   {
    "duration": 3,
    "start_time": "2022-03-21T15:00:45.963Z"
   },
   {
    "duration": 72,
    "start_time": "2022-03-21T15:00:57.365Z"
   },
   {
    "duration": 3,
    "start_time": "2022-03-21T15:01:46.246Z"
   },
   {
    "duration": 73,
    "start_time": "2022-03-21T15:01:53.045Z"
   },
   {
    "duration": 3,
    "start_time": "2022-03-21T15:02:53.137Z"
   },
   {
    "duration": 70,
    "start_time": "2022-03-21T15:03:00.089Z"
   },
   {
    "duration": 12725,
    "start_time": "2022-03-21T20:27:01.588Z"
   },
   {
    "duration": 649,
    "start_time": "2022-03-21T20:27:14.317Z"
   },
   {
    "duration": 4,
    "start_time": "2022-03-21T20:27:14.969Z"
   },
   {
    "duration": 108,
    "start_time": "2022-03-21T20:27:14.976Z"
   },
   {
    "duration": 7,
    "start_time": "2022-03-21T20:27:15.087Z"
   },
   {
    "duration": 131,
    "start_time": "2022-03-21T20:27:15.096Z"
   },
   {
    "duration": 4,
    "start_time": "2022-03-21T20:27:15.229Z"
   },
   {
    "duration": 103,
    "start_time": "2022-03-21T20:27:15.235Z"
   },
   {
    "duration": 4,
    "start_time": "2022-03-21T20:27:15.341Z"
   },
   {
    "duration": 110,
    "start_time": "2022-03-21T20:27:15.347Z"
   },
   {
    "duration": 3,
    "start_time": "2022-03-21T20:27:15.460Z"
   },
   {
    "duration": 106,
    "start_time": "2022-03-21T20:27:15.466Z"
   },
   {
    "duration": 4,
    "start_time": "2022-03-21T20:27:53.856Z"
   },
   {
    "duration": 143,
    "start_time": "2022-03-21T20:27:54.694Z"
   },
   {
    "duration": 128,
    "start_time": "2022-03-21T20:28:54.487Z"
   },
   {
    "duration": 4,
    "start_time": "2022-03-21T20:28:58.407Z"
   },
   {
    "duration": 102,
    "start_time": "2022-03-21T20:28:59.191Z"
   },
   {
    "duration": 5,
    "start_time": "2022-03-21T20:29:37.216Z"
   },
   {
    "duration": 95,
    "start_time": "2022-03-21T20:29:37.798Z"
   },
   {
    "duration": 4,
    "start_time": "2022-03-21T20:29:45.266Z"
   },
   {
    "duration": 84,
    "start_time": "2022-03-21T20:29:45.466Z"
   },
   {
    "duration": 12160,
    "start_time": "2022-03-22T06:54:45.867Z"
   },
   {
    "duration": 502,
    "start_time": "2022-03-22T06:54:58.029Z"
   },
   {
    "duration": 3,
    "start_time": "2022-03-22T06:54:58.533Z"
   },
   {
    "duration": 74,
    "start_time": "2022-03-22T06:54:58.537Z"
   },
   {
    "duration": 3,
    "start_time": "2022-03-22T06:54:58.614Z"
   },
   {
    "duration": 83,
    "start_time": "2022-03-22T06:54:58.619Z"
   },
   {
    "duration": 3,
    "start_time": "2022-03-22T06:54:58.704Z"
   },
   {
    "duration": 79,
    "start_time": "2022-03-22T06:54:58.708Z"
   },
   {
    "duration": 3,
    "start_time": "2022-03-22T06:54:58.789Z"
   },
   {
    "duration": 321,
    "start_time": "2022-03-22T06:54:58.794Z"
   },
   {
    "duration": 0,
    "start_time": "2022-03-22T06:54:59.118Z"
   },
   {
    "duration": 0,
    "start_time": "2022-03-22T06:54:59.120Z"
   },
   {
    "duration": 2,
    "start_time": "2022-03-22T07:11:05.892Z"
   },
   {
    "duration": 266,
    "start_time": "2022-03-22T07:11:07.676Z"
   },
   {
    "duration": 3,
    "start_time": "2022-03-22T07:11:25.870Z"
   },
   {
    "duration": 368,
    "start_time": "2022-03-22T07:11:27.175Z"
   },
   {
    "duration": 3,
    "start_time": "2022-03-22T07:12:12.827Z"
   },
   {
    "duration": 483,
    "start_time": "2022-03-22T07:12:14.031Z"
   },
   {
    "duration": 3,
    "start_time": "2022-03-22T07:13:29.227Z"
   },
   {
    "duration": 326,
    "start_time": "2022-03-22T07:13:30.628Z"
   },
   {
    "duration": 3,
    "start_time": "2022-03-22T07:16:49.490Z"
   },
   {
    "duration": 75,
    "start_time": "2022-03-22T07:16:50.974Z"
   },
   {
    "duration": 3,
    "start_time": "2022-03-22T07:19:53.907Z"
   },
   {
    "duration": 76,
    "start_time": "2022-03-22T07:19:55.798Z"
   },
   {
    "duration": 13805,
    "start_time": "2022-03-22T07:23:50.725Z"
   },
   {
    "duration": 578,
    "start_time": "2022-03-22T07:24:04.533Z"
   },
   {
    "duration": 3,
    "start_time": "2022-03-22T07:24:05.113Z"
   },
   {
    "duration": 91,
    "start_time": "2022-03-22T07:24:05.118Z"
   },
   {
    "duration": 3,
    "start_time": "2022-03-22T07:24:05.212Z"
   },
   {
    "duration": 98,
    "start_time": "2022-03-22T07:24:05.217Z"
   },
   {
    "duration": 4,
    "start_time": "2022-03-22T07:24:05.317Z"
   },
   {
    "duration": 83,
    "start_time": "2022-03-22T07:24:05.323Z"
   },
   {
    "duration": 3,
    "start_time": "2022-03-22T07:24:05.409Z"
   },
   {
    "duration": 90,
    "start_time": "2022-03-22T07:24:05.414Z"
   },
   {
    "duration": 3,
    "start_time": "2022-03-22T07:24:05.506Z"
   },
   {
    "duration": 91,
    "start_time": "2022-03-22T07:24:05.511Z"
   },
   {
    "duration": 4,
    "start_time": "2022-03-22T07:25:14.078Z"
   },
   {
    "duration": 82,
    "start_time": "2022-03-22T07:25:15.661Z"
   },
   {
    "duration": 9665,
    "start_time": "2022-03-23T07:46:34.079Z"
   },
   {
    "duration": 552,
    "start_time": "2022-03-23T07:46:43.746Z"
   },
   {
    "duration": 3,
    "start_time": "2022-03-23T07:46:44.300Z"
   },
   {
    "duration": 78,
    "start_time": "2022-03-23T07:46:44.306Z"
   },
   {
    "duration": 3,
    "start_time": "2022-03-23T07:46:44.387Z"
   },
   {
    "duration": 92,
    "start_time": "2022-03-23T07:46:44.392Z"
   },
   {
    "duration": 3,
    "start_time": "2022-03-23T07:46:44.485Z"
   },
   {
    "duration": 80,
    "start_time": "2022-03-23T07:46:44.490Z"
   },
   {
    "duration": 2,
    "start_time": "2022-03-23T07:46:44.572Z"
   },
   {
    "duration": 88,
    "start_time": "2022-03-23T07:46:44.577Z"
   },
   {
    "duration": 3,
    "start_time": "2022-03-23T07:46:44.666Z"
   },
   {
    "duration": 81,
    "start_time": "2022-03-23T07:46:44.671Z"
   },
   {
    "duration": 3,
    "start_time": "2022-03-23T07:47:27.718Z"
   },
   {
    "duration": 83,
    "start_time": "2022-03-23T07:47:28.469Z"
   },
   {
    "duration": 3,
    "start_time": "2022-03-23T07:47:35.769Z"
   },
   {
    "duration": 83,
    "start_time": "2022-03-23T07:47:36.038Z"
   }
  ],
  "kernelspec": {
   "display_name": "Python 3 (ipykernel)",
   "language": "python",
   "name": "python3"
  },
  "language_info": {
   "codemirror_mode": {
    "name": "ipython",
    "version": 3
   },
   "file_extension": ".py",
   "mimetype": "text/x-python",
   "name": "python",
   "nbconvert_exporter": "python",
   "pygments_lexer": "ipython3",
   "version": "3.9.7"
  },
  "toc": {
   "base_numbering": 1,
   "nav_menu": {},
   "number_sections": false,
   "sideBar": true,
   "skip_h1_title": false,
   "title_cell": "Table of Contents",
   "title_sidebar": "Contents",
   "toc_cell": false,
   "toc_position": {
    "height": "calc(100% - 180px)",
    "left": "10px",
    "top": "150px",
    "width": "348.352px"
   },
   "toc_section_display": true,
   "toc_window_display": true
  }
 },
 "nbformat": 4,
 "nbformat_minor": 2
}
